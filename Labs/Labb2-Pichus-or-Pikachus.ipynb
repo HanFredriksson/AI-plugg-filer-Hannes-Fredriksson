{
 "cells": [
  {
   "cell_type": "markdown",
   "metadata": {},
   "source": [
    "### Labb 2 Pichus or Pikachus"
   ]
  },
  {
   "cell_type": "markdown",
   "metadata": {},
   "source": [
    "***Träningsdata behandling***\n",
    "\n",
    "Behöver sammla data punkterna i lista där varje punkt är en lista med x, y värdena och vad för pokemon det är angivet av en 1 eller 0. Delar upp rader kod efter radbryte, där första raden kan tas bort, är bara beskrivning för vad datan innehåller(Eller om vi kan hitta något sätt att läsa datan från andra raden. Kolla om datan in är en siffra?)\n",
    "\n",
    "Vad som kommer behövas formateras är\n",
    "* Rad brytning\n",
    "* Melllanrumm\n",
    "* Kommatäcken\n",
    "* Sortera i två listor för värde 1 eller 0\n",
    "\n",
    "\n",
    "***Extra uppgift***\n",
    "\n",
    "Splita upp datan i: \n",
    "* 100 är träningsdata (50 Pikachu, 50 Pichu) \n",
    "* 50 är testdata (25 Pikachu, 25 Pichu). \n",
    "\n"
   ]
  },
  {
   "cell_type": "markdown",
   "metadata": {},
   "source": [
    "***Testdata behandling***\n",
    "Behöver köra in all data i en lista litor över varje test datapunkt. Det ända som är viktigt är punkterna. Filen innhåller mycket som inte är viktigt. Som antalet punkter, paranteser, komma tecken och rubriker.\n",
    "\n",
    "Skriva en fuktion som direkt räknar ut Euclidian distans i ett steg. \n",
    "\n",
    "Behandling som behövs:\n",
    "* Plocka bort ord\n",
    "* Plocka bort onödiga tecken\n",
    "* Plocka bort radhopp\n",
    "\n"
   ]
  },
  {
   "cell_type": "markdown",
   "metadata": {},
   "source": [
    "***Train algorithm***\n",
    "\n",
    "Behöver konvertera listorna för 1 eller 0 att beräknas om till a vara data över Euclidiean avstånd för punkterna i listorna för 1 och 0. \n",
    "Sedan hitta vart konvergensen mellan dom två sluttillstånden är, mellan 1 och 0. När jag vet det kan jag jämföra den mot testdatan\n",
    "\n",
    "Funktioner:\n",
    "* beräkna Euclidiean avstånd\n",
    "* beräkna konvergensen\n",
    "* jämförare för testdata mot algoritmen\n",
    "* plottar punkterna i två olika färger"
   ]
  },
  {
   "cell_type": "markdown",
   "metadata": {},
   "source": [
    "***Testa***\n",
    "\n",
    "Funktioner som kör test mot algoritmen och ger svar på om det är en 1 eller 0. Som översätter svaret till om det är 0 en pichu eller 1 en pikachu.\n",
    "\n",
    "Funktioner:\n",
    "* Anropar funktioner för algortimen\n",
    "* Översätter svaret från algoritmen\n",
    "* Skriver ut det översatta svaret"
   ]
  },
  {
   "cell_type": "markdown",
   "metadata": {},
   "source": [
    "***Programet***\n",
    "\n",
    "Användaren ska nu kunna köra sina egna punkter mot algoritmen och se om det är en pichu eller pickachu.\n",
    "\n",
    "Funktioner:\n",
    "* Ta emot input från användaren\n",
    "* Anropa algoritmen\n",
    "* Tolka svaret från algoritmen\n",
    "* Skriva ut svaret för användaren för punkten som önskades testas"
   ]
  },
  {
   "cell_type": "markdown",
   "metadata": {},
   "source": [
    "***Beräkna nogranhet***\n",
    "\n",
    "Funktioner som beräknar träffsäkerheten, hur till förlitlig algoritmen är. \n",
    "\n",
    "Titta mer noga på vad som behövs för att köra ett test på algoritmen. "
   ]
  }
 ],
 "metadata": {
  "kernelspec": {
   "display_name": ".venv",
   "language": "python",
   "name": "python3"
  },
  "language_info": {
   "name": "python",
   "version": "3.12.5"
  }
 },
 "nbformat": 4,
 "nbformat_minor": 2
}
