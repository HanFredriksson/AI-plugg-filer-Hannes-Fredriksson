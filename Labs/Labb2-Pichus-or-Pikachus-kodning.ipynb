{
 "cells": [
  {
   "cell_type": "markdown",
   "metadata": {},
   "source": [
    "### Labb 2 Pichus or Pikachus"
   ]
  },
  {
   "cell_type": "markdown",
   "metadata": {},
   "source": [
    "***Funktioner för att behandla träningsdata***"
   ]
  },
  {
   "cell_type": "code",
   "execution_count": 2,
   "metadata": {},
   "outputs": [],
   "source": [
    "import numpy as np\n",
    "import matplotlib.pyplot as plt\n",
    "import re"
   ]
  },
  {
   "cell_type": "code",
   "execution_count": 3,
   "metadata": {},
   "outputs": [],
   "source": [
    "def euclidean(x, y):\n",
    "    return np.sqrt(np.square(x)+np.square(y))\n"
   ]
  },
  {
   "cell_type": "code",
   "execution_count": 71,
   "metadata": {},
   "outputs": [
    {
     "name": "stdout",
     "output_type": "stream",
     "text": [
      "[[25.0, 32.0], [24.2, 31.5], [22.0, 34.0], [20.5, 34.0]]\n"
     ]
    }
   ],
   "source": [
    "with open(\"Data/testpoints.txt\", \"r\") as test_read:\n",
    "\n",
    "    clean_test = [re.sub(r\"[,()]\", \"\", pokemon).strip().split(\" \") for pokemon in test_read.readlines() if not pokemon[0].isalpha()]\n",
    "    clean_test = [[float(point) for point in pokemon[1:]] for pokemon in clean_test]\n"
   ]
  },
  {
   "cell_type": "code",
   "execution_count": 72,
   "metadata": {},
   "outputs": [],
   "source": [
    "with open(\"Data/datapoints.txt\", \"r\") as data_read:\n",
    "    clean_data = [pokemon.replace(\" \", \"\").strip().split(\",\") for pokemon in data_read if not pokemon.startswith(\"(\")]\n",
    "    #datapoints_1 = [pokemon for pokemon, i in enumerate(clean_data) if pokemon[i, 2] == 1]\n",
    "    clean_data = [[float(point) for point in pokemon] for pokemon in clean_data]\n",
    "\n",
    "    datapoints_1 = [pokemon[:2] for pokemon in clean_data if pokemon[2] == 1]\n",
    "    datapoints_0 = [pokemon[:2] for pokemon in clean_data if pokemon[2] == 0]\n",
    "\n",
    "euclidean_1 = [euclidean(pokemon[0], pokemon[1]) for pokemon in datapoints_1]\n",
    "euclidean_0 = [euclidean(pokemon[0], pokemon[1]) for pokemon in datapoints_0]\n"
   ]
  }
 ],
 "metadata": {
  "kernelspec": {
   "display_name": "Python 3",
   "language": "python",
   "name": "python3"
  },
  "language_info": {
   "codemirror_mode": {
    "name": "ipython",
    "version": 3
   },
   "file_extension": ".py",
   "mimetype": "text/x-python",
   "name": "python",
   "nbconvert_exporter": "python",
   "pygments_lexer": "ipython3",
   "version": "3.12.5"
  }
 },
 "nbformat": 4,
 "nbformat_minor": 2
}
