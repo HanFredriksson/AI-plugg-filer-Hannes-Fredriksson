{
 "cells": [
  {
   "cell_type": "markdown",
   "metadata": {},
   "source": [
    "### Labb 2 Pichus or Pikachus"
   ]
  },
  {
   "cell_type": "markdown",
   "metadata": {},
   "source": [
    "***Funktioner för att behandla träningsdata***"
   ]
  },
  {
   "cell_type": "code",
   "execution_count": 9,
   "metadata": {},
   "outputs": [],
   "source": [
    "import numpy as np\n",
    "import matplotlib.pyplot as plt\n",
    "import re"
   ]
  },
  {
   "cell_type": "code",
   "execution_count": 18,
   "metadata": {},
   "outputs": [],
   "source": [
    "def euclidean(x, y):\n",
    "    return np.sqrt(np.square(x)+np.square(y))\n"
   ]
  },
  {
   "cell_type": "code",
   "execution_count": 19,
   "metadata": {},
   "outputs": [
    {
     "name": "stdout",
     "output_type": "stream",
     "text": [
      "[['1.', '(25,', '32)'], ['2.', '(24.2,', '31.5)'], ['3.', '(22,', '34)'], ['4.', '(20.5,', '34)']]\n"
     ]
    },
    {
     "ename": "ValueError",
     "evalue": "could not convert string to float: '(25,'",
     "output_type": "error",
     "traceback": [
      "\u001b[1;31m---------------------------------------------------------------------------\u001b[0m",
      "\u001b[1;31mValueError\u001b[0m                                Traceback (most recent call last)",
      "Cell \u001b[1;32mIn[19], line 5\u001b[0m\n\u001b[0;32m      3\u001b[0m clean_test \u001b[38;5;241m=\u001b[39m [pokemon\u001b[38;5;241m.\u001b[39mstrip()\u001b[38;5;241m.\u001b[39msplit(\u001b[38;5;124m\"\u001b[39m\u001b[38;5;124m \u001b[39m\u001b[38;5;124m\"\u001b[39m) \u001b[38;5;28;01mfor\u001b[39;00m pokemon \u001b[38;5;129;01min\u001b[39;00m test_read\u001b[38;5;241m.\u001b[39mreadlines() \u001b[38;5;28;01mif\u001b[39;00m \u001b[38;5;129;01mnot\u001b[39;00m pokemon[\u001b[38;5;241m0\u001b[39m]\u001b[38;5;241m.\u001b[39misalpha()]\n\u001b[0;32m      4\u001b[0m \u001b[38;5;28mprint\u001b[39m(clean_test)\n\u001b[1;32m----> 5\u001b[0m clean_test \u001b[38;5;241m=\u001b[39m [[\u001b[38;5;28;43mfloat\u001b[39;49m\u001b[43m(\u001b[49m\u001b[43mpoint\u001b[49m\u001b[43m)\u001b[49m \u001b[38;5;28;01mfor\u001b[39;00m point \u001b[38;5;129;01min\u001b[39;00m pokemon] \u001b[38;5;28;01mfor\u001b[39;00m pokemon \u001b[38;5;129;01min\u001b[39;00m clean_test]\n\u001b[0;32m      7\u001b[0m \u001b[38;5;28mprint\u001b[39m(clean_test)\n",
      "\u001b[1;31mValueError\u001b[0m: could not convert string to float: '(25,'"
     ]
    }
   ],
   "source": [
    "with open(\"Data/testpoints.txt\", \"r\") as test_read:\n",
    "\n",
    "    clean_test = [pokemon.strip().split(\" \") for pokemon in test_read.readlines() if not pokemon[0].isalpha()]\n",
    "    print(clean_test)\n",
    "    clean_test = [[float(point) for point in pokemon] for pokemon in clean_test]\n",
    "\n",
    "    print(clean_test)"
   ]
  },
  {
   "cell_type": "code",
   "execution_count": 17,
   "metadata": {},
   "outputs": [],
   "source": [
    "with open(\"Data/datapoints.txt\", \"r\") as data_read:\n",
    "    clean_data = [pokemon.replace(\" \", \"\").strip().split(\",\") for pokemon in data_read if not pokemon.startswith(\"(\")]\n",
    "    #datapoints_1 = [pokemon for pokemon, i in enumerate(clean_data) if pokemon[i, 2] == 1]\n",
    "    clean_data = [[float(point) for point in pokemon] for pokemon in clean_data]\n",
    "\n",
    "    datapoints_1 = [pokemon[:2] for pokemon in clean_data if pokemon[2] == 1]\n",
    "    datapoints_0 = [pokemon[:2] for pokemon in clean_data if pokemon[2] == 0]\n",
    "\n",
    "euclidean_1 = [euclidean(pokemon[0], pokemon[1]) for pokemon in datapoints_1]\n",
    "euclidean_0 = [euclidean(pokemon[0], pokemon[1]) for pokemon in datapoints_0]\n"
   ]
  }
 ],
 "metadata": {
  "kernelspec": {
   "display_name": "Python 3",
   "language": "python",
   "name": "python3"
  },
  "language_info": {
   "codemirror_mode": {
    "name": "ipython",
    "version": 3
   },
   "file_extension": ".py",
   "mimetype": "text/x-python",
   "name": "python",
   "nbconvert_exporter": "python",
   "pygments_lexer": "ipython3",
   "version": "3.12.5"
  }
 },
 "nbformat": 4,
 "nbformat_minor": 2
}
