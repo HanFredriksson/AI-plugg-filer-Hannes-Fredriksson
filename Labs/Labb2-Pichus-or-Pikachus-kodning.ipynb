{
 "cells": [
  {
   "cell_type": "markdown",
   "metadata": {},
   "source": [
    "### Labb 2 Pichus or Pikachus"
   ]
  },
  {
   "cell_type": "markdown",
   "metadata": {},
   "source": [
    "***Funktioner för att behandla träningsdata***"
   ]
  },
  {
   "cell_type": "code",
   "execution_count": 50,
   "metadata": {},
   "outputs": [],
   "source": [
    "import numpy as np\n",
    "import matplotlib.pyplot as plt\n",
    "import re\n",
    "import random as rnd"
   ]
  },
  {
   "cell_type": "code",
   "execution_count": 51,
   "metadata": {},
   "outputs": [],
   "source": [
    "def euclidean(x1, y1, x2, y2):\n",
    "    \n",
    "    distance_points =np.sqrt((x1-x2)**2 + (y1-y2)**2)\n",
    "\n",
    "    return float(distance_points)\n"
   ]
  },
  {
   "cell_type": "code",
   "execution_count": 52,
   "metadata": {},
   "outputs": [],
   "source": [
    "with open(\"Data/datapoints.txt\", \"r\") as data_read:\n",
    "    \n",
    "    clean_data = [pokemon.replace(\" \", \"\").strip().split(\",\") for pokemon in data_read if not pokemon.startswith(\"(\")]\n",
    "    clean_data = [[float(point) for point in pokemon] for pokemon in clean_data]\n",
    "\n",
    "    # Soretera efter typ av pokemon, 0 = \"Pichu\" eller 1 = \"Pikachu\"\n",
    "    datapoints_1 = [pokemon for pokemon in clean_data if pokemon[2] == 1]\n",
    "    datapoints_0 = [pokemon for pokemon in clean_data if pokemon[2] == 0]\n"
   ]
  },
  {
   "cell_type": "code",
   "execution_count": 53,
   "metadata": {},
   "outputs": [],
   "source": [
    "with open(\"Data/testpoints.txt\", \"r\") as test_read:\n",
    "\n",
    "    clean_test = [re.sub(r\"[,()]\", \"\", pokemon).strip().split(\" \") for pokemon in test_read.readlines() if not pokemon[0].isalpha()]\n",
    "    clean_test = [[float(point) for point in pokemon[1:]] for pokemon in clean_test]\n"
   ]
  },
  {
   "cell_type": "code",
   "execution_count": 54,
   "metadata": {},
   "outputs": [],
   "source": [
    "def classifier_nearst_point(nearest_points):\n",
    "    \n",
    "    # Kollar om närmaste punkten är en 0 = \"Pichu\" eller 1 = \"Pikachu\"\n",
    "    if nearest_points[0][1] == 0:\n",
    "        return \"Pichu\"\n",
    "    if nearest_points[0][1] == 1:\n",
    "        return \"Pikachu\"\n"
   ]
  },
  {
   "cell_type": "code",
   "execution_count": 64,
   "metadata": {},
   "outputs": [],
   "source": [
    "def classifier_ten_nearst_point(nearest_points):\n",
    "    \n",
    "    count_pichu = sum(1 for vote in nearest_points if vote [1] == 0)\n",
    "    count_pikachu = sum(1 for vote in nearest_points if vote [1] == 1)\n",
    "\n",
    "    if count_pichu > count_pikachu:\n",
    "        return f\"Pichu med {count_pichu} röster\"\n",
    "    else:\n",
    "        return f\"Pikachu med {count_pikachu} röster\"    \n",
    "\n",
    "\n"
   ]
  },
  {
   "cell_type": "code",
   "execution_count": 65,
   "metadata": {},
   "outputs": [],
   "source": [
    "def nearst_point(testpoint, traindata):\n",
    "    \n",
    "    nearst_points =[]\n",
    "    \n",
    "    for train_point in traindata:\n",
    "            calc_distance = euclidean(testpoint[0], testpoint[1], train_point[0], train_point[1])\n",
    "            nearst_points.append((calc_distance, train_point[2]))\n",
    "        \n",
    "    nearst_points.sort()\n",
    "    \n",
    "    return nearst_points[:10]   \n",
    "    "
   ]
  },
  {
   "cell_type": "code",
   "execution_count": 66,
   "metadata": {},
   "outputs": [],
   "source": [
    "def rnd_data():\n",
    "    \n",
    "    # Skapar slumpade listor för test och träningsdata\n",
    "    rnd_traindata = rnd.sample(datapoints_0, 50)\n",
    "    rnd_traindata += rnd.sample(datapoints_1, 50)\n",
    "\n",
    "    rnd_testdata = [point for point in clean_data if rnd_traindata]\n",
    "\n",
    "    return (rnd_traindata, rnd_testdata)"
   ]
  },
  {
   "cell_type": "code",
   "execution_count": 67,
   "metadata": {},
   "outputs": [],
   "source": [
    "def calculate_accurcy():\n",
    "\n",
    "    count = 0\n",
    "    rnd_testdata, rnd_traindata = rnd_data()\n",
    "    for test_point in rnd_testdata:\n",
    "        result = nearst_point(test_point, rnd_traindata)\n",
    "\n",
    "        if result[1] == test_point[2]:\n",
    "            count += 1\n",
    "    \n",
    "    accurcy = count / (len(rnd_traindata + rnd_testdata))\n",
    "\n",
    "    return accurcy\n",
    "\n",
    "    #tp_tn = sum([nearst_point(test_point, rnd_testdata) for test_point in rnd_testdata if test_point[2]])\n",
    "\n",
    "        "
   ]
  },
  {
   "cell_type": "code",
   "execution_count": null,
   "metadata": {},
   "outputs": [],
   "source": []
  },
  {
   "cell_type": "code",
   "execution_count": 69,
   "metadata": {},
   "outputs": [
    {
     "name": "stdout",
     "output_type": "stream",
     "text": [
      "Labb 2 - En Pichus eller en Pikachus\n",
      "-------------------------------------\n",
      "\n",
      "Detta progarm testar om du har en En Pichus eller en Pikachus i vald punkt\n",
      "\n",
      "Din valda punkt [56, 34] är en: Pikachu. Som är den närmsta punkten\n",
      "\n",
      "Din valda punkt [56, 34] är en: Pikachu med 10 röster. Efter röstning av dom tio närmsta punkterna\n"
     ]
    }
   ],
   "source": [
    "print(\"Labb 2 - En Pichus eller en Pikachus\")\n",
    "print(\"-------------------------------------\\n\")\n",
    "print(\"Detta progarm testar om du har en En Pichus eller en Pikachus i vald punkt\")\n",
    "\n",
    "while True:\n",
    "    try:\n",
    "        x = int(input(\"Skriv in x-värdet för punkt du vill test: \"))\n",
    "        y = int(input(\"Skriv in y-värdet för punkt du vill test: \"))\n",
    "       \n",
    "        if x < 0 or y < 0:\n",
    "            print(\"Måste vara ett positivt värde.\")\n",
    "\n",
    "    except ValueError:\n",
    "        print(\"Måste vara en siffra.\")\n",
    "    test_point = [x, y]\n",
    "\n",
    "    break\n",
    "\n",
    "result_nearest = classifier_nearst_point(nearst_point(test_point, clean_data))\n",
    "result_vote = classifier_ten_nearst_point(nearst_point(test_point, clean_data))\n",
    "\n",
    "print(f\"\\nDin valda punkt {test_point} är en: {result_nearest}. Som är den närmsta punkten\\n\")\n",
    "print(f\"Din valda punkt {test_point} är en: {result_vote}. Efter röstning av dom tio närmsta punkterna\")"
   ]
  }
 ],
 "metadata": {
  "kernelspec": {
   "display_name": "Python 3",
   "language": "python",
   "name": "python3"
  },
  "language_info": {
   "codemirror_mode": {
    "name": "ipython",
    "version": 3
   },
   "file_extension": ".py",
   "mimetype": "text/x-python",
   "name": "python",
   "nbconvert_exporter": "python",
   "pygments_lexer": "ipython3",
   "version": "3.12.5"
  }
 },
 "nbformat": 4,
 "nbformat_minor": 2
}
