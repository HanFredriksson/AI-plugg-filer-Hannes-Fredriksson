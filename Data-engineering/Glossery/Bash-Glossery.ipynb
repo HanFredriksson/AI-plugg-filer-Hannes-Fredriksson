{
 "cells": [
  {
   "cell_type": "markdown",
   "id": "1703caaf",
   "metadata": {},
   "source": [
    "| Command | What does the command do | Some useful options |\n",
    "| ------- | ------------------------ | ------------------- |\n",
    "| cd      | Change directory         | cd~ (Hemkatalog), cd - (föregåande katalog) |\n",
    "| ls      | List Files and directories | -l (lång lista), -a (visa dolda filer), -h (läsbar storlek)                     |\n",
    "| touch   | Creat an empty file or update timestamp |                     |\n",
    "| wc      | Count words, lines, characters | -l (rader), -w (ord), -c (bytes) |\n",
    "| grep    | Search text in files     | -i (case-insesnsitive), -r (Search through all files in a directory and its subdirectories) -v (Find lines that do not match the pattern) |\n",
    "| mkdir   | Creat directory          | -p (skapa även överordnade kataloger) |\n",
    "| mv      | Move or rename files/directories | -i (fråga innan överskrivning), -v (visa vad som flyttas)                     |\n",
    "| rm      | Remove files or directories | -r (delet a folder and everything inside), -f (tvinga), -i (fråga innan)                     |\n",
    "| rmdir   | Remove emåty directories | -p (ta boert kedja av tomma kataloger) |\n",
    "| ssh     | Connect to remote server via SSH | -p(port), -i(privat) |\n",
    "| curl    | Fetch data from URLs     | -O (spara med filnamn), -o <fil> (ange filnamn), -I (endast headers), -L (följ redirects)                     |\n",
    "| sudo    | Run command with superuser privileges | -u <user> (kör som annan användare)                     |\n",
    "| apt-get | install, update or remove packages (Debian/Ubuntu) | update, upgrade, install <paket>, remove<paket>                      |\n",
    "| ps      | Show running processes   | -e (alla processer), -f (full format), -u<user> |\n",
    "| cp      | Copy files or directories | -r (Copy all files and folders in a directory)                     |\n",
    "| less    | View file content page by page | / (sök), q (avsulta), sapce (nästa sida)                     |\n",
    "| top     | Display running processes and resource usage | -u<user>, -p<pid> |\n",
    "| head    | Show first lines of file | -n <antal>          |\n",
    "| echo    | Print text to terminal   | -e (tolka escape-sekvenser) |\n",
    "| cat     | Concatenate and show file contents | -n (visa radnummer) |\n",
    "| chmod   | Change file permissions  | +x (gör körbar), -R (ändra alla filer eller directories) |\n",
    "| chown   | Change file owner and group | user:group <file>, -R (rekursivt) |\n",
    "| kill    | Kill process by PID      | -9 (force kill), -15 ( Standard terminate) |\n",
    "| &&      | Run multipal commands    |  ex: cmd1 && cmd2   |\n",
    "| wget    | Download files from the internet | -O <fil> (spara som), -c (fortsätt avbruten nedladdning) |\n",
    "| pwd     | Print work directory     |                     |\n",
    "| >>      | Append output to file    | ex echo >> fil.txt  |\n",
    "| >       | Ovwewrite fil with output | ex: echo > file.txt |\n",
    "| *       | Wildecard (matches multiple files) | ex ls *.txt |\n",
    "| ./      | Run a file/script in current directory | ex ./script.sh |\n",
    "| diff    | Compare two files line by line | -u (unified format), -q (endast skillnader/ingen skillnad)|\n",
    "| find    | Search for files in directories | -name <mönster>, -type f/d, -size +100M |"
   ]
  }
 ],
 "metadata": {
  "language_info": {
   "name": "python"
  }
 },
 "nbformat": 4,
 "nbformat_minor": 5
}
