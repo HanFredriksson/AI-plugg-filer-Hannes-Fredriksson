{
 "cells": [
  {
   "cell_type": "markdown",
   "id": "499760ca",
   "metadata": {},
   "source": [
    "### Docker\n",
    "\n",
    "| Command | What does the command do | Some useful options |\n",
    "| ------- | ------------------------ | ------------------- |\n",
    "| docker --version | Visa vilken docker version som är installerad |  |\n",
    "| docker info | Visar detaljer om Docker-installationen och systemstatus | |\n",
    "| docker inspect <contaioner/image> | Visar detaljer om comtainer/image i JSON-format| |\n",
    "| docker run | Starta en container från en image| -d (run an container in the background), <host>:<container> (port mapping), --name <name> (ge container namn) | \n",
    "| docker ps | Lista körande containers | -a (alla containers), -q (bara container IDs) |\n",
    "| docker stop | Stoppa en container | <container_id> eller <namn> |\n",
    "| docker start | Starta en stoppad container | <container_id> eller <namn> |\n",
    "| docker restart | Starta om en container | <container_id> eller <namn> |\n",
    "| docker rm | Ta bort en contaioner | -f (force), <container_id> eller <namn> |\n",
    "| docker rmi | Ta bort en image | -f (force),  <image_id> eller <namn> |\n",
    "| docker images | Lista lokala images| |\n",
    "| docker pull | Hämta en imge från docker hub | ex: docker pull ubuntu:22.04 | \n",
    "| docker build | bygg en image från Dockerfile | -t <name> (tagga image), . (current directory) |\n",
    "| docker exec | Kör ett kommando i en radan körande contaianer | -it <container> bash (interaktive bash) |\n",
    "| docker logs | Visa loggar från en container | -f (följ loggen live), <container> |\n",
    "| docker-compose up | Starta alla services definierade i docker-compos.yml | -d (kör i backgrunden), --build (bygg om images) |\n",
    "| docker-compose down | stoppa och ta bort alla contaioners, nätverk och volymer | --volumes (ta bort volymer) |\n",
    "| docker image prune | Tar bort oanvända images för att frigöra plats | -a (tabort alla oanvända images, inte bara dangling) | \n",
    "| docker container prune | Tar bort stopade containers | |\n",
    "| docker volume ls | Lista docker volymer | |\n",
    "| docker volume rm | Ta bort volym | <volume_name> | \n",
    "| docker network ls | Lista Docker-nätverk | |\n",
    "|docker network rm | Ta bort ett nätverk | <network_name> |  "
   ]
  }
 ],
 "metadata": {
  "language_info": {
   "name": "python"
  }
 },
 "nbformat": 4,
 "nbformat_minor": 5
}
