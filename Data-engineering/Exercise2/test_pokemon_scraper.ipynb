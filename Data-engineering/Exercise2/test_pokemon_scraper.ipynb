{
 "cells": [
  {
   "cell_type": "code",
   "execution_count": null,
   "id": "4cbef401",
   "metadata": {},
   "outputs": [],
   "source": [
    "import pandas as pd\n",
    "\n",
    "\n",
    "tabel_names = pd.read_html(\"https://sv.wikipedia.org/wiki/Lista_%C3%B6ver_Pok%C3%A9mon\")\n",
    "tabel_gen = pd.read_html(\"https://en.wikipedia.org/wiki/List_of_Pok%C3%A9mon\")\n",
    "\n",
    "\n",
    "poke__name_tabel = tabel_names[1]\n",
    "poke__name_tabel.drop(columns=\"Japanskt namn\", inplace=True)\n",
    "poke__name_tabel.to_csv(f\"data/Poke-list\", index=False)\n",
    "\n"
   ]
  },
  {
   "cell_type": "code",
   "execution_count": null,
   "id": "7379dad1",
   "metadata": {},
   "outputs": [],
   "source": [
    "poke_gen_tabel = tabel_gen[2]\n",
    "poke_gen_tabel.columns = poke_gen_tabel.columns.droplevel(0)\n",
    "poke_gen_tabel[\"Gen\"] = None  \n",
    "\n",
    "generation = 1\n",
    "\n",
    "for i in range(len(poke_gen_tabel)):\n",
    "    dex = poke_gen_tabel.loc[i, ('Dex #')]\n",
    "    \n",
    "    if \"Gen\" in str(dex):\n",
    "        generation += 1\n",
    "    \n",
    "    poke_gen_tabel.loc[i, \"Gen\"] = generation\n",
    "\n",
    "# Identify the columns\n",
    "dex_cols  = [c for c in poke_gen_tabel.columns if \"Dex\" in c]\n",
    "name_cols = [c for c in poke_gen_tabel.columns if \"Name\" in c]\n",
    "\n",
    "# Create an empty dataframe to collect results\n",
    "long_df = pd.DataFrame(columns=[\"Dex #\", \"Name\", \"Gen\"])\n",
    "\n",
    "# Loop through each Dex/Name column pair\n",
    "for d, n in zip(dex_cols, name_cols):\n",
    "    tmp = poke_gen_tabel[[d, n, \"Gen\"]].rename(columns={d: \"Dex #\", n: \"Name\"})\n",
    "    long_df = pd.concat([long_df, tmp], ignore_index=True)\n",
    "\n",
    "# Drop empty rows (NaN)\n",
    "long_df = long_df.dropna(subset=[\"Dex #\", \"Name\"]).reset_index(drop=True)\n",
    "\n",
    "# Remove rows with Name and Generation values\n",
    "mask = long_df[\"Dex #\"].astype(str).str.contains(\"Gen|Name\")\n",
    "long_df = long_df[~mask] \n",
    "\n",
    "# Save each genration to a CSV file\n",
    "for gen in range(1, long_df[\"Gen\"].max()+1):\n",
    "    mask = long_df[\"Gen\"].astype(str).str.contains(str(gen))\n",
    "    tmp = long_df[mask]\n",
    "    tmp.to_csv(f\"data/Generation {gen}\", index=False)"
   ]
  }
 ],
 "metadata": {
  "kernelspec": {
   "display_name": ".venv",
   "language": "python",
   "name": "python3"
  },
  "language_info": {
   "codemirror_mode": {
    "name": "ipython",
    "version": 3
   },
   "file_extension": ".py",
   "mimetype": "text/x-python",
   "name": "python",
   "nbconvert_exporter": "python",
   "pygments_lexer": "ipython3",
   "version": "3.13.1"
  }
 },
 "nbformat": 4,
 "nbformat_minor": 5
}
