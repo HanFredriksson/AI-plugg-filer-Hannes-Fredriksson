{
 "cells": [
  {
   "cell_type": "code",
   "execution_count": null,
   "id": "f14eb32a",
   "metadata": {},
   "outputs": [
    {
     "data": {
      "text/plain": [
       "{11: 'Metapod',\n",
       " 102: 'Exeggcute',\n",
       " 130: 'Gyarados',\n",
       " 3: 'Venusaur',\n",
       " 57: 'Primeape',\n",
       " 69: 'Bellsprout'}"
      ]
     },
     "execution_count": 65,
     "metadata": {},
     "output_type": "execute_result"
    }
   ],
   "source": [
    "import pandas as pd\n",
    "import json\n",
    "import random\n",
    "from datetime import datetime\n",
    "\n",
    "\n",
    "tabel_names = pd.read_html(\"https://sv.wikipedia.org/wiki/Lista_%C3%B6ver_Pok%C3%A9mon\")\n",
    "\n",
    "def get_pokelist():\n",
    "    poke__name_tabel = tabel_names[1]\n",
    "    poke__name_tabel.drop(columns=\"Japanskt namn\", inplace=True)\n",
    "    poke__name_tabel = poke__name_tabel.loc[0:151]\n",
    "    poke__name_tabel = poke__name_tabel.drop(\"Typ\", axis=1)\n",
    "    poke__name_tabel.columns\n",
    "\n",
    "    poke_list = poke__name_tabel.set_index(\"Nationellt Pokédex №\")[\"Engelskt namn\"].to_dict()\n",
    "    with open(\"pokedata/Poke-list.json\", \"w\") as f:\n",
    "        json.dump(poke_list, f, indent=4)\n",
    "\n",
    "\n",
    "with open(\"pokedata/Poke-list.json\", \"r\", encoding=\"utf-8\") as f:\n",
    "    poke_name_list = json.load(f)\n",
    "\n",
    "picks = (random.sample(range(1, 152), 6))\n",
    "pokebelt ={}\n",
    "for pick in picks:\n",
    "    pokebelt[pick] = poke_name_list[str(pick)]\n",
    "    \n",
    "\n"
   ]
  }
 ],
 "metadata": {
  "kernelspec": {
   "display_name": ".venv",
   "language": "python",
   "name": "python3"
  },
  "language_info": {
   "codemirror_mode": {
    "name": "ipython",
    "version": 3
   },
   "file_extension": ".py",
   "mimetype": "text/x-python",
   "name": "python",
   "nbconvert_exporter": "python",
   "pygments_lexer": "ipython3",
   "version": "3.13.1"
  }
 },
 "nbformat": 4,
 "nbformat_minor": 5
}
