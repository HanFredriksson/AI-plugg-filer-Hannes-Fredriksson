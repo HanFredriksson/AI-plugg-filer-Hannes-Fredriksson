{
 "cells": [
  {
   "cell_type": "markdown",
   "metadata": {},
   "source": [
    "# LIA-intro"
   ]
  },
  {
   "cell_type": "markdown",
   "metadata": {},
   "source": [
    "Börja plita på ett nu lärdag, söndag\n",
    "Cv inskick 28/2 deadline\n",
    "\n",
    "Ha koll på teams för kontakter til LIA\n",
    "\n",
    "Dokumentera sökandet, finns formulär mall på ITHS\n",
    "\n",
    "Räkna med att söka många, 30st, 80% får jobb \n",
    "\n",
    "Längst upp på CV att jag pluggar och vad jag gjort på skolan. Sök med iths mail. \n",
    "\n",
    "intyga varandra för kompetenser\n",
    "\n",
    "Kall söka folk på Linkendink 50 i veckan. \n",
    "\n",
    "Kan söka LIA på jobbannons. \n"
   ]
  },
  {
   "cell_type": "markdown",
   "metadata": {},
   "source": [
    "# Linkedink\n",
    "\n",
    "**Profil optimering och bygger nätverk på linkendink**\n",
    "\n",
    "Se det som ett online CV och kunna nätverka med likasinnade. \n",
    "\n",
    "Tips och trix:\n",
    "- Klar bild. \n",
    "- Banner som lite reklam. \n",
    "- About: Om mig och mina kunskaper. Vem är jag, vad gjort och vart vill jag.\n",
    "- Tidigare jobb. Skiva upp vad man gjort och vilken postion man haft.\n",
    "- Skills: Viktigt för sök ord som hamnar under äns profil. Tänk på vad som är relevant att ha för det jag söker. Detta viktigt för att vissas på listan för rekryterare. Endorsmsnts spelar inte så stor roll. \n",
    "- Letar man jobb kan man lägga upp det i profilen så man blir sök bara.  \n",
    "- Arbetsgivare bryrs sig mer om rekomandationer än rekryterare. För att få en bild av person från andra.  \n",
    "- Viktigt att bygga nätverket. För dom som kommer högst upp i listan är dom som är med deras nätverk. Hitta helst rekryterare, för att hamna bra till hos dom i deras sökningar. \n",
    "- Chagpt är hlet klart ett verktyg att jobba fram en bra profil och CV. "
   ]
  }
 ],
 "metadata": {
  "language_info": {
   "name": "python"
  }
 },
 "nbformat": 4,
 "nbformat_minor": 2
}
