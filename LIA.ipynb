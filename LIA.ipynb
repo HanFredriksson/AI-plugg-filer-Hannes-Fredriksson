{
 "cells": [
  {
   "cell_type": "markdown",
   "metadata": {},
   "source": [
    "# LIA-intro"
   ]
  },
  {
   "cell_type": "markdown",
   "metadata": {},
   "source": [
    "Börja plita på ett nu lärdag, söndag\n",
    "Cv inskick 28/2 deadline\n",
    "\n",
    "Ha koll på teams för kontakter til LIA\n",
    "\n",
    "Dokumentera sökandet, finns formulär mall på ITHS\n",
    "\n",
    "Räkna med att söka många, 30st, 80% får jobb \n",
    "\n",
    "Längst upp på CV att jag pluggar och vad jag gjort på skolan. Sök med iths mail. \n",
    "\n",
    "intyga varandra för kompetenser\n",
    "\n",
    "Kall söka folk på Linkendink 50 i veckan. \n",
    "\n",
    "Kan söka LIA på jobbannons. \n"
   ]
  }
 ],
 "metadata": {
  "language_info": {
   "name": "python"
  }
 },
 "nbformat": 4,
 "nbformat_minor": 2
}
