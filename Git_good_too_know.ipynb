{
 "cells": [
  {
   "cell_type": "markdown",
   "id": "14273201",
   "metadata": {},
   "source": [
    "### Good to know git commands"
   ]
  },
  {
   "cell_type": "markdown",
   "id": "66c399f0",
   "metadata": {},
   "source": [
    "**To track and pull remot branch**\n",
    "- Fetch all remote branches = git fetch origin\n",
    "- List the branches available for checkout = git branch -a   \n",
    "- Pull changes from a remote branch = git checkout -b \"branch name\" origin/\"branch name\"\n",
    "\n",
    "From here you make commits to that remot branch from you local copy of that branch."
   ]
  },
  {
   "cell_type": "code",
   "execution_count": null,
   "id": "0f9463bd",
   "metadata": {
    "vscode": {
     "languageId": "plaintext"
    }
   },
   "outputs": [],
   "source": []
  }
 ],
 "metadata": {
  "language_info": {
   "name": "python"
  }
 },
 "nbformat": 4,
 "nbformat_minor": 5
}
