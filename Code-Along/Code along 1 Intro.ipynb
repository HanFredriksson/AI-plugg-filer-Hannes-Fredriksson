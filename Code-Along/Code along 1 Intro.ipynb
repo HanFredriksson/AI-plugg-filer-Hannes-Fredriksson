{
 "cells": [
  {
   "cell_type": "markdown",
   "metadata": {},
   "source": [
    "Första code along"
   ]
  },
  {
   "cell_type": "markdown",
   "metadata": {},
   "source": [
    "Skapa en virtuel miljö där man kan som separera all paket som instaleras från andra mljöer. Så att enbart används av den miljön du befinner dig. Dom blir inte globala. \n",
    "\n",
    "Att skapa en virtuel miljö med komando: "
   ]
  },
  {
   "cell_type": "code",
   "execution_count": 1,
   "metadata": {},
   "outputs": [
    {
     "name": "stdout",
     "output_type": "stream",
     "text": [
      "My name is Hannes Fredriksson and my age is 34\n",
      "now my age is 56.3\n"
     ]
    }
   ],
   "source": [
    "firstnamne = \"Hannes\"\n",
    "lastnamne = \"Fredriksson\"\n",
    "age = 34\n",
    "\n",
    "print (f\"My name is {firstnamne} {lastnamne} and my age is {age}\")\n",
    "\n",
    "# Det går att skriva över variabler, dom är inte låsta till en data eller datatyp  \n",
    "age = 56.3\n",
    "\n",
    "print (f\"now my age is {age}\")"
   ]
  },
  {
   "cell_type": "code",
   "execution_count": 5,
   "metadata": {},
   "outputs": [
    {
     "name": "stdout",
     "output_type": "stream",
     "text": [
      "Your force on the ground is: 638.3000000000001 Newton\n",
      "Your force on the ground is: 638.300 Newton\n"
     ]
    }
   ],
   "source": [
    "gravity = 9.82\n",
    "mass = float(input(\"Enter your waight in kg \"))\n",
    "\n",
    "force = gravity * mass\n",
    "\n",
    "print (f\"Your force on the ground is: {force} Newton\")\n",
    "\n",
    "# Om man vill formater så att en decimal skrivs ut\n",
    "print (f\"Your force on the ground is: {force:.3f} Newton\")"
   ]
  },
  {
   "cell_type": "code",
   "execution_count": 7,
   "metadata": {},
   "outputs": [
    {
     "name": "stdout",
     "output_type": "stream",
     "text": [
      "The circle area is: 157.07963267948966 and 31.41592653589793\n"
     ]
    }
   ],
   "source": [
    "import numpy as np\n",
    "\n",
    "radius = float(input(\"Enter a radius: \"))\n",
    "\n",
    "area = 2 * np.pi * np.power(radius, 2) \n",
    "circumference = 2*np.pi*radius \n",
    "\n",
    "print (f\"The circle area is: {area} and {circumference}\")"
   ]
  },
  {
   "cell_type": "markdown",
   "metadata": {},
   "source": [
    "Numpy är en bättre modul att använda än att köra Math. Så lära sig Numpy functioner är nyttigt."
   ]
  },
  {
   "cell_type": "code",
   "execution_count": 8,
   "metadata": {},
   "outputs": [
    {
     "name": "stdout",
     "output_type": "stream",
     "text": [
      "hej\n"
     ]
    }
   ],
   "source": [
    "def f(a, b):\n",
    "    #denna raden tillhör funktionen\n",
    "    print (\"Hejsan\")\n",
    "\n",
    "#Denna raden är utanför funktionen\n",
    "print (\"hej\")"
   ]
  },
  {
   "cell_type": "code",
   "execution_count": 3,
   "metadata": {},
   "outputs": [
    {
     "ename": "SyntaxError",
     "evalue": "expression cannot contain assignment, perhaps you meant \"==\"? (4243500684.py, line 7)",
     "output_type": "error",
     "traceback": [
      "\u001b[1;36m  Cell \u001b[1;32mIn[3], line 7\u001b[1;36m\u001b[0m\n\u001b[1;33m    print (a[\"name\"] = \"Tor\")\u001b[0m\n\u001b[1;37m           ^\u001b[0m\n\u001b[1;31mSyntaxError\u001b[0m\u001b[1;31m:\u001b[0m expression cannot contain assignment, perhaps you meant \"==\"?\n"
     ]
    }
   ],
   "source": [
    "a = dict() #{}\n",
    "b = float()\n",
    "c = list()  #[]\n",
    "\n",
    "a = {\"name\": \"Hannes\", \"surname\": \"Fredriksson\"}\n",
    "\n",
    "print (a[\"name\"])"
   ]
  },
  {
   "cell_type": "markdown",
   "metadata": {},
   "source": [
    "Dict är vansinnigt snabba att "
   ]
  }
 ],
 "metadata": {
  "kernelspec": {
   "display_name": "Python 3",
   "language": "python",
   "name": "python3"
  },
  "language_info": {
   "codemirror_mode": {
    "name": "ipython",
    "version": 3
   },
   "file_extension": ".py",
   "mimetype": "text/x-python",
   "name": "python",
   "nbconvert_exporter": "python",
   "pygments_lexer": "ipython3",
   "version": "3.12.5"
  }
 },
 "nbformat": 4,
 "nbformat_minor": 2
}
