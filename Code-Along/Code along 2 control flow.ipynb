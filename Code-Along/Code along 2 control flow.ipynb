{
 "cells": [
  {
   "cell_type": "markdown",
   "metadata": {},
   "source": [
    "Code along kontroll flöden \"control flow\""
   ]
  },
  {
   "cell_type": "code",
   "execution_count": null,
   "metadata": {},
   "outputs": [],
   "source": [
    "#booleans\n",
    "f = False\n",
    "t = True\n",
    "\n",
    "if conditional:\n",
    "    statments\n",
    "\n",
    "else:\n",
    "    statments"
   ]
  },
  {
   "cell_type": "code",
   "execution_count": 2,
   "metadata": {},
   "outputs": [
    {
     "name": "stdout",
     "output_type": "stream",
     "text": [
      "Du får se filmen\n"
     ]
    }
   ],
   "source": [
    "age = int(input(\"Enter your age: \"))\n",
    "age_limit = 15\n",
    "\n",
    "if age >= age_limit:\n",
    "    print(\"Du får se filmen\")\n",
    "\n",
    "else: \n",
    "    print(\"Ålders gränsen är 15 för den här filmen\")"
   ]
  },
  {
   "cell_type": "markdown",
   "metadata": {},
   "source": [
    "Modulo är ganska ovkigt förbi grundlägande programernig. Inget man använder längre fram. "
   ]
  },
  {
   "cell_type": "code",
   "execution_count": 4,
   "metadata": {},
   "outputs": [
    {
     "name": "stdout",
     "output_type": "stream",
     "text": [
      "Ojämnt nummer\n"
     ]
    }
   ],
   "source": [
    "number = 5\n",
    "if number % 2 == 0:\n",
    "    print(\"Detta är ett jämnt tal\")\n",
    "\n",
    "else:\n",
    "    print(\"Ojämnt nummer\")"
   ]
  },
  {
   "cell_type": "code",
   "execution_count": 5,
   "metadata": {},
   "outputs": [
    {
     "name": "stdout",
     "output_type": "stream",
     "text": [
      "Give patinent 800mg\n"
     ]
    }
   ],
   "source": [
    "waight = float(input(\"Input your weight: \"))\n",
    "\n",
    "if waight < 20:\n",
    "    print(\"Give patient 500mg\")\n",
    "\n",
    "elif waight < 40:\n",
    "    print(\"Give patinent 800mg\")\n",
    "\n",
    "else:\n",
    "    print(\"Give patient 1000mg\") "
   ]
  },
  {
   "cell_type": "code",
   "execution_count": null,
   "metadata": {},
   "outputs": [],
   "source": [
    "a = 3 < 2\n",
    "b = 3 <= 3\n",
    "c = 4 > 2\n",
    "d = 5 >= 4\n",
    "e = 5 != 4\n",
    "f = 5 == 5\n",
    "\n",
    "g = 3 > 2 and 2< > 1 \n",
    "h = 3 > 3 or 3 < 2\n",
    "i = not false == True\n",
    "j = not i "
   ]
  },
  {
   "cell_type": "markdown",
   "metadata": {},
   "source": [
    "Loopar "
   ]
  },
  {
   "cell_type": "code",
   "execution_count": null,
   "metadata": {},
   "outputs": [],
   "source": [
    "while condition:\n",
    "    statemants\n",
    "    "
   ]
  },
  {
   "cell_type": "code",
   "execution_count": 2,
   "metadata": {},
   "outputs": [
    {
     "name": "stdout",
     "output_type": "stream",
     "text": [
      "Still true 2\n",
      "Still true 4\n",
      "Still true 6\n",
      "Still true 8\n",
      "Still true 10\n",
      "Still true 12\n"
     ]
    }
   ],
   "source": [
    "loop = True\n",
    "n = 0\n",
    "while loop:\n",
    "    n += 2\n",
    "    print(f\"Still true {n}\")\n",
    "    if n > 10:\n",
    "      loop = False"
   ]
  },
  {
   "cell_type": "markdown",
   "metadata": {},
   "source": [
    "Example - oil leage\n",
    "There is an oil leakage causing the bird population on an island to halv each year. From the start here 8000 birds. How many years doe it takes befor there is just a tent let?"
   ]
  },
  {
   "cell_type": "code",
   "execution_count": 7,
   "metadata": {},
   "outputs": [
    {
     "name": "stdout",
     "output_type": "stream",
     "text": [
      "year0, 8000 birds\n",
      "year1, 4000.0 birds\n",
      "year2, 2000.0 birds\n",
      "year3, 1000.0 birds\n",
      "It takes 4 years for the birds to reach one tenth\n"
     ]
    }
   ],
   "source": [
    "birds = 8000\n",
    "year = 0\n",
    "\n",
    "while birds > 800:\n",
    "    print(f\"year {year}, {birds} birds\")\n",
    "    birds /= 2\n",
    "    year += 1\n",
    "\n",
    "print(f\"It takes {year} years for the birds to reach one tenth\")"
   ]
  },
  {
   "cell_type": "code",
   "execution_count": 12,
   "metadata": {},
   "outputs": [
    {
     "name": "stdout",
     "output_type": "stream",
     "text": [
      "-9 -7 -5 -3 -1 1 3 5 7 9 "
     ]
    }
   ],
   "source": [
    "n = -9\n",
    "\n",
    "while n <= 10:\n",
    "    print(n, end=\" \")\n",
    "    n += 2"
   ]
  },
  {
   "cell_type": "code",
   "execution_count": 17,
   "metadata": {},
   "outputs": [
    {
     "name": "stdout",
     "output_type": "stream",
     "text": [
      "50 is wrong\n",
      "15 is wrong\n"
     ]
    }
   ],
   "source": [
    "import random as rng\n",
    "\n",
    "while True:\n",
    "    number1 = rng.randint(1, 10)\n",
    "    number2 = rng.randint(1, 10)\n",
    "\n",
    "    user_anwser = input(f\"What is {number1} * {number2}?\")\n",
    "\n",
    "    if user_anwser == number1 * number2:\n",
    "        print(\"Correct!\")\n",
    "    \n",
    "    else:\n",
    "        print(f\"{user_anwser} is wrong\")\n",
    "    play_again = input(\"Press \\\"y\\\" to play again\")\n",
    "\n",
    "    if play_again == \"y\":\n",
    "        True\n",
    "    else:\n",
    "        break"
   ]
  },
  {
   "cell_type": "code",
   "execution_count": 18,
   "metadata": {},
   "outputs": [
    {
     "name": "stdout",
     "output_type": "stream",
     "text": [
      "10\n",
      "9\n",
      "8\n",
      "7\n",
      "6\n",
      "5\n",
      "4\n",
      "3\n"
     ]
    }
   ],
   "source": [
    "for i in range(10, 2, -1):\n",
    "    print(i)"
   ]
  },
  {
   "cell_type": "code",
   "execution_count": 20,
   "metadata": {},
   "outputs": [
    {
     "name": "stdout",
     "output_type": "stream",
     "text": [
      "1\n",
      "2\n",
      "4\n",
      "55\n",
      "33\n",
      "222\n",
      "77\n",
      "44\n"
     ]
    }
   ],
   "source": [
    "ls = (1, 2, 4, 55, 33, 222, 77, 44)\n",
    "\n",
    "for i in ls:\n",
    "    print(i)"
   ]
  },
  {
   "cell_type": "markdown",
   "metadata": {},
   "source": [
    "For loops har en genrator som man itrerar över. Här är \"ls\" genratorn och loopen plockar fram varge objekt i listan. "
   ]
  },
  {
   "cell_type": "code",
   "execution_count": 23,
   "metadata": {},
   "outputs": [
    {
     "name": "stdout",
     "output_type": "stream",
     "text": [
      "('a', 56)\n",
      "('b', 75)\n",
      "('c', 0)\n",
      "a 56\n",
      "b 75\n",
      "c 0\n"
     ]
    }
   ],
   "source": [
    "ds = {\"a\": 56, \"b\": 75, \"c\": 0}\n",
    "\n",
    "for i in ds.items():\n",
    "    print(i)\n",
    "\n",
    "for k, v in ds.items():\n",
    "    print(k, v)"
   ]
  },
  {
   "cell_type": "code",
   "execution_count": 26,
   "metadata": {},
   "outputs": [
    {
     "name": "stdout",
     "output_type": "stream",
     "text": [
      "0, apple\n",
      "1, pear\n",
      "2, Orange\n",
      "3, srawberry\n"
     ]
    }
   ],
   "source": [
    "fruits = [\"apple\", \"pear\", \"Orange\", \"srawberry\"]\n",
    "\n",
    "for i, f in enumerate(fruits):\n",
    "    print(f\"{i}, {f}\")"
   ]
  },
  {
   "cell_type": "code",
   "execution_count": 35,
   "metadata": {},
   "outputs": [
    {
     "name": "stdout",
     "output_type": "stream",
     "text": [
      "1+3+5+7+9+11+13+15+17+19 = 10"
     ]
    }
   ],
   "source": [
    "sum = 0\n",
    "\n",
    "for i in range(1, 20, 2):\n",
    "    sum +=1\n",
    "\n",
    "    print(i, end=\"\")\n",
    "    if i != 19:\n",
    "        print(\"+\", end=\"\")\n",
    "    \n",
    "    if i == 19:\n",
    "        print(f\" = {sum}\", end=\"\")"
   ]
  },
  {
   "cell_type": "code",
   "execution_count": 37,
   "metadata": {},
   "outputs": [
    {
     "name": "stdout",
     "output_type": "stream",
     "text": [
      "(0, 0)(0, 1)(0, 2)\n",
      "(1, 0)(1, 1)(1, 2)\n",
      "(2, 0)(2, 1)(2, 2)\n"
     ]
    }
   ],
   "source": [
    "for x in range(0 ,3):\n",
    "    for y in range(0, 3):\n",
    "        print(f\"({x}, {y})\", end=\"\")\n",
    "\n",
    "    print()"
   ]
  },
  {
   "cell_type": "code",
   "execution_count": 40,
   "metadata": {},
   "outputs": [
    {
     "name": "stdout",
     "output_type": "stream",
     "text": [
      "Number of sixes 1687 in number of dice rolls 10000\n",
      "Probability of six 0.1687\n"
     ]
    }
   ],
   "source": [
    "import random as rng\n",
    "num_sixes = 0\n",
    "dice_rolls = 10000\n",
    "\n",
    "for i in range(dice_rolls):\n",
    "    dice = rng.randint(1, 6)\n",
    "    if dice == 6:\n",
    "        num_sixes +=1\n",
    "\n",
    "print (f\"Number of sixes {num_sixes} in number of dice rolls {dice_rolls}\")\n",
    "print (f\"Probability of six {num_sixes / dice_rolls}\")"
   ]
  },
  {
   "cell_type": "markdown",
   "metadata": {},
   "source": [
    "Listor"
   ]
  },
  {
   "cell_type": "code",
   "execution_count": 48,
   "metadata": {},
   "outputs": [
    {
     "name": "stdout",
     "output_type": "stream",
     "text": [
      "tv shows [0]: antikrundan\n",
      "tv shows [1]: rapport\n",
      "tv shows [-1]: Talang\n"
     ]
    }
   ],
   "source": [
    "tv_shows = [\"antikrundan\", \"rapport\", \"bullen\", \"OS\", \"Talang\"]\n",
    "\n",
    "print(f\"tv shows [0]: {tv_shows [0]}\")\n",
    "print(f\"tv shows [1]: {tv_shows [1]}\")\n",
    "print(f\"tv shows [-1]: {tv_shows [-1]}\")"
   ]
  },
  {
   "cell_type": "code",
   "execution_count": 50,
   "metadata": {},
   "outputs": [
    {
     "name": "stdout",
     "output_type": "stream",
     "text": [
      "Tv shows: ['Aktuellt', 'rapport', 'bullen', 'OS', 'Talang', 'Pokemn', 'Pokemn']\n"
     ]
    }
   ],
   "source": [
    "tv_shows[0] = \"Aktuellt\"\n",
    "\n",
    "tv_shows.append(\"Pokemn\")\n",
    "\n",
    "print(f\"Tv shows: {tv_shows}\")"
   ]
  },
  {
   "cell_type": "code",
   "execution_count": 54,
   "metadata": {},
   "outputs": [
    {
     "name": "stdout",
     "output_type": "stream",
     "text": [
      "['d', 'f', 'g', 's', 'w']\n",
      "Ger en ny lista med sorterade bokstäver['d', 'f', 'g', 's', 'w']\n",
      "['w', 's', 'g', 'f', 'd']\n"
     ]
    }
   ],
   "source": [
    "letters = [\"f\", \"d\", \"s\", \"g\", \"w\"]\n",
    "letters.sort()\n",
    "sort_letters = sorted(letters)\n",
    "print(letters)\n",
    "print(f\"Ger en ny lista med sorterade bokstäver{sort_letters}\")\n",
    "\n",
    "letters.sort(reverse=True)\n",
    "print(letters)"
   ]
  }
 ],
 "metadata": {
  "kernelspec": {
   "display_name": "Python 3",
   "language": "python",
   "name": "python3"
  },
  "language_info": {
   "codemirror_mode": {
    "name": "ipython",
    "version": 3
   },
   "file_extension": ".py",
   "mimetype": "text/x-python",
   "name": "python",
   "nbconvert_exporter": "python",
   "pygments_lexer": "ipython3",
   "version": "3.12.5"
  }
 },
 "nbformat": 4,
 "nbformat_minor": 2
}
