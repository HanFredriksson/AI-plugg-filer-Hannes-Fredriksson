{
 "cells": [
  {
   "cell_type": "markdown",
   "metadata": {},
   "source": [
    "### Mer om filer och OOP"
   ]
  },
  {
   "cell_type": "code",
   "execution_count": 49,
   "metadata": {},
   "outputs": [
    {
     "name": "stdout",
     "output_type": "stream",
     "text": [
      "Adam Gustafsson 25\n",
      "Emil Johansson 23\n",
      "Sven Erik Karlsson 13\n",
      "Ove Karlsten 41\n",
      "Emma Boden 32\n",
      "Ida HÃ¥kansson 23\n",
      "Ella Ester 41\n",
      "Hanna Karlsson 23 \n",
      "Johan Johansson 42\n",
      "Sven Erik Lundin 39\n",
      "BjÃ¶rn BjÃ¶rnsson 39\n",
      "Karl Karlsson 32\n",
      "Bose Bosseson 32\n",
      "HÃ¥kan HÃ¥kanson 24\n",
      "Jonas Jonasson 31\n",
      "Erik Eriksson 31\n",
      "Gore Bord 55\n",
      "Jakob Kallander 65\n",
      "Fredrika Ulven 10\n",
      "Lisa Olsson 70\n",
      "\n"
     ]
    }
   ],
   "source": [
    "with open(\"../Exercises/Data/test_result.txt\", \"r\") as test_result_read:   \n",
    "    # Ech line is stored in a list\n",
    "    # Each line ends in newline \\n\n",
    "    lines = test_result_read.readlines()\n",
    "    lines[-1] += \"\\n\"\n",
    "for line in lines:\n",
    "    print(line, end=\"\")"
   ]
  },
  {
   "cell_type": "code",
   "execution_count": 50,
   "metadata": {},
   "outputs": [
    {
     "name": "stdout",
     "output_type": "stream",
     "text": [
      "Lisa Olsson 70\n",
      "\n"
     ]
    }
   ],
   "source": [
    "with open(\"../Exercises/Data/test_result.txt\", \"r\") as test_result_read, open(\"../Exercises/Data/test_result_temp.txt\", \"w\") as test_result_write:   \n",
    "\n",
    "    result_lines = test_result_read.readlines()\n",
    "\n",
    "    print(result_lines[-1])\n",
    "    lines_sorted = sorted(lines)\n",
    "    test_result_write.write(\"Sorterad efter betyg\\n\\n\")\n",
    "\n",
    "    for line in lines_sorted:\n",
    "        test_result_write.write(line)\n",
    "\n",
    "\n",
    "    grades = \"ABCDEF\"[::-1]\n",
    "\n",
    "    for grade, limit in zip(grades, range(20, 71, 10)):\n",
    "        test_result_write.write(f\"\\nBetyg {grade}\\n\")\n",
    "        for line in lines: \n",
    "            score = int(line.split()[-1])\n",
    "            if limit-10 <= score <= limit:\n",
    "                test_result_write.write(line)\n"
   ]
  }
 ],
 "metadata": {
  "kernelspec": {
   "display_name": ".venv",
   "language": "python",
   "name": "python3"
  },
  "language_info": {
   "codemirror_mode": {
    "name": "ipython",
    "version": 3
   },
   "file_extension": ".py",
   "mimetype": "text/x-python",
   "name": "python",
   "nbconvert_exporter": "python",
   "pygments_lexer": "ipython3",
   "version": "3.12.5"
  }
 },
 "nbformat": 4,
 "nbformat_minor": 2
}
