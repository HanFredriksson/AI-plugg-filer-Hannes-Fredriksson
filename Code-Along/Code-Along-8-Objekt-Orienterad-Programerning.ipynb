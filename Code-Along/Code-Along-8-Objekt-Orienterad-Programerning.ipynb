{
 "cells": [
  {
   "cell_type": "markdown",
   "metadata": {},
   "source": [
    "### Objekt Orinterad programerning"
   ]
  },
  {
   "cell_type": "code",
   "execution_count": 3,
   "metadata": {},
   "outputs": [
    {
     "name": "stdout",
     "output_type": "stream",
     "text": [
      "<class '__main__.Student'>\n",
      "True\n",
      "True\n",
      "0x2005ba8dc40\n",
      "0x2005ba8e930\n",
      "<__main__.Student object at 0x000002005BA8DC40>\n"
     ]
    }
   ],
   "source": [
    "class Student:\n",
    "    pass\n",
    "\n",
    "s1 = Student() #Konstruktor, skapar ett ojket av \"Student\"\n",
    "print(type(s1))\n",
    "\n",
    "s2 = Student()\n",
    "\n",
    "print(isinstance(s1, Student))\n",
    "print(isinstance(s2, Student))\n",
    "\n",
    "#Kollar om dom unika objekt i minnet eller inte \n",
    "print(hex(id(s1)))\n",
    "print(hex(id(s2)))\n",
    "\n",
    "#Värdet vi får här är bara vart i minnet objektet är och vad för objekt\n",
    "print(s1)"
   ]
  },
  {
   "cell_type": "code",
   "execution_count": 7,
   "metadata": {},
   "outputs": [
    {
     "name": "stdout",
     "output_type": "stream",
     "text": [
      "Ada\n",
      "{'name': 'Ada'}\n",
      "{'__module__': '__main__', '__dict__': <attribute '__dict__' of 'Student' objects>, '__weakref__': <attribute '__weakref__' of 'Student' objects>, '__doc__': None}\n",
      "'Student' object has no attribute 'name'\n"
     ]
    }
   ],
   "source": [
    "# Vi kan lägga till vad som helst til vilket objekt so helst när vi vill\n",
    "\n",
    "s1.name = \"Ada\"\n",
    "print(s1.name)\n",
    "\n",
    "# Under ytan så är objekt bara dicts \n",
    "print(s1.__dict__)\n",
    "\n",
    "# Klassen påvärkas inte av till lägget, utan bara instansen av Klassen.\n",
    "print(Student.__dict__)\n",
    "\n",
    "# Andra instanser har inte attributen \"name\" heller\n",
    "try:\n",
    "    print(s2.name)\n",
    "except AttributeError as err:\n",
    "    print(err)"
   ]
  },
  {
   "cell_type": "code",
   "execution_count": 14,
   "metadata": {},
   "outputs": [
    {
     "name": "stdout",
     "output_type": "stream",
     "text": [
      "<function Student.study at 0x000002005C0F2CA0>\n",
      "ada\n",
      "<bound method Student.study of <__main__.Student object at 0x000002005BA8F020>>\n",
      "ada is studying\n"
     ]
    }
   ],
   "source": [
    "# Allt detta kan bara göras till en dict \n",
    "class Student:\n",
    "    def __init__(self, name):\n",
    "        self.name = name\n",
    "\n",
    "    def study(self):\n",
    "        return f\"{self.name} is studying\"\n",
    "    \n",
    "print(Student.study)\n",
    "\n",
    "s1 = Student(\"ada\")\n",
    "print(s1.name)\n",
    "print(s1.study)\n",
    "\n",
    "print(s1.study())"
   ]
  },
  {
   "cell_type": "code",
   "execution_count": 21,
   "metadata": {},
   "outputs": [
    {
     "name": "stdout",
     "output_type": "stream",
     "text": [
      "<class '__main__.Rabbit'>\n"
     ]
    },
    {
     "data": {
      "text/plain": [
       "({'name': 'Bella'}, {'name': 'Tor'})"
      ]
     },
     "execution_count": 21,
     "metadata": {},
     "output_type": "execute_result"
    }
   ],
   "source": [
    "class Rabbit:\n",
    "    eyes = 2\n",
    "    nose = 1\n",
    "    has_tail = True\n",
    "\n",
    "    def __init__ (self, name):\n",
    "        self.name = name\n",
    "\n",
    "    def binky (self):\n",
    "        print(f\"{self.name} är glad och skuttar\")\n",
    "\n",
    "rabbit1 = Rabbit(\"Bella\")\n",
    "rabbit2 = Rabbit(\"Tor\")\n",
    "\n",
    "print(type(rabbit1))\n",
    "\n",
    "rabbit1.__dict__, rabbit2.__dict__"
   ]
  },
  {
   "cell_type": "code",
   "execution_count": 25,
   "metadata": {},
   "outputs": [
    {
     "name": "stdout",
     "output_type": "stream",
     "text": [
      "type object 'Rabbit' has no attribute 'name'\n",
      "3\n",
      "1\n",
      "{'name': 'Bella', 'eyes': 3}\n"
     ]
    }
   ],
   "source": [
    "try:\n",
    "    print(Rabbit.name)\n",
    "\n",
    "except AttributeError as err:\n",
    "    print(err)\n",
    "\n",
    "Rabbit(\"MrSnuggels\").name\n",
    "\n",
    "rabbit1.eyes = 3\n",
    "Rabbit.eyes = 1\n",
    "print(rabbit1.eyes)\n",
    "print(rabbit2.eyes)\n",
    "\n",
    "print(rabbit1.__dict__)"
   ]
  }
 ],
 "metadata": {
  "kernelspec": {
   "display_name": ".venv",
   "language": "python",
   "name": "python3"
  },
  "language_info": {
   "codemirror_mode": {
    "name": "ipython",
    "version": 3
   },
   "file_extension": ".py",
   "mimetype": "text/x-python",
   "name": "python",
   "nbconvert_exporter": "python",
   "pygments_lexer": "ipython3",
   "version": "3.12.5"
  }
 },
 "nbformat": 4,
 "nbformat_minor": 2
}
