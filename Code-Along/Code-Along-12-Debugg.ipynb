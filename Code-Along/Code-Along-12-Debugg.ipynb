{
 "cells": [
  {
   "cell_type": "markdown",
   "metadata": {},
   "source": [
    "### Debugg och modelisering"
   ]
  },
  {
   "cell_type": "markdown",
   "metadata": {},
   "source": [
    "Lämgst till väster i jupyter så kan lgga till en breakpiont å får man se allt om körs i backgrunden. Sedan kör mn genm debuggern.\n",
    "Watch kan vi övervaka kod, variabler, uttryck och metoder. "
   ]
  },
  {
   "cell_type": "markdown",
   "metadata": {},
   "source": []
  }
 ],
 "metadata": {
  "kernelspec": {
   "display_name": ".venv",
   "language": "python",
   "name": "python3"
  },
  "language_info": {
   "name": "python",
   "version": "3.12.5"
  }
 },
 "nbformat": 4,
 "nbformat_minor": 2
}
