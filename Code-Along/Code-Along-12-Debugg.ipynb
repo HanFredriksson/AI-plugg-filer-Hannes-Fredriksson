{
 "cells": [
  {
   "cell_type": "markdown",
   "metadata": {},
   "source": [
    "### Debugg, testning och modelisering"
   ]
  },
  {
   "cell_type": "markdown",
   "metadata": {},
   "source": [
    "Lämgst till väster i jupyter så kan lgga till en breakpiont å får man se allt om körs i backgrunden. Sedan kör mn genm debuggern.\n",
    "Watch kan vi övervaka kod, variabler, uttryck och metoder. "
   ]
  },
  {
   "cell_type": "markdown",
   "metadata": {},
   "source": [
    "Testnng ger bara svar på fel som man testar efter. Testen måste testa funktionalitet som vi tänkt.\n",
    "Enhetstester, testar enbeart enskilda funktioner. \n",
    "Funktionella testara körs högre upp, efter en commit genrellt. \n",
    "\n",
    "Vet man redan hur funkton ska vara och se ut. Kan man göra Enhetstester först innan man skriver själv programmet och koden. Mycket bra sätt att skriva kod, men används sällan. "
   ]
  }
 ],
 "metadata": {
  "kernelspec": {
   "display_name": ".venv",
   "language": "python",
   "name": "python3"
  },
  "language_info": {
   "name": "python",
   "version": "3.12.5"
  }
 },
 "nbformat": 4,
 "nbformat_minor": 2
}
