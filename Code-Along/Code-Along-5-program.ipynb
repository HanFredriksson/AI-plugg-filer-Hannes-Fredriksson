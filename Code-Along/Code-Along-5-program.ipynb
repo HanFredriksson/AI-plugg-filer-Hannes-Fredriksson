{
 "cells": [
  {
   "cell_type": "markdown",
   "metadata": {},
   "source": [
    "## Program Lektion fredag 09/20"
   ]
  },
  {
   "cell_type": "markdown",
   "metadata": {},
   "source": [
    "I python anropar många andra API'r som funktner och moduler. Som TenserFlow, PyTorch och Numpy. \n",
    "\n",
    "Funktioner anropas från en \"Stack\" \n",
    "Inte köra för många avancerad exceptions, det pausar alla andra anrop och ligger sedan och tar massa plats i minnet. \n",
    "\n",
    "Flesta fel är utifrån, som hemsidor och sanvändare. Kod som sådan ska inte generare några fel. \n",
    "\n",
    "plt.axis()\n",
    "plt.gird()\n",
    "\n",
    "reela tal? Kolla upp gammal matten. \n",
    "\n",
    "\n",
    "Ett program är en uppsättning algoritmer. Som tar inte data och leverara slut data, utefter vad för sluttillstånd som vi eftersöker. Ett normal tillstånd. Därför vi kallar exceptions för undantag från normal tillståndet. \n"
   ]
  },
  {
   "cell_type": "code",
   "execution_count": 1,
   "metadata": {},
   "outputs": [
    {
     "name": "stdout",
     "output_type": "stream",
     "text": [
      "1 2\n"
     ]
    },
    {
     "ename": "ValueError",
     "evalue": "",
     "output_type": "error",
     "traceback": [
      "\u001b[1;31m---------------------------------------------------------------------------\u001b[0m",
      "\u001b[1;31mValueError\u001b[0m                                Traceback (most recent call last)",
      "Cell \u001b[1;32mIn[1], line 8\u001b[0m\n\u001b[0;32m      5\u001b[0m \u001b[38;5;28;01mdef\u001b[39;00m \u001b[38;5;21msecond_func\u001b[39m (a, b):\n\u001b[0;32m      6\u001b[0m     my_func(a, b)\n\u001b[1;32m----> 8\u001b[0m \u001b[43msecond_func\u001b[49m\u001b[43m(\u001b[49m\u001b[38;5;241;43m1\u001b[39;49m\u001b[43m,\u001b[49m\u001b[43m \u001b[49m\u001b[38;5;241;43m2\u001b[39;49m\u001b[43m)\u001b[49m\n",
      "Cell \u001b[1;32mIn[1], line 6\u001b[0m, in \u001b[0;36msecond_func\u001b[1;34m(a, b)\u001b[0m\n\u001b[0;32m      5\u001b[0m \u001b[38;5;28;01mdef\u001b[39;00m \u001b[38;5;21msecond_func\u001b[39m (a, b):\n\u001b[1;32m----> 6\u001b[0m     \u001b[43mmy_func\u001b[49m\u001b[43m(\u001b[49m\u001b[43ma\u001b[49m\u001b[43m,\u001b[49m\u001b[43m \u001b[49m\u001b[43mb\u001b[49m\u001b[43m)\u001b[49m\n",
      "Cell \u001b[1;32mIn[1], line 4\u001b[0m, in \u001b[0;36mmy_func\u001b[1;34m(a, b)\u001b[0m\n\u001b[0;32m      1\u001b[0m \u001b[38;5;28;01mdef\u001b[39;00m \u001b[38;5;21mmy_func\u001b[39m (a, b):\n\u001b[0;32m      2\u001b[0m     \u001b[38;5;28mprint\u001b[39m(a, b)\n\u001b[1;32m----> 4\u001b[0m     \u001b[38;5;28;01mraise\u001b[39;00m \u001b[38;5;167;01mValueError\u001b[39;00m\n",
      "\u001b[1;31mValueError\u001b[0m: "
     ]
    }
   ],
   "source": [
    "def my_func (a, b):\n",
    "    print(a, b)\n",
    "\n",
    "    raise ValueError\n",
    "def second_func (a, b):\n",
    "    my_func(a, b)\n",
    "\n",
    "second_func(1, 2)"
   ]
  },
  {
   "cell_type": "markdown",
   "metadata": {},
   "source": [
    "## Logic\n",
    "\n",
    "### Boolean logic\n",
    "Boolean logic har bara två värden: 0, 1 (False, True)\n",
    "Mägndlära för att förklara boolsklogik\n",
    "\n",
    "Valuation function\n",
    "    -Bestämmer det sanna värdet för ett boolkst uttryck\n",
    "\n",
    "Operations\n",
    "<, >\n",
    "\n",
    "a, b are booleans\n",
    "\n",
    "a AND b båda är sanna \n",
    "\n",
    "a OR b båda eller en är sann\n",
    "\n",
    "a XOR b en av dom är sanna\n",
    "\n",
    "a IMPL b if\n",
    "\n",
    "a EQ b ==\n",
    "\n",
    "|OP | a | b | output |\n",
    "|---|---|---|---|\n",
    "|AND| F | F | F |\n",
    "|AND| T | F | F |\n",
    "|AND| F | T | F |\n",
    "|AND| T | T | T |\n",
    "\n"
   ]
  },
  {
   "cell_type": "markdown",
   "metadata": {},
   "source": [
    "## Symbols are data\n",
    "\n",
    "Matimatiska functoner\n",
    "\n",
    "| 1 | 0 | 1 |\n",
    "\n",
    "1 * 2^0 + 0*2^1 + 1*2^2 = 5\n",
    "\n",
    "65 (decimal):\n",
    "    ASCII (65) = \"A\"\n",
    "\n",
    "Detta är vad som kommer ligga till grund för ML, att översätta reela problem till binära kod som repsenterar tecken och infromation.\n"
   ]
  },
  {
   "cell_type": "markdown",
   "metadata": {},
   "source": [
    " Inte som i matematik, i programering, funktioner har kontext, _context_.\n",
    "\n",
    " Functioner i programering kan ändra och reagera på variabler. Och kan mipulera in och ut data. "
   ]
  },
  {
   "cell_type": "markdown",
   "metadata": {},
   "source": [
    "###Paradigmer\n",
    "\n",
    "Imperativ programering kolla\n",
    "\n",
    "Objekt Orienterad \n",
    " \n",
    "Funktionel programering \n",
    "\n",
    "Prociduell programering"
   ]
  },
  {
   "cell_type": "markdown",
   "metadata": {},
   "source": [
    "Bra kommentar förklara sematiken i koden. \n",
    "\n",
    "variabler namn kan skriva ut exat vad den gör, men var så kortfatta som möjligt. \n",
    "\n",
    "Gör fler commits så man får sin historia, så man gjort en bit kod, gör en commit, spara, inte bara en klump commit. Så varje gång jag gör en sparning localt, skicka en commit också. \n",
    "\n",
    "\n"
   ]
  }
 ],
 "metadata": {
  "kernelspec": {
   "display_name": "Python 3",
   "language": "python",
   "name": "python3"
  },
  "language_info": {
   "codemirror_mode": {
    "name": "ipython",
    "version": 3
   },
   "file_extension": ".py",
   "mimetype": "text/x-python",
   "name": "python",
   "nbconvert_exporter": "python",
   "pygments_lexer": "ipython3",
   "version": "3.12.5"
  }
 },
 "nbformat": 4,
 "nbformat_minor": 2
}
