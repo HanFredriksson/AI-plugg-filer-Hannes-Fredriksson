{
 "cells": [
  {
   "cell_type": "markdown",
   "metadata": {},
   "source": []
  },
  {
   "cell_type": "markdown",
   "metadata": {},
   "source": [
    "***Code Along3 filhantering***"
   ]
  },
  {
   "cell_type": "code",
   "execution_count": 18,
   "metadata": {},
   "outputs": [
    {
     "name": "stdout",
     "output_type": "stream",
     "text": [
      "ohena = (\"testing\") hejsanhejsanhejsanhejsanohhejsanoh\n",
      "ohena = (\"testing\") hejsanhejsanhejsanhejsanohhejsanohhejsan\n"
     ]
    }
   ],
   "source": [
    "path = \"textfil.txt\"\n",
    "\n",
    "with open (path, 'r') as file:\n",
    "    print(file.read())\n",
    "\n",
    "with open(path, 'a') as file:\n",
    "    file.write(\"hejsan\")\n",
    "\n",
    "with open (path, 'r') as file:\n",
    "    print(file.read())\n"
   ]
  }
 ],
 "metadata": {
  "kernelspec": {
   "display_name": "Python 3",
   "language": "python",
   "name": "python3"
  },
  "language_info": {
   "codemirror_mode": {
    "name": "ipython",
    "version": 3
   },
   "file_extension": ".py",
   "mimetype": "text/x-python",
   "name": "python",
   "nbconvert_exporter": "python",
   "pygments_lexer": "ipython3",
   "version": "3.12.5"
  }
 },
 "nbformat": 4,
 "nbformat_minor": 2
}
