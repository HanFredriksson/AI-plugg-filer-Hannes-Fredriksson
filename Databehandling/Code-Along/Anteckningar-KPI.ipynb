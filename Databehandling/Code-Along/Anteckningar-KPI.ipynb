{
 "cells": [
  {
   "cell_type": "markdown",
   "metadata": {},
   "source": [
    "### Kpi"
   ]
  },
  {
   "cell_type": "markdown",
   "metadata": {},
   "source": [
    "Key preformenc indicators\n",
    "\n",
    "KPI = Ett nyckeltal för verksamheten. Ett mät värde för hur efektiv en verksamhet. Faktorer som mäter nyckeltalet varierar. Den måste var märbara. Faktorer som är kritiska för framgång i orginastionen. Kopplade till affärsmål. Applicerbara för hela företaget. \n",
    "\n",
    "Typer av KPI:er\n",
    "- produktivtet\n",
    "- marknadsföring\n",
    "- kvalitet\n",
    "- ekonomi\n",
    "\n",
    "Varför KIP:er är viktiga\n",
    "- Idenfierar trender\n",
    "- Viktiga vid beslut\n",
    "- Signal på något är fel\n",
    "- Prioteringar i verksamheter\n",
    "- Mäta prestationen\n",
    "\n",
    "Problematiken är att man tycker att prestation mätare känns som övervakning och att man skapar en tryck som inte är hållbart. Ger en dålig arbetsmiljö. Kan också samlas in kännnslig data om anställda. Det human försvinner för att det bara blir en siffra i staitik. \n",
    "\n",
    "Hur skpara man KPI\n",
    "- Kopplat till övergripande mål\n",
    "- Hur ser processen ut\n",
    "- Säkerställ meningsfullhet\n",
    "- När dom ska mätas och hur\n",
    "- Lagring av mätning\n",
    "- Spårbarhet\n",
    "\n",
    "Typer av KPI:er\n",
    "- Process KPI - Effktiv in en preocess. tex leveranstid\n",
    "- Input KPI - tillgång och resurser som leder till affärsntta, tex pengar spenderade på forsning, netbooking\n",
    "- Output KPI - ekonimska märvärden eller avkastning\n",
    "- Leading KPI - framtida preestation\n",
    "\n",
    "Sätts väsrden\n",
    "Absoluta värden\n",
    "- leveranstid\n",
    "- antal leveranser\n",
    "- antal felfria transaktioner \n",
    "\n",
    "Datainsamling\n",
    "- Precison\n",
    "- Tillförlitlighet\n",
    "- Tillgång\n",
    "- Tidlös\n",
    "- Långsiktighet \n",
    "\n",
    "Nackdelar med KPI:er\n",
    "- Ensidiga synsätt - externa delar missar man \n",
    "- Skapa data till organisationen\n",
    "- Frekven data insamling\n",
    "- Alltid en tillbacka blick\n",
    "Med AI försöker man nu förutse hur framtiden kommer se ut. Även att automatiserar insamling och mätningen av KPI:er.\n",
    "\n",
    "Att mäta KPI är jättesvårt att mäta. För det går inte att backa bakåt vad som output blivit. Finns inga sätt att hitta hur den kommfram till output när den väl är tränad. \n",
    "\n",
    "KPI är bra som vägledning men ingen stark grund att ta beslut på. "
   ]
  }
 ],
 "metadata": {
  "language_info": {
   "name": "python"
  }
 },
 "nbformat": 4,
 "nbformat_minor": 2
}
