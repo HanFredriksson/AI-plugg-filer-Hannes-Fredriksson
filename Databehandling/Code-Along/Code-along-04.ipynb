{
 "cells": [
  {
   "cell_type": "markdown",
   "metadata": {},
   "source": [
    "### GDPR för AI"
   ]
  },
  {
   "cell_type": "markdown",
   "metadata": {},
   "source": [
    "Regler kring hur man sparar persondata. Just nu är det lite uppe i luften om hur efektivt detta rgelverk har varit. Detta sker på EU nivå och att faktis bötafölla och driva in har varit bristfällling. Böterna är enorma.  \n",
    "\n",
    "\n",
    "Rätten till personlig integritet är grundläggande mänsklig rättighet. Inskrive i Europakonvntionen om skydd för de mänskilga rättigheter.\n",
    "En personuppgift är all infromation som direkt eller inderkt som identifiera en fysiks person. Ex ip-adress, mail, namn, inloggninguppgifter , fingeravtrycker, position. Försiktig om vilka adresser till datorer som är skyddade eller inte. En kombination av uppgifter kan var syddade, om det går att identifiera person utifrån dom enstak uppgifter. \n",
    "\n",
    "Personuppgiftbehandling är allt man kan gör med en personuppgift, till och med ta emot en personuppgift. Viktigt är att även datan som ligger på backend följer regler. \n",
    "\n",
    "Känsliga personuppgifter får inte raglas alls. \n",
    "- Ras eller ettnisk ursprung\n",
    "- Politisk åsikter\n",
    "- Religiös eller filosofick övertygelse\n",
    "- Medelmskap i fackförning\n",
    "- Hälsoaspekter\n",
    "- Sexliv eller sexuell läggning\n",
    "- Genetiska uppgifter\n",
    "- Biometrisk uppgifter som entydigt identifiea en person\n",
    "- Lagöverträdelse som innefattar brott\n",
    "\n",
    "\n",
    "Foton är endast defineras som biometriska uppgifter när de behandlas med särskild teknik. som möjliggör identifireing aller autentisering av en fysisk person. \n",
    "\n",
    "Foto för vissa användningar. Är bilderna ett resultat av ett konstnärligt skapande eller har ett journalistiskt ändamål gäller inte GDPR. Om sedan tredje person avänder foton till kommersiellet bruk. \n",
    "\n",
    "Övervaka vem som plockar utt upgifter och att dom har tillåtelse att hämta datan. \n",
    "Logga över vem som använder datan. \n",
    "Rapporteringsrutiner, har ramverk för när det ska anälas och tänka på hur man ska gå tillväga. \n",
    "\n",
    "Rättslig grund för behandling\n",
    "- Fullgörande av avtal\n",
    "- rättslig förpliktelse\n",
    "- skydda den registrarde intressse\n",
    "- allmänt intresse\n",
    "- intresseavvägning\n",
    "- samtycke \n",
    "\n",
    "Samtycke kan tas tillbaka närsomhelst. Viktigt att ha det i åtanke att det kan dras tillbaka närsom. Då måste finnas möjlighet att plocka bort all den information om den personen. \n",
    "Avtal och rättslig förpliktelse är en stadig grund att stå på för hantering av personuppgifter, för att det fins oftas bäst dokumentation. Men det måste stå utförligt vad för personuppgifter som ska hanteras i ett avtal. \n",
    "\n",
    "Ett samtycke skall vara:\n",
    "- Frvilligt\n",
    "- Specifikt\n",
    "- Otvetydligt\n",
    "- Individuellt\n",
    "- Informerat\n",
    "\n",
    "Förmågor vi bör övervaka och testa\n",
    "- Att på begäran kunna ta bort infromation \n",
    "- Att kunna plåka fram uppgifterna på begäran\n",
    "- \n",
    "\n",
    "Vi behöver kunna visa att v har kontroll på personuppgifter.\n",
    "Vi skall ha ett ttydligt ändamål för behandling\n",
    "behandling ska uppfylla lagens principer \n",
    "Ska han en laglig grund, sista hand samtycke\n",
    "kan säkerställa rättslig hantering "
   ]
  },
  {
   "cell_type": "markdown",
   "metadata": {},
   "source": [
    "***Kryptreing***"
   ]
  },
  {
   "cell_type": "markdown",
   "metadata": {},
   "source": [
    "Viktiga vid krypterign är att det inte går att återskapa infromation, envägs kryptreing. Ett sätt är att kryptra och spara nyckeln. Men från nyckeln går det inte att återskapa infrmation. \n",
    "\n"
   ]
  }
 ],
 "metadata": {
  "kernelspec": {
   "display_name": ".venv",
   "language": "python",
   "name": "python3"
  },
  "language_info": {
   "name": "python",
   "version": "3.12.5"
  }
 },
 "nbformat": 4,
 "nbformat_minor": 2
}
