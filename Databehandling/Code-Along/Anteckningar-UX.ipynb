{
 "cells": [
  {
   "cell_type": "markdown",
   "metadata": {},
   "source": [
    "### UX - User Interface"
   ]
  },
  {
   "cell_type": "markdown",
   "metadata": {},
   "source": [
    "User centricity - Användar centrerat. Tänke på hur den som använder applikationen. Är den vettigt det som vissas. Varför och för vad ska den användas. Vad kan vara relevant. User secenario ska man sätta sig och tänka på hur det skulle vara som användare. Så man ska veta vad som implmenteras i appliktaionen. \n",
    "\n",
    "Consistensy - Att appliktaionen ska vara konsikvent att hur funknaliteten ska visa. Utan att saker hoppar. Infromationen ska vara konsistent. \n",
    "\n",
    "Navigate - Hur man navigerar sidan. Så det är tydligt vad som gör vad med vad. Ska finnas en tydlig hiarke. Tumregel ska man inte visa mer än sju element. \n",
    "\n",
    "Vem är användaren. Tänka på vilken kultur eller land använderen kommer ifrån, vilken målgrupp har man. Så man utvecklar för den tänkta mållgruppen. Färgblindhet och andra funktions förändringar kan ha behov av olika UX designe. Till och med blindhet, att sidan går att skrivas om i enbart text.\n",
    "\n",
    "User Control - Hur man tillåter användaren, ändra på hur applikationer fungerar. Många företag låser in en i ett defualt i hur designen, så man har kontroll över hur slut produkten blir. \n",
    "\n",
    "Mycket svårt att få tillbaka användaren m den väl lämnat. \n",
    "\n",
    "User Account, Paywalls - Kontra publika applikationer ger olika typer av användare. Finns risker med att vara en öppen applikation. \n",
    "\n",
    "Usabillty - Vad är målet med applikaton. Hur lätt är det att lära sig applikationen. Går det får en snabböverblick för hur appliktion fungerar. vad finns det för documentation\n",
    "\n",
    "Effektivitet - Hur snabb är applikation. Hur långa väntetider. Hur funkar sidan medans användren väntar. \n",
    "\n",
    "Felhantering - Vad händer det nr det gåt fel hur blir det för återställning och hur fångas fel upp. Det ingen som vill felsök en webbapplikation. \n",
    "\n",
    "\n",
    "UX Designe är en stor industir för att utveckla UX. Så man ska vara försiktig med vad som sägs för det är många som vill sälja produkter. "
   ]
  }
 ],
 "metadata": {
  "language_info": {
   "name": "python"
  }
 },
 "nbformat": 4,
 "nbformat_minor": 2
}
