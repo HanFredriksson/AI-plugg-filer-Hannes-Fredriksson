{
 "cells": [
  {
   "cell_type": "markdown",
   "metadata": {},
   "source": [
    "### Merge, Concat och datatime"
   ]
  },
  {
   "cell_type": "markdown",
   "metadata": {},
   "source": [
    "***Concat***\n",
    "Concat kopierar datan till en ny arrey. Om man behöver använda den ofta så kör en loop med en list comprehension. Se bara till att den är kort och enkel. \n",
    "\n",
    "Inner join tar bara det som är samma i alla arrayes, medans outer join tar allt. "
   ]
  },
  {
   "cell_type": "markdown",
   "metadata": {},
   "source": [
    "***Merge***\n",
    "\n"
   ]
  },
  {
   "cell_type": "markdown",
   "metadata": {},
   "source": [
    "***Webscrapeing*** \n",
    " Är inte lagligt att ta data från vart som helst. Utan måste äga eller har en copyright som gör att man får använda datan. Man måste se till att man nämner vart kopian kommer ifrån. Kan vara så att det räcker att nämna vart källan kommer ifrån. \n",
    "\n",
    " Pandas har inbyggda metoder för att skrapa hemsidor och är smart nog att bara plocka datan. \n",
    " Se till att spara sidorna man skrapar ifrån. "
   ]
  },
  {
   "cell_type": "markdown",
   "metadata": {},
   "source": [
    "***datatime***\n",
    "\n",
    "Är ett gissel  att hålla koll på tidszoner och sommar och vintertid. Även skottår är svårt att riktigt ha koll på.\n"
   ]
  }
 ],
 "metadata": {
  "kernelspec": {
   "display_name": ".venv",
   "language": "python",
   "name": "python3"
  },
  "language_info": {
   "name": "python",
   "version": "3.13.2"
  }
 },
 "nbformat": 4,
 "nbformat_minor": 2
}
