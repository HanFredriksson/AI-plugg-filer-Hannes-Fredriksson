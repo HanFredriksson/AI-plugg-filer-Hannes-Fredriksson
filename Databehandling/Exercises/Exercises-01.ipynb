{
 "cells": [
  {
   "cell_type": "markdown",
   "metadata": {},
   "source": [
    "### Svar på uppgifter i Exercises-01 Missing data and aggregations exercises"
   ]
  },
  {
   "cell_type": "markdown",
   "metadata": {},
   "source": [
    "***Uppgift 1 - Findmissing values***"
   ]
  },
  {
   "cell_type": "code",
   "execution_count": 585,
   "metadata": {},
   "outputs": [
    {
     "name": "stdout",
     "output_type": "stream",
     "text": [
      "Unnamed: 0     0\n",
      "school         0\n",
      "sex            0\n",
      "age           14\n",
      "address        5\n",
      "famsize        0\n",
      "Pstatus        0\n",
      "Medu           0\n",
      "Fedu           0\n",
      "Mjob           0\n",
      "Fjob           0\n",
      "reason         0\n",
      "guardian       0\n",
      "traveltime     0\n",
      "studytime      0\n",
      "failures       0\n",
      "schoolsup      0\n",
      "famsup         0\n",
      "paid           0\n",
      "activities     0\n",
      "nursery        0\n",
      "higher         0\n",
      "internet       0\n",
      "romantic       0\n",
      "famrel         5\n",
      "freetime      16\n",
      "goout          5\n",
      "Dalc           0\n",
      "Walc           0\n",
      "health         5\n",
      "absences       5\n",
      "G1             0\n",
      "G2             0\n",
      "G3             0\n",
      "dtype: int64\n"
     ]
    }
   ],
   "source": [
    "import pandas as pd\n",
    "\n",
    "path = \"../Data/student-mat-missing-data.csv\"\n",
    "\n",
    "data = pd.read_csv(path)\n",
    "\n",
    "print(data.isna().sum())\n"
   ]
  },
  {
   "cell_type": "code",
   "execution_count": 586,
   "metadata": {},
   "outputs": [],
   "source": [
    "def plot_missing_values(data):\n",
    "    import plotly_express as px\n",
    "\n",
    "    data_null = pd.DataFrame({\"NaN count\": data.isna().sum()})\n",
    "    print(data_null)\n",
    "    data_null = data_null[data_null[\"NaN count\"] != 0].sort_values(by= \"NaN count\", ascending=False)\n",
    "    fig = px.bar(data_null, x = data_null.index, y = \"NaN count\", labels = {\"index\": \"Columns\"})\n",
    "\n",
    "    return fig.show()\n",
    "        "
   ]
  },
  {
   "cell_type": "code",
   "execution_count": 587,
   "metadata": {},
   "outputs": [
    {
     "name": "stdout",
     "output_type": "stream",
     "text": [
      "          NaN count\n",
      "freetime         16\n",
      "age              14\n",
      "address           5\n",
      "famrel            5\n",
      "goout             5\n",
      "health            5\n",
      "absences          5\n"
     ]
    },
    {
     "data": {
      "application/vnd.plotly.v1+json": {
       "config": {
        "plotlyServerURL": "https://plot.ly"
       },
       "data": [
        {
         "alignmentgroup": "True",
         "hovertemplate": "Columns=%{x}<br>NaN count=%{y}<extra></extra>",
         "legendgroup": "",
         "marker": {
          "color": "#636efa",
          "pattern": {
           "shape": ""
          }
         },
         "name": "",
         "offsetgroup": "",
         "orientation": "v",
         "showlegend": false,
         "textposition": "auto",
         "type": "bar",
         "x": [
          "freetime",
          "age",
          "address",
          "famrel",
          "goout",
          "health",
          "absences"
         ],
         "xaxis": "x",
         "y": [
          16,
          14,
          5,
          5,
          5,
          5,
          5
         ],
         "yaxis": "y"
        }
       ],
       "layout": {
        "barmode": "relative",
        "legend": {
         "tracegroupgap": 0
        },
        "margin": {
         "t": 60
        },
        "template": {
         "data": {
          "bar": [
           {
            "error_x": {
             "color": "#2a3f5f"
            },
            "error_y": {
             "color": "#2a3f5f"
            },
            "marker": {
             "line": {
              "color": "#E5ECF6",
              "width": 0.5
             },
             "pattern": {
              "fillmode": "overlay",
              "size": 10,
              "solidity": 0.2
             }
            },
            "type": "bar"
           }
          ],
          "barpolar": [
           {
            "marker": {
             "line": {
              "color": "#E5ECF6",
              "width": 0.5
             },
             "pattern": {
              "fillmode": "overlay",
              "size": 10,
              "solidity": 0.2
             }
            },
            "type": "barpolar"
           }
          ],
          "carpet": [
           {
            "aaxis": {
             "endlinecolor": "#2a3f5f",
             "gridcolor": "white",
             "linecolor": "white",
             "minorgridcolor": "white",
             "startlinecolor": "#2a3f5f"
            },
            "baxis": {
             "endlinecolor": "#2a3f5f",
             "gridcolor": "white",
             "linecolor": "white",
             "minorgridcolor": "white",
             "startlinecolor": "#2a3f5f"
            },
            "type": "carpet"
           }
          ],
          "choropleth": [
           {
            "colorbar": {
             "outlinewidth": 0,
             "ticks": ""
            },
            "type": "choropleth"
           }
          ],
          "contour": [
           {
            "colorbar": {
             "outlinewidth": 0,
             "ticks": ""
            },
            "colorscale": [
             [
              0,
              "#0d0887"
             ],
             [
              0.1111111111111111,
              "#46039f"
             ],
             [
              0.2222222222222222,
              "#7201a8"
             ],
             [
              0.3333333333333333,
              "#9c179e"
             ],
             [
              0.4444444444444444,
              "#bd3786"
             ],
             [
              0.5555555555555556,
              "#d8576b"
             ],
             [
              0.6666666666666666,
              "#ed7953"
             ],
             [
              0.7777777777777778,
              "#fb9f3a"
             ],
             [
              0.8888888888888888,
              "#fdca26"
             ],
             [
              1,
              "#f0f921"
             ]
            ],
            "type": "contour"
           }
          ],
          "contourcarpet": [
           {
            "colorbar": {
             "outlinewidth": 0,
             "ticks": ""
            },
            "type": "contourcarpet"
           }
          ],
          "heatmap": [
           {
            "colorbar": {
             "outlinewidth": 0,
             "ticks": ""
            },
            "colorscale": [
             [
              0,
              "#0d0887"
             ],
             [
              0.1111111111111111,
              "#46039f"
             ],
             [
              0.2222222222222222,
              "#7201a8"
             ],
             [
              0.3333333333333333,
              "#9c179e"
             ],
             [
              0.4444444444444444,
              "#bd3786"
             ],
             [
              0.5555555555555556,
              "#d8576b"
             ],
             [
              0.6666666666666666,
              "#ed7953"
             ],
             [
              0.7777777777777778,
              "#fb9f3a"
             ],
             [
              0.8888888888888888,
              "#fdca26"
             ],
             [
              1,
              "#f0f921"
             ]
            ],
            "type": "heatmap"
           }
          ],
          "heatmapgl": [
           {
            "colorbar": {
             "outlinewidth": 0,
             "ticks": ""
            },
            "colorscale": [
             [
              0,
              "#0d0887"
             ],
             [
              0.1111111111111111,
              "#46039f"
             ],
             [
              0.2222222222222222,
              "#7201a8"
             ],
             [
              0.3333333333333333,
              "#9c179e"
             ],
             [
              0.4444444444444444,
              "#bd3786"
             ],
             [
              0.5555555555555556,
              "#d8576b"
             ],
             [
              0.6666666666666666,
              "#ed7953"
             ],
             [
              0.7777777777777778,
              "#fb9f3a"
             ],
             [
              0.8888888888888888,
              "#fdca26"
             ],
             [
              1,
              "#f0f921"
             ]
            ],
            "type": "heatmapgl"
           }
          ],
          "histogram": [
           {
            "marker": {
             "pattern": {
              "fillmode": "overlay",
              "size": 10,
              "solidity": 0.2
             }
            },
            "type": "histogram"
           }
          ],
          "histogram2d": [
           {
            "colorbar": {
             "outlinewidth": 0,
             "ticks": ""
            },
            "colorscale": [
             [
              0,
              "#0d0887"
             ],
             [
              0.1111111111111111,
              "#46039f"
             ],
             [
              0.2222222222222222,
              "#7201a8"
             ],
             [
              0.3333333333333333,
              "#9c179e"
             ],
             [
              0.4444444444444444,
              "#bd3786"
             ],
             [
              0.5555555555555556,
              "#d8576b"
             ],
             [
              0.6666666666666666,
              "#ed7953"
             ],
             [
              0.7777777777777778,
              "#fb9f3a"
             ],
             [
              0.8888888888888888,
              "#fdca26"
             ],
             [
              1,
              "#f0f921"
             ]
            ],
            "type": "histogram2d"
           }
          ],
          "histogram2dcontour": [
           {
            "colorbar": {
             "outlinewidth": 0,
             "ticks": ""
            },
            "colorscale": [
             [
              0,
              "#0d0887"
             ],
             [
              0.1111111111111111,
              "#46039f"
             ],
             [
              0.2222222222222222,
              "#7201a8"
             ],
             [
              0.3333333333333333,
              "#9c179e"
             ],
             [
              0.4444444444444444,
              "#bd3786"
             ],
             [
              0.5555555555555556,
              "#d8576b"
             ],
             [
              0.6666666666666666,
              "#ed7953"
             ],
             [
              0.7777777777777778,
              "#fb9f3a"
             ],
             [
              0.8888888888888888,
              "#fdca26"
             ],
             [
              1,
              "#f0f921"
             ]
            ],
            "type": "histogram2dcontour"
           }
          ],
          "mesh3d": [
           {
            "colorbar": {
             "outlinewidth": 0,
             "ticks": ""
            },
            "type": "mesh3d"
           }
          ],
          "parcoords": [
           {
            "line": {
             "colorbar": {
              "outlinewidth": 0,
              "ticks": ""
             }
            },
            "type": "parcoords"
           }
          ],
          "pie": [
           {
            "automargin": true,
            "type": "pie"
           }
          ],
          "scatter": [
           {
            "fillpattern": {
             "fillmode": "overlay",
             "size": 10,
             "solidity": 0.2
            },
            "type": "scatter"
           }
          ],
          "scatter3d": [
           {
            "line": {
             "colorbar": {
              "outlinewidth": 0,
              "ticks": ""
             }
            },
            "marker": {
             "colorbar": {
              "outlinewidth": 0,
              "ticks": ""
             }
            },
            "type": "scatter3d"
           }
          ],
          "scattercarpet": [
           {
            "marker": {
             "colorbar": {
              "outlinewidth": 0,
              "ticks": ""
             }
            },
            "type": "scattercarpet"
           }
          ],
          "scattergeo": [
           {
            "marker": {
             "colorbar": {
              "outlinewidth": 0,
              "ticks": ""
             }
            },
            "type": "scattergeo"
           }
          ],
          "scattergl": [
           {
            "marker": {
             "colorbar": {
              "outlinewidth": 0,
              "ticks": ""
             }
            },
            "type": "scattergl"
           }
          ],
          "scattermapbox": [
           {
            "marker": {
             "colorbar": {
              "outlinewidth": 0,
              "ticks": ""
             }
            },
            "type": "scattermapbox"
           }
          ],
          "scatterpolar": [
           {
            "marker": {
             "colorbar": {
              "outlinewidth": 0,
              "ticks": ""
             }
            },
            "type": "scatterpolar"
           }
          ],
          "scatterpolargl": [
           {
            "marker": {
             "colorbar": {
              "outlinewidth": 0,
              "ticks": ""
             }
            },
            "type": "scatterpolargl"
           }
          ],
          "scatterternary": [
           {
            "marker": {
             "colorbar": {
              "outlinewidth": 0,
              "ticks": ""
             }
            },
            "type": "scatterternary"
           }
          ],
          "surface": [
           {
            "colorbar": {
             "outlinewidth": 0,
             "ticks": ""
            },
            "colorscale": [
             [
              0,
              "#0d0887"
             ],
             [
              0.1111111111111111,
              "#46039f"
             ],
             [
              0.2222222222222222,
              "#7201a8"
             ],
             [
              0.3333333333333333,
              "#9c179e"
             ],
             [
              0.4444444444444444,
              "#bd3786"
             ],
             [
              0.5555555555555556,
              "#d8576b"
             ],
             [
              0.6666666666666666,
              "#ed7953"
             ],
             [
              0.7777777777777778,
              "#fb9f3a"
             ],
             [
              0.8888888888888888,
              "#fdca26"
             ],
             [
              1,
              "#f0f921"
             ]
            ],
            "type": "surface"
           }
          ],
          "table": [
           {
            "cells": {
             "fill": {
              "color": "#EBF0F8"
             },
             "line": {
              "color": "white"
             }
            },
            "header": {
             "fill": {
              "color": "#C8D4E3"
             },
             "line": {
              "color": "white"
             }
            },
            "type": "table"
           }
          ]
         },
         "layout": {
          "annotationdefaults": {
           "arrowcolor": "#2a3f5f",
           "arrowhead": 0,
           "arrowwidth": 1
          },
          "autotypenumbers": "strict",
          "coloraxis": {
           "colorbar": {
            "outlinewidth": 0,
            "ticks": ""
           }
          },
          "colorscale": {
           "diverging": [
            [
             0,
             "#8e0152"
            ],
            [
             0.1,
             "#c51b7d"
            ],
            [
             0.2,
             "#de77ae"
            ],
            [
             0.3,
             "#f1b6da"
            ],
            [
             0.4,
             "#fde0ef"
            ],
            [
             0.5,
             "#f7f7f7"
            ],
            [
             0.6,
             "#e6f5d0"
            ],
            [
             0.7,
             "#b8e186"
            ],
            [
             0.8,
             "#7fbc41"
            ],
            [
             0.9,
             "#4d9221"
            ],
            [
             1,
             "#276419"
            ]
           ],
           "sequential": [
            [
             0,
             "#0d0887"
            ],
            [
             0.1111111111111111,
             "#46039f"
            ],
            [
             0.2222222222222222,
             "#7201a8"
            ],
            [
             0.3333333333333333,
             "#9c179e"
            ],
            [
             0.4444444444444444,
             "#bd3786"
            ],
            [
             0.5555555555555556,
             "#d8576b"
            ],
            [
             0.6666666666666666,
             "#ed7953"
            ],
            [
             0.7777777777777778,
             "#fb9f3a"
            ],
            [
             0.8888888888888888,
             "#fdca26"
            ],
            [
             1,
             "#f0f921"
            ]
           ],
           "sequentialminus": [
            [
             0,
             "#0d0887"
            ],
            [
             0.1111111111111111,
             "#46039f"
            ],
            [
             0.2222222222222222,
             "#7201a8"
            ],
            [
             0.3333333333333333,
             "#9c179e"
            ],
            [
             0.4444444444444444,
             "#bd3786"
            ],
            [
             0.5555555555555556,
             "#d8576b"
            ],
            [
             0.6666666666666666,
             "#ed7953"
            ],
            [
             0.7777777777777778,
             "#fb9f3a"
            ],
            [
             0.8888888888888888,
             "#fdca26"
            ],
            [
             1,
             "#f0f921"
            ]
           ]
          },
          "colorway": [
           "#636efa",
           "#EF553B",
           "#00cc96",
           "#ab63fa",
           "#FFA15A",
           "#19d3f3",
           "#FF6692",
           "#B6E880",
           "#FF97FF",
           "#FECB52"
          ],
          "font": {
           "color": "#2a3f5f"
          },
          "geo": {
           "bgcolor": "white",
           "lakecolor": "white",
           "landcolor": "#E5ECF6",
           "showlakes": true,
           "showland": true,
           "subunitcolor": "white"
          },
          "hoverlabel": {
           "align": "left"
          },
          "hovermode": "closest",
          "mapbox": {
           "style": "light"
          },
          "paper_bgcolor": "white",
          "plot_bgcolor": "#E5ECF6",
          "polar": {
           "angularaxis": {
            "gridcolor": "white",
            "linecolor": "white",
            "ticks": ""
           },
           "bgcolor": "#E5ECF6",
           "radialaxis": {
            "gridcolor": "white",
            "linecolor": "white",
            "ticks": ""
           }
          },
          "scene": {
           "xaxis": {
            "backgroundcolor": "#E5ECF6",
            "gridcolor": "white",
            "gridwidth": 2,
            "linecolor": "white",
            "showbackground": true,
            "ticks": "",
            "zerolinecolor": "white"
           },
           "yaxis": {
            "backgroundcolor": "#E5ECF6",
            "gridcolor": "white",
            "gridwidth": 2,
            "linecolor": "white",
            "showbackground": true,
            "ticks": "",
            "zerolinecolor": "white"
           },
           "zaxis": {
            "backgroundcolor": "#E5ECF6",
            "gridcolor": "white",
            "gridwidth": 2,
            "linecolor": "white",
            "showbackground": true,
            "ticks": "",
            "zerolinecolor": "white"
           }
          },
          "shapedefaults": {
           "line": {
            "color": "#2a3f5f"
           }
          },
          "ternary": {
           "aaxis": {
            "gridcolor": "white",
            "linecolor": "white",
            "ticks": ""
           },
           "baxis": {
            "gridcolor": "white",
            "linecolor": "white",
            "ticks": ""
           },
           "bgcolor": "#E5ECF6",
           "caxis": {
            "gridcolor": "white",
            "linecolor": "white",
            "ticks": ""
           }
          },
          "title": {
           "x": 0.05
          },
          "xaxis": {
           "automargin": true,
           "gridcolor": "white",
           "linecolor": "white",
           "ticks": "",
           "title": {
            "standoff": 15
           },
           "zerolinecolor": "white",
           "zerolinewidth": 2
          },
          "yaxis": {
           "automargin": true,
           "gridcolor": "white",
           "linecolor": "white",
           "ticks": "",
           "title": {
            "standoff": 15
           },
           "zerolinecolor": "white",
           "zerolinewidth": 2
          }
         }
        },
        "xaxis": {
         "anchor": "y",
         "domain": [
          0,
          1
         ],
         "title": {
          "text": "Columns"
         }
        },
        "yaxis": {
         "anchor": "x",
         "domain": [
          0,
          1
         ],
         "title": {
          "text": "NaN count"
         }
        }
       }
      }
     },
     "metadata": {},
     "output_type": "display_data"
    }
   ],
   "source": [
    "import Tools.data_utils as du\n",
    "\n",
    "plot_null = du.plot_missing_values(data)"
   ]
  },
  {
   "cell_type": "code",
   "execution_count": 588,
   "metadata": {},
   "outputs": [
    {
     "name": "stdout",
     "output_type": "stream",
     "text": [
      "This indexes has a Nan: [87, 99, 130, 149, 151, 160, 191, 257, 276, 293, 308, 330, 343, 359, 372, 385]\n"
     ]
    }
   ],
   "source": [
    "data_null_rows = (data[\"freetime\"].isna())\n",
    "data_null_rows = list(data_null_rows[data_null_rows == True].index)\n",
    "print(f\"This indexes has a Nan: {data_null_rows}\")"
   ]
  },
  {
   "cell_type": "code",
   "execution_count": 589,
   "metadata": {},
   "outputs": [
    {
     "name": "stdout",
     "output_type": "stream",
     "text": [
      "Rows of age or freetime with a Nan values: [20, 71, 87, 99, 102, 106, 121, 130, 149, 151, 160, 188, 191, 214, 257, 270, 276, 293, 308, 330, 343, 348, 359, 372, 385]\n"
     ]
    }
   ],
   "source": [
    "data_null_rows2 = list(data[(data[\"freetime\"].isnull()) | data[\"age\"].isnull()].index)\n",
    "\n",
    "print(f\"Rows of age or freetime with a Nan values: {data_null_rows2}\")"
   ]
  },
  {
   "cell_type": "code",
   "execution_count": 590,
   "metadata": {},
   "outputs": [
    {
     "name": "stdout",
     "output_type": "stream",
     "text": [
      "0      0\n",
      "1      0\n",
      "2      0\n",
      "3      0\n",
      "4      0\n",
      "      ..\n",
      "390    0\n",
      "391    0\n",
      "392    0\n",
      "393    0\n",
      "394    0\n",
      "Length: 395, dtype: int64\n",
      "0.012658227848101266\n"
     ]
    }
   ],
   "source": [
    "two_NaN = data.isnull().sum(axis=1)\n",
    "print(two_NaN)\n",
    "two_NaN = two_NaN[two_NaN > 1]\n",
    "total_Nan = len(two_NaN) / len(data)\n",
    "\n",
    "print(total_Nan)"
   ]
  },
  {
   "cell_type": "markdown",
   "metadata": {},
   "source": [
    "***Uppgift 2 - Clean Data***"
   ]
  },
  {
   "cell_type": "code",
   "execution_count": 591,
   "metadata": {},
   "outputs": [
    {
     "name": "stdout",
     "output_type": "stream",
     "text": [
      "     Unnamed: 0 school sex   age address famsize Pstatus  Medu  Fedu  \\\n",
      "0             0     GP   F  18.0       U     GT3       A     4     4   \n",
      "1             1     GP   F  17.0       U     GT3       T     1     1   \n",
      "2             2     GP   F  15.0       U     LE3       T     1     1   \n",
      "3             3     GP   F  15.0       U     GT3       T     4     2   \n",
      "4             4     GP   F  16.0       U     GT3       T     3     3   \n",
      "..          ...    ...  ..   ...     ...     ...     ...   ...   ...   \n",
      "390         390     MS   M  20.0       U     LE3       A     2     2   \n",
      "391         391     MS   M  17.0       U     LE3       T     3     1   \n",
      "392         392     MS   M  21.0       R     GT3       T     1     1   \n",
      "393         393     MS   M  18.0       R     LE3       T     3     2   \n",
      "394         394     MS   M  19.0       U     LE3       T     1     1   \n",
      "\n",
      "         Mjob  ... famrel freetime goout  Dalc  Walc  health absences  G1  G2  \\\n",
      "0     at_home  ...    4.0      3.0   4.0     1     1     3.0      6.0   5   6   \n",
      "1     at_home  ...    5.0      3.0   3.0     1     1     3.0      4.0   5   5   \n",
      "2     at_home  ...    4.0      3.0   2.0     2     3     3.0     10.0   7   8   \n",
      "3      health  ...    3.0      2.0   2.0     1     1     5.0      2.0  15  14   \n",
      "4       other  ...    4.0      3.0   2.0     1     2     5.0      4.0   6  10   \n",
      "..        ...  ...    ...      ...   ...   ...   ...     ...      ...  ..  ..   \n",
      "390  services  ...    5.0      5.0   4.0     4     5     4.0     11.0   9   9   \n",
      "391  services  ...    2.0      4.0   5.0     3     4     2.0      3.0  14  16   \n",
      "392     other  ...    5.0      5.0   3.0     3     3     3.0      3.0  10   8   \n",
      "393  services  ...    4.0      4.0   1.0     3     4     5.0      0.0  11  12   \n",
      "394     other  ...    3.0      2.0   3.0     3     3     5.0      5.0   8   9   \n",
      "\n",
      "     G3  \n",
      "0     6  \n",
      "1     6  \n",
      "2    10  \n",
      "3    15  \n",
      "4    10  \n",
      "..   ..  \n",
      "390   9  \n",
      "391  16  \n",
      "392   7  \n",
      "393  10  \n",
      "394   9  \n",
      "\n",
      "[395 rows x 34 columns]\n",
      "     Unnamed: 0 school sex   age address famsize Pstatus  Medu  Fedu  \\\n",
      "0             0     GP   F  18.0       U     GT3       A     4     4   \n",
      "1             1     GP   F  17.0       U     GT3       T     1     1   \n",
      "2             2     GP   F  15.0       U     LE3       T     1     1   \n",
      "3             3     GP   F  15.0       U     GT3       T     4     2   \n",
      "4             4     GP   F  16.0       U     GT3       T     3     3   \n",
      "..          ...    ...  ..   ...     ...     ...     ...   ...   ...   \n",
      "390         390     MS   M  20.0       U     LE3       A     2     2   \n",
      "391         391     MS   M  17.0       U     LE3       T     3     1   \n",
      "392         392     MS   M  21.0       R     GT3       T     1     1   \n",
      "393         393     MS   M  18.0       R     LE3       T     3     2   \n",
      "394         394     MS   M  19.0       U     LE3       T     1     1   \n",
      "\n",
      "         Mjob  ... famrel freetime goout  Dalc  Walc  health absences  G1  G2  \\\n",
      "0     at_home  ...    4.0      3.0   4.0     1     1     3.0      6.0   5   6   \n",
      "1     at_home  ...    5.0      3.0   3.0     1     1     3.0      4.0   5   5   \n",
      "2     at_home  ...    4.0      3.0   2.0     2     3     3.0     10.0   7   8   \n",
      "3      health  ...    3.0      2.0   2.0     1     1     5.0      2.0  15  14   \n",
      "4       other  ...    4.0      3.0   2.0     1     2     5.0      4.0   6  10   \n",
      "..        ...  ...    ...      ...   ...   ...   ...     ...      ...  ..  ..   \n",
      "390  services  ...    5.0      5.0   4.0     4     5     4.0     11.0   9   9   \n",
      "391  services  ...    2.0      4.0   5.0     3     4     2.0      3.0  14  16   \n",
      "392     other  ...    5.0      5.0   3.0     3     3     3.0      3.0  10   8   \n",
      "393  services  ...    4.0      4.0   1.0     3     4     5.0      0.0  11  12   \n",
      "394     other  ...    3.0      2.0   3.0     3     3     5.0      5.0   8   9   \n",
      "\n",
      "     G3  \n",
      "0     6  \n",
      "1     6  \n",
      "2    10  \n",
      "3    15  \n",
      "4    10  \n",
      "..   ..  \n",
      "390   9  \n",
      "391  16  \n",
      "392   7  \n",
      "393  10  \n",
      "394   9  \n",
      "\n",
      "[370 rows x 34 columns]\n"
     ]
    }
   ],
   "source": [
    "print(data)\n",
    "null_index = data.dropna()\n",
    "print(null_index)\n"
   ]
  },
  {
   "cell_type": "code",
   "execution_count": 592,
   "metadata": {},
   "outputs": [
    {
     "data": {
      "image/png": "[encoded data removed]",
      "text/plain": [
       "<Figure size 640x480 with 1 Axes>"
      ]
     },
     "metadata": {},
     "output_type": "display_data"
    }
   ],
   "source": [
    "import seaborn as sns\n",
    "fig3 = sns.histplot(data[\"age\"], bins=30, kde= True)\n",
    "\n"
   ]
  },
  {
   "cell_type": "code",
   "execution_count": 593,
   "metadata": {},
   "outputs": [
    {
     "name": "stdout",
     "output_type": "stream",
     "text": [
      "     Unnamed: 0 school sex   age address famsize Pstatus  Medu  Fedu  \\\n",
      "0             0     GP   F  18.0       U     GT3       A     4     4   \n",
      "1             1     GP   F  17.0       U     GT3       T     1     1   \n",
      "2             2     GP   F  15.0       U     LE3       T     1     1   \n",
      "3             3     GP   F  15.0       U     GT3       T     4     2   \n",
      "4             4     GP   F  16.0       U     GT3       T     3     3   \n",
      "..          ...    ...  ..   ...     ...     ...     ...   ...   ...   \n",
      "390         390     MS   M  20.0       U     LE3       A     2     2   \n",
      "391         391     MS   M  17.0       U     LE3       T     3     1   \n",
      "392         392     MS   M  21.0       R     GT3       T     1     1   \n",
      "393         393     MS   M  18.0       R     LE3       T     3     2   \n",
      "394         394     MS   M  19.0       U     LE3       T     1     1   \n",
      "\n",
      "         Mjob  ... famrel freetime goout  Dalc  Walc  health absences  G1  G2  \\\n",
      "0     at_home  ...    4.0      3.0   4.0     1     1     3.0      6.0   5   6   \n",
      "1     at_home  ...    5.0      3.0   3.0     1     1     3.0      4.0   5   5   \n",
      "2     at_home  ...    4.0      3.0   2.0     2     3     3.0     10.0   7   8   \n",
      "3      health  ...    3.0      2.0   2.0     1     1     5.0      2.0  15  14   \n",
      "4       other  ...    4.0      3.0   2.0     1     2     5.0      4.0   6  10   \n",
      "..        ...  ...    ...      ...   ...   ...   ...     ...      ...  ..  ..   \n",
      "390  services  ...    5.0      5.0   4.0     4     5     4.0     11.0   9   9   \n",
      "391  services  ...    2.0      4.0   5.0     3     4     2.0      3.0  14  16   \n",
      "392     other  ...    5.0      5.0   3.0     3     3     3.0      3.0  10   8   \n",
      "393  services  ...    4.0      4.0   1.0     3     4     5.0      0.0  11  12   \n",
      "394     other  ...    3.0      2.0   3.0     3     3     5.0      5.0   8   9   \n",
      "\n",
      "     G3  \n",
      "0     6  \n",
      "1     6  \n",
      "2    10  \n",
      "3    15  \n",
      "4    10  \n",
      "..   ..  \n",
      "390   9  \n",
      "391  16  \n",
      "392   7  \n",
      "393  10  \n",
      "394   9  \n",
      "\n",
      "[375 rows x 34 columns]\n",
      "     Unnamed: 0 school sex   age address famsize Pstatus  Medu  Fedu  \\\n",
      "78           78     GP   M  17.0       U     GT3       T     2     1   \n",
      "127         127     GP   F  19.0       U     GT3       T     0     1   \n",
      "148         148     GP   M  16.0       U     GT3       T     4     4   \n",
      "150         150     GP   M  18.0       U     LE3       T     1     1   \n",
      "153         153     GP   M  19.0       U     GT3       T     3     2   \n",
      "160         160     GP   M   NaN     NaN     LE3       T     2     1   \n",
      "163         163     GP   M  17.0       U     GT3       T     1     3   \n",
      "164         164     GP   M  17.0       R     LE3       T     1     1   \n",
      "165         165     GP   M  16.0       U     GT3       T     3     2   \n",
      "166         166     GP   M  16.0       U     GT3       T     2     2   \n",
      "239         239     GP   M  18.0       U     GT3       T     2     2   \n",
      "247         247     GP   M  22.0       U     GT3       T     3     1   \n",
      "250         250     GP   M  18.0       U     GT3       T     3     2   \n",
      "252         252     GP   M  18.0       U     GT3       T     2     1   \n",
      "269         269     GP   F  18.0       R     GT3       T     2     1   \n",
      "276         276     GP   F   NaN     NaN     GT3       A     3     2   \n",
      "311         311     GP   F  19.0       U     GT3       T     2     1   \n",
      "352         352     MS   M  18.0       U     LE3       T     1     3   \n",
      "361         361     MS   M  18.0       R     LE3       T     1     1   \n",
      "371         371     MS   M  18.0       R     LE3       T     1     2   \n",
      "\n",
      "         Mjob  ... famrel freetime goout  Dalc  Walc  health absences  G1  G2  \\\n",
      "78      other  ...    4.0      5.0   1.0     1     1     3.0      2.0   8   8   \n",
      "127   at_home  ...    3.0      4.0   2.0     1     1     5.0      2.0   7   8   \n",
      "148   teacher  ...    3.0      3.0   2.0     2     1     5.0      0.0   7   6   \n",
      "150     other  ...    2.0      3.0   5.0     2     5     4.0      0.0   6   5   \n",
      "153  services  ...    4.0      5.0   4.0     1     1     4.0      0.0   5   0   \n",
      "160   at_home  ...    NaN      NaN   NaN     2     2     NaN      NaN   7   6   \n",
      "163   at_home  ...    5.0      3.0   3.0     1     4     2.0      2.0  10  10   \n",
      "164     other  ...    5.0      3.0   5.0     1     5     5.0      0.0   5   8   \n",
      "165  services  ...    4.0      5.0   2.0     1     1     2.0     16.0  12  11   \n",
      "166     other  ...    4.0      3.0   5.0     2     4     4.0      4.0  10  10   \n",
      "239     other  ...    5.0      5.0   4.0     3     5     2.0      0.0   7   7   \n",
      "247  services  ...    5.0      4.0   5.0     5     5     1.0     16.0   6   8   \n",
      "250  services  ...    4.0      4.0   5.0     2     4     5.0      0.0   6   8   \n",
      "252  services  ...    3.0      2.0   5.0     2     5     5.0      4.0   6   9   \n",
      "269     other  ...    4.0      3.0   5.0     1     2     3.0      0.0   6   0   \n",
      "276     other  ...    NaN      NaN   NaN     1     1     NaN      NaN  10   9   \n",
      "311   at_home  ...    3.0      4.0   1.0     1     1     2.0     20.0  14  12   \n",
      "352   at_home  ...    4.0      3.0   3.0     2     3     3.0      7.0   8   7   \n",
      "361   at_home  ...    4.0      4.0   3.0     2     3     5.0      2.0  13  12   \n",
      "371   at_home  ...    4.0      3.0   3.0     2     3     3.0      3.0  14  12   \n",
      "\n",
      "     G3  \n",
      "78   10  \n",
      "127   9  \n",
      "148   0  \n",
      "150   0  \n",
      "153   0  \n",
      "160   0  \n",
      "163  10  \n",
      "164   7  \n",
      "165  12  \n",
      "166  10  \n",
      "239   0  \n",
      "247   8  \n",
      "250   8  \n",
      "252   8  \n",
      "269   0  \n",
      "276   9  \n",
      "311  13  \n",
      "352   8  \n",
      "361  12  \n",
      "371  12  \n",
      "\n",
      "[20 rows x 34 columns]\n"
     ]
    },
    {
     "data": {
      "text/plain": [
       "Text(0.5, 1.0, 'Ages that has not a Higher')"
      ]
     },
     "execution_count": 593,
     "metadata": {},
     "output_type": "execute_result"
    },
    {
     "data": {
      "image/png": "[encoded data removed]",
      "text/plain": [
       "<Figure size 1800x600 with 3 Axes>"
      ]
     },
     "metadata": {},
     "output_type": "display_data"
    }
   ],
   "source": [
    "import matplotlib.pyplot as plt\n",
    "\n",
    "filter_higher_y = data[data[\"higher\"] == \"yes\"]\n",
    "filter_higher_n = data[data[\"higher\"] == \"no\"]\n",
    "print(filter_higher_y)\n",
    "print(filter_higher_n)\n",
    "\n",
    "fig, ax = plt.subplots(1,3 , figsize = (18, 6))\n",
    "fig.suptitle(\"Plot age according to Hihger Yes or No\")\n",
    "sns.histplot(data[\"age\"], bins= 30, kde=True, ax=ax[0])\n",
    "ax[0].set_title(\"Distbution of ages\")\n",
    "sns.histplot(filter_higher_y, x= \"age\", bins=30, kde=True, ax=ax[1])\n",
    "ax[1].set_title(\"Ages that has a Higher\")\n",
    "sns.histplot(filter_higher_n, x= \"age\", bins=30, kde=True, ax=ax[2])\n",
    "ax[2].set_title(\"Ages that has not a Higher\")"
   ]
  },
  {
   "cell_type": "code",
   "execution_count": 594,
   "metadata": {},
   "outputs": [
    {
     "data": {
      "text/plain": [
       "0      2\n",
       "1      2\n",
       "2      5\n",
       "3      2\n",
       "4      3\n",
       "      ..\n",
       "390    9\n",
       "391    7\n",
       "392    6\n",
       "393    7\n",
       "394    6\n",
       "Name: Alcohol, Length: 395, dtype: int64"
      ]
     },
     "execution_count": 594,
     "metadata": {},
     "output_type": "execute_result"
    }
   ],
   "source": [
    "data[\"Alcohol\"] = data[\"Dalc\"] + data[\"Walc\"]\n",
    "\n",
    "data[\"Alcohol\"]"
   ]
  },
  {
   "cell_type": "code",
   "execution_count": 595,
   "metadata": {},
   "outputs": [
    {
     "data": {
      "image/png": "[encoded data removed]",
      "text/plain": [
       "<Figure size 640x480 with 1 Axes>"
      ]
     },
     "metadata": {},
     "output_type": "display_data"
    }
   ],
   "source": [
    "alc_age = sns.barplot(data, x=\"age\", y=\"Alcohol\")"
   ]
  },
  {
   "cell_type": "code",
   "execution_count": 596,
   "metadata": {},
   "outputs": [
    {
     "name": "stdout",
     "output_type": "stream",
     "text": [
      "     Alcohol   age\n",
      "20         2  15.0\n",
      "71         2  15.0\n",
      "102        2  15.0\n",
      "106        2  15.0\n",
      "121        3  15.0\n",
      "160        4  17.0\n",
      "188        4  17.0\n",
      "191        2  15.0\n",
      "214        3  15.0\n",
      "270        6  17.0\n",
      "276        2  15.0\n",
      "293        2  15.0\n",
      "348        4  17.0\n",
      "385        4  17.0\n"
     ]
    }
   ],
   "source": [
    "index_age_Nan = data[data[\"age\"].isna()].index\n",
    "for row in index_age_Nan:\n",
    "      if data.loc[row, \"Alcohol\"] >= 4:\n",
    "        data.loc[row, \"age\"] = 17\n",
    "      if data.loc[row, \"Alcohol\"] < 4:\n",
    "        data.loc[row, \"age\"] = 15\n",
    "\n",
    "print(data.loc[index_age_Nan, [\"Alcohol\", \"age\"]])\n",
    "\n",
    "\n",
    "      "
   ]
  },
  {
   "cell_type": "code",
   "execution_count": 632,
   "metadata": {},
   "outputs": [
    {
     "name": "stdout",
     "output_type": "stream",
     "text": [
      "Index(['Unnamed: 0', 'school', 'sex', 'age', 'address', 'famsize', 'Pstatus',\n",
      "       'Medu', 'Fedu', 'Mjob', 'Fjob', 'reason', 'guardian', 'traveltime',\n",
      "       'studytime', 'failures', 'schoolsup', 'famsup', 'paid', 'activities',\n",
      "       'nursery', 'higher', 'internet', 'romantic', 'famrel', 'freetime',\n",
      "       'goout', 'Dalc', 'Walc', 'health', 'absences', 'G1', 'G2', 'G3',\n",
      "       'Alcohol'],\n",
      "      dtype='object')\n",
      "higher  freetime\n",
      "yes     3.0         141\n",
      "        4.0         108\n",
      "        2.0          62\n",
      "        5.0          33\n",
      "        1.0          17\n",
      "no      3.0           8\n",
      "        4.0           5\n",
      "        5.0           4\n",
      "        2.0           1\n",
      "Name: count, dtype: int64\n"
     ]
    }
   ],
   "source": [
    "freetime_nan = data[data[\"freetime\"].isna()].index\n",
    "\n",
    "#print(data.loc[freetime_nan, [\"higher\", \"freetime\",\"age\"]])\n",
    "\n",
    "print(data.columns)\n",
    "\n",
    "print(data[[\"higher\", \"freetime\"]].value_counts())\n"
   ]
  }
 ],
 "metadata": {
  "kernelspec": {
   "display_name": ".venv",
   "language": "python",
   "name": "python3"
  },
  "language_info": {
   "codemirror_mode": {
    "name": "ipython",
    "version": 3
   },
   "file_extension": ".py",
   "mimetype": "text/x-python",
   "name": "python",
   "nbconvert_exporter": "python",
   "pygments_lexer": "ipython3",
   "version": "3.12.5"
  }
 },
 "nbformat": 4,
 "nbformat_minor": 2
}
