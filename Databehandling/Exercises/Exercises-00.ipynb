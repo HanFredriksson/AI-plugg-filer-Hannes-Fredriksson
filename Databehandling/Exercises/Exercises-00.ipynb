{
 "cells": [
  {
   "cell_type": "markdown",
   "metadata": {},
   "source": [
    "### Svar Exercises-00 Panda syntax"
   ]
  },
  {
   "cell_type": "code",
   "execution_count": 29,
   "metadata": {},
   "outputs": [
    {
     "name": "stdout",
     "output_type": "stream",
     "text": [
      "0        Malmö\n",
      "1    Stockholm\n",
      "2      Uppsala\n",
      "3     Göteborg\n",
      "Name: Kommun, dtype: object \n",
      "\n",
      "Kommun      Göteborg\n",
      "Invånare      583056\n",
      "Name: 3, dtype: object\n",
      "\n",
      "      Kommun  Invånare\n",
      "1  Stockholm    975551\n",
      "3   Göteborg    583056\n",
      "0      Malmö    347949\n",
      "2    Uppsala    233839\n",
      "\n",
      "      Kommun  Invånare\n",
      "1  Stockholm    975551\n",
      "3   Göteborg    583056\n",
      "0      Malmö    347949\n",
      "\n",
      "      Kommun  Invånare  Procent av invånare\n",
      "0      Malmö    347949             3.352338\n",
      "1  Stockholm    975551             9.399010\n",
      "2    Uppsala    233839             2.252937\n",
      "3   Göteborg    583056             5.617491\n"
     ]
    }
   ],
   "source": [
    "import pandas as pd\n",
    "\n",
    "cities ={\"Kommun\": [\"Malmö\", \"Stockholm\", \"Uppsala\", \"Göteborg\"], \"Invånare\":[347949, 975551, 233839, 583056]}\n",
    "df_cities = pd.DataFrame(data=cities)\n",
    "df_cities_sorted = df_cities.sort_values(by= \"Invånare\", ascending=False)\n",
    "df_cities_procent = pd.DataFrame(data=cities, columns=[\"Kommun\", \"Invånare\", \"Procent av invånare\"])\n",
    "df_cities_procent[\"Procent av invånare\"] = (df_cities_procent[\"Invånare\"] / 10379295)*100\n",
    "\n",
    "print(f\"{df_cities.Kommun} \\n\")    \n",
    "print(f\"{df_cities.iloc[3]}\\n\")\n",
    "print(f\"{df_cities_sorted}\\n\")\n",
    "print(f\"{df_cities_sorted.iloc[:3]}\\n\")\n",
    "print(df_cities_procent)\n",
    "\n"
   ]
  },
  {
   "cell_type": "code",
   "execution_count": null,
   "metadata": {},
   "outputs": [],
   "source": []
  }
 ],
 "metadata": {
  "kernelspec": {
   "display_name": ".venv",
   "language": "python",
   "name": "python3"
  },
  "language_info": {
   "codemirror_mode": {
    "name": "ipython",
    "version": 3
   },
   "file_extension": ".py",
   "mimetype": "text/x-python",
   "name": "python",
   "nbconvert_exporter": "python",
   "pygments_lexer": "ipython3",
   "version": "3.12.5"
  }
 },
 "nbformat": 4,
 "nbformat_minor": 2
}
