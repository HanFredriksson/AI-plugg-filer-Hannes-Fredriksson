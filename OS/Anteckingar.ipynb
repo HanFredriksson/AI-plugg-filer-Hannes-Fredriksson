{
 "cells": [
  {
   "cell_type": "markdown",
   "metadata": {},
   "source": [
    "Fråga Raphael hur vi ska lagara namn. \n",
    "\n",
    "\n",
    "***Frågeställning***\n",
    "\n",
    "Den stora frågeställningen är hur prestationen vart genom tiderna. Titta på hur prestations fördelningen mellan könen har varit. Vilka sporter har man varit mest framgångsrik i. Också hur framgångsrik man varit genom tiden. Vilka åldrar domnierar och vilka år har leverarat bäst resultat. \n",
    "\n",
    "\n",
    "***Italien frågor***\n",
    "\n",
    "\n",
    "- Medaljer per år och typ av os antal medaljer totalt och hur utvecklingen varit. Kanske möjlighet att välja efter medalj valör. Ett linje diagram\n",
    "\n",
    "- Hur ser medalj fördelningen ut genom åren för Italien uppdelat i sporter. Stapel diagram\n",
    "\n",
    "- Vilka OS har varit mest framgångsrikt. Stapel diagram\n",
    "\n",
    "- Köns fördelning mellan medaljer. Också ett medelvärde på vilket köns som presterat bäst i olika medalj valörer. Paj diagram.   \n",
    "\n",
    "\n",
    "***Sporter 3-4: Swimming, Alpine Skiing, Rowing, Cross Country Skiing***\n",
    "\n",
    "- Länder som är bäst på sporten med flest medaljer. Linje diagram.\n",
    "\n",
    "- Villka länder som är samlagt bäst av alla sporter vi undersöker. \n",
    "\n",
    "- Ålders fördelning för medalj valören och i vilken ålder som den togs i sporten. Histogram\n",
    "\n",
    "- Köns fördelningen mellan medaljer, räkna på medelvärde. Paj diagram\n",
    "\n",
    "\n",
    "***Layout för dashboard***\n",
    "\n",
    "Kunna välja land eller sporter. Med underval som ålder, kön eller medaljvalör.\n",
    "En dropdon som väljer mellan Italien eller vilka sporter vi valt. Med en till dropdown som visar vilka diagram vi kan vissa. Dom diagramen som har yttligare val skulle vi kunna ha en slider eller knappar som väljer olika yttligare filter för diagremen. Här ska vi vissa på vad vi vill svara på i våran frågeställning. \n",
    "\n",
    "\n"
   ]
  },
  {
   "cell_type": "markdown",
   "metadata": {},
   "source": [
    "### Translation to English\n",
    "\n",
    "***Question Statement***\n",
    "\n",
    "The main question is how performance has evolved over time. Look at how the performance distribution has been between genders. Which sports have been the most successful? Also, how successful the performances have been over time. Which ages dominate, and which years have delivered the best results?\n",
    "\n",
    "***Italy-Specific Questions***\n",
    "\n",
    "- **Medals per year and type of Olympics**: Total number of medals and how the progression has developed. Possibly include the option to filter by medal type. A line chart.\n",
    "\n",
    "- **Medal distribution over the years for Italy, divided by sports**: A bar chart.\n",
    "\n",
    "- **Which Olympics have been the most successful**: A bar chart.\n",
    "\n",
    "- **Gender distribution among medals**: Also, an average of which gender has performed best in different medal types. A pie chart.\n",
    "\n",
    "***Sports (3-4): Swimming, Alpine Skiing, Rowing, Cross Country Skiing***\n",
    "\n",
    "- **Countries that excel in the sport with the most medals**: A line chart.\n",
    "\n",
    "- **Which countries are overall the best across all sports we are examining**.\n",
    "\n",
    "- **Age distribution for medal types and at what age they were won in the sport**: A histogram.\n",
    "\n",
    "- **Gender distribution among medals**: Calculate the averages. A pie chart.\n",
    "\n",
    "***Dashboard Layout***\n",
    "\n",
    "- Ability to select a country or sports. With sub-options for age, gender, or medal type.\n",
    "- A dropdown to choose between Italy or the sports we have selected. Another dropdown to show the charts we can display. For charts that have additional options, we could include a slider or buttons to choose further filters for the charts.\n",
    "- The dashboard should focus on answering the main questions posed in our question statement."
   ]
  },
  {
   "cell_type": "code",
   "execution_count": 14,
   "metadata": {},
   "outputs": [],
   "source": [
    "def data_fetcher(data, typ):\n",
    "    fetch_list = []\n",
    "    for i in data[typ]:\n",
    "        if i not in fetch_list:\n",
    "            fetch_list.append(i)\n",
    "    return fetch_list"
   ]
  },
  {
   "cell_type": "code",
   "execution_count": 34,
   "metadata": {},
   "outputs": [
    {
     "name": "stdout",
     "output_type": "stream",
     "text": [
      "Aeronautics, Alpine Skiing, Alpinism, Archery, Art Competitions\n",
      "\n",
      "Athletics, Badminton, Baseball, Basketball, Basque Pelota\n",
      "\n",
      "Beach Volleyball, Biathlon, Bobsleigh, Boxing, Canoeing\n",
      "\n",
      "Cricket, Croquet, Cross Country Skiing, Curling, Cycling\n",
      "\n",
      "Diving, Equestrianism, Fencing, Figure Skating, Football\n",
      "\n",
      "Freestyle Skiing, Golf, Gymnastics, Handball, Hockey\n",
      "\n",
      "Ice Hockey, Jeu De Paume, Judo, Lacrosse, Luge\n",
      "\n",
      "Military Ski Patrol, Modern Pentathlon, Motorboating, Nordic Combined, Polo\n",
      "\n",
      "Racquets, Rhythmic Gymnastics, Roque, Rowing, Rugby\n",
      "\n",
      "Rugby Sevens, Sailing, Shooting, Short Track Speed Skating, Skeleton\n",
      "\n",
      "Ski Jumping, Snowboarding, Softball, Speed Skating, Swimming\n",
      "\n",
      "Synchronized Swimming, Table Tennis, Taekwondo, Tennis, Trampolining\n",
      "\n",
      "Triathlon, Tug-Of-War, Volleyball, Water Polo, Weightlifting\n",
      "\n",
      "Wrestling\n",
      "\n"
     ]
    }
   ],
   "source": [
    "from FetchOSData import OsDataFetcher\n",
    "import pandas as pd\n",
    "\n",
    "os_data = OsDataFetcher(\"../Projekt-OS/Data/athlete_events.csv\")\n",
    "\n",
    "sports_list = data_fetcher(os_data.data, \"Sport\")\n",
    "sports_list.sort()\n",
    "for i in range(0, len(sports_list), 5):\n",
    "    print(f\"{', ' .join(sports_list[i: i+5])}\\n\")\n"
   ]
  },
  {
   "cell_type": "code",
   "execution_count": null,
   "metadata": {},
   "outputs": [
    {
     "name": "stdout",
     "output_type": "stream",
     "text": [
      "Sex\n",
      "M    5748\n",
      "F    3385\n",
      "Name: count, dtype: int64\n"
     ]
    }
   ],
   "source": [
    "ita_df = os_data.os_filtered_dataframe(\"Sport\", \"Cross Country Skiing\") # Swimming, Alpine Skiing, Rowing, Cross Country Skiing\n",
    "\n",
    "print(ita_df[\"Sex\"].value_counts())"
   ]
  },
  {
   "cell_type": "code",
   "execution_count": 49,
   "metadata": {},
   "outputs": [
    {
     "name": "stdout",
     "output_type": "stream",
     "text": [
      "Medal\n",
      "Gold      575\n",
      "Bronze    531\n",
      "Silver    531\n",
      "Name: count, dtype: int64\n"
     ]
    }
   ],
   "source": [
    "ita_df = os_data.os_filtered_dataframe(\"NOC\", \"ITA\")\n",
    "\n",
    "print(ita_df[\"Medal\"].value_counts())\n",
    "\n"
   ]
  }
 ],
 "metadata": {
  "kernelspec": {
   "display_name": ".venv",
   "language": "python",
   "name": "python3"
  },
  "language_info": {
   "codemirror_mode": {
    "name": "ipython",
    "version": 3
   },
   "file_extension": ".py",
   "mimetype": "text/x-python",
   "name": "python",
   "nbconvert_exporter": "python",
   "pygments_lexer": "ipython3",
   "version": "3.12.5"
  }
 },
 "nbformat": 4,
 "nbformat_minor": 2
}
