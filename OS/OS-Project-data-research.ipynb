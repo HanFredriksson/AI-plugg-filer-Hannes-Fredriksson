{
 "cells": [
  {
   "cell_type": "code",
   "execution_count": 99,
   "metadata": {},
   "outputs": [
    {
     "data": {
      "text/plain": [
       "Index(['ID', 'Hash values', 'Sex', 'Age', 'Height', 'Weight', 'Team', 'NOC',\n",
       "       'Games', 'Year', 'Season', 'City', 'Sport', 'Event', 'Medal'],\n",
       "      dtype='object')"
      ]
     },
     "execution_count": 99,
     "metadata": {},
     "output_type": "execute_result"
    }
   ],
   "source": [
    "from FetchOSData import OsDataFetcher\n",
    "import pandas as pd\n",
    "import plotly_express as px \n",
    "os_data = OsDataFetcher(\"../Projekt-OS/Data/athlete_events.csv\", \"Name\")\n",
    "os_data.data.columns"
   ]
  },
  {
   "cell_type": "code",
   "execution_count": 100,
   "metadata": {},
   "outputs": [
    {
     "data": {
      "text/plain": [
       "Medal\n",
       "Bronze    27\n",
       "Gold      21\n",
       "Silver     8\n",
       "Name: count, dtype: int64"
      ]
     },
     "execution_count": 100,
     "metadata": {},
     "output_type": "execute_result"
    }
   ],
   "source": [
    "swimming = os_data.os_filtered_dataframe(\"NOC\", \"ITA\")\n",
    "\n",
    "swimming.set_index(\"Year\", inplace=True)\n",
    "\n",
    "swimming = swimming.loc[1906].sort_values(\"Medal\")\n",
    "\n",
    "swimming = swimming[swimming['Medal'].notna()]\n",
    "swimming.value_counts(\"Medal\")"
   ]
  },
  {
   "cell_type": "code",
   "execution_count": 101,
   "metadata": {},
   "outputs": [
    {
     "data": {
      "text/plain": [
       "Index(['ID', 'Hash values', 'Sex', 'Age', 'Height', 'Weight', 'Team', 'NOC',\n",
       "       'Games', 'Year', 'Season', 'City', 'Sport', 'Event', 'Medal'],\n",
       "      dtype='object')"
      ]
     },
     "execution_count": 101,
     "metadata": {},
     "output_type": "execute_result"
    }
   ],
   "source": [
    "sports = [\"Swimming\", \"Alpine Skiing\", \"Rowing\", \"Cross Country Skiing\"]\n",
    "sex = {\"Female\": \"F\", \"Male\": \"M\"}\n",
    "medals = [\"Gold\", \"Silver\", \"Bronze\"]\n",
    "dff = os_data.os_filtered_dataframe(\"Sport\", \"Swimming\")\n",
    "\n",
    "\n",
    "titels = {\"Female\": \"F\", \"Male\": \"M\", \"Gold\":\"Gold\", \"Silver\":\"Silver\", \"Bronze\": \"Bronze\", \n",
    "           \"Swimming\": \"Swimming\", \"Alpine Skiing\": \"Alpine Skiing\", \"Rowing\": \"Rowing\", \n",
    "           \"Cross Country Skiing\": \"Cross Country Skiing\"}\n",
    "dff.columns"
   ]
  },
  {
   "cell_type": "code",
   "execution_count": 102,
   "metadata": {},
   "outputs": [],
   "source": [
    "# medal_counter\n",
    "madal_count = dff.groupby(\"Age\")[\"Medal\"].count().reset_index()\n",
    "madal_count.columns = [\"Age\", \"Medal Count\"]\n",
    "\n",
    "\n"
   ]
  },
  {
   "cell_type": "code",
   "execution_count": 103,
   "metadata": {},
   "outputs": [],
   "source": [
    "def medal_counter(pick, filter, count_in):\n",
    "    \"\"\"Show how the medals spread over the ages in the sport\n",
    "\n",
    "    param pick: are sport or country\n",
    "    param filter: Wich sport or country\n",
    "    param count_in: For wich columne to count medals\n",
    "    \"\"\"\n",
    "    dff = os_data.os_filtered_dataframe(pick, filter)\n",
    "    madal_count = dff.groupby(count_in)[\"Medal\"].count().reset_index()\n",
    "    madal_count.columns = [count_in, \"Medal Count\"]\n",
    "    \n",
    "    pass"
   ]
  },
  {
   "cell_type": "code",
   "execution_count": 122,
   "metadata": {},
   "outputs": [],
   "source": [
    "#def avreges_for():\n",
    "import numpy as np\n",
    "dff = os_data.os_filtered_dataframe(\"Sport\", \"Swimming\")\n",
    "gold_medal = dff[dff[\"Medal\"] == \"Gold\"].groupby([\"Year\", \"Sex\"]).size()\n",
    "silver_medal = dff[dff[\"Medal\"] == \"Silver\"].groupby([\"Year\", \"Sex\"]).size()\n",
    "bronze_medal = dff[dff[\"Medal\"] == \"Bronze\"].groupby([\"Year\", \"Sex\"]).size()\n",
    "\n",
    "\n",
    "medal_count = pd.DataFrame({\"Sport\":\"Swimming\",\n",
    "                            \"Gold\": gold_medal,\n",
    "                            \"Silver\": silver_medal,\n",
    "                            \"Bronze\": bronze_medal,\n",
    "                            \"Total\": gold_medal + silver_medal + bronze_medal\n",
    "                            }).fillna(0).reset_index()\n",
    "medal_count[[\"Gold\", \"Silver\", \"Bronze\", \"Total\"]]  = medal_count[[\"Gold\", \"Silver\", \"Bronze\", \"Total\"]].astype(np.int64)\n",
    "\n",
    "\n",
    "\n",
    "# def show_graf(data, cat, graf):\n",
    "#     if graf == \"bar\":\n",
    "#         fig = px.bar(data, x=data.index, y= cat, barmode= \"stack\")\n",
    "#     if graf == \"line\":    \n",
    "#         fig = px.line(data, x=data.index, y= cat)\n",
    "#     if graf == \"histo\":\n",
    "#         fig = px.histogram(data, x=data.index, y= cat, nbins = 14)\n",
    "#     return fig\n",
    "# show_graf(medal_count, medals, \"bar\")"
   ]
  },
  {
   "cell_type": "code",
   "execution_count": 123,
   "metadata": {},
   "outputs": [
    {
     "data": {
      "text/html": [
       "<div>\n",
       "<style scoped>\n",
       "    .dataframe tbody tr th:only-of-type {\n",
       "        vertical-align: middle;\n",
       "    }\n",
       "\n",
       "    .dataframe tbody tr th {\n",
       "        vertical-align: top;\n",
       "    }\n",
       "\n",
       "    .dataframe thead th {\n",
       "        text-align: right;\n",
       "    }\n",
       "</style>\n",
       "<table border=\"1\" class=\"dataframe\">\n",
       "  <thead>\n",
       "    <tr style=\"text-align: right;\">\n",
       "      <th></th>\n",
       "      <th>Sex</th>\n",
       "      <th>Average Medals</th>\n",
       "    </tr>\n",
       "  </thead>\n",
       "  <tbody>\n",
       "    <tr>\n",
       "      <th>0</th>\n",
       "      <td>F</td>\n",
       "      <td>64.0</td>\n",
       "    </tr>\n",
       "    <tr>\n",
       "      <th>1</th>\n",
       "      <td>M</td>\n",
       "      <td>55.0</td>\n",
       "    </tr>\n",
       "  </tbody>\n",
       "</table>\n",
       "</div>"
      ],
      "text/plain": [
       "  Sex  Average Medals\n",
       "0   F            64.0\n",
       "1   M            55.0"
      ]
     },
     "execution_count": 123,
     "metadata": {},
     "output_type": "execute_result"
    }
   ],
   "source": [
    "# def avreges ():\n",
    "medal_count\n",
    "\n",
    "\n",
    "avg_medals = (\n",
    "        medal_count.groupby(\"Sex\")[\"Total\"].median()\n",
    "        .reset_index()\n",
    "        .rename(columns={\"Total\": \"Average Medals\"})\n",
    "    )\n",
    "avg_medals\n"
   ]
  },
  {
   "cell_type": "code",
   "execution_count": 124,
   "metadata": {},
   "outputs": [
    {
     "data": {
      "text/html": [
       "<div>\n",
       "<style scoped>\n",
       "    .dataframe tbody tr th:only-of-type {\n",
       "        vertical-align: middle;\n",
       "    }\n",
       "\n",
       "    .dataframe tbody tr th {\n",
       "        vertical-align: top;\n",
       "    }\n",
       "\n",
       "    .dataframe thead th {\n",
       "        text-align: right;\n",
       "    }\n",
       "</style>\n",
       "<table border=\"1\" class=\"dataframe\">\n",
       "  <thead>\n",
       "    <tr style=\"text-align: right;\">\n",
       "      <th></th>\n",
       "      <th>Sex</th>\n",
       "      <th>Average Medals</th>\n",
       "    </tr>\n",
       "  </thead>\n",
       "  <tbody>\n",
       "    <tr>\n",
       "      <th>0</th>\n",
       "      <td>F</td>\n",
       "      <td>65.0</td>\n",
       "    </tr>\n",
       "    <tr>\n",
       "      <th>1</th>\n",
       "      <td>M</td>\n",
       "      <td>68.0</td>\n",
       "    </tr>\n",
       "  </tbody>\n",
       "</table>\n",
       "</div>"
      ],
      "text/plain": [
       "  Sex  Average Medals\n",
       "0   F            65.0\n",
       "1   M            68.0"
      ]
     },
     "execution_count": 124,
     "metadata": {},
     "output_type": "execute_result"
    }
   ],
   "source": [
    "# def avreges ():\n",
    "medal_count.drop([0, 1, 2, 3, 4, 5], inplace=True)\n",
    "\n",
    "\n",
    "avg_medals = (\n",
    "        medal_count.groupby(\"Sex\")[\"Total\"].median()\n",
    "        .reset_index()\n",
    "        .rename(columns={\"Total\": \"Average Medals\"})\n",
    "    )\n",
    "avg_medals\n"
   ]
  }
 ],
 "metadata": {
  "kernelspec": {
   "display_name": ".venv",
   "language": "python",
   "name": "python3"
  },
  "language_info": {
   "codemirror_mode": {
    "name": "ipython",
    "version": 3
   },
   "file_extension": ".py",
   "mimetype": "text/x-python",
   "name": "python",
   "nbconvert_exporter": "python",
   "pygments_lexer": "ipython3",
   "version": "3.12.5"
  }
 },
 "nbformat": 4,
 "nbformat_minor": 2
}
