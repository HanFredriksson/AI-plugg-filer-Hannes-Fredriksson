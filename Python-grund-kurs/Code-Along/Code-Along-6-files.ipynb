{
 "cells": [
  {
   "cell_type": "markdown",
   "metadata": {},
   "source": [
    "### Lektion i Files"
   ]
  },
  {
   "cell_type": "markdown",
   "metadata": {},
   "source": [
    "with open( path, options) as file_name"
   ]
  },
  {
   "cell_type": "code",
   "execution_count": null,
   "metadata": {},
   "outputs": [],
   "source": [
    "path = \"Data/qoutes.txt\"\n",
    "\n",
    "with open(path, \"r\") as f:\n",
    "    text = f.read() #reads whole file\n",
    "\n",
    "print(repr(text))\n",
    "\n"
   ]
  },
  {
   "cell_type": "markdown",
   "metadata": {},
   "source": [
    "***Parching***"
   ]
  },
  {
   "cell_type": "code",
   "execution_count": null,
   "metadata": {},
   "outputs": [],
   "source": [
    "import re \n",
    "\n",
    "qoutes, i =[], 1\n",
    "\n",
    "with open(path, \"r\") as f_read, open(\"../Data/qoutes_cleaned.txt\") as f_write:\n",
    "    f_write.write(\"Famous quotes\\n\\n\")\n",
    "    for qoute in f_read:\n",
    "        qoute = qoute.strip(\" \\n\")\n",
    "        qoute = re.sub(r\" +\", \" \", qoute) #substitute >1 whitespace with one whitespace\n",
    "        if qoute != \"\":\n",
    "            f_write.write(f\"{i}, {qoute}\")\n",
    "            i += 1 \n",
    "print(quote)"
   ]
  },
  {
   "cell_type": "code",
   "execution_count": null,
   "metadata": {},
   "outputs": [],
   "source": [
    "with open(\"../Data/qoutes_cleaned.txt\", \"r\") as f_read, open(\"../Data/qoutes_cleaned.txt\", \"a\") as f_append:\n",
    "    qoutes = [quote.strip(\"\\n\") for quote in f_read.reaslines() if qoute[o].isdigit]\n",
    "    authors = [quote.split()[-2:] for quote in qoutes]\n",
    "    authors = set([\" \".join(author) for author in authors])\n",
    "\n",
    "    f_append.write(\"\\nAuthors: \")\n",
    "    for author in authors:\n",
    "        f_append.write(f\"{author}\")"
   ]
  }
 ],
 "metadata": {
  "kernelspec": {
   "display_name": ".venv",
   "language": "python",
   "name": "python3"
  },
  "language_info": {
   "name": "python",
   "version": "3.12.5"
  }
 },
 "nbformat": 4,
 "nbformat_minor": 2
}
