{
 "cells": [
  {
   "cell_type": "markdown",
   "metadata": {},
   "source": [
    "### Svar på uppgifter från Exercises 05 - Strings"
   ]
  },
  {
   "cell_type": "markdown",
   "metadata": {},
   "source": [
    "***Uppgirft 1 - Counting letters***"
   ]
  },
  {
   "cell_type": "code",
   "execution_count": 2,
   "metadata": {},
   "outputs": [
    {
     "name": "stdout",
     "output_type": "stream",
     "text": [
      "12\n"
     ]
    }
   ],
   "source": [
    "#A\n",
    "words = input(\"Skriv ett ord så räknar vi ut antalet bokstäver och vilka som är små repektive stora: \")\n",
    "print(f\"Antelet bokstäver: {len(words)}\")\n",
    "\n",
    "#B\n",
    "print(f\"Antelet stora bokstäver: \", sum(1 for l in words if l.isupper()))\n",
    "print(f\"Antelet små bokstäver: \", sum(1 for l in words if l.islower()))\n"
   ]
  },
  {
   "cell_type": "markdown",
   "metadata": {},
   "source": [
    "***Uppgift 2 Cunt Words***"
   ]
  },
  {
   "cell_type": "code",
   "execution_count": 22,
   "metadata": {},
   "outputs": [
    {
     "name": "stdout",
     "output_type": "stream",
     "text": [
      "Antelet ord i meningen: 17 \n"
     ]
    }
   ],
   "source": [
    "sentence = (\"A picture says more than a thousand words, a matematical formula says more than a thousand pictures.\")\n",
    "print(f\"Antelet ord i meningen: {len(sentence.split())} \")\n"
   ]
  },
  {
   "cell_type": "markdown",
   "metadata": {},
   "source": [
    "***Uppgift 3 Palindrom***"
   ]
  },
  {
   "cell_type": "code",
   "execution_count": 35,
   "metadata": {},
   "outputs": [
    {
     "name": "stdout",
     "output_type": "stream",
     "text": [
      "Ni talar bra latin är ett palindrom.\n"
     ]
    }
   ],
   "source": [
    "words = input(\"Kolla om meningen eller ordet är ett palindrom: \")\n",
    "\n",
    "no_blanks_words = words.replace(\" \", \"\")\n",
    "\n",
    "if no_blanks_words.lower() == no_blanks_words.lower()[::-1]:\n",
    "    print(f\"{words} är ett palindrom.\")\n",
    "\n",
    "else:\n",
    "    print(f\"{words} är inte ett palindrom\")"
   ]
  },
  {
   "cell_type": "markdown",
   "metadata": {},
   "source": [
    "***Uppgift 4 Vowels***"
   ]
  },
  {
   "cell_type": "code",
   "execution_count": 48,
   "metadata": {},
   "outputs": [
    {
     "name": "stdout",
     "output_type": "stream",
     "text": [
      "Abtalet vokaler i en mening är:  20\n"
     ]
    }
   ],
   "source": [
    "vowels = [\"a\", \"e\", \"i\", \"o\", \"u\"]\n",
    "sentence = (\"Pure mathematics is, in its way, the poetry of logical ideas\")\n",
    "\n",
    "print(\"Abtalet vokaler i en mening är: \", sum([1 for l in sentence if l in vowels]))"
   ]
  },
  {
   "cell_type": "markdown",
   "metadata": {},
   "source": [
    "***Uppgift 5 - Encryption***"
   ]
  },
  {
   "cell_type": "code",
   "execution_count": 6,
   "metadata": {},
   "outputs": [
    {
     "name": "stdout",
     "output_type": "stream",
     "text": [
      "Encryption or decryption\n",
      "-------------------------\n",
      "l\n",
      "c\n"
     ]
    }
   ],
   "source": [
    "alphabet = ['a', 'b', 'c', 'd', 'e', 'f', 'g', 'h', 'i', 'j', 'k', 'l', 'm', \n",
    " 'n', 'o', 'p', 'q', 'r', 's', 't', 'u', 'v', 'w', 'x', 'y', 'z', \n",
    " 'å', 'ä', 'ö']\n",
    "\n",
    "#A\n",
    "def encrypter(message):\n",
    "    encrypted_message = (\"\")\n",
    "\n",
    "    for l in message.lower():\n",
    "        if l == \" \":\n",
    "                encrypted_message += \" \"\n",
    "        for alpha_l in alphabet:\n",
    "            if l == alphabet[28]:\n",
    "                encrypted_message += alphabet[0]\n",
    "                break\n",
    "\n",
    "            elif l == alpha_l:\n",
    "                replcement = alphabet.index(alpha_l) + 1\n",
    "                encrypted_message += alphabet[replcement]\n",
    "            \n",
    "\n",
    "    return encrypted_message\n",
    "\n",
    "#B\n",
    "def decrypter(message):\n",
    "    decrypted_message = (\"\")\n",
    "        \n",
    "    for l in message.lower():\n",
    "        if l == \" \":\n",
    "                decrypted_message += \" \"\n",
    "        for alpha_l in alphabet:\n",
    "            if l == alphabet[0]:\n",
    "                decrypted_message += alphabet[28]\n",
    "                break\n",
    "\n",
    "            elif l == alpha_l:\n",
    "                replcement = alphabet.index(alpha_l) - 1\n",
    "                decrypted_message += alphabet[replcement]\n",
    "\n",
    "    return decrypted_message\n",
    "\n",
    "#C\n",
    "\n",
    "print(\"Encryption or decryption\\n-------------------------\")\n",
    "\n",
    "while True:\n",
    "    pick = input(\"Tryck \\\"k\\\" för kryptering eller \\\"d\\\" för dekryptering: \")\n",
    "     \n",
    "    if pick == \"k\":\n",
    "          message = input(\"\\nVad för meddelande vill du kryptera: \")\n",
    "          print(encrypter(message))\n",
    "          break\n",
    "\n",
    "    elif pick == \"d\":\n",
    "          message = input(\"\\nVad för meddelande vill du dekryptera: \")\n",
    "          print(decrypter(message))\n",
    "          break\n",
    "    \n",
    "\n",
    "\n"
   ]
  },
  {
   "cell_type": "markdown",
   "metadata": {},
   "source": []
  }
 ],
 "metadata": {
  "kernelspec": {
   "display_name": ".venv",
   "language": "python",
   "name": "python3"
  },
  "language_info": {
   "codemirror_mode": {
    "name": "ipython",
    "version": 3
   },
   "file_extension": ".py",
   "mimetype": "text/x-python",
   "name": "python",
   "nbconvert_exporter": "python",
   "pygments_lexer": "ipython3",
   "version": "3.12.5"
  }
 },
 "nbformat": 4,
 "nbformat_minor": 2
}
