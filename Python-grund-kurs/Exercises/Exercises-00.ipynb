{
 "cells": [
  {
   "cell_type": "markdown",
   "metadata": {},
   "source": [
    "#Svar på uppgrifter i \"Exercises-00\""
   ]
  },
  {
   "cell_type": "markdown",
   "metadata": {},
   "source": [
    "***Uppgift 1 Pythagorean theorem***"
   ]
  },
  {
   "cell_type": "code",
   "execution_count": 5,
   "metadata": {},
   "outputs": [
    {
     "name": "stdout",
     "output_type": "stream",
     "text": [
      "\n",
      "Hypotenusan i triangeln 3 och 4. Är: 5.0\n",
      "\n",
      "Kateten är: 4.9\n",
      "\n"
     ]
    }
   ],
   "source": [
    "import numpy as np\n",
    "# A\n",
    "a = 3\n",
    "b = 4\n",
    "hypothenuse = np.sqrt(a**2+b**2)\n",
    "\n",
    "print (f\"\\nHypotenusan i triangeln {a} och {b}. Är: {hypothenuse}\\n\")\n",
    "\n",
    "# B\n",
    "\n",
    "a = 5\n",
    "c = 7\n",
    "cathetus = np.sqrt(c**2-a**2)\n",
    "\n",
    "print (f\"Kateten är: {cathetus:.1f}\\n\")\n",
    "\n"
   ]
  },
  {
   "cell_type": "markdown",
   "metadata": {},
   "source": [
    "***Uppgift 2 Classification accuracy***"
   ]
  },
  {
   "cell_type": "code",
   "execution_count": 7,
   "metadata": {},
   "outputs": [
    {
     "name": "stdout",
     "output_type": "stream",
     "text": [
      "Träffsäkerheten i denna algoritm är: 82%\n",
      "\n"
     ]
    }
   ],
   "source": [
    "days = 365\n",
    "correct_predictions = 300\n",
    "\n",
    "accuracy = correct_predictions / days * 100\n",
    "print (f\"Träffsäkerheten i denna algoritm är: {round(accuracy)}%\\n\")"
   ]
  },
  {
   "cell_type": "markdown",
   "metadata": {},
   "source": [
    "***Uppgift 3 Classification accuracy***"
   ]
  },
  {
   "cell_type": "code",
   "execution_count": 8,
   "metadata": {},
   "outputs": [
    {
     "name": "stdout",
     "output_type": "stream",
     "text": [
      "Träffsäkerheten är för denna model är: 0.987\n",
      "\n"
     ]
    }
   ],
   "source": [
    "tp = 2\n",
    "fp = 2\n",
    "fn = 11\n",
    "tn = 985\n",
    "\n",
    "correct = (tp + tn) / (tp + fp + fn + tn)\n",
    "print (f\"Träffsäkerheten är för denna model är: {correct}\\n\")"
   ]
  },
  {
   "cell_type": "markdown",
   "metadata": {},
   "source": [
    "Nej, detta är ingen bra modell för att förutse träffsäkerheten. Säger inget hur den bra den faktisk är att identifiera att det brinner eller inte. För fallen för när det inte brinner och inte larmar är övervägade bias. Detta visar bästa bara att hur bra den är på att inte larma  när det inte brinner.  "
   ]
  },
  {
   "cell_type": "markdown",
   "metadata": {},
   "source": [
    "***Uppgift 4 Line***"
   ]
  },
  {
   "cell_type": "code",
   "execution_count": 11,
   "metadata": {},
   "outputs": [
    {
     "name": "stdout",
     "output_type": "stream",
     "text": [
      "Lutning på linjen är: k = 0.75 och den skär y-axeln: m = 1\n",
      "Linjens eqution är: y = 0.75*x + 1\n",
      "\n"
     ]
    }
   ],
   "source": [
    "a = (4, 4)\n",
    "b = (0, 1)\n",
    "\n",
    "k = (a[1] - b[1]) / (a[0]-b[0])\n",
    "\n",
    "m = int(a[1] - k*a[0])\n",
    "print (f\"Lutning på linjen är: k = {k} och den skär y-axeln: m = {m}\")\n",
    "print (f\"Linjens eqution är: y = {k}*x + {m}\\n\")\n",
    "\n"
   ]
  },
  {
   "cell_type": "markdown",
   "metadata": {},
   "source": [
    "***Uppgift 5 Euclidean distance***"
   ]
  },
  {
   "cell_type": "code",
   "execution_count": 16,
   "metadata": {},
   "outputs": [
    {
     "name": "stdout",
     "output_type": "stream",
     "text": [
      "Längden mellan dom två punkterna är: 5.1 längdenheter\n",
      "\n"
     ]
    }
   ],
   "source": [
    "point_a = [3, 5]\n",
    "point_b = [-2, 4]\n",
    "\n",
    "a = point_a[0] - point_b[0]\n",
    "b = point_a[1] - point_b[1]\n",
    "\n",
    "length_between = np.sqrt(a**2+b**2)\n",
    "print (f\"Längden mellan dom två punkterna är: {length_between:.1f} längdenheter\\n\")\n"
   ]
  },
  {
   "cell_type": "markdown",
   "metadata": {},
   "source": [
    "***Uppgift 6 Euclidean distance***"
   ]
  },
  {
   "cell_type": "code",
   "execution_count": 18,
   "metadata": {},
   "outputs": [
    {
     "name": "stdout",
     "output_type": "stream",
     "text": [
      "Längden mellan punkterna är: 4.12 längdenheter\n",
      "\n"
     ]
    }
   ],
   "source": [
    "point_a = [2, 1, 4]\n",
    "point_b = [3, 1, 0]\n",
    "\n",
    "length_between = np.sqrt(np.power((point_a[0] - point_b[0]), 2) + np.power((point_a[1] - point_b[1]), 2) + np.power((point_a[2] - point_b[2]),2))\n",
    "\n",
    "print (f\"Längden mellan punkterna är: {length_between:.2f} längdenheter\\n\")\n"
   ]
  }
 ],
 "metadata": {
  "kernelspec": {
   "display_name": "Python 3",
   "language": "python",
   "name": "python3"
  },
  "language_info": {
   "codemirror_mode": {
    "name": "ipython",
    "version": 3
   },
   "file_extension": ".py",
   "mimetype": "text/x-python",
   "name": "python",
   "nbconvert_exporter": "python",
   "pygments_lexer": "ipython3",
   "version": "3.12.5"
  }
 },
 "nbformat": 4,
 "nbformat_minor": 2
}
