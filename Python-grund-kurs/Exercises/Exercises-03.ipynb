{
 "cells": [
  {
   "cell_type": "markdown",
   "metadata": {},
   "source": [
    "## Svar på uppgifter till Excercises-03"
   ]
  },
  {
   "cell_type": "markdown",
   "metadata": {},
   "source": [
    "***Uppgift 1 count numbers***"
   ]
  },
  {
   "cell_type": "code",
   "execution_count": 15,
   "metadata": {},
   "outputs": [
    {
     "name": "stdout",
     "output_type": "stream",
     "text": [
      "A: -10 -9 -8 -7 -6 -5 -4 -3 -2 -1 0 1 2 3 4 5 6 7 8 9 10 ----- B: -10 -8 -6 -4 -2 0 2 4 6 8 10 "
     ]
    }
   ],
   "source": [
    "print(\"A:\", end=\" \")\n",
    "for nr in range(-10, 11):\n",
    "    print(f\"{nr}\", end=\" \")\n",
    "\n",
    "print(\"----- B:\", end=\" \")\n",
    "for nr in range(-10, 11, 2):\n",
    "    print(f\"{nr}\", end=\" \")"
   ]
  },
  {
   "cell_type": "markdown",
   "metadata": {},
   "source": [
    "***Uppgift 2 Arithmatic sum***"
   ]
  },
  {
   "cell_type": "code",
   "execution_count": 28,
   "metadata": {},
   "outputs": [
    {
     "name": "stdout",
     "output_type": "stream",
     "text": [
      "Summan av intervallet 1-100 är: 5050\n"
     ]
    }
   ],
   "source": [
    "#A\n",
    "numbers = 0\n",
    "for nr in range(1, 101):\n",
    "    numbers += nr\n",
    "\n",
    "print (f\"Summan av intervallet 1-100 är: {numbers}\")"
   ]
  },
  {
   "cell_type": "code",
   "execution_count": 29,
   "metadata": {},
   "outputs": [
    {
     "name": "stdout",
     "output_type": "stream",
     "text": [
      "Summan av intervallet 1-100 är: 2500\n"
     ]
    }
   ],
   "source": [
    "#B\n",
    "numbers = 0\n",
    "for nr in range(1, 101, 2):\n",
    "    numbers += nr\n",
    "\n",
    "print (f\"Summan av intervallet 1-100 är: {numbers}\")"
   ]
  },
  {
   "cell_type": "markdown",
   "metadata": {},
   "source": [
    "***Uppgift 3 Multiplication***"
   ]
  },
  {
   "cell_type": "code",
   "execution_count": 32,
   "metadata": {},
   "outputs": [
    {
     "name": "stdout",
     "output_type": "stream",
     "text": [
      "0 6 12 18 24 30 36 42 48 54 60 "
     ]
    }
   ],
   "source": [
    "#A\n",
    "multiplication = 6\n",
    "for nr in range(0, 11):\n",
    "    product = nr * multiplication  \n",
    "    print(product, end = \" \")"
   ]
  },
  {
   "cell_type": "code",
   "execution_count": 37,
   "metadata": {},
   "outputs": [
    {
     "name": "stdout",
     "output_type": "stream",
     "text": [
      "4 gånger intervallet: 2 till 8 är: 8 12 16 20 24 28 "
     ]
    }
   ],
   "source": [
    "#B\n",
    "start = int(input(\"Början på intevallen du vill multiplicera: \"))\n",
    "stop = int(input(\"Sluetet på intevallen du vill multiplicera: \")) \n",
    "multiplication = int(input(\"Vad du vill med multiplicera: \"))\n",
    "print(f\"{multiplication} gånger intervallet: {start} till {stop} är:\", end= \" \")\n",
    "\n",
    "for nr in range(start, stop):\n",
    "    product = nr * multiplication  \n",
    "    print(product, end = \" \")"
   ]
  },
  {
   "cell_type": "code",
   "execution_count": 43,
   "metadata": {},
   "outputs": [
    {
     "name": "stdout",
     "output_type": "stream",
     "text": [
      "\n",
      "\n",
      "0 0 0 0 0 0 0 0 0 0 0 \n",
      "\n",
      "0 1 2 3 4 5 6 7 8 9 10 \n",
      "\n",
      "0 2 4 6 8 10 12 14 16 18 20 \n",
      "\n",
      "0 3 6 9 12 15 18 21 24 27 30 \n",
      "\n",
      "0 4 8 12 16 20 24 28 32 36 40 \n",
      "\n",
      "0 5 10 15 20 25 30 35 40 45 50 \n",
      "\n",
      "0 6 12 18 24 30 36 42 48 54 60 \n",
      "\n",
      "0 7 14 21 28 35 42 49 56 63 70 \n",
      "\n",
      "0 8 16 24 32 40 48 56 64 72 80 \n",
      "\n",
      "0 9 18 27 36 45 54 63 72 81 90 \n",
      "\n",
      "0 10 20 30 40 50 60 70 80 90 100 "
     ]
    }
   ],
   "source": [
    "#C\n",
    "for multiplication in range(0, 11):\n",
    "    print(\"\\n\")\n",
    "    for nr in range(0, 11):\n",
    "        product = multiplication * nr\n",
    "        print(product, end = \" \")"
   ]
  },
  {
   "cell_type": "markdown",
   "metadata": {},
   "source": [
    "***Uppgift 4 Faculty***"
   ]
  },
  {
   "cell_type": "code",
   "execution_count": 45,
   "metadata": {},
   "outputs": [
    {
     "name": "stdout",
     "output_type": "stream",
     "text": [
      "6 12 20 30 "
     ]
    }
   ],
   "source": [
    "start = int(input(\"I vilket intervall vill starta: \"))\n",
    "stop = int(input(\"I vilket intervall vill sluta: \"))\n",
    "\n",
    "for n in range(start, stop):\n",
    "    faculty = (n-1)*n\n",
    "    print(f\"{faculty}\", end= \" \")"
   ]
  },
  {
   "cell_type": "markdown",
   "metadata": {},
   "source": [
    "***Uppgift 5 Guess the number***"
   ]
  },
  {
   "cell_type": "code",
   "execution_count": 64,
   "metadata": {},
   "outputs": [
    {
     "name": "stdout",
     "output_type": "stream",
     "text": [
      "8055 and 8055\n"
     ]
    }
   ],
   "source": [
    "import random as rnd\n",
    "\n",
    "random_number = rnd.randint(1000, 10000)\n",
    "high = 10000\n",
    "low = 1000\n",
    "for guess in range(high):\n",
    "    if guess == random_number:\n",
    "        break\n",
    "    if guess > random_number:\n",
    "        high = guess\n",
    "    for guess in range(low):\n",
    "        if guess < random_number:\n",
    "            low = guess + 1\n",
    "        guess = (high + low) // 2\n",
    "\n",
    "print(f\"{guess} and {random_number}\")"
   ]
  },
  {
   "cell_type": "markdown",
   "metadata": {},
   "source": [
    "***Uppgift 6 Rice on Chessboard***"
   ]
  },
  {
   "cell_type": "code",
   "execution_count": 79,
   "metadata": {},
   "outputs": [
    {
     "name": "stdout",
     "output_type": "stream",
     "text": [
      "18446744073709551616 numbers of rice grains\n"
     ]
    }
   ],
   "source": [
    "nr_rice = 1\n",
    "for squars in range(1, 9):\n",
    "    for rice in range(1, 9):\n",
    "        nr_rice *= 2 \n",
    "\n",
    "print(f\"{nr_rice} numbers of rice grains\")\n",
    "\n"
   ]
  }
 ],
 "metadata": {
  "kernelspec": {
   "display_name": "Python 3",
   "language": "python",
   "name": "python3"
  },
  "language_info": {
   "codemirror_mode": {
    "name": "ipython",
    "version": 3
   },
   "file_extension": ".py",
   "mimetype": "text/x-python",
   "name": "python",
   "nbconvert_exporter": "python",
   "pygments_lexer": "ipython3",
   "version": "3.12.5"
  }
 },
 "nbformat": 4,
 "nbformat_minor": 2
}
