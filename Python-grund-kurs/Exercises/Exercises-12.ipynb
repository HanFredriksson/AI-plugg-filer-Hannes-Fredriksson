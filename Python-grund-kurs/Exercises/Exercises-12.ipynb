{
 "cells": [
  {
   "cell_type": "markdown",
   "metadata": {},
   "source": [
    "### Svar Exercises OOP Inheritence"
   ]
  },
  {
   "cell_type": "markdown",
   "metadata": {},
   "source": [
    "***Uppgift 1 - Video***"
   ]
  },
  {
   "cell_type": "code",
   "execution_count": 3,
   "metadata": {},
   "outputs": [
    {
     "name": "stdout",
     "output_type": "stream",
     "text": [
      "Tv Serie with title: Pokemon in gener: Cartoon with a rating of 4.5 and number of 550 episodes\n",
      "\n",
      "Movie with title: Titanic in gener: Romance with a rating of 4.7 and a duration of 194 min\n",
      "\n",
      "Video with title: The Code in gener: Math with a rating of 4 stars\n",
      "\n"
     ]
    }
   ],
   "source": [
    "\n",
    "class Video:\n",
    "    def __init__(self, name, gender, rating):\n",
    "        self.name = name\n",
    "        self.gender = gender\n",
    "        self.rating = rating\n",
    "\n",
    "    def info(self):\n",
    "        return f\"Video with title: {self.name} in gener: {self.gender} with a rating of {self.rating} stars\"\n",
    "    \n",
    "\n",
    "class TvSeries(Video):\n",
    "    def __init__(self, name, gender, rating, episodes):\n",
    "        self.episodes = episodes    \n",
    "        super().__init__(name, gender, rating)\n",
    "\n",
    "    def info(self):\n",
    "        return f\"Tv Serie with title: {self.name} in gener: {self.gender} with a rating of {self.rating} and number of {self.episodes} episodes\"\n",
    "\n",
    "class Movie(Video):\n",
    "    def __init__(self, name, gender, rating, duration):\n",
    "        self.duraton = duration    \n",
    "        super().__init__(name, gender, rating)\n",
    "\n",
    "    def info(self):\n",
    "        return f\"Movie with title: {self.name} in gener: {self.gender} with a rating of {self.rating} and a duration of {self.duraton} min\"\n",
    "\n",
    "\n",
    "class Documentary(Video):\n",
    "    def __init__(self, name, gender, rating):\n",
    "        super().__init__(name, gender, rating)\n",
    "\n",
    "\n",
    "pokemon = TvSeries(\"Pokemon\", \"Cartoon\", 4.5, 550)\n",
    "titanic = Movie(\"Titanic\", \"Romance\", 4.7, 194)\n",
    "code = Documentary(\"The Code\", \"Math\", 4)\n",
    "\n",
    "for video in tuple((pokemon, titanic, code)):\n",
    "    print(f\"{video.info()}\\n\")\n"
   ]
  },
  {
   "cell_type": "markdown",
   "metadata": {},
   "source": [
    "***Uppgift 2 - Fraction***"
   ]
  },
  {
   "cell_type": "code",
   "execution_count": 79,
   "metadata": {},
   "outputs": [
    {
     "name": "stdout",
     "output_type": "stream",
     "text": [
      "False\n"
     ]
    },
    {
     "data": {
      "text/plain": [
       "'- 1/2 - 1/3 = 1/6\\n- 7/6 --> 1 1/6 (mixed)\\n- 3*1/2 = 3/2\\n- 1/2 * 3 = 3/2\\n- 1/4 + 2 = 9/4\\n- 1/4 / 1/2 = 1/2\\n- 2/4 == 1/2 --> True\\n- 3/4 += 2 = 11/4'"
      ]
     },
     "execution_count": 79,
     "metadata": {},
     "output_type": "execute_result"
    }
   ],
   "source": [
    "\n",
    "class Frac:\n",
    "    def __init__(self, nominator, denominator):\n",
    "        self.nominator = nominator\n",
    "        self.denominator = denominator\n",
    "\n",
    "    def __add__(self, other):\n",
    "        new_nominator = self.nominator * other.denominator + self.denominator * other.nominator\n",
    "        new_denominator = self.denominator * other.denominator\n",
    "        \n",
    "        return Frac(new_nominator, new_denominator)\n",
    "    \n",
    "    def __sub__(self, other):\n",
    "        new_nominator = self.nominator * other.denominator - self.denominator * other.nominator\n",
    "        new_denominator = self.denominator * other.denominator\n",
    "        \n",
    "        return Frac(new_nominator, new_denominator)\n",
    "    \n",
    "    def __mul__(self, other):\n",
    "        new_nominator = self.nominator * other.nominator\n",
    "        new_denominator = self.denominator * other.denominator\n",
    "        \n",
    "        return Frac(new_nominator, new_denominator)\n",
    "    \n",
    "    def __div__(self, other):\n",
    "        new_nominator = self.nominator * other.denominator\n",
    "        new_denominator = self.denominator * other.nominator\n",
    "        \n",
    "        return Frac(new_nominator, new_denominator)\n",
    "\n",
    "\n",
    "    def __str__(self):\n",
    "        return f\"{self.nominator}/{self.denominator}\"\n",
    "    \n",
    "    def simplify (self, value = None):\n",
    "        denominator = self.denominator\n",
    "        nominator = self.nominator\n",
    "        while denominator > 0:\n",
    "            value = nominator % denominator\n",
    "            nominator = denominator\n",
    "            denominator = value\n",
    "        comon = nominator\n",
    "        return Frac(self.nominator//comon, self.denominator//comon)\n",
    "    \n",
    "    def mixed(self, whole = 0):\n",
    "        if self.nominator < self.denominator:\n",
    "            return f\"{Frac(self.nominator, self.denominator)} går inte skriva om till blandad from\"\n",
    "\n",
    "        while self.nominator >= self.denominator:\n",
    "           new_nominator = self.nominator - self.denominator\n",
    "           self.nominator = new_nominator\n",
    "           whole += 1\n",
    "        return f\"{whole} {Frac(self.nominator, self.denominator)}\"\n",
    "           \n",
    "    def __eq__(self, other):\n",
    "        first_num = self.nominator * other.denominator\n",
    "        second_num = other.nominator * self.denominator\n",
    "\n",
    "        return first_num == second_num\n",
    "    \n",
    "\n",
    "a = Frac(1,2)\n",
    "b = Frac(1,3)    #= 5/6\n",
    "add = a==b\n",
    "print(add)\n",
    "#add.simplify()\n",
    "\n",
    "\"\"\"- 1/2 - 1/3 = 1/6\n",
    "- 7/6 --> 1 1/6 (mixed)\n",
    "- 3*1/2 = 3/2\n",
    "- 1/2 * 3 = 3/2\n",
    "- 1/4 + 2 = 9/4\n",
    "- 1/4 / 1/2 = 1/2\n",
    "- 2/4 == 1/2 --> True\n",
    "- 3/4 += 2 = 11/4\"\"\"\n"
   ]
  }
 ],
 "metadata": {
  "kernelspec": {
   "display_name": ".venv",
   "language": "python",
   "name": "python3"
  },
  "language_info": {
   "codemirror_mode": {
    "name": "ipython",
    "version": 3
   },
   "file_extension": ".py",
   "mimetype": "text/x-python",
   "name": "python",
   "nbconvert_exporter": "python",
   "pygments_lexer": "ipython3",
   "version": "3.12.5"
  }
 },
 "nbformat": 4,
 "nbformat_minor": 2
}
