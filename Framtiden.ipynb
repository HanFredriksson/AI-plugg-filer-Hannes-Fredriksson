{
 "cells": [
  {
   "cell_type": "markdown",
   "id": "54d18ab3",
   "metadata": {},
   "source": [
    "Framtiden är inte LLMs. utan hur man implemterar AI mer och ger förslag på vad man eftersöker. Spcialcering och hur ska vi få den ge resultatet som vi efterfrågar. \n",
    "\n",
    "Kan vara bra att kolla vidare på det. Är det vad prompt engeneering är? Dycka in i det mer och kolla vad som det inbär med ett RAG system och    "
   ]
  }
 ],
 "metadata": {
  "language_info": {
   "name": "python"
  }
 },
 "nbformat": 4,
 "nbformat_minor": 5
}
