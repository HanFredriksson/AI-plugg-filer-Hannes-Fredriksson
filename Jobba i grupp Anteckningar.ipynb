{
 "cells": [
  {
   "cell_type": "markdown",
   "metadata": {},
   "source": [
    "### Utvecklings metodik ###\n",
    "\n",
    "Vattenfalls metodik\n",
    "- Bra kvalitet \n",
    "- Långsam\n",
    "\n",
    "Kanban \n",
    "Kom från Toyota. Det är board med lappar med i olika grupper för vad som ska utföras i arbetet. Börjar med möte över vad som gjorts och går att minimera dödtid\n",
    "\n",
    "- tids effektivt\n",
    "- lätt att se vad alla gör\n",
    "- Bör finnas en gräns för hur många lappar varje person har. \n",
    "\n",
    "Scrum\n",
    "Det är väldigt fritt hur man jobbar. Ordet kommer från rugby. Är mer roll indelat i hur strukturen är. \n",
    "Vad som ska göras styrs av en backlog. Där kommer teamet med app ägaren fram till vad som ska finnas i appen. Sedan delar man upp uppgifterna och kör en sprint. \n",
    "En sprint är en period av ca 2 veckor som man jobbar på en bestämts set av uppgifter. \n",
    "Man starta arbetsdagen med 15 min check in. Snakar om vad man gjort dagen innan, vad man ska göra under dagen, vad för hinder ser man. \n",
    "Leder inte till något i hur saker gick till innan eller vem som gjorde vad. Utan handlar bara om framåt. \n",
    "När en sprint är klar har men en Retro. Där man snacar mer om tids åtgång för uppgifterna. Så startar man en ny sprint. \n",
    "Tids bestämningen för att göra färdigt olika stora tasks tar tid att förfina träffsäkerheten i tids uppskattningen att göra färdigt en uppgift. \n",
    "- Nackdelan är att det är långa perioder där man inte vet hur mycket tid något tar.\n",
    "- Det krävs stora tillit för alla involverade. \n",
    "- Allt arbete drivs av efterfrågan.\n",
    "- Blir inget jobb för mellan chefer eller manegers. \n",
    "- Det är små lag.\n",
    "- Kan vara svårt att skala upp \n",
    "\n",
    "Agila metodik \n",
    "Istället för att har strikta verktyg, så är det en konversation genom arbete. \n",
    "Ska inte behövas någon documentation, utan man ska fokuser på fungerarnde mjukvara. \n",
    "Kund sammarbete mer än att man har kontrakt. Är inte vanligt att man jobbar så. Det finns inte tillit till kunder. (För att det är kapitalist som spökar och man vill utnytja varandra att käna mer pengar).\n",
    "Viktigt att kunna reagera på förändringar och nya uppgifter. Att följa en plan funkar inte utan, den kommer ändras hela tiden. \n",
    "- Kontroll och insyn från ledning som försvinner här också. \n",
    "\n",
    "Design metodik\n",
    "Alister Cockburn\n",
    "\n",
    "Det stora är att den social sammanhållningen som gör att arbete blir lyckat. Det är det sociala som är viktigast. Man behöver inte så mycket teknisk kunskap utan är mer ett socialt sammarbete. \n",
    "Det handlar om mycket om att inte hamna i föröska hitta ledarroller och vilka man blir beroende av och hur man blir includerad. \n",
    "Viktigt är också att inte ta konflikter personligt. \n",
    "Det är när man börjar får förtroende för varandra och hiekier börjar brytas ner som det blir ett högre presterande team. \n",
    "\n",
    "- En bra grej man titta efter i aglia företag är om dom har återhämtnings veckor mellan sprintar. \n",
    "\n"
   ]
  },
  {
   "cell_type": "markdown",
   "metadata": {},
   "source": [
    "Hur startar man\n",
    "\n",
    "Man börjar med ett skellet program som gör att det finns en grund att utgå ifrån som är det minsta man behöver för att skapa en produkt. \n",
    "Sedan lägger man till egenskaper i produkten. \n",
    "På en stand upp är det bara teamet som man ska prata. Kort och konsist. Inga utan för teamet ska prata utan det ska bara vara dom det berör. "
   ]
  }
 ],
 "metadata": {
  "language_info": {
   "name": "python"
  }
 },
 "nbformat": 4,
 "nbformat_minor": 2
}
