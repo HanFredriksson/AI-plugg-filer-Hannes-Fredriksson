{
 "cells": [
  {
   "cell_type": "markdown",
   "metadata": {},
   "source": [
    "# Tenta anteckningar"
   ]
  },
  {
   "cell_type": "markdown",
   "metadata": {},
   "source": [
    "# Sannolikhet och uppräkning\n",
    "\n",
    "I grunden för statistisk inlärning är sannolikhet och uppräkning.\n",
    "Sannolikhet representeras med ett värde mellan 0 och 1. Kan även ses som ett procent-tal.\n",
    "\n",
    "0 = Händer aldrig.\n",
    "1 = Händer alltid.\n",
    "0.5 = lika sannolikt som osannolikt.\n",
    "\n",
    "Slump:\n",
    "- Klassikt sannolikhet : Osäkerhet\n",
    "- Frekventistisk (relativ frekvens): \n",
    "\n",
    "<!-- (Hyper) moderna uppfattningen, Slumpen = tid. Slumpen är attt storheten antar sina värden, händelser. Detta härleder till kvantfysik och Heiseinberg't osäkerhet. -->\n"
   ]
  },
  {
   "cell_type": "markdown",
   "metadata": {},
   "source": [
    "## Relativ Frekvens\n",
    "\n",
    "$P[A] = \\frac{f}{n} = \\frac{\\texttt {Antalet gånger något vist händer}}{\\texttt{Totala antalet observationer}}$\n",
    "\n",
    "*P* = Probability\n",
    "\n",
    "*P*[A] = $\\frac{f}{n}$ = sannolikhet att A händer\n",
    "\n",
    "*P*[A=3] = $\\frac{3}{10}$ = 0m vi slår tärningen tio gånger och får tre, tre gånger. Detta kallas ett stickprov. \n",
    "\n",
    "*Ex.*\n",
    "Vid en kraftanlägning mäts det att under 80 av de närmsta 100 dagarna, slumpmässigt valda från loggarna så nådde kraftförsörjningen ett maximum mellan kl 18-19. Vad är sannolikheten att max ske mellan kl 18-19 en annandag? \n",
    "\n",
    "$P[A] = \\frac{f}{n} = \\frac{80}{100} = 0.8$ \n",
    "\n",
    "\n"
   ]
  },
  {
   "cell_type": "markdown",
   "metadata": {},
   "source": [
    "## Klasssik sannolikhet\n",
    "\n",
    "$P[A] = \\frac{n(A)}{n(S)}$ = $\\frac{\\texttt{Antalet sätt A kan inträffa}}{\\texttt{Totala antelet \n",
    "möjliga utfall}}$\n",
    "\n",
    "$P[A=3] = \\frac{1}{6}$ = Kan bara slå tre på ett sätt och möjliga fall är sex. \n",
    "\n",
    "*Population* = Är hela mängden.\n",
    "\n",
    "*Stickprov* = Är en delmängd\n",
    "\n",
    "Viktigt att skilja på population och stickprov vanligt fel är att blanda en uppskattning och det sannavärdet. Vanligt att man jobbar med ett stickprov och använder formler för populationen. \n",
    "\n",
    "*Ex.*\n",
    "\n",
    "Vad är sannolikheten att et barn är blåögt?\n",
    "\n",
    "S = [(Brown, Blue), (Blue, Brown), ($\\underline{Blue, Blue}$), (Brown, Brown)]\n",
    "\n",
    "$\\frac{1}{4} = 0.25$\n"
   ]
  },
  {
   "cell_type": "markdown",
   "metadata": {},
   "source": [
    "# Händelser\n",
    "\n",
    "En händelse är en delmängd till utfallsrummet. Alltså att slumpvariabler antar sina värden (Utafallsvariabeln, Y). \n",
    "\n",
    "### Ex. Från Appolo-programet\n",
    "\n",
    "Det fanns 3 st datorer ombord. Dom var alla online hela tiden och kördes. Om en funkna, funka systemet.\n",
    "\n",
    "S= Sample space\n",
    "\n",
    "S = (yyy, yyn, ynn, nyy, nyn, nny, nnn)\n",
    "\n",
    "Låt A, B, C vara händelser\n",
    "\n",
    "A = Först backupen är igång\n",
    "\n",
    "B = Andra backupen är igång\n",
    "\n",
    "C = Tredje backupen är igång\n",
    "\n",
    "\n",
    "Alla händelser är en delmängd av utfallsrummet.\n",
    "\n",
    "A = (yyy, yyn, ynn, yny)\n",
    "\n",
    "B = (yyy, nyn, nyy, yyn)\n",
    "\n",
    "C = (yyy, yny, nny, nyy)\n",
    "\n",
    "\n",
    "\"Primära sytemet eller det första sstemet är igång.\"\n",
    "\n",
    "$A\\cup B \\cup$ = Unionsymbol = eller, or\n",
    "\n",
    "(yyy, yyn, yny, ynn, nyy, nyn)\n",
    "\n",
    "\n",
    "\n",
    "\"Primära system och det första backupen är igång\"\n",
    "\n",
    "$A \\cap B = \\cap$ = Symbol för snitt = och, and. \n",
    "\n",
    "(yyy, yyn)\n",
    "\n",
    "\n",
    "\n",
    "\"Primär och första backupen är igång, men andra backupen är nere\"\n",
    "\n",
    "$(A \\cup B)\\cap C'$ \n",
    "\n",
    "(yyn, ynn, nyn)\n",
    "\n",
    "C' = om något inte ska hända kallas det komplements händelse. \n",
    "\n",
    "\n",
    "$P[(A \\cup B) \\cap C'] = \\frac{3}{8}$  Om samma sannolikhet för att varje dator fungerar eller inte.\n",
    "\n",
    "\n",
    "\n"
   ]
  },
  {
   "cell_type": "markdown",
   "metadata": {},
   "source": [
    "# Permutationer\n",
    "\n",
    "Antalet permutationer av n distinkta objet r stycken åt gången (ordning betydelsefull)\n",
    "\n",
    "$nPr = \\frac{n!}{(n-r)!}$\n",
    "\n",
    "$\\{1, 2, 3,\\} \\vec {P} \\{3, 1, 2\\}$\n",
    "\n",
    "\n",
    "### EX.\n",
    "\n",
    "Utan upprepning! Upprepning kallas i sannolikhet för \"återläggning\". \n",
    "\n",
    "nPr där n = 10 och r = 1\n",
    "\n",
    "$\\frac{10!}{(10-1)! = 10}\n",
    "\n",
    "Välj en siffra (av 10 möjliga)\n",
    "\n",
    "$nPr = 10P2 = \\frac{10!}{(10-2)!} = \\frac{10!}{8!} = 10 \\times 9 = 90$\n",
    "\n",
    "dvs för permutation måste objekten vara disitnkta. Detta är alltså antalet tal med två siffror som ej är samma! Vi väljer en siffra på första plats, sedan har vi 9 möjligheter. \n",
    "Dragning till ordningen, utan återläggning = permutation.\n",
    "\n",
    "Dragning med hänsyn till ording, med återläggning:\n",
    "\n",
    "Antalet tipsrader: 1, X, 2 ; skall gissa 13 matcher. Välj 13 ur 3 möjliga, hänsyn till ordning, med återlägging. \n",
    "\n",
    "$n^k = 3^13 \\approx 1.6 miljoner\n",
    "\n",
    "Hur många delmängder finns det till en mängd elemant?\n",
    "\n",
    "$2^n$, låt varje element \"rösta\" ja/nej om de skall vara med i delmängden. \n"
   ]
  },
  {
   "cell_type": "markdown",
   "metadata": {},
   "source": [
    "# Kombination\n",
    "\n",
    "En oordnadmäng, dvs utan ordning.\n",
    "Draging utan hänsyn till ordningen och utan anläggning\n",
    "\n",
    "nCr - \"välj r-stycken av n möjliga\n",
    "\n",
    "$\\binom{n}{r}$ - binomial koefficient $(a+b)^n$\n",
    "\n",
    "$\\binom{n}{r} = \\frac{n!}{k!(n-k)!} \\to nPr = nCr \\times r! \\to nCr = \\frac{nPr}{r!}$\n",
    "\n",
    "### EX\n",
    "\n",
    "Hur många ord kan bildas om samtliga bokstväver i ordet \"PARALLELL\" skall användas? \n",
    "Vi tänker oss att vi har 9 platser, uppradade från värnster till höger. Välj först fyra platser för \"L\": en: $\\binom{9}{4}$\n",
    "\n",
    "Välj sedan två \"A\":n $\\binom{5}{2}$\n",
    "\n",
    "Där efter återstånde 3! \n",
    "\n",
    "$\\to \\binom{9}{4} \\binom{5}{2} 3! = 7560\n",
    "\n",
    "Dragning med återläggning utan hänsyn till ordning.\n",
    "\n",
    "$\\frac{n+r-1}{r}$\n"
   ]
  },
  {
   "cell_type": "markdown",
   "metadata": {},
   "source": [
    "## Väntevärde (Expectation)\n",
    "\n",
    "*Average, mean, expected value*\n",
    "\n",
    "*Genomsnitt, medel, väntvärde*\n",
    "\n",
    "Viktigt bit i statstik, kallas en centvärde, ett genomsnitt. Gäller bara att sannolikhetes värdena är fullständiga. Väntvärde är ett av flera viktiga kvantitavia mått. De kallas moment (till en distribution). Kan säga att väntvärde är medelvärdet av villka värden X kan anta, viktas av sannolikheten för dess utfall.\n",
    "\n",
    "Kan skrivas ut som $\\mu$\n",
    "\n",
    "$E[X] = \\sum_x x f(x)$\n",
    "\n",
    "Här är f(x) sannolikheten, $\\sum_x x$ summan av alla möjliga utfall. \n",
    "\n",
    "### EX\n",
    "\n",
    "En hjärtmedecin för efterbehandling vid hjärtinfarkt undersök. Låt X vara antalet hjärtslag per minut och patient. \n",
    "\n",
    " X = 40, 60, 68, 70, 72, 80, 100\n",
    "\n",
    " f(x) = .01 .08 . 05 .80 .05 .04 .01\n",
    "\n",
    "$\\sum{x} f(x)-1$ stämmer\n",
    "\n",
    "E[x] = 40(.01) + 60(.08) + 68(.05) + 70(.8) + 72(.05) + 80(.04) + 100(.01) = 70\n",
    "\n",
    "Väntvärdet är ett av flera viktiga $\\underline {kvantitavia}$ mått. De kallas moment till en distribution. \n",
    "\n",
    "Ett annat är $\\underline {varians}$\n",
    "\n",
    "Låt X vara en s.v. med medel $\\mu$. Variansen av X, Var X, eller $\\sigma^2$, ges av. \n",
    "\n",
    "Beräknings formel\n",
    "\n",
    "Var X = $\\sigma^2 = E[(X-\\mu)^2] = E[x^2] - (E[x])^2$\n",
    "\n",
    "Ger ett värde utan enhet, den är kvadering av värdet vi får och det är svårt att tyda. \n",
    "\n"
   ]
  },
  {
   "cell_type": "markdown",
   "metadata": {},
   "source": [
    "## Standardavvikelsen (Standard Deviation)\n",
    "\n",
    "$\\sigma = \\sqrt{Var X} = \\sqrt{\\sigma^2}$\n",
    "\n",
    "Stickprov savvikelsen i allmänafall: Går mot 0 när antalet datapunkter (utfall) går mot $\\infty$.\n",
    "\n"
   ]
  },
  {
   "cell_type": "markdown",
   "metadata": {},
   "source": [
    "# Discrete probability densities\n",
    "\n",
    "$f(x) = P[X=x]$\n",
    "\n",
    "Necessary and sufficient conditions for a discret density \n",
    "\n",
    "1. $f(x) \\ge 0$\n",
    "2. $\\sum{x}f(x) = 1$\n",
    "\n",
    "Probability function sv. täthetsfunction\n",
    "\n",
    "Camulative distribution function: \n",
    "\n",
    "$F(x) = P[X\\ge x]$\n",
    "\n",
    "\n"
   ]
  },
  {
   "cell_type": "markdown",
   "metadata": {},
   "source": [
    "# Geometric distribution\n",
    "\n",
    "X = the number of trails untill first succes\n",
    "\n",
    "S = {S, fs, ffs, fffs, ....}\n",
    "\n",
    "$pf: f(x) = (1-p)^{x-1}p \\to q^{x-1}p$\n",
    "\n",
    "$cdf: F(x) = 1-q^{\\{x\\}} \\to q=1-p$\n",
    "\n",
    "{x} = largest integer smaller then \n",
    "\n",
    "$E[x] = \\frac{1}{p}$\n",
    "\n",
    "$Var X = \\frac{q}{p^2}$"
   ]
  },
  {
   "cell_type": "markdown",
   "metadata": {},
   "source": [
    "# Binomal distribution\n",
    "\n",
    "A $\\underline{fixed}$ number of trails (n)\n",
    "\n",
    "X = how many successes over the n trails.\n",
    "\n",
    "$p.f. f(x) = \\binom{n}{x}p^x(1-p)^{n-x}$\n",
    "\n",
    "$q = 1-p$\n",
    "\n",
    "$cdf. F(x) = \\sum^{[x]}_{x=0} \\binom{n}{x}p^x(1-p)^{n-x}$\n",
    "\n",
    "$E[x] = \\mu = np$\n",
    "\n",
    "$Var X = \\sigma^2 = npq$\n",
    "\n",
    "\n"
   ]
  },
  {
   "cell_type": "markdown",
   "metadata": {},
   "source": [
    "# Negative Binomial distrbution\n",
    "\n",
    "X = number of trails untill r successes\n",
    "\n",
    "$f(x) = \\binom{x-1}{r-1}(1-p)^{x-r}p^r$\n",
    "\n",
    "x = r, r+1, r+2,....\n",
    "\n",
    "$E[x] = \\frac{r}{p}$\n",
    "\n",
    "q = 1-p\n",
    "\n",
    "$var(x) = \\frac{rq}{p^2}"
   ]
  },
  {
   "cell_type": "markdown",
   "metadata": {},
   "source": [
    "# Hypergeomatric distribution\n",
    "\n",
    "$f(x)\\frac{\\binom{r}{x}\\binom{N-r}{n-x}}{\\binom{N}{n}}$\n",
    "\n",
    "N - number of objects\n",
    "\n",
    "n - sample size \n",
    "\n",
    "r - number of objects with a particulartrait\n",
    "\n",
    "$E[x] = n(\\frac{r}{N})$\n",
    "\n",
    "$Var X = n(\\frac{r}{N})(\\frac{N-r}{N})(\\frac{N-N}{N-1})$"
   ]
  },
  {
   "cell_type": "markdown",
   "metadata": {},
   "source": []
  },
  {
   "cell_type": "code",
   "execution_count": null,
   "metadata": {
    "vscode": {
     "languageId": "plaintext"
    }
   },
   "outputs": [],
   "source": [
    "## Fördelingar \n",
    "\n",
    "X - Geom(p): Om X är en geometriks distribution\n",
    "\n",
    "Om X håller reda på hur mång försök, vardera med sannolikhet p som sker innan första lyckade fäljer X en geometriks fördelning.\n",
    "\n",
    "\n",
    "$f(x) = (1-p)^{x-1}p$\n",
    "\n",
    "$F(x) = (1-q)^{|x|}"
   ]
  },
  {
   "cell_type": "markdown",
   "metadata": {},
   "source": [
    "# Binomial distribution\n",
    "\n"
   ]
  },
  {
   "cell_type": "markdown",
   "metadata": {},
   "source": [
    "# Negtiv binomal \n",
    "\n",
    "X -nbinom(p, r)\n",
    "\n",
    "p - sannolikhet att varje förska lyckas.\n",
    "\n",
    "r - antalet lyckande innan vi är klara\n",
    "\n",
    "Om X håller reda på hur många förösk som krävs för att uppnå r lyckanden, å följer X negativ inomial fördelning\n",
    "\n",
    "f(x) = \\binom{x-1}{r-1} (1-p)^{x-r} p^r\n",
    "\n",
    "E[X] = r/p\n",
    "\n"
   ]
  },
  {
   "cell_type": "markdown",
   "metadata": {
    "vscode": {
     "languageId": "plaintext"
    }
   },
   "source": [
    "# Poisson dis\n",
    "\n",
    "f(x) = e^{-k}k^x/x!\n",
    "\n",
    "Håller reda p diskret händelser i ett tis intervall. Det är en avtagande distribution.\n",
    "Den har ett mycket krånglit fröderlnigs uttryck som är svåra att räkna på.\n",
    "\n",
    "E[x] = k\n",
    "\n",
    "Var X = k "
   ]
  },
  {
   "cell_type": "markdown",
   "metadata": {},
   "source": [
    "# Gamma fördeling\n",
    "\n",
    "X - r(\\alpha, \\beta)\n",
    "\n",
    "f(x) = 1 / \\beta^\\alpha \\sum{oändligt}{0} \\zeta^\\alpha - 1 e^-\\zeta \\delta_\\zeta\n",
    "\n",
    "E[X] = \\alpha "
   ]
  },
  {
   "cell_type": "markdown",
   "metadata": {},
   "source": [
    "# Normal fördelning \n",
    "\n",
    "f(x) = 1/\\sqrt2\n",
    "\n"
   ]
  },
  {
   "cell_type": "markdown",
   "metadata": {},
   "source": [
    "Skriva till om fördelningar. "
   ]
  },
  {
   "cell_type": "markdown",
   "metadata": {},
   "source": []
  }
 ],
 "metadata": {
  "language_info": {
   "name": "python"
  }
 },
 "nbformat": 4,
 "nbformat_minor": 2
}
