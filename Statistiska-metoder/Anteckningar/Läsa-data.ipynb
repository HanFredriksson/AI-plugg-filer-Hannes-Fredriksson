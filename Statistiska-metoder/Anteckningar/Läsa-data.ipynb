{
 "cells": [
  {
   "cell_type": "markdown",
   "metadata": {},
   "source": [
    "# Termer och sätt att tolka data"
   ]
  },
  {
   "cell_type": "markdown",
   "metadata": {},
   "source": [
    "### Quantitative Predictors\n",
    "\n",
    "Quantitative predictors are variables that represent numeric values and can be measured or counted. These variables have meaningful numerical relationships, and mathematical operations (e.g., addition, subtraction, averaging) are applicable to them.\n",
    "\n",
    "    Characteristics:\n",
    "        - Numeric data.\n",
    "        - Can often be ordered or ranked.\n",
    "        - Differences and ratios between values are meaningful.\n",
    "\n",
    "    Types of Quantitative Data:\n",
    "        - Continuous: Can take any value within a range (e.g., 18.5, 19.2). Examples include weight, height, or displacement in the dataset.\n",
    "        - Discrete: Take only whole numbers or specific values (e.g., the number of cylinders in the dataset).\n",
    "\n",
    "    Examples in the dataset:\n",
    "        - mpg, cylinders, displacement, horsepower, weight, acceleration, year."
   ]
  },
  {
   "cell_type": "markdown",
   "metadata": {},
   "source": [
    "### Qualitative Predictors\n",
    "\n",
    "Qualitative predictors represent categories, groups, or labels that are not inherently numeric. These variables describe qualities or characteristics and are used to classify data into groups.\n",
    "\n",
    "    Characteristics:\n",
    "        - Often categorical or descriptive.\n",
    "        - Cannot be meaningfully subjected to most mathematical operations.\n",
    "        - Can sometimes be encoded as numbers (e.g., 1 for USA, 2 for Europe), but the numbers are arbitrary and represent categories, not quantities.\n",
    "\n",
    "    Types of Qualitative Data:\n",
    "        - Nominal: Categories with no natural order or ranking (e.g., car names, countries of origin).\n",
    "        - Ordinal: Categories with a meaningful order or ranking, but differences between categories may not be equal (e.g., small, medium, large).\n",
    "\n",
    "    Examples in the dataset:\n",
    "        - origin (likely representing regions as categories).\n",
    "        - name (car names or models)."
   ]
  }
 ],
 "metadata": {
  "kernelspec": {
   "display_name": ".venv",
   "language": "python",
   "name": "python3"
  },
  "language_info": {
   "name": "python",
   "version": "3.13.1"
  }
 },
 "nbformat": 4,
 "nbformat_minor": 2
}
