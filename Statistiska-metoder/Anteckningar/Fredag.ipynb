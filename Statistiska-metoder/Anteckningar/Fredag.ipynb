{
 "cells": [
  {
   "cell_type": "markdown",
   "metadata": {},
   "source": [
    "# Distributioner"
   ]
  },
  {
   "cell_type": "markdown",
   "metadata": {},
   "source": [
    "# Discrete probability densities\n",
    "\n",
    "$f(x)=P[X=x]\n",
    "\n",
    "necessary and sufficient conditions for a discret density\n",
    "\n",
    "1. $f(x) >= 0$\n",
    "2. $\\sum_x f(x) = 1\n",
    "\n",
    "Camulative distritute\n",
    "\n",
    "kolla anteckngar frpn rapahel \n",
    "\n",
    "\n",
    "# Expected value(väntvärde)\n",
    "\n",
    "$[X] = \\sum_x xf(x)$\n",
    "\n",
    "Värderna som x kan anta gånger sannolikheten för dom värdena\n",
    "\n",
    "# Variance\n",
    "\n",
    "$Var x = \\sigma^2 = E[(X-\\mu)^2]$\n",
    "\n",
    "# Standard deviat \n",
    "\n",
    "$\\sigma = \\sqrt{\\sigma^2}$\n",
    "\n"
   ]
  },
  {
   "cell_type": "markdown",
   "metadata": {
    "vscode": {
     "languageId": "plaintext"
    }
   },
   "source": [
    "# Geometric distribution\n",
    "\n",
    "X = the number of trails untill first succes \n",
    "\n",
    "S = {s, fs, ffs, fffs,....}\n",
    "\n",
    "$f(x) = (1-p)^{x-1}p = q^{x-1} p$\n",
    "\n",
    "$F(x = 1-q)^[x]  q = 1 -p$\n",
    "\n",
    "[x] = largest intger smaller \n",
    "\n",
    "moments:\n",
    "\n",
    "E[x] = 1/p\n",
    "\n"
   ]
  },
  {
   "cell_type": "markdown",
   "metadata": {},
   "source": [
    "# Binomal distribution\n",
    "\n",
    "A fixed number of trails (n)\n",
    "\n",
    "X = how many successes over the n trails\n",
    "\n",
    "q = 1-p\n",
    "\n",
    "pf f(x) = $\\binom{n}{x} p^x (1-p)^{n-x}€\n",
    "\n",
    "cdf F(x) = \\sum^{[x]}_{x=0} \\binom{n}{x}$\n",
    "\n",
    "E[x] = \\mu = np\n",
    "var X = \\sigma^2 = npq "
   ]
  },
  {
   "cell_type": "markdown",
   "metadata": {},
   "source": [
    "# Negative binomial distrubtion \n",
    "\n",
    "(Mycket ovanlig)\n",
    "\n",
    "x = number of trails untill r successes\n",
    "\n"
   ]
  },
  {
   "cell_type": "markdown",
   "metadata": {},
   "source": [
    "# Normal distrubution \n",
    "\n",
    "def.\n",
    "A Random variable X is continous if it can assums any real value in some interval and the probability it assumes any specific value is 0. \n",
    "\n",
    "$fX(x) = \\frac{1}{\\sigma\\sqrt{2\\mu}}e^\\frac{-(x\\mu)^2}{2\\sigma^2}$\n",
    "\n",
    "kolla antecknag raph\n",
    "\n",
    "# Normal probaility rule (68-95-99)\n",
    "\n",
    "$P[-\\sigma< X -\\mu < \\sigma] = .68$\n",
    "\n",
    "$P[-2\\sigma< X -\\mu < 2\\sigma] = .95$\n",
    "\n",
    "$P[-3\\sigma< X -\\mu < 3\\sigma] = .997$\n",
    "\n"
   ]
  },
  {
   "cell_type": "markdown",
   "metadata": {
    "vscode": {
     "languageId": "plaintext"
    }
   },
   "source": [
    "# Konferans intrevall - Cnfidence intervall\n",
    "\n",
    "A $100(1 - \\alpha)%$ confidence intervall for a parameter $\\theta$ is a random interval $[L_1, L_2]$ such that $P[L_1 <= \\theta <= z] = 1 - \\alpha$\n",
    "\n",
    "$\\overline{X} +- z_{\\alpha/2} \\sigma/\\sqrt{n}$\n",
    "\n",
    "\n",
    "# Konferans intrevall - Confidence intervall för regressions linjen\n",
    "\n",
    "$\\hat{\\beta} +- t_{\\alpha/2} S\\sqrt{C_{ii}}$\n"
   ]
  }
 ],
 "metadata": {
  "language_info": {
   "name": "python"
  }
 },
 "nbformat": 4,
 "nbformat_minor": 2
}
