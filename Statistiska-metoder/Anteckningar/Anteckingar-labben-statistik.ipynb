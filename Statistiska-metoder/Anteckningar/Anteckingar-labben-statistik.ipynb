{
 "cells": [
  {
   "cell_type": "markdown",
   "metadata": {},
   "source": [
    "# Anteckningar för labb Statistik - Multipe linear regresson"
   ]
  },
  {
   "cell_type": "markdown",
   "metadata": {},
   "source": [
    "Linjer regrssion funkar bäst när det finns ett linjärt förhållande. Också där det ifnns bra med statistik. \n",
    "\n",
    "Neuralnätverk - Det finns ingen matimatiska bevis för hur det faktiskt fungerar uderytan. Man vet inte exakt hur dom kommer fram till svaren eller hur den tränas. \n",
    "\n",
    "- Multiple linear regression, bara att kolla upp på nätet. Hur man implementerar det själv utan färdiga packet. \n",
    "\n",
    "- Om man hittar linjära beroende in sina features så ka man plocka bort dom så man får en bättre regression. \n",
    "\n",
    "- Allt ska skrivas i py fil för regressions mattan och sedan visa resultaten i ipynb fil. \n",
    "\n",
    "- Datan mäts med ett stoppur för tiderna i datan. För det är gjor av två personer i ett rum, även så stod dom på olika platser så att vinkeln för observation var annorlunda. \n",
    "\n",
    "- I boken är det en bra övnings lab, lab 3, för multipla linjära regression. Finns en del som är lite överkurs, goodness of fit. \n",
    "\n",
    "- Att bygga modeller är det smart att kanske börja med så få parametra om det är väldigt många, eller om det är få, att köra alla och sedan banta ner parametrarna. \n"
   ]
  },
  {
   "cell_type": "markdown",
   "metadata": {},
   "source": [
    "# Förklaring för Data\n",
    "\n",
    "Man skulle vilja normaliser värdena för att få ett bättre resultat. Första räknar vi ut standarda avvikelsen, \n",
    "\n",
    "Observer - är en kategorisk variabel. Ska göras ett signifikants test. \n",
    "\n",
    "Inertial - är vatten vilken egenskap den har, massan\n",
    "\n",
    "Geometri - rörets diameter och längd\n",
    "\n",
    "Kinematic - trycket är i röret\n",
    "\n",
    "Det ska finns ett linjärt förhållande mellen Inertial, Geometri och Kinematic med Flow. Vi ska förutsäga Flow.  "
   ]
  }
 ],
 "metadata": {
  "language_info": {
   "name": "python"
  }
 },
 "nbformat": 4,
 "nbformat_minor": 2
}
