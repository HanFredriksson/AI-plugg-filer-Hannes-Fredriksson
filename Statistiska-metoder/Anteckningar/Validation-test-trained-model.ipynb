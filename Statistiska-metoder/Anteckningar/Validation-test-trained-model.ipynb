{
 "cells": [
  {
   "cell_type": "markdown",
   "metadata": {},
   "source": [
    "# Validation and test of model"
   ]
  },
  {
   "cell_type": "markdown",
   "metadata": {},
   "source": [
    "### Some useful value\n",
    "\n",
    "SSE = RSS = Sum of square errors - $\\sum^n_{i=1} (y_{i} - \\hat{Y}_i)^2$\n",
    "\n",
    "Syy = TSS = Total variance in Y - $\\sum^n_{i=1}​(y_i​ − \\overline{y})^2$\n",
    "\n",
    "Sxx = Total variance in X\n",
    "\n",
    "Sxy =  $\\sum^n_{i=1} (X_i-\\overline{x})(Y-\\overline{y})$\n",
    "\n",
    "SSR = SSE - Syy -> Syy = SSE + SSR - Den totala variancen i Y Can vi dela upp i två delar. SSE = Irducibal error SSR = Redusibal error \n",
    "\n",
    "### För förutse data punkter\n",
    "\n",
    "Det är uppskattare gäller ju bara när datan samlades. Detta vi undersökt här är bara vad vi kan utröna från det samlade, datan vi tränat våran modell på. "
   ]
  },
  {
   "cell_type": "markdown",
   "metadata": {},
   "source": [
    "### Training and validation\n",
    "\n",
    "In machie learning we do not really care about the past, statistically. We need to split our data in two or even three data sets. Training and validation data sets.\n",
    "Now we need to think about how data reacts to two sampels, comparing means between them. Important is to randomly select these data sets. \n",
    "\n",
    "### $E_{MSE}$: Expectation for the mean of SSE (Väntvärde)\n",
    "\n",
    "$MSE = \\frac{1}{n} SSE$\n",
    "\n",
    "$E_{MSE} (Y - \\hat{Y})$ - expectation for diffrence of mean between Y and our approximation. \n",
    "\n",
    "$E_{MSE} (Y-\\hat{Y}) = Var(\\hat{Y}) + Bias(\\hat{Y})^2 + Var(\\epsilon)$ Detta är alltså jämnförellsen mellan $\\hat{Y}$ i dom två olika data seten. Där :  $Var(\\hat{Y}) + Bias(\\hat{Y})^2$ är vårat redusibal error. Då är: $Bias(\\hat{Y})^2 + Var(\\epsilon)$ är vårat irreducinle error. Det är en vitkig balans gång mellan $Var(\\hat{Y}) och Bias(\\hat{Y})^2$ för att få en bra modell. Det är Bias träffsäkerheten i förutsägelsen. Var är hur bara vi kan förutse test data. \n",
    "\n",
    "### RSE - unbiased estimator for unknown data\n",
    "\n",
    "$RSE = \\sqrt{\\frac{1}{n-2}SSE}$\n",
    "\n",
    "RSE is run with the model we traind on new data (not even the validation data)\n",
    "\n",
    "Split data then will be train, validation and test. Where train and test is used during the making of the model. The test data is for quality checks\n",
    "\n"
   ]
  },
  {
   "cell_type": "markdown",
   "metadata": {},
   "source": [
    "\n",
    "# Feature-engineering\n",
    "\n",
    "$Y= \\beta_0+\\beta_1x_1+...+\\beta_p x_p$\n",
    "\n",
    "1. Test significance of predictors(Varibales), remove those that fail the test, (Ta bort dom som inte är signifikanta variabler) \n",
    "\n",
    "2. Add new features, possibly from other data sources \n",
    "\n",
    "3. Break the rules. Add non-linearity. \n",
    "    - $Y = f(x_1,x_2) = \\beta_0 + \\beta_1x_1 + \\beta_2 x_2 + \\beta_3 x_1 x_2$\n",
    "    - $f(x_1,x_2,x_1,x_2) = \\beta_0 + \\beta_1\\chi_1 + \\beta_2 \\chi_2 + \\beta_3 \\chi_3$ = Linerisation of an non linear formula. Something that is not linear in ceirten dimensions, can be linear in higher dimensions. Where there will be an hyperplane of linearity. Problem is that the model can not say anything about the statistics in the data. But $E_{MSE}$ is still valid. Couse it compars the mena between data sets.\n",
    "\n",
    "\n",
    "\n",
    "\n"
   ]
  },
  {
   "cell_type": "markdown",
   "metadata": {},
   "source": [
    "# T-Score\n",
    "\n",
    "T-Score has an parametar of df, degree of freedom, df. Den närmar sig värdet för standard normal när df gåt mot oändligheten\n",
    "\n",
    "df = Is n is the sample size and p is the number of predictors(variabler) - n-p-1\n",
    "\n",
    "# F-Score\n",
    "\n",
    "I exponential, den är alltid större än noll. Den är signifikans för hela regressionen testar alla predictors \n",
    "\n",
    "\n",
    "$\\hat{f}(x)$ = numbers (real) - regression - När vi gör en uppskattning av ett tal. \n",
    "\n",
    "$\\hat{f}(x)$ = labels (0, 1, 2) = (\"red\", \"grean\", \"purple\") - Classification. Labels are qualitative, categorical data. \n",
    "\n"
   ]
  }
 ],
 "metadata": {
  "language_info": {
   "name": "python"
  }
 },
 "nbformat": 4,
 "nbformat_minor": 2
}
