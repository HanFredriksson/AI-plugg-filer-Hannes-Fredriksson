{
 "cells": [
  {
   "cell_type": "markdown",
   "metadata": {},
   "source": [
    "# Konferansintrevalll"
   ]
  },
  {
   "cell_type": "markdown",
   "metadata": {
    "vscode": {
     "languageId": "plaintext"
    }
   },
   "source": [
    "### Confidence Intervall\n",
    "A $100(1-\\alpha) %$ confidence interval for a paramter\n",
    "\n",
    "$\\theta$ is a radom interval $[L_1 ,L_2]$ such that \n",
    "$P[L_1 \\leq \\theta \\leq L_2] = 1-\\alpha$\n",
    "regardless of the value of $\\theta$\n",
    "\n",
    "- Tänka detta är som ett lasso som man kan se hur mycket av datan man fångar in. \n",
    "- Vi behver att medel för att räkna ut detta med säkerhet, men i flesta fall känner vi inte till det sanna medlet. \n",
    "\n",
    "\n",
    "*Om vi känner till medlet*\n",
    "\n",
    "Let the following be a random variable: $\\frac{X-\\mu}{\\sigma/\\sqrt{n}}$\n",
    "\n",
    "if $\\mu$ is known. Then the varibale follow a standard normal distribution. \n",
    "- Standard normal distribution menar att den är kring noll\n",
    "\n",
    "- Så om vi har ett symetriskt distribution. Så är konferansintrevallet arean under kurvan mätt från medelet. Säg om .95 så täcker vi 95% av data. Vad vi letar efter är änd punkterna som definerar att konferansintervallet. \n",
    "\n",
    "A $100(1-\\alpha) %$ interval on $\\mu$ when $\\sigma$ is known: Let $x_{1}, x_{2}, \\dots, x_{n}$ be a random sample from a normal distribution. \n",
    "$\\overline{X} \\pm Z_{\\alpha /2} \\sigma\\sqrt{n}$ \n",
    "\n",
    "- Det vi tittar efter här är ändpunkter och dess värde.\n",
    "- Konferansintrevall ett betyder inget om inte har signifikans nivån"
   ]
  },
  {
   "cell_type": "markdown",
   "metadata": {
    "vscode": {
     "languageId": "plaintext"
    }
   },
   "source": [
    "### Central limit theorem\n",
    "\n",
    "Let  $x_{1}, x_{2}, \\dots, x_{n}$ be a random sample of size n from a distribution with mean $\\mu$ and variance $\\sigma^2$. Then, for large n, x is approximatly normal with $\\mu4 and variance \\$sigma^2. Furthermore $frac{x-\\mu}{\\sigma/\\sqrt{n}}.\n",
    "\n",
    "- Här kan vi centrera en statisktisk distribution. Gäller att vi ta tillräcklig många stickprov så vi kan anta att den är standard normal distrirbution. Med störra variance så krävs mer stickprov, data. \n",
    "\n",
    "- Det går att räkna ut hur många stickprov man behöver för ett visst konferansintervall.\n",
    "\n",
    "- Är ett givet fenomen att om man mängden av något jämnar ut och skappar ett jämn distrubution. Iduviduella punkter smälter ihop till ljämn mängd.\n",
    "\n"
   ]
  },
  {
   "cell_type": "markdown",
   "metadata": {},
   "source": [
    "## Distributions\n",
    "\n",
    "### Geometric distributions\n",
    "\n",
    "1. The expermant consists of a series of trials. The outcome of the trailsis either a \"Success\" or \"failure\", (s) or (f). Such a trail is known as a Berrnulli-trail.\n",
    "\n",
    "2. The trail are identical and independet. \n",
    "\n",
    "3. The random varible X denotes the number of trails needed to obtain the first success. \n",
    "\n",
    "- Om X beter sig på det sättat att vad vi säger är sant. När vi uppnår det så får vi en geomtrisk distribution.\n",
    "\n",
    "Om vi singlar krona. Så får vi ett utfallsrum.\n",
    "$s = {s, fs, ffs, fffs, ....}$\n",
    "- Detta är en diskret distribution, för det finns inga mellan verdan i f eller s, som $s^2$.\n",
    "\n",
    "P[x=1] = probability of success on first trail = P\n",
    "\n",
    "P[x=2] = probability of failure on firstt trail and success on second = [1-p]p\n",
    "\n",
    "P[x=3] = probability of failure on second trail and success on second = $[1-p]^2p$\n",
    "\n",
    "Vi får då tillslut täthetsfunktionen(probability finction) $f(x) = (1-p)^x-1 p$\n",
    "\n",
    "Geometric term in : $\\sum{\\inf}{x=1} f(x) = (1-p)^x-1 p = \\frac{p}{1-(1-p)} = 1$\n",
    "\n",
    "- För att det ska vara en riktigt täthetfunktin så måste den bli ett. \n",
    "\n",
    "*Cumalative function (cdf)*\n",
    "$F(x) = 1 - q^[x] , q = 1-p$\n",
    "\n",
    "- Detta är cdf för en geomtrisk distribution. \n",
    "\n",
    "*Moments: for gemetric distributiions (väntvärdet)*\n",
    "\n",
    "E[x] = 1/p\n",
    "\n",
    "*Variancen *\n",
    "\n",
    "$Var X = q/p^2 , q = 1-p$\n",
    "- Detta är för populationen\n",
    "\n",
    "*Standar avvikelsen*\n",
    "\n",
    "$\\mu = \\sqrt{Var X}$\n",
    "\n",
    "\n",
    "- I allmenhet är geametriska distributioner avtagande, sannolikheten minskar när x går mot oändligheten. \n",
    "\n"
   ]
  },
  {
   "cell_type": "markdown",
   "metadata": {},
   "source": [
    "### Binomial distribution\n",
    "\n",
    "1. The experment consists of a **fixed** number, n, of Bernoulli trails. With outcome \"success\" or \"failure\". \n",
    "\n",
    "2. The random varibal X denotes the number of \"Successes\" obtaind in the n trails. \n",
    "\n",
    "- Utafallsrummet(n=3): s = {fff, sff, ssf, sss, sfs, fss, fsf}\n",
    "\n",
    "$p[X=x] = c(x)p^x * (1-p)^{n-x}$\n",
    "\n",
    "- c(x) är hur många sätt kan vi välja \"Succeeses\", $c(x) = \\binom{n}{x}$\n",
    "\n",
    "*Täthetsfunktionen*\n",
    "$f[x] = \\binom{n}{x}*p^x * (1-p)^{n-x}$\n",
    "\n",
    "*Kumaltiva distributions funktionen* \n",
    "\n",
    "$F(t) = \\sum{x=0}{t} \\binom{n}{x}*p^x*(1-p)^{n-x}$\n",
    "\n",
    "*Momnets function*\n",
    "\n",
    "$E[X] = \\mu = n*p$\n",
    "\n",
    "*Variancen*\n",
    "\n",
    "$Var X = npq, q(1-p)$\n"
   ]
  },
  {
   "cell_type": "markdown",
   "metadata": {},
   "source": [
    "### Probality vs Likelihood\n",
    "*Sannolikhet vs rimlighet*\n",
    "\n",
    "- Probability is the value of the probality function (täthetsfunktionen) at that point. Här har vi en given kurva att hitta sannolikheten.\n",
    "\n",
    "- Likelihood: how likely is the value to belong to a given distribution? -> more then $1\\sigma$ = 68% likelihood. Här försöker vi hitta en kurva som passar vårat värde. Detta använder när vi enare vill hitta en distribution när vi inte kan använda linjära regressioner. \n"
   ]
  },
  {
   "cell_type": "markdown",
   "metadata": {},
   "source": [
    "$100(1-\\alpha)%$\n",
    "\n",
    "$e_i \\alpha = 0.05$\n",
    "\n",
    "$1-\\alpha = 0.95$\n",
    "\n",
    "If we standardize and normalize data we got a standardnormal distribution.\n",
    "\n",
    "$\\overline{X} \\pm Z_{\\alpha/2}(\\sigma/\\sqrt{n})$\n",
    "\n",
    "when $\\mu$ and $\\sigma$ not known we use\n",
    "\n",
    "$\\overline{X} \\pm t_{\\alpha/2}(S/\\sqrt{n})$\n",
    "\n",
    "Note that $S\\sqrt{n}$ is not an unbiased estimate of $\\sigma/\\sqrt{n}$\n",
    "\n",
    "For linear regression: $\\hat{\\beta} \\pm{\\alpha/2} (S\\sqrt{C_{ii}})$\n",
    "This will not become a samller value and not be constant. It will change according to the size of parameters in the data set. "
   ]
  }
 ],
 "metadata": {
  "language_info": {
   "name": "python"
  }
 },
 "nbformat": 4,
 "nbformat_minor": 2
}
