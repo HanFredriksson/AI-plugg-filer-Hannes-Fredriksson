{
 "cells": [
  {
   "cell_type": "markdown",
   "metadata": {},
   "source": [
    "## Single linear regression - code along\n",
    "\n",
    "EDA = Explorativ Data Analysis \n",
    "\n",
    "Används för att förutse ett värde på Y med hjälp av en variabel X. Vi antar att det finns ett approximativt linjärt förhållande mellan X och Y.\n",
    "\n",
    "Formel: $\\hat{Y} = \\hat{\\beta_0} + \\hat{\\beta_1} X$\n",
    "\n",
    "$\\hat{Y}$ = prediction of Y on the basis of X = x.\n",
    "\n",
    "$\\hat{\\beta_0}$ = the intercept\n",
    "\n",
    "$\\hat{\\beta_1}$ = the slope\n"
   ]
  },
  {
   "cell_type": "code",
   "execution_count": 1,
   "metadata": {},
   "outputs": [
    {
     "data": {
      "text/html": [
       "<div>\n",
       "<style scoped>\n",
       "    .dataframe tbody tr th:only-of-type {\n",
       "        vertical-align: middle;\n",
       "    }\n",
       "\n",
       "    .dataframe tbody tr th {\n",
       "        vertical-align: top;\n",
       "    }\n",
       "\n",
       "    .dataframe thead th {\n",
       "        text-align: right;\n",
       "    }\n",
       "</style>\n",
       "<table border=\"1\" class=\"dataframe\">\n",
       "  <thead>\n",
       "    <tr style=\"text-align: right;\">\n",
       "      <th></th>\n",
       "      <th>TV</th>\n",
       "      <th>radio</th>\n",
       "      <th>newspaper</th>\n",
       "      <th>sales</th>\n",
       "    </tr>\n",
       "  </thead>\n",
       "  <tbody>\n",
       "    <tr>\n",
       "      <th>1</th>\n",
       "      <td>230.1</td>\n",
       "      <td>37.8</td>\n",
       "      <td>69.2</td>\n",
       "      <td>22.1</td>\n",
       "    </tr>\n",
       "    <tr>\n",
       "      <th>2</th>\n",
       "      <td>44.5</td>\n",
       "      <td>39.3</td>\n",
       "      <td>45.1</td>\n",
       "      <td>10.4</td>\n",
       "    </tr>\n",
       "    <tr>\n",
       "      <th>3</th>\n",
       "      <td>17.2</td>\n",
       "      <td>45.9</td>\n",
       "      <td>69.3</td>\n",
       "      <td>9.3</td>\n",
       "    </tr>\n",
       "    <tr>\n",
       "      <th>4</th>\n",
       "      <td>151.5</td>\n",
       "      <td>41.3</td>\n",
       "      <td>58.5</td>\n",
       "      <td>18.5</td>\n",
       "    </tr>\n",
       "    <tr>\n",
       "      <th>5</th>\n",
       "      <td>180.8</td>\n",
       "      <td>10.8</td>\n",
       "      <td>58.4</td>\n",
       "      <td>12.9</td>\n",
       "    </tr>\n",
       "  </tbody>\n",
       "</table>\n",
       "</div>"
      ],
      "text/plain": [
       "      TV  radio  newspaper  sales\n",
       "1  230.1   37.8       69.2   22.1\n",
       "2   44.5   39.3       45.1   10.4\n",
       "3   17.2   45.9       69.3    9.3\n",
       "4  151.5   41.3       58.5   18.5\n",
       "5  180.8   10.8       58.4   12.9"
      ]
     },
     "execution_count": 1,
     "metadata": {},
     "output_type": "execute_result"
    }
   ],
   "source": [
    "import pandas as pd\n",
    "import numpy as np\n",
    "import matplotlib.pyplot as plt\n",
    "\n",
    "data_path = \"../Data/Advertising.csv\"\n",
    "\n",
    "adv = pd.read_csv(data_path, index_col= 0)\n",
    "\n",
    "adv.head()\n",
    "\n"
   ]
  },
  {
   "cell_type": "code",
   "execution_count": 2,
   "metadata": {},
   "outputs": [
    {
     "data": {
      "text/html": [
       "<div>\n",
       "<style scoped>\n",
       "    .dataframe tbody tr th:only-of-type {\n",
       "        vertical-align: middle;\n",
       "    }\n",
       "\n",
       "    .dataframe tbody tr th {\n",
       "        vertical-align: top;\n",
       "    }\n",
       "\n",
       "    .dataframe thead th {\n",
       "        text-align: right;\n",
       "    }\n",
       "</style>\n",
       "<table border=\"1\" class=\"dataframe\">\n",
       "  <thead>\n",
       "    <tr style=\"text-align: right;\">\n",
       "      <th></th>\n",
       "      <th>TV</th>\n",
       "      <th>radio</th>\n",
       "      <th>newspaper</th>\n",
       "      <th>sales</th>\n",
       "    </tr>\n",
       "  </thead>\n",
       "  <tbody>\n",
       "    <tr>\n",
       "      <th>count</th>\n",
       "      <td>200.000000</td>\n",
       "      <td>200.000000</td>\n",
       "      <td>200.000000</td>\n",
       "      <td>200.000000</td>\n",
       "    </tr>\n",
       "    <tr>\n",
       "      <th>mean</th>\n",
       "      <td>147.042500</td>\n",
       "      <td>23.264000</td>\n",
       "      <td>30.554000</td>\n",
       "      <td>14.022500</td>\n",
       "    </tr>\n",
       "    <tr>\n",
       "      <th>std</th>\n",
       "      <td>85.854236</td>\n",
       "      <td>14.846809</td>\n",
       "      <td>21.778621</td>\n",
       "      <td>5.217457</td>\n",
       "    </tr>\n",
       "    <tr>\n",
       "      <th>min</th>\n",
       "      <td>0.700000</td>\n",
       "      <td>0.000000</td>\n",
       "      <td>0.300000</td>\n",
       "      <td>1.600000</td>\n",
       "    </tr>\n",
       "    <tr>\n",
       "      <th>25%</th>\n",
       "      <td>74.375000</td>\n",
       "      <td>9.975000</td>\n",
       "      <td>12.750000</td>\n",
       "      <td>10.375000</td>\n",
       "    </tr>\n",
       "    <tr>\n",
       "      <th>50%</th>\n",
       "      <td>149.750000</td>\n",
       "      <td>22.900000</td>\n",
       "      <td>25.750000</td>\n",
       "      <td>12.900000</td>\n",
       "    </tr>\n",
       "    <tr>\n",
       "      <th>75%</th>\n",
       "      <td>218.825000</td>\n",
       "      <td>36.525000</td>\n",
       "      <td>45.100000</td>\n",
       "      <td>17.400000</td>\n",
       "    </tr>\n",
       "    <tr>\n",
       "      <th>max</th>\n",
       "      <td>296.400000</td>\n",
       "      <td>49.600000</td>\n",
       "      <td>114.000000</td>\n",
       "      <td>27.000000</td>\n",
       "    </tr>\n",
       "  </tbody>\n",
       "</table>\n",
       "</div>"
      ],
      "text/plain": [
       "               TV       radio   newspaper       sales\n",
       "count  200.000000  200.000000  200.000000  200.000000\n",
       "mean   147.042500   23.264000   30.554000   14.022500\n",
       "std     85.854236   14.846809   21.778621    5.217457\n",
       "min      0.700000    0.000000    0.300000    1.600000\n",
       "25%     74.375000    9.975000   12.750000   10.375000\n",
       "50%    149.750000   22.900000   25.750000   12.900000\n",
       "75%    218.825000   36.525000   45.100000   17.400000\n",
       "max    296.400000   49.600000  114.000000   27.000000"
      ]
     },
     "execution_count": 2,
     "metadata": {},
     "output_type": "execute_result"
    }
   ],
   "source": [
    "adv.describe()"
   ]
  },
  {
   "cell_type": "code",
   "execution_count": 3,
   "metadata": {},
   "outputs": [],
   "source": [
    "# Y is a response variable\n",
    "Y = sales = adv[\"sales\"]\n",
    "\n",
    "# Antag att regression av \"TV\" på \"sales\" är ungefär linjär\n",
    "# Y ≈ beta0 + beta1  * x \n",
    "# sales = beta0 + beta1 * \"TV\"\n",
    "# Modellspecifikationsmatris (designmatris) behöver en 1:a i första kolumnen\n",
    "# 1:a är med för i en matris-lösning så behövs den för att få med beta0 vid beräkning, annars hade beta0 vart 0. \n",
    "\n",
    "# Design matris\n",
    "X = TV = np.column_stack([np.ones(Y.shape[0]), adv[\"TV\"]])\n",
    "\n"
   ]
  },
  {
   "cell_type": "markdown",
   "metadata": {},
   "source": [
    "$\\hat{\\beta}$ = **b** = ($X^{1}$ X) $^{-1}$ $X^{T}$ y"
   ]
  },
  {
   "cell_type": "code",
   "execution_count": 4,
   "metadata": {},
   "outputs": [
    {
     "data": {
      "text/plain": [
       "array([7.03259355, 0.04753664])"
      ]
     },
     "execution_count": 4,
     "metadata": {},
     "output_type": "execute_result"
    }
   ],
   "source": [
    "# Pseudo-invers för prestanda\n",
    "# The @ symbol is the matrix multiplication operator\n",
    "# Får vi lutning på linjen(beta1) och vart den träffar y-axeln(beta0)\n",
    "\n",
    "b = np.linalg.pinv(X.T @ X) @ X.T @Y\n",
    "\n",
    "b"
   ]
  },
  {
   "cell_type": "markdown",
   "metadata": {},
   "source": [
    "Efter regressionen får vi en skattare för y:\n",
    "\n",
    "$\\hat{y}$ = $\\beta_{0}$ + $\\beta_{1}$ * x\n",
    "\n",
    "modellen är alltså = $\\hat{y}$ = 7.03259355 + 0.04753664x - (y = kx + m)"
   ]
  },
  {
   "cell_type": "code",
   "execution_count": 5,
   "metadata": {},
   "outputs": [
    {
     "data": {
      "text/plain": [
       "[<matplotlib.lines.Line2D at 0x21bffe47250>]"
      ]
     },
     "execution_count": 5,
     "metadata": {},
     "output_type": "execute_result"
    },
    {
     "data": {
      "image/png": "[encoded data removed]",
      "text/plain": [
       "<Figure size 640x480 with 1 Axes>"
      ]
     },
     "metadata": {},
     "output_type": "display_data"
    }
   ],
   "source": [
    "plt.scatter(X[:, 1], Y)\n",
    "x = np.linspace(0, 300)\n",
    "y_hat = b[0] + b[1]*x\n",
    "plt.plot(x, y_hat, c= \"red\")"
   ]
  },
  {
   "cell_type": "markdown",
   "metadata": {},
   "source": [
    "SSE = $\\sum^n_{i=1} (y_{i} - \\hat{y}_i)^2$\n",
    "- Avståndet till datapunkterna från regressons linjen. Den ska vara så liten som möjligt."
   ]
  },
  {
   "cell_type": "code",
   "execution_count": 6,
   "metadata": {},
   "outputs": [],
   "source": [
    "# RSS Residual Sum of Squares\n",
    "# SSE Sum of Square Errors\n",
    "# Samma sak! ^\n",
    "# Försöker minimera SSE med minsta kveadrat metoden\n",
    "\n",
    "# n är sickprovs storleken\n",
    "n = Y.shape[0]\n",
    "\n",
    "# antalet parametrar, bara \"TV\" i detta fall, så 1, antalet variablar\n",
    "v = X.shape[1] - 1\n",
    "\n",
    "SSE = np.sum(np.square(Y - (X @ b)))\n",
    "\n",
    "# print(np.column_stack([Y, X]))\n",
    "\n",
    "\n",
    "\n"
   ]
  },
  {
   "cell_type": "markdown",
   "metadata": {},
   "source": [
    "SSR = $\\sum_{i=1}^{n} (\\hat{Y}_i ​− \\overline{Y})^2$\n",
    "\n",
    "- $\\hat{Y}_i$ = Y i Regrissions linjen.\n",
    "- $\\overline{Y}$ = Mean av Y faktiska värde \n",
    "\n",
    "Variance = $\\sigma^2 = \\frac{1}{n} E[(\\hat{Y} – E[\\hat{Y}])^2]$\n",
    "\n",
    "\n",
    "$\\texttt{Cov}$(X,Y) = E[(X - $\\mu_{x}$)(Y - $\\mu_{y})] = E[XY]-E[X]E[Y]$\n",
    "\n",
    "Är avvikelsen i det faktiska Y(beroende variablen) och X(oberoende variabel).  \n",
    "\n",
    "$Syy​ = \\sum^n_{i=1}​(y_i​ − \\overline{y})^2$ och $Sxx​ = \\sum^n_{i=1}​(x_i​ − \\overline{x})^2$ \n",
    "\n",
    "\n",
    "$S_{xy} = \\sum^n_{i=1} (X_i-\\overline{x})(Y-\\overline{y})$\n",
    "\n",
    "Om X och Y är oberoende så är Cov(X, Y) = 0, men vi kan ine anta det omvända. Dvs Cov = 0 betyder inte nödvendigtvis att X eller Y är oberoende, men de är åtminstone inte linjärt.\n",
    "Vi vill att alla X ska vara oberoende, men alla Y ska vara beroende. Så Cov variansen ska vara = 0 över alla X. Annars är har vi ingen linjär linje.  \n",
    "\n"
   ]
  },
  {
   "cell_type": "markdown",
   "metadata": {},
   "source": [
    "\n",
    "Standardfel kring medlet: $Var(\\hat{\\sigma}) = SE(\\hat{\\sigma})^2 = \\frac{\\sigma^2}{n}$"
   ]
  },
  {
   "cell_type": "code",
   "execution_count": 33,
   "metadata": {},
   "outputs": [
    {
     "name": "stdout",
     "output_type": "stream",
     "text": [
      "Confidence interval on predictor Beta-1: 7.0326 -+ 0.0054\n"
     ]
    }
   ],
   "source": [
    "# Detta är stickprovs variansen, inte populationen, Sigma^2\n",
    "var = SSE/(n-v-1)\n",
    "\n",
    "# Sigma, residual standard error, skrivs \"S\" i kod, även RSE\n",
    "# Alltså en uppskattning av standardfelet\n",
    "S = np.sqrt(var)\n",
    "\n",
    "# Sum of Squares Regression, det fatiska felet mot regrissions linjen\n",
    "SSR = np.sum(b*(X.T @ Y)) - (np.square(np.sum(Y))/n)\n",
    "\n",
    "# Avvikelsen i y-vectorn, respons variablen, \n",
    "Syy = np.sum(np.square(Y)) - (np.square(np.sum(Y))/n)\n",
    "\n",
    "# Avvikelsen i x-vectorn, \n",
    "Sxx = np.sum(np.square(X[:, 1])) - (np.square(np.sum(X[:, 1]))/n)\n",
    "\n",
    "# Avvikelsen för båda, Covariance or cross-product term\n",
    "Sxy = (np.sum(X[:, 1] * Y) - (np.sum(X[:, 1])*np.sum(Y))/n)\n",
    "\n",
    "# Standard error (of the mean), variasnen på stickprovets storlek\n",
    "SE = var / n\n",
    "\n",
    "# Squer of standard error of Beta-1, slope, lutningen på regrisson linjen\n",
    "# = var/Sxx\n",
    "se_b1 = var/Sxx\n",
    "\n",
    "# Confidence interval on predictor Beta-1\n",
    "ci_b1 = (b[0], 2*np.sqrt(se_b1))\n",
    "\n",
    "\n",
    "print (f\"Confidence interval on predictor Beta-1: {ci_b1[0]:.4f} -+ {ci_b1[1]:.4f}\")\n"
   ]
  },
  {
   "cell_type": "code",
   "execution_count": 34,
   "metadata": {},
   "outputs": [
    {
     "data": {
      "text/plain": [
       "np.float64(10.618841328946218)"
      ]
     },
     "execution_count": 34,
     "metadata": {},
     "output_type": "execute_result"
    }
   ],
   "source": [
    "var"
   ]
  },
  {
   "cell_type": "markdown",
   "metadata": {},
   "source": [
    "Detta är väldigt ungefärligt intervall på 95% ($\\sigma 2$). Om vi kör regrssionen många gånger på delmängden av data (som skall ha samma medel, dvs vara balanserad) så väntar vi oss att 95% av värden hamnar melllan 0.052 och 0.042 "
   ]
  },
  {
   "cell_type": "code",
   "execution_count": 35,
   "metadata": {},
   "outputs": [
    {
     "data": {
      "text/plain": [
       "np.float64(0.30456485619452545)"
      ]
     },
     "execution_count": 35,
     "metadata": {},
     "output_type": "execute_result"
    }
   ],
   "source": [
    "\n",
    "#se_intercept = var * (1/n * (np.squer(np.mean(X)) / np.square((np.sum(X[:,1] - )))\n",
    "\n",
    "# Standar error intercept \n",
    "x_mean = np.mean(X)\n",
    "se_b0 = var * ((1/n)+(np.square(x_mean)/Sxx))\n",
    "np.sqrt(se_b0)\n"
   ]
  },
  {
   "cell_type": "code",
   "execution_count": 36,
   "metadata": {},
   "outputs": [
    {
     "data": {
      "text/plain": [
       "(np.float64(7.03259354913008), np.float64(0.6091297123890509))"
      ]
     },
     "execution_count": 36,
     "metadata": {},
     "output_type": "execute_result"
    }
   ],
   "source": [
    "ci_b1 = (b[0], 2*np.sqrt(se_b0))\n",
    "# print(f\"Confidence interval on predictor β0: {ci_b1[0]:.3f} ± {ci_b1[1]:.3f} interval: [{b[0]- ci_b1[1]:.3f}, {b[0]+ ci_b1[1]:.3f}]\")\n",
    "\n",
    "ci_b1"
   ]
  },
  {
   "cell_type": "markdown",
   "metadata": {},
   "source": [
    "### Hypotestestning\n",
    "Noll-hypotes\n",
    "\n",
    "$H_0$ : There is no relationshp between X and Y\n",
    "\n",
    "Alternativ hypotes:\n",
    "\n",
    "$H_a$ : There is relationshp between X and Y\n",
    "\n",
    "$H_0$ : $\\beta_1$ = 0\n",
    "\n",
    "$H_a$ : $\\beta_1 \\neq$ 0\n",
    "\n",
    "T-statistika för att testa relevans\n",
    "\n",
    "\\begin{equation*}\n",
    "t = \\frac{\\hat{\\beta_1} - \\mathbb{0}}{SE(\\hat{\\beta_1})}\n",
    "\\end{equation*}"
   ]
  },
  {
   "cell_type": "code",
   "execution_count": 37,
   "metadata": {},
   "outputs": [
    {
     "data": {
      "text/plain": [
       "np.float64(0.5124705445874933)"
      ]
     },
     "execution_count": 37,
     "metadata": {},
     "output_type": "execute_result"
    }
   ],
   "source": [
    "# Detta är kallas ett P värde\n",
    "t = b[1]/se_b0\n",
    "t\n",
    "\n",
    "# t => antalet standard deviatoiner bort ett värde 0 för β1 skulle vara, om t=2 är det alltså 95% chans att det är korrekt. \n",
    "# Ett värde på 17 (dvs 17σ) motsvarar ett tal med 42 nollor efter decimalpunkten innan första signifikanta siffran.\n",
    "# Detta värdet är rimligheten att den är med i distrubutionen. Är lutningen på regressions lijen 0, nej om det är stort värde. "
   ]
  },
  {
   "cell_type": "markdown",
   "metadata": {},
   "source": [
    "Ok, så regression är relvenat, men hur bra är den? \n",
    "\n",
    "$$\\hat{\\rho} = r = \\frac{S_{xy}}{\\sqrt{S_{xx}{S_{yy}}}}$$\n",
    "\n",
    "En Starkare egenskap är korrelation (Perason coefficient of correlation), som är ett värde mellan -1 och 1 (inklusive ändpunkterna).\n",
    "Låt $X$ och $Y$ vara slumpvariabler med medel $\\overline{X}$ respektive $\\overline{Y}$ samt varianser $\\sigma_X^2$ och $\\sigma_Y^2$. Korrelation mellan X och Y ges då av:\n",
    "\n",
    "Om Personkoefficienten är 1 eller -1 (|$\\rho_{XY}$| = 1) då har vi visat att det finns en ekvation : Y = $\\beta_0 + \\beta_1$ X"
   ]
  },
  {
   "cell_type": "code",
   "execution_count": 38,
   "metadata": {},
   "outputs": [
    {
     "name": "stdout",
     "output_type": "stream",
     "text": [
      "scipy.stats pearsonnr objekt: PearsonRResult(statistic=np.float64(1.0), pvalue=np.float64(0.0))\n",
      "scipy.stats korrelation: 1.0\n",
      "sqrt(R²):\t\t nan\n",
      "R²:\t\t\t -2.6194035841791985\n",
      "Alternativ R²: \t\t 0.9985666053262732\n",
      "r²:                      1.0\n",
      "Beräkning av r och R² i flera steg: 1.0, 1.0\n"
     ]
    },
    {
     "name": "stderr",
     "output_type": "stream",
     "text": [
      "C:\\Users\\User\\AppData\\Local\\Temp\\ipykernel_4584\\2943625742.py:6: RuntimeWarning: invalid value encountered in sqrt\n",
      "  print(f\"scipy.stats korrelation: {r.correlation}\\nsqrt(R²):\\t\\t {np.sqrt(Rsq)}\\nR²:\\t\\t\\t {Rsq}\\nAlternativ R²: \\t\\t {1 - (SSE/Syy)}\\nr²:                      {np.square(r.correlation)}\\nBeräkning av r och R² i flera steg: {rho}, {rho**2}\")\n"
     ]
    }
   ],
   "source": [
    "import scipy.stats as stats\n",
    "rho = Sxy / (np.sqrt(Sxx*Syy))\n",
    "Rsq = SSR/Syy\n",
    "r = stats.pearsonr(X[:, 1], Y)\n",
    "print(f\"scipy.stats pearsonnr objekt: {r}\")\n",
    "print(f\"scipy.stats korrelation: {r.correlation}\\nsqrt(R²):\\t\\t {np.sqrt(Rsq)}\\nR²:\\t\\t\\t {Rsq}\\nAlternativ R²: \\t\\t {1 - (SSE/Syy)}\\nr²:                      {np.square(r.correlation)}\\nBeräkning av r och R² i flera steg: {rho}, {rho**2}\")\n",
    "\n",
    "# Tänk på att datorer har begränsad möjlighet att vissa flyt tal. Det finns ett litet fel mellan talen.\n",
    "# När man gör många oprationer på tal så blir felen större. Så viktigt att begränsa antalet oprationer på värdena. \n",
    "# R^2 vissar hur mycket av värdena täcks av regressions linjen = vilken significans har linjen. Så om värdet är högt, finns det stor linjär signifikans."
   ]
  },
  {
   "cell_type": "code",
   "execution_count": 39,
   "metadata": {},
   "outputs": [
    {
     "data": {
      "text/plain": [
       "1      230.1\n",
       "2       44.5\n",
       "3       17.2\n",
       "4      151.5\n",
       "5      180.8\n",
       "       ...  \n",
       "196     38.2\n",
       "197     94.2\n",
       "198    177.0\n",
       "199    283.6\n",
       "200    232.1\n",
       "Name: TV, Length: 200, dtype: float64"
      ]
     },
     "execution_count": 39,
     "metadata": {},
     "output_type": "execute_result"
    }
   ],
   "source": [
    "\n",
    "\n",
    "Y = adv[\"TV\"]\n",
    "\n",
    "\n",
    "X = np.column_stack([np.ones(Y.shape[0]), adv[\"TV\"]])\n",
    "Y\n",
    "stats.pearsonr(X[:, 1], Y)\n",
    "\n",
    "Y"
   ]
  }
 ],
 "metadata": {
  "kernelspec": {
   "display_name": ".venv",
   "language": "python",
   "name": "python3"
  },
  "language_info": {
   "codemirror_mode": {
    "name": "ipython",
    "version": 3
   },
   "file_extension": ".py",
   "mimetype": "text/x-python",
   "name": "python",
   "nbconvert_exporter": "python",
   "pygments_lexer": "ipython3",
   "version": "3.13.1"
  }
 },
 "nbformat": 4,
 "nbformat_minor": 2
}
