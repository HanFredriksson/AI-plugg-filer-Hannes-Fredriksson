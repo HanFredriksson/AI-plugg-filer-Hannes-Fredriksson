{
 "cells": [
  {
   "cell_type": "markdown",
   "metadata": {},
   "source": [
    "# Multipal linear regression\n",
    "\n",
    "$\\hat{y} = \\beta_{0} + \\beta_{1}x_1 + \\beta_{2}x_2 + \\beta_{3}x_3 + .....+ \\beta_{n}x_n+\\epsilon$\n",
    "\n",
    "**Y** = **X**$\\beta$+**E**\n",
    "\n",
    "Där **X** är modellspecefikations matris. **E** är vektorn med stokastiska fel med avseende på väntevärdet och **Y** är respons vektor för Y över hela stickprovet. "
   ]
  },
  {
   "cell_type": "code",
   "execution_count": 121,
   "metadata": {},
   "outputs": [],
   "source": [
    "import pandas as pd\n",
    "import numpy as np\n",
    "import matplotlib.pyplot as plt\n",
    "\n",
    "data_path = \"../Data/Advertising.csv\"\n",
    "\n",
    "adv = pd.read_csv(data_path, index_col= 0)\n",
    "\n",
    "adv.head()\n",
    "Y = adv[\"sales\"].to_numpy()\n",
    "\n",
    "X = np.column_stack([np.ones(Y.shape[0]), adv[\"TV\"], adv[\"radio\"]])\n"
   ]
  },
  {
   "cell_type": "markdown",
   "metadata": {},
   "source": [
    "$\\hat{\\beta} = (X^TX)^{-1}X^TY$\n",
    "\n",
    "SSE = $\\frac{1}{n} \\sum_{i=1}^{n} [y_i - (b_0 +b_1x_{1i}+...+b_kx_{ki})]^2$"
   ]
  },
  {
   "cell_type": "code",
   "execution_count": 122,
   "metadata": {},
   "outputs": [],
   "source": [
    "b = np.linalg.pinv(X.T @ X) @ X.T @ Y\n",
    "\n",
    "k = len(b)-1\n",
    "n = Y.shape[0]\n",
    "\n",
    "# Hela mellan vår punkt och sanna medlet\n",
    "SSE = np.sum(np.square(Y -(X @ b)))\n",
    "var = SSE / (n-k-1)\n",
    "S = np.sqrt(var)\n",
    "Syy = np.sum(np.square(Y)) - (np.square(np.sum(Y)))/n\n",
    "\n",
    "SSR = SSE - Syy\n",
    "\n",
    "# Residualen under linjen\n",
    "# SSR är den delen av felet vi har skapat\n",
    "SSR_2 = np.sum(b*(X.T @ Y)) - (np.square(np.sum(Y))/n)\n",
    "\n",
    "# SSR, SSR_2\n",
    "\n",
    "\n",
    "\n"
   ]
  },
  {
   "cell_type": "code",
   "execution_count": 123,
   "metadata": {},
   "outputs": [
    {
     "data": {
      "text/plain": [
       "<matplotlib.collections.PathCollection at 0x1f5f16ed310>"
      ]
     },
     "execution_count": 123,
     "metadata": {},
     "output_type": "execute_result"
    },
    {
     "data": {
      "image/png": "[encoded data removed]",
      "text/plain": [
       "<Figure size 640x480 with 1 Axes>"
      ]
     },
     "metadata": {},
     "output_type": "display_data"
    }
   ],
   "source": [
    "plt.scatter(Y, X @ b)"
   ]
  },
  {
   "cell_type": "code",
   "execution_count": 124,
   "metadata": {},
   "outputs": [
    {
     "data": {
      "text/plain": [
       "array([2.92109991, 0.04575482, 0.18799423])"
      ]
     },
     "execution_count": 124,
     "metadata": {},
     "output_type": "execute_result"
    }
   ],
   "source": [
    "b"
   ]
  },
  {
   "cell_type": "code",
   "execution_count": 125,
   "metadata": {},
   "outputs": [
    {
     "data": {
      "text/plain": [
       "np.float64(-0.8971942610828956)"
      ]
     },
     "execution_count": 125,
     "metadata": {},
     "output_type": "execute_result"
    }
   ],
   "source": [
    "# Confidence. Så vi kan välja 90% som konfidens grad. \n",
    "Rsq = SSR/Syy\n",
    "\n",
    "Rsq"
   ]
  },
  {
   "cell_type": "code",
   "execution_count": 126,
   "metadata": {},
   "outputs": [
    {
     "data": {
      "text/plain": [
       "(np.float64(-4860.234769932382),\n",
       " np.float64(-1445.327631258721),\n",
       " np.float64(1.0))"
      ]
     },
     "execution_count": 126,
     "metadata": {},
     "output_type": "execute_result"
    }
   ],
   "source": [
    "import scipy.stats as stats\n",
    "\n",
    "# H0: all beta = 0\n",
    "sig_statistic = (SSR/k)/S\n",
    "p_significance = stats.f.sf(sig_statistic, k, n-k-1)\n",
    "\n",
    "SSR, sig_statistic, p_significance\n",
    "\n",
    "# We reject the null hypothesis, regression IS significant"
   ]
  },
  {
   "cell_type": "markdown",
   "metadata": {},
   "source": [
    "Variance/Co-variance matrix:\n",
    "$c = (X^TX)^{-1}\\sigma^2$"
   ]
  },
  {
   "cell_type": "code",
   "execution_count": 127,
   "metadata": {},
   "outputs": [
    {
     "data": {
      "text/plain": [
       "array([2.92109991, 0.04575482, 0.18799423])"
      ]
     },
     "execution_count": 127,
     "metadata": {},
     "output_type": "execute_result"
    }
   ],
   "source": [
    "b"
   ]
  },
  {
   "cell_type": "code",
   "execution_count": 128,
   "metadata": {},
   "outputs": [
    {
     "data": {
      "text/plain": [
       "np.float64(4.4038657155173346e-48)"
      ]
     },
     "execution_count": 128,
     "metadata": {},
     "output_type": "execute_result"
    }
   ],
   "source": [
    "# Check if one variabel is significant, ex Radio ads in this case.\n",
    "# This depends also on if our signification levle is lower the P value. \n",
    "# If P value is higer, it is not sigificant to our signification level. \n",
    "\n",
    "c = np.linalg.pinv(X.T @ X) * var\n",
    "\n",
    "# H0: b3 is irrelevant, beta3 = 0, visar hur sann noll-hypotesen\n",
    "b3_statistic = b[1] / (S*np.sqrt(c[1, 1]))\n",
    "\n",
    "p_b3 = 2*min(stats.t.cdf(b3_statistic, n-k-1), stats.t.sf(b3_statistic, n-k-1))\n",
    "\n",
    "p_b3\n",
    "\n",
    "# Här är slutsatsen visar på att variabeln är noll-hypotesen och då kan vi plocka bort den.\n",
    "# Den har inget värde i modellen, för den är inte signifikant"
   ]
  }
 ],
 "metadata": {
  "kernelspec": {
   "display_name": ".venv",
   "language": "python",
   "name": "python3"
  },
  "language_info": {
   "codemirror_mode": {
    "name": "ipython",
    "version": 3
   },
   "file_extension": ".py",
   "mimetype": "text/x-python",
   "name": "python",
   "nbconvert_exporter": "python",
   "pygments_lexer": "ipython3",
   "version": "3.13.1"
  }
 },
 "nbformat": 4,
 "nbformat_minor": 2
}
