{
 "cells": [
  {
   "cell_type": "markdown",
   "metadata": {},
   "source": [
    "### Statistic calculations"
   ]
  },
  {
   "cell_type": "code",
   "execution_count": null,
   "metadata": {},
   "outputs": [
    {
     "name": "stdout",
     "output_type": "stream",
     "text": [
      "60480\n"
     ]
    }
   ],
   "source": [
    "import math\n",
    "# Assignemnet 4, a: \n",
    "\n",
    "teams = ((10, 3), (8, 2), (4, 2), (3, 1))\n",
    "\n",
    "count = [math.comb(i[0], i[1]) for i in teams]\n",
    "\n",
    "outcomes = math.prod(count)\n",
    " \n",
    "\n",
    "print(outcomes)\n"
   ]
  },
  {
   "cell_type": "code",
   "execution_count": 3,
   "metadata": {},
   "outputs": [
    {
     "name": "stdout",
     "output_type": "stream",
     "text": [
      "30240\n"
     ]
    }
   ],
   "source": [
    "# b)\n",
    "\n",
    "teams = ((10, 3), (8, 2), (3, 1), (3, 1))\n",
    "\n",
    "count = [math.comb(i[0], i[1]) for i in teams]\n",
    "\n",
    "outcomes = math.prod(count)\n",
    " \n",
    "\n",
    "print(outcomes)\n",
    "\n"
   ]
  },
  {
   "cell_type": "code",
   "execution_count": null,
   "metadata": {},
   "outputs": [],
   "source": [
    "\n",
    "\n",
    "count = [math.comb(i[0], i[1]) for i in teams]\n",
    "\n",
    "outcomes = math.prod(count)\n",
    " \n",
    "\n",
    "print(outcomes)\n"
   ]
  },
  {
   "cell_type": "code",
   "execution_count": 14,
   "metadata": {},
   "outputs": [
    {
     "name": "stdout",
     "output_type": "stream",
     "text": [
      "For a) 0.42 or 0.42\n",
      "For b) 0.46\n"
     ]
    }
   ],
   "source": [
    "# Red unit success = 60%\n",
    "# Blue unit = 70%\n",
    "# Only red = 18%\n",
    "# a) Probabillity of P(A && B)\n",
    "# b) Probabillity of P(A xor B)\n",
    "# P(A) = .6\n",
    "# P(B) = .7\n",
    "# P(A && !B) = .18\n",
    "\n",
    "# Multiplikationsregeln\n",
    "#P(A && B) = P(B|A)*P(B)\n",
    "\n",
    "print(f\"For a) {.6*.70} or {.6-.18}\")\n",
    "\n",
    "print(f\"For b) {.7-.42 + .18:.2}\")"
   ]
  }
 ],
 "metadata": {
  "kernelspec": {
   "display_name": ".venv",
   "language": "python",
   "name": "python3"
  },
  "language_info": {
   "codemirror_mode": {
    "name": "ipython",
    "version": 3
   },
   "file_extension": ".py",
   "mimetype": "text/x-python",
   "name": "python",
   "nbconvert_exporter": "python",
   "pygments_lexer": "ipython3",
   "version": "3.12.5"
  }
 },
 "nbformat": 4,
 "nbformat_minor": 2
}
