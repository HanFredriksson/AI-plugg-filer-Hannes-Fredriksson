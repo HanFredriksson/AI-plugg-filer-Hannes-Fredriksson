{
 "cells": [
  {
   "cell_type": "markdown",
   "metadata": {},
   "source": [
    "# Labb Statistiska Metoder - Small Diameter Flow"
   ]
  },
  {
   "cell_type": "code",
   "execution_count": 578,
   "metadata": {},
   "outputs": [],
   "source": [
    "import LinearRegressionFunctions as lrf\n",
    "import pandas as pd\n",
    "import scipy.stats as stats\n",
    "\n",
    "flow_data = pd.read_csv(\"../Data/Small-diameter-flow.csv\", index_col=\"Unnamed: 0\")\n",
    "\n",
    "flow_data_std = pd.DataFrame()\n",
    "\n",
    "#Standardize Data\n",
    "for col in flow_data.columns:\n",
    "    flow_data_std[col] = stats.zscore(flow_data[col])\n",
    "\n",
    "mlr = lrf.LinearRegression(flow_data_std)\n",
    "\n",
    "\n",
    "\n",
    "mlr.sample_size = [\"Flow\"]\n",
    "mlr.params = [\"Kinematic\", \"Geometric\", \"Inertial\", \"Observer\"] \n",
    "\n",
    "\n",
    "mlr.fit()\n",
    "\n",
    "\n"
   ]
  },
  {
   "cell_type": "code",
   "execution_count": 579,
   "metadata": {},
   "outputs": [
    {
     "name": "stdout",
     "output_type": "stream",
     "text": [
      "Significance tests on individual variables\n",
      "\n",
      "Beta-0: [1.]\n",
      "Beta-1: [1.78792057e-268]\n",
      "Beta-2: [0.]\n",
      "Beta-3: [1.46558092e-274]\n"
     ]
    }
   ],
   "source": [
    "# Significance tests on individual variables.\n",
    "\n",
    "dict_sig = mlr.Significance_individual_variables()\n",
    "\n",
    "print(\"Significance tests on individual variables\\n\")\n",
    "\n",
    "for key in dict_sig:\n",
    "     print(f\"{key}: {dict_sig[key]}\")"
   ]
  },
  {
   "cell_type": "code",
   "execution_count": 580,
   "metadata": {},
   "outputs": [
    {
     "data": {
      "text/plain": [
       "array([[-8.88178420e-16],\n",
       "       [ 2.87218576e-01],\n",
       "       [ 1.10963846e+00],\n",
       "       [-3.93924385e-01]])"
      ]
     },
     "execution_count": 580,
     "metadata": {},
     "output_type": "execute_result"
    }
   ],
   "source": [
    "mlr.coefficients"
   ]
  },
  {
   "cell_type": "code",
   "execution_count": 581,
   "metadata": {},
   "outputs": [
    {
     "name": "stdout",
     "output_type": "stream",
     "text": [
      "Variance:                     0.0029381084042615223\n",
      "Standard deviation:           0.05420432090028914\n",
      "Significance of regression:   2.0572503573131086e-125\n",
      "Relevance of regression (R2): 0.9971212473210771\n",
      "Confidence level, %:          99.7121\n"
     ]
    }
   ],
   "source": [
    "# Methods for grad G and Confidence level \n",
    "\n",
    "print(f\"Variance:                     {mlr.variance()}\")\n",
    "print(f\"Standard deviation:           {mlr.sigma()}\")\n",
    "print(f\"Significance of regression:   {mlr.significans()}\")\n",
    "print(f\"Relevance of regression (R2): {mlr.R2()}\")\n",
    "print(f\"Confidence level, %:          {mlr.R2()* 100:.4f}\")\n"
   ]
  },
  {
   "cell_type": "code",
   "execution_count": 582,
   "metadata": {},
   "outputs": [
    {
     "data": {
      "text/html": [
       "<div>\n",
       "<style scoped>\n",
       "    .dataframe tbody tr th:only-of-type {\n",
       "        vertical-align: middle;\n",
       "    }\n",
       "\n",
       "    .dataframe tbody tr th {\n",
       "        vertical-align: top;\n",
       "    }\n",
       "\n",
       "    .dataframe thead th {\n",
       "        text-align: right;\n",
       "    }\n",
       "</style>\n",
       "<table border=\"1\" class=\"dataframe\">\n",
       "  <thead>\n",
       "    <tr style=\"text-align: right;\">\n",
       "      <th></th>\n",
       "      <th>Params</th>\n",
       "      <th>Flow</th>\n",
       "      <th>Kinematic</th>\n",
       "      <th>Geometric</th>\n",
       "      <th>Inertial</th>\n",
       "      <th>Observer</th>\n",
       "    </tr>\n",
       "  </thead>\n",
       "  <tbody>\n",
       "    <tr>\n",
       "      <th>0</th>\n",
       "      <td>Flow</td>\n",
       "      <td>1.000000</td>\n",
       "      <td>0.863403</td>\n",
       "      <td>0.995794</td>\n",
       "      <td>0.903310</td>\n",
       "      <td>0.181490</td>\n",
       "    </tr>\n",
       "    <tr>\n",
       "      <th>1</th>\n",
       "      <td>Kinematic</td>\n",
       "      <td>0.863403</td>\n",
       "      <td>1.000000</td>\n",
       "      <td>0.863135</td>\n",
       "      <td>0.968671</td>\n",
       "      <td>0.103227</td>\n",
       "    </tr>\n",
       "    <tr>\n",
       "      <th>2</th>\n",
       "      <td>Geometric</td>\n",
       "      <td>0.995794</td>\n",
       "      <td>0.863135</td>\n",
       "      <td>1.000000</td>\n",
       "      <td>0.918330</td>\n",
       "      <td>0.175199</td>\n",
       "    </tr>\n",
       "    <tr>\n",
       "      <th>3</th>\n",
       "      <td>Inertial</td>\n",
       "      <td>0.903310</td>\n",
       "      <td>0.968671</td>\n",
       "      <td>0.918330</td>\n",
       "      <td>1.000000</td>\n",
       "      <td>0.121981</td>\n",
       "    </tr>\n",
       "    <tr>\n",
       "      <th>4</th>\n",
       "      <td>Observer</td>\n",
       "      <td>0.181490</td>\n",
       "      <td>0.103227</td>\n",
       "      <td>0.175199</td>\n",
       "      <td>0.121981</td>\n",
       "      <td>1.000000</td>\n",
       "    </tr>\n",
       "  </tbody>\n",
       "</table>\n",
       "</div>"
      ],
      "text/plain": [
       "      Params      Flow  Kinematic  Geometric  Inertial  Observer\n",
       "0       Flow  1.000000   0.863403   0.995794  0.903310  0.181490\n",
       "1  Kinematic  0.863403   1.000000   0.863135  0.968671  0.103227\n",
       "2  Geometric  0.995794   0.863135   1.000000  0.918330  0.175199\n",
       "3   Inertial  0.903310   0.968671   0.918330  1.000000  0.121981\n",
       "4   Observer  0.181490   0.103227   0.175199  0.121981  1.000000"
      ]
     },
     "execution_count": 582,
     "metadata": {},
     "output_type": "execute_result"
    }
   ],
   "source": [
    "# A function or method that calculates the Pearson number between all pairs of parameters.\n",
    "\n",
    "p_dict = mlr.p_value_pairs_param()\n",
    "p_value_pairs_param_df = pd.DataFrame(p_dict) \n",
    "p_value_pairs_param_df"
   ]
  },
  {
   "cell_type": "code",
   "execution_count": 583,
   "metadata": {},
   "outputs": [
    {
     "data": {
      "text/html": [
       "<div>\n",
       "<style scoped>\n",
       "    .dataframe tbody tr th:only-of-type {\n",
       "        vertical-align: middle;\n",
       "    }\n",
       "\n",
       "    .dataframe tbody tr th {\n",
       "        vertical-align: top;\n",
       "    }\n",
       "\n",
       "    .dataframe thead th {\n",
       "        text-align: right;\n",
       "    }\n",
       "</style>\n",
       "<table border=\"1\" class=\"dataframe\">\n",
       "  <thead>\n",
       "    <tr style=\"text-align: right;\">\n",
       "      <th></th>\n",
       "      <th>Intervals</th>\n",
       "      <th>Beta-0</th>\n",
       "      <th>Beta-1</th>\n",
       "      <th>Beta-2</th>\n",
       "      <th>Beta-3</th>\n",
       "    </tr>\n",
       "  </thead>\n",
       "  <tbody>\n",
       "    <tr>\n",
       "      <th>0</th>\n",
       "      <td>Parameters value</td>\n",
       "      <td>-8.881784e-16</td>\n",
       "      <td>2.872186e-01</td>\n",
       "      <td>1.109638e+00</td>\n",
       "      <td>-3.939244e-01</td>\n",
       "    </tr>\n",
       "    <tr>\n",
       "      <th>1</th>\n",
       "      <td>Error Margen</td>\n",
       "      <td>1.387815e-20</td>\n",
       "      <td>5.801721e-20</td>\n",
       "      <td>3.640202e-20</td>\n",
       "      <td>7.401713e-20</td>\n",
       "    </tr>\n",
       "    <tr>\n",
       "      <th>2</th>\n",
       "      <td>Upper</td>\n",
       "      <td>-8.881645e-16</td>\n",
       "      <td>2.872186e-01</td>\n",
       "      <td>1.109638e+00</td>\n",
       "      <td>-3.939244e-01</td>\n",
       "    </tr>\n",
       "    <tr>\n",
       "      <th>3</th>\n",
       "      <td>Lower</td>\n",
       "      <td>-8.881923e-16</td>\n",
       "      <td>2.872186e-01</td>\n",
       "      <td>1.109638e+00</td>\n",
       "      <td>-3.939244e-01</td>\n",
       "    </tr>\n",
       "  </tbody>\n",
       "</table>\n",
       "</div>"
      ],
      "text/plain": [
       "          Intervals        Beta-0        Beta-1        Beta-2        Beta-3\n",
       "0  Parameters value -8.881784e-16  2.872186e-01  1.109638e+00 -3.939244e-01\n",
       "1      Error Margen  1.387815e-20  5.801721e-20  3.640202e-20  7.401713e-20\n",
       "2             Upper -8.881645e-16  2.872186e-01  1.109638e+00 -3.939244e-01\n",
       "3             Lower -8.881923e-16  2.872186e-01  1.109638e+00 -3.939244e-01"
      ]
     },
     "execution_count": 583,
     "metadata": {},
     "output_type": "execute_result"
    }
   ],
   "source": [
    "# Confidence intervals on individual parameters.\n",
    "\n",
    "confi_lvl_dict = mlr.confidence_interval_parameters()\n",
    "index = [\"Predictor value\", \"Upper\", \"Lower\"]\n",
    "df_1 = pd.DataFrame(confi_lvl_dict)\n",
    "df_1\n",
    "\n"
   ]
  },
  {
   "cell_type": "markdown",
   "metadata": {},
   "source": [
    "# Question\n",
    "**”Is there an observer bias in the data collected for the small-diameter flow measurements?\"**\n",
    "\n"
   ]
  },
  {
   "cell_type": "code",
   "execution_count": 587,
   "metadata": {},
   "outputs": [],
   "source": [
    "# flow_data_0 = flow_data.loc[(flow_data[\"Observer\"] == 0)]\n",
    "# flow_data_1 = flow_data.loc[(flow_data[\"Observer\"] == 1)]\n",
    "\n",
    "mlr_0 = lrf.LinearRegression(flow_data)\n",
    "mlr_1 = lrf.LinearRegression(flow_data)\n",
    "\n",
    "mlr_1.sample_size = [\"Flow\"]\n",
    "mlr_1.params = [\"Kinematic\", \"Geometric\", \"Inertial\", \"Observer\"] \n",
    "mlr_0.sample_size = [\"Flow\"]\n",
    "mlr_0.params = [\"Kinematic\", \"Geometric\", \"Inertial\"] \n",
    "\n",
    "mlr_1.fit()\n",
    "mlr_0.fit()\n",
    "\n",
    "# # mlr_0.coefficients = mlr.coefficients\n",
    "# # mlr_1.coefficients = mlr.coefficients\n",
    "\n",
    "# mlr_0.coefficients, mlr_1.coefficients, mlr.coefficients\n",
    "\n",
    "# flow_data_0.describe(), flow_data.describe()\n",
    "\n",
    "\n"
   ]
  },
  {
   "cell_type": "code",
   "execution_count": 588,
   "metadata": {},
   "outputs": [
    {
     "name": "stdout",
     "output_type": "stream",
     "text": [
      "Variance:                     Observer 0:    0.0063086854875835045\n",
      "Variance:                     All varibales: 0.006272292538356665\n",
      "\n",
      "Standard deviation:           Observer 0:    0.07942723391622993\n",
      "Standard deviation:           All varibales: 0.07919780639864128\n",
      "\n",
      "Significance of regression:   Observer 0:    7.998510998158917e-141\n",
      "Significance of regression:   All varibales: 1.7265182348561856e-139\n",
      "\n",
      "Relevance of regression (R2): Observer 0:    0.997121247321077\n",
      "Relevance of regression (R2): All varibales: 0.9971526073276518\n",
      "\n",
      "Confidence level, %:          Observer 0:    99.7121\n",
      "Confidence level, %:          All varibales: 99.7153\n",
      "\n"
     ]
    }
   ],
   "source": [
    "# Methods for grad G and Confidence level \n",
    "\n",
    "print(f\"Variance:                     Observer 0:    {mlr_0.variance()}\")\n",
    "print(f\"Variance:                     All varibales: {mlr_1.variance()}\\n\")\n",
    "\n",
    "print(f\"Standard deviation:           Observer 0:    {mlr_0.sigma()}\")\n",
    "print(f\"Standard deviation:           All varibales: {mlr_1.sigma()}\\n\")\n",
    "\n",
    "print(f\"Significance of regression:   Observer 0:    {mlr_0.significans()}\")\n",
    "print(f\"Significance of regression:   All varibales: {mlr_1.significans()}\\n\")\n",
    "\n",
    "print(f\"Relevance of regression (R2): Observer 0:    {mlr_0.R2()}\")\n",
    "print(f\"Relevance of regression (R2): All varibales: {mlr_1.R2()}\\n\")\n",
    "\n",
    "print(f\"Confidence level, %:          Observer 0:    {mlr_0.R2()* 100:.4f}\")\n",
    "print(f\"Confidence level, %:          All varibales: {mlr_1.R2()* 100:.4f}\\n\")"
   ]
  },
  {
   "cell_type": "code",
   "execution_count": 589,
   "metadata": {},
   "outputs": [
    {
     "name": "stdout",
     "output_type": "stream",
     "text": [
      "Significance tests on individual All varibales\n",
      "\n",
      "Beta-0: [3.22736887e-147]\n",
      "Beta-1: [5.73058004e-236]\n",
      "Beta-2: [0.]\n",
      "Beta-3: [1.16280667e-241]\n",
      "Beta-4: [2.34224112e-44]\n",
      "Significance tests on individual variables no observer\n",
      "\n",
      "Beta-0: [1.36944285e-146]\n",
      "Beta-1: [2.27997786e-236]\n",
      "Beta-2: [0.]\n",
      "Beta-3: [1.91928308e-242]\n"
     ]
    }
   ],
   "source": [
    "# Significance tests on individual variables.\n",
    "\n",
    "dict_sig_1 = mlr_1.Significance_individual_variables()\n",
    "dict_sig_0 = mlr_0.Significance_individual_variables()\n",
    "\n",
    "\n",
    "print(\"Significance tests on individual All varibales\\n\")\n",
    "\n",
    "for key in dict_sig_1:\n",
    "     print(f\"{key}: {dict_sig_1[key]}\")\n",
    "\n",
    "\n",
    "print(\"Significance tests on individual variables no observer\\n\")\n",
    "\n",
    "for key in dict_sig_0:\n",
    "     print(f\"{key}: {dict_sig_0[key]}\")"
   ]
  }
 ],
 "metadata": {
  "kernelspec": {
   "display_name": ".venv",
   "language": "python",
   "name": "python3"
  },
  "language_info": {
   "codemirror_mode": {
    "name": "ipython",
    "version": 3
   },
   "file_extension": ".py",
   "mimetype": "text/x-python",
   "name": "python",
   "nbconvert_exporter": "python",
   "pygments_lexer": "ipython3",
   "version": "3.13.1"
  }
 },
 "nbformat": 4,
 "nbformat_minor": 2
}
