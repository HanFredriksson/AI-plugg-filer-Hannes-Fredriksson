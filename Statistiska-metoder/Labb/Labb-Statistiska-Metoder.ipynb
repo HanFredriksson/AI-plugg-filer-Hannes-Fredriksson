{
 "cells": [
  {
   "cell_type": "markdown",
   "metadata": {},
   "source": [
    "# Labb Statistiska Metoder - Small Diameter Flow"
   ]
  },
  {
   "cell_type": "code",
   "execution_count": null,
   "metadata": {},
   "outputs": [
    {
     "data": {
      "text/html": [
       "<div>\n",
       "<style scoped>\n",
       "    .dataframe tbody tr th:only-of-type {\n",
       "        vertical-align: middle;\n",
       "    }\n",
       "\n",
       "    .dataframe tbody tr th {\n",
       "        vertical-align: top;\n",
       "    }\n",
       "\n",
       "    .dataframe thead th {\n",
       "        text-align: right;\n",
       "    }\n",
       "</style>\n",
       "<table border=\"1\" class=\"dataframe\">\n",
       "  <thead>\n",
       "    <tr style=\"text-align: right;\">\n",
       "      <th></th>\n",
       "      <th>Flow</th>\n",
       "      <th>Kinematic</th>\n",
       "      <th>Geometric</th>\n",
       "      <th>Inertial</th>\n",
       "      <th>Observer</th>\n",
       "    </tr>\n",
       "  </thead>\n",
       "  <tbody>\n",
       "    <tr>\n",
       "      <th>0</th>\n",
       "      <td>-3.372052</td>\n",
       "      <td>-1.836739</td>\n",
       "      <td>-3.361666</td>\n",
       "      <td>-2.035614</td>\n",
       "      <td>-0.885316</td>\n",
       "    </tr>\n",
       "    <tr>\n",
       "      <th>1</th>\n",
       "      <td>-3.368976</td>\n",
       "      <td>-1.836739</td>\n",
       "      <td>-3.361666</td>\n",
       "      <td>-2.035614</td>\n",
       "      <td>-0.885316</td>\n",
       "    </tr>\n",
       "    <tr>\n",
       "      <th>2</th>\n",
       "      <td>-3.368976</td>\n",
       "      <td>-1.836739</td>\n",
       "      <td>-3.361666</td>\n",
       "      <td>-2.035614</td>\n",
       "      <td>-0.885316</td>\n",
       "    </tr>\n",
       "    <tr>\n",
       "      <th>3</th>\n",
       "      <td>0.630795</td>\n",
       "      <td>1.934052</td>\n",
       "      <td>0.694760</td>\n",
       "      <td>1.542362</td>\n",
       "      <td>-0.885316</td>\n",
       "    </tr>\n",
       "    <tr>\n",
       "      <th>4</th>\n",
       "      <td>0.629269</td>\n",
       "      <td>1.934052</td>\n",
       "      <td>0.694760</td>\n",
       "      <td>1.542362</td>\n",
       "      <td>-0.885316</td>\n",
       "    </tr>\n",
       "    <tr>\n",
       "      <th>...</th>\n",
       "      <td>...</td>\n",
       "      <td>...</td>\n",
       "      <td>...</td>\n",
       "      <td>...</td>\n",
       "      <td>...</td>\n",
       "    </tr>\n",
       "    <tr>\n",
       "      <th>193</th>\n",
       "      <td>0.379827</td>\n",
       "      <td>0.766005</td>\n",
       "      <td>0.534107</td>\n",
       "      <td>1.017777</td>\n",
       "      <td>1.129541</td>\n",
       "    </tr>\n",
       "    <tr>\n",
       "      <th>194</th>\n",
       "      <td>0.353476</td>\n",
       "      <td>0.766005</td>\n",
       "      <td>0.534107</td>\n",
       "      <td>1.017777</td>\n",
       "      <td>1.129541</td>\n",
       "    </tr>\n",
       "    <tr>\n",
       "      <th>195</th>\n",
       "      <td>0.362051</td>\n",
       "      <td>0.617445</td>\n",
       "      <td>0.534107</td>\n",
       "      <td>1.017777</td>\n",
       "      <td>1.129541</td>\n",
       "    </tr>\n",
       "    <tr>\n",
       "      <th>196</th>\n",
       "      <td>0.380713</td>\n",
       "      <td>0.617445</td>\n",
       "      <td>0.534107</td>\n",
       "      <td>1.017777</td>\n",
       "      <td>1.129541</td>\n",
       "    </tr>\n",
       "    <tr>\n",
       "      <th>197</th>\n",
       "      <td>0.348805</td>\n",
       "      <td>0.617445</td>\n",
       "      <td>0.534107</td>\n",
       "      <td>1.017777</td>\n",
       "      <td>1.129541</td>\n",
       "    </tr>\n",
       "  </tbody>\n",
       "</table>\n",
       "<p>198 rows × 5 columns</p>\n",
       "</div>"
      ],
      "text/plain": [
       "         Flow  Kinematic  Geometric  Inertial  Observer\n",
       "0   -3.372052  -1.836739  -3.361666 -2.035614 -0.885316\n",
       "1   -3.368976  -1.836739  -3.361666 -2.035614 -0.885316\n",
       "2   -3.368976  -1.836739  -3.361666 -2.035614 -0.885316\n",
       "3    0.630795   1.934052   0.694760  1.542362 -0.885316\n",
       "4    0.629269   1.934052   0.694760  1.542362 -0.885316\n",
       "..        ...        ...        ...       ...       ...\n",
       "193  0.379827   0.766005   0.534107  1.017777  1.129541\n",
       "194  0.353476   0.766005   0.534107  1.017777  1.129541\n",
       "195  0.362051   0.617445   0.534107  1.017777  1.129541\n",
       "196  0.380713   0.617445   0.534107  1.017777  1.129541\n",
       "197  0.348805   0.617445   0.534107  1.017777  1.129541\n",
       "\n",
       "[198 rows x 5 columns]"
      ]
     },
     "execution_count": 1,
     "metadata": {},
     "output_type": "execute_result"
    }
   ],
   "source": [
    "import LinearRegressionFunctions as LRF\n",
    "import pandas as pd\n",
    "import scipy.stats as stats\n",
    "\n",
    "flow_data = pd.read_csv(\"../Data/Small-diameter-flow.csv\", index_col=\"Unnamed: 0\")\n",
    "\n",
    "flow_data_std = pd.DataFrame()\n",
    "\n",
    "# Standardize Data\n",
    "for col in flow_data.columns:\n",
    "    flow_data_std[col] = stats.zscore(flow_data[col])\n",
    "\n",
    "\n",
    "# LRF.LinearRegression(flow_data)\n",
    "\n",
    "flow_data_std"
   ]
  },
  {
   "cell_type": "code",
   "execution_count": 2,
   "metadata": {},
   "outputs": [
    {
     "data": {
      "text/plain": [
       "<Axes: >"
      ]
     },
     "execution_count": 2,
     "metadata": {},
     "output_type": "execute_result"
    },
    {
     "data": {
      "image/png": "[encoded data removed]",
      "text/plain": [
       "<Figure size 640x480 with 1 Axes>"
      ]
     },
     "metadata": {},
     "output_type": "display_data"
    }
   ],
   "source": [
    "flow_data_std.boxplot()"
   ]
  }
 ],
 "metadata": {
  "kernelspec": {
   "display_name": ".venv",
   "language": "python",
   "name": "python3"
  },
  "language_info": {
   "codemirror_mode": {
    "name": "ipython",
    "version": 3
   },
   "file_extension": ".py",
   "mimetype": "text/x-python",
   "name": "python",
   "nbconvert_exporter": "python",
   "pygments_lexer": "ipython3",
   "version": "3.13.1"
  }
 },
 "nbformat": 4,
 "nbformat_minor": 2
}
