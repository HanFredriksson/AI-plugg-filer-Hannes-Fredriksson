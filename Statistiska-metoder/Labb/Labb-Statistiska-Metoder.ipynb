{
 "cells": [
  {
   "cell_type": "markdown",
   "metadata": {},
   "source": [
    "# Labb Statistiska Metoder - Small Diameter Flow"
   ]
  },
  {
   "cell_type": "code",
   "execution_count": 29,
   "metadata": {},
   "outputs": [],
   "source": [
    "import LinearRegressionFunctions as lrf\n",
    "import pandas as pd\n",
    "import scipy.stats as stats\n",
    "\n",
    "flow_data = pd.read_csv(\"../Data/Small-diameter-flow.csv\", index_col=\"Unnamed: 0\")\n",
    "\n",
    "flow_data_std = pd.DataFrame()\n",
    "\n",
    "# Standardize Data\n",
    "for col in flow_data.columns:\n",
    "    flow_data_std[col] = stats.zscore(flow_data[col])\n",
    "\n",
    "mlr = lrf.LinearRegression(flow_data_std)\n",
    "\n",
    "mlr.sample_size = [\"Flow\"]\n",
    "mlr.params = [\"Kinematic\", \"Geometric\", \"Inertial\", \"Observer\"]\n",
    "mlr.fit()\n",
    "\n"
   ]
  },
  {
   "cell_type": "code",
   "execution_count": 30,
   "metadata": {},
   "outputs": [
    {
     "data": {
      "text/plain": [
       "np.float64(0.0029211593218909397)"
      ]
     },
     "execution_count": 30,
     "metadata": {},
     "output_type": "execute_result"
    }
   ],
   "source": [
    "# A function or method to calculate the variance.\n",
    "\n",
    "mlr.variance()"
   ]
  },
  {
   "cell_type": "code",
   "execution_count": 31,
   "metadata": {},
   "outputs": [
    {
     "data": {
      "text/plain": [
       "np.float64(0.05404775038695819)"
      ]
     },
     "execution_count": 31,
     "metadata": {},
     "output_type": "execute_result"
    }
   ],
   "source": [
    "# A function or method to calculate the standard deviation.\n",
    "\n",
    "mlr.sigma()"
   ]
  },
  {
   "cell_type": "code",
   "execution_count": 39,
   "metadata": {},
   "outputs": [
    {
     "data": {
      "text/plain": [
       "np.float64(2.8856709014078066e-16)"
      ]
     },
     "execution_count": 39,
     "metadata": {},
     "output_type": "execute_result"
    }
   ],
   "source": [
    "# A function or method that reports the significance of the regression.\n",
    "\n",
    "mlr.significans()"
   ]
  },
  {
   "cell_type": "code",
   "execution_count": 40,
   "metadata": {},
   "outputs": [
    {
     "data": {
      "text/plain": [
       "np.float64(0.6341728229281999)"
      ]
     },
     "execution_count": 40,
     "metadata": {},
     "output_type": "execute_result"
    }
   ],
   "source": [
    "# A function or method that reports the relevance of the regression (R2).\n",
    "\n",
    "mlr.R2()"
   ]
  },
  {
   "cell_type": "code",
   "execution_count": 41,
   "metadata": {},
   "outputs": [],
   "source": [
    "# A property confidence level that stores the selected confidence level.\n",
    "\n",
    "mlr.confidence_lvl = 0.997"
   ]
  },
  {
   "cell_type": "code",
   "execution_count": 42,
   "metadata": {},
   "outputs": [
    {
     "data": {
      "text/plain": [
       "array([0.5643329])"
      ]
     },
     "execution_count": 42,
     "metadata": {},
     "output_type": "execute_result"
    }
   ],
   "source": [
    "#Significance tests on individual variables, in particular categorical variables.\n",
    "\n",
    "mlr.Significance_individual_variables(1)"
   ]
  },
  {
   "cell_type": "code",
   "execution_count": null,
   "metadata": {},
   "outputs": [
    {
     "data": {
      "text/html": [
       "<div>\n",
       "<style scoped>\n",
       "    .dataframe tbody tr th:only-of-type {\n",
       "        vertical-align: middle;\n",
       "    }\n",
       "\n",
       "    .dataframe tbody tr th {\n",
       "        vertical-align: top;\n",
       "    }\n",
       "\n",
       "    .dataframe thead th {\n",
       "        text-align: right;\n",
       "    }\n",
       "</style>\n",
       "<table border=\"1\" class=\"dataframe\">\n",
       "  <thead>\n",
       "    <tr style=\"text-align: right;\">\n",
       "      <th></th>\n",
       "      <th>Params</th>\n",
       "      <th>Flow</th>\n",
       "      <th>Kinematic</th>\n",
       "      <th>Geometric</th>\n",
       "      <th>Inertial</th>\n",
       "      <th>Observer</th>\n",
       "    </tr>\n",
       "  </thead>\n",
       "  <tbody>\n",
       "    <tr>\n",
       "      <th>0</th>\n",
       "      <td>Flow</td>\n",
       "      <td>1.000000</td>\n",
       "      <td>0.863403</td>\n",
       "      <td>0.995794</td>\n",
       "      <td>0.903310</td>\n",
       "      <td>0.181490</td>\n",
       "    </tr>\n",
       "    <tr>\n",
       "      <th>1</th>\n",
       "      <td>Kinematic</td>\n",
       "      <td>0.863403</td>\n",
       "      <td>1.000000</td>\n",
       "      <td>0.863135</td>\n",
       "      <td>0.968671</td>\n",
       "      <td>0.103227</td>\n",
       "    </tr>\n",
       "    <tr>\n",
       "      <th>2</th>\n",
       "      <td>Geometric</td>\n",
       "      <td>0.995794</td>\n",
       "      <td>0.863135</td>\n",
       "      <td>1.000000</td>\n",
       "      <td>0.918330</td>\n",
       "      <td>0.175199</td>\n",
       "    </tr>\n",
       "    <tr>\n",
       "      <th>3</th>\n",
       "      <td>Inertial</td>\n",
       "      <td>0.903310</td>\n",
       "      <td>0.968671</td>\n",
       "      <td>0.918330</td>\n",
       "      <td>1.000000</td>\n",
       "      <td>0.121981</td>\n",
       "    </tr>\n",
       "    <tr>\n",
       "      <th>4</th>\n",
       "      <td>Observer</td>\n",
       "      <td>0.181490</td>\n",
       "      <td>0.103227</td>\n",
       "      <td>0.175199</td>\n",
       "      <td>0.121981</td>\n",
       "      <td>1.000000</td>\n",
       "    </tr>\n",
       "  </tbody>\n",
       "</table>\n",
       "</div>"
      ],
      "text/plain": [
       "      Params      Flow  Kinematic  Geometric  Inertial  Observer\n",
       "0       Flow  1.000000   0.863403   0.995794  0.903310  0.181490\n",
       "1  Kinematic  0.863403   1.000000   0.863135  0.968671  0.103227\n",
       "2  Geometric  0.995794   0.863135   1.000000  0.918330  0.175199\n",
       "3   Inertial  0.903310   0.968671   0.918330  1.000000  0.121981\n",
       "4   Observer  0.181490   0.103227   0.175199  0.121981  1.000000"
      ]
     },
     "execution_count": 43,
     "metadata": {},
     "output_type": "execute_result"
    }
   ],
   "source": [
    "# A function or method that calculates the Pearson number between all pairs of parameters.\n",
    "\n",
    "p_dict = mlr.p_value_pairs_param()\n",
    "p_value_pairs_param_df = pd.DataFrame(p_dict) \n",
    "p_value_pairs_param_df"
   ]
  },
  {
   "cell_type": "code",
   "execution_count": 44,
   "metadata": {},
   "outputs": [
    {
     "data": {
      "text/html": [
       "<div>\n",
       "<style scoped>\n",
       "    .dataframe tbody tr th:only-of-type {\n",
       "        vertical-align: middle;\n",
       "    }\n",
       "\n",
       "    .dataframe tbody tr th {\n",
       "        vertical-align: top;\n",
       "    }\n",
       "\n",
       "    .dataframe thead th {\n",
       "        text-align: right;\n",
       "    }\n",
       "</style>\n",
       "<table border=\"1\" class=\"dataframe\">\n",
       "  <thead>\n",
       "    <tr style=\"text-align: right;\">\n",
       "      <th></th>\n",
       "      <th>Intervals</th>\n",
       "      <th>Intercept, Beta-0</th>\n",
       "      <th>Flow, Beta-1</th>\n",
       "      <th>Kinematic, Beta-2</th>\n",
       "      <th>Geometric, Beta-3</th>\n",
       "      <th>Inertial, Beta-4</th>\n",
       "    </tr>\n",
       "  </thead>\n",
       "  <tbody>\n",
       "    <tr>\n",
       "      <th>0</th>\n",
       "      <td>Predictor value</td>\n",
       "      <td>-8.881784e-16</td>\n",
       "      <td>0.287646</td>\n",
       "      <td>1.107405</td>\n",
       "      <td>-0.392985</td>\n",
       "      <td>0.005717</td>\n",
       "    </tr>\n",
       "    <tr>\n",
       "      <th>1</th>\n",
       "      <td>Upper</td>\n",
       "      <td>3.581341e-01</td>\n",
       "      <td>1.785065</td>\n",
       "      <td>2.057580</td>\n",
       "      <td>1.518018</td>\n",
       "      <td>0.371366</td>\n",
       "    </tr>\n",
       "    <tr>\n",
       "      <th>2</th>\n",
       "      <td>Lower</td>\n",
       "      <td>-3.581341e-01</td>\n",
       "      <td>-1.209773</td>\n",
       "      <td>0.157229</td>\n",
       "      <td>-2.303988</td>\n",
       "      <td>-0.359931</td>\n",
       "    </tr>\n",
       "  </tbody>\n",
       "</table>\n",
       "</div>"
      ],
      "text/plain": [
       "         Intervals  Intercept, Beta-0  Flow, Beta-1  Kinematic, Beta-2  \\\n",
       "0  Predictor value      -8.881784e-16      0.287646           1.107405   \n",
       "1            Upper       3.581341e-01      1.785065           2.057580   \n",
       "2            Lower      -3.581341e-01     -1.209773           0.157229   \n",
       "\n",
       "   Geometric, Beta-3  Inertial, Beta-4  \n",
       "0          -0.392985          0.005717  \n",
       "1           1.518018          0.371366  \n",
       "2          -2.303988         -0.359931  "
      ]
     },
     "execution_count": 44,
     "metadata": {},
     "output_type": "execute_result"
    }
   ],
   "source": [
    "# Confidence intervals on individual parameters.\n",
    "\n",
    "confi_lvl_dict = mlr.confidence_interval_parameters()\n",
    "index = [\"Predictor value\", \"Upper\", \"Lower\"]\n",
    "df_1 = pd.DataFrame(confi_lvl_dict)\n",
    "df_1"
   ]
  }
 ],
 "metadata": {
  "kernelspec": {
   "display_name": ".venv",
   "language": "python",
   "name": "python3"
  },
  "language_info": {
   "codemirror_mode": {
    "name": "ipython",
    "version": 3
   },
   "file_extension": ".py",
   "mimetype": "text/x-python",
   "name": "python",
   "nbconvert_exporter": "python",
   "pygments_lexer": "ipython3",
   "version": "3.13.1"
  }
 },
 "nbformat": 4,
 "nbformat_minor": 2
}
