{
 "cells": [
  {
   "cell_type": "markdown",
   "metadata": {},
   "source": [
    "# Läsa kapitel 2, avsnitt 2.1 och 2.2"
   ]
  },
  {
   "cell_type": "markdown",
   "metadata": {},
   "source": [
    "Viktigt att ta med sig att det är få som kan statestik och få som vet begränsningarna av ML och vad som den är faktisk applicerbar på. "
   ]
  }
 ],
 "metadata": {
  "language_info": {
   "name": "python"
  }
 },
 "nbformat": 4,
 "nbformat_minor": 2
}
