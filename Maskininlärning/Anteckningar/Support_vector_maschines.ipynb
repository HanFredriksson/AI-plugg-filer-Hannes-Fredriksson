{
 "cells": [
  {
   "cell_type": "markdown",
   "metadata": {},
   "source": [
    "# Support vector maschines"
   ]
  },
  {
   "cell_type": "markdown",
   "metadata": {},
   "source": [
    "Maximal margargien som omptimerings vilkor. Vi försöker maximer våra $beta_0$ till $\\beta_p$ genom Max = M \n",
    "\n",
    "Försöker maximer avståndet till dom närmsta punktern. Istället för att hitta minsta, som med minsta kvedrat metoden. Det är marginal som vi skapar med att hitta dom långsta avstånden. \n",
    "\n",
    "Om vi måste sätta marginalen till noll så är den kännslig för brus, kalls \"Soft margin\""
   ]
  }
 ],
 "metadata": {
  "language_info": {
   "name": "python"
  }
 },
 "nbformat": 4,
 "nbformat_minor": 2
}
