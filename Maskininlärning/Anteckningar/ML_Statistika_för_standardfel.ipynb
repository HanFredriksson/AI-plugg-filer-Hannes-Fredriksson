{
 "cells": [
  {
   "cell_type": "markdown",
   "metadata": {},
   "source": [
    "# Machine learning\n",
    "\n",
    "## Data engineering\n",
    "Handlar mycket att hantera, sortera, samla in och uppdatera data sets. \n",
    "- Vad finns det för data tillgängligt?\n",
    "- Hur samlar vi in data?\n",
    "- Göra det åtkomligt?\n",
    "- Backups, etc?\n",
    "- Is it legal even? Denna pnkten är mycket viktigt för att vad som ses som personuppgifter är väldigt mycket. Det kan vara mycket brottsligt att hantera denna datan på felsätt eller överhuvudtaget. Även om man kan avsäga sig sina rättigheter, gäller det inte enligt svenska lag. För att komma runt det så krypterar uppgifterna. Är ett viktigt steg att rensa data från detta. \n",
    "\n",
    "## Feature engineering\n",
    "\n",
    "Viktig del i ML. För detta stget gör att vi kan lyckas med ML model och är nog det mest kritiska steget. Så gäller att manipulra datan så man kan får något ut av den. Man behöver behandlad data så att den går att använda till att träna. \n",
    "\n",
    "## Träning, Model fitting\n",
    "\n",
    "Bygger vi modelen med våran träningsdata\n",
    "\n",
    "## Utverdering\n",
    "\n",
    "Test och utverdering av modellen. Kör testdata\n",
    "\n",
    "## Lansering\n",
    "\n",
    "Färdig model och vi kan gå online. När modellen är färdig så förfinar man inte modellen mer. "
   ]
  },
  {
   "cell_type": "markdown",
   "metadata": {},
   "source": [
    "## Statistik för ML\n",
    "\n",
    "För att kunna göra förutsägleser så behöver vi dela data. Den delas upp i träning, validering och test. Tränings settet är stort, ett stort stickprov för och validering/test är små. Så i det fallet så växer våran SSE/RSS (Standaravvikelsen) med hur stickprovet växer. MSE blir det vi då använder för att hitta våran standaravvikelsen. Förutsätting för att kunna använda MSE är att vi inte antar att stickproven kommer från samma population. \n",
    "\n",
    "Detta är för Regressioner. \n",
    "\n",
    "$MSE = \\frac{1}{n} \\sum_{i=1}^{n} (y_i \\hat{y})^2$ - standara avvikelsen i medlet. När då $n \\to \\infty, MSE \\to 0$ Är bara sant när RSS/SSE är begränsad. Vad vi vill se är att standard avvikelsen i medelet. Men vi har ingen unbiasisd uppskatting av SE(M). Då använder vi RMSE för valideringen. \n",
    "\n",
    "$RMSE = \\sqrt{MSE}$\n",
    "\n",
    "$RSE = \\sqrt{\\frac{1}{n-d-1}RSS}$ - Här uppskattar vi sannolikheten i fel termen. The lac of fit. Vi får en finger vising hur bara modeln faktis är. För vi får sannolikheten i oreducerbara felet, $\\epsilon$. Den här är rättvis om Y är standard normal, $Y \\sim Z$. Den är inte förpålitlig, om vi inte har ett stor population, för den populationen. \n",
    "\n",
    "## Kolinjäritet\n",
    "\n",
    "Är bara relvent för signifikans testerna. Kan inte dra några slutsatser från om det finns kolinjäritet för features så finns det ingen bevis för att dom är Kolinjära. Bara att ha med sig, **Gäller bara för signifikans**"
   ]
  }
 ],
 "metadata": {
  "language_info": {
   "name": "python"
  }
 },
 "nbformat": 4,
 "nbformat_minor": 2
}
