{
 "cells": [
  {
   "cell_type": "markdown",
   "metadata": {},
   "source": [
    "# Kort om vad vi gjort"
   ]
  },
  {
   "cell_type": "markdown",
   "metadata": {},
   "source": [
    "# Linjär Regression\n",
    "\n",
    "EDA så gör vi det mest för oss själva. Det är mer skapa egenförståelse för vad data ser ut. Är inget man direkt presenterar. Är en undröskning för att se hu värdena ser ut, fördelningen och medel. \n",
    "\n",
    "Korrelationer är något generlet att man ska ta bort. Mattimatiskt är det tveksamt. För att det finns intraktions effekt och det tyder på att featuers på verkar varandra. Effekt om korraltion är stark mellan två features är att man får ett bias. Kan inte längre lita på statistikor som signifikans tester. \n",
    "\n",
    "Multi linjär regression är beta_hat en viktning. Det är dyrt att lägga till mer features och billigt med data när man använder singular value decomposition. \n",
    "\n",
    "### MAE - Mean Absolut Error\n",
    "\n",
    "Fördelen är att den ger samma enhet som in datan. Här underskattar vi felen. Det beror på att vi inte tar hänsyn till variansen här\n",
    "\n",
    "### MSE - Mean Squared Error\n",
    "\n",
    "Här så tar vi hänsyn till variansen och felan kan bli större skilland på små och stora fel. \n",
    "\n",
    "### RMSE \n",
    "\n",
    "Detta straffar större fel och ger oss svar i enheter som in datan och är lättare att tolka. \n",
    "\n"
   ]
  },
  {
   "cell_type": "markdown",
   "metadata": {
    "vscode": {
     "languageId": "plaintext"
    }
   },
   "source": [
    "# Train-test split\n",
    "\n",
    "Här gäller det verkligen tänka på att inte får data leakage. Gäller att tänka på när resultaten blir för bra för att vara sant. Det kan var en kolumn som åker med som inte ska vara med. Enklast vad som kan hända är att data punkter åker med i spliten. "
   ]
  },
  {
   "cell_type": "markdown",
   "metadata": {},
   "source": [
    "# Polynomiel regression\n",
    "\n",
    "Polynom är linjära mot varandra. Vi utnyttjar linjär avbildning. Är metoden vi använder på polynomne som gör dom linjära. Det är lätt att overfit en polynomile regression, använder för många degrees of fit.  "
   ]
  }
 ],
 "metadata": {
  "language_info": {
   "name": "python"
  }
 },
 "nbformat": 4,
 "nbformat_minor": 2
}
