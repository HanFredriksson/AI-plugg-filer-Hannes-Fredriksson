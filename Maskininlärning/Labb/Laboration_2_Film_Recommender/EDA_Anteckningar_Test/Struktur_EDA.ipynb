{
 "cells": [
  {
   "cell_type": "markdown",
   "metadata": {},
   "source": [
    "# Kod skelett, struktur, val av features och EDA"
   ]
  },
  {
   "cell_type": "markdown",
   "metadata": {},
   "source": [
    "## Kod skelett\n",
    "\n",
    "**Lite korta tanker**\n",
    "\n",
    "En .py med bara hur data settet ska hanteras och struktureras. En data wrangler som bara plockar fram det vi är interserade av och begränsar data till en hanterbar storlek.\n",
    "\n",
    "En .py där vi kör modellen och tränar den.\n",
    "\n",
    "En .py där vi intergrarerar med modellen och plockar fram informationen från en färdig körd modell. "
   ]
  },
  {
   "cell_type": "markdown",
   "metadata": {},
   "source": [
    "## Struktur och val av features\n",
    "\n",
    "### Outline\n",
    "\n",
    "**Data** - Tänker att vi gör ett medelvärde på ranking för varje film, mer än att hålla kol på alla röstningar och skalan. Den bör var i någon form av skalering eller normalisering, för att ge ett mer objektivt värde. Lägga till en column med medlet. \n",
    "\n",
    "Sedan bör gener kolumnen göras om till ett set. För att gör filtrering enklare i den kolumnen mot input filmen. \n",
    "\n",
    "**Mata in** - Beroende på tid. Hur avancerat detta ska vara. Om den bara ska plocka från en lista till ett inteface. Kanske bara kanappar in i consolen. Börja med modellerna och data settet. Så får vi se vad tid finns till detta. \n",
    "\n",
    "**Kanditat genrator** Frågan om en film matas in. Det plockas fram 20 filmer från en kanditats generator. Den ska var enkel och väldigt generell. Den plockar bara på gener. Är bara som ett första steg att hitta filmer som kan vara intressanta. Använda rannking som en \"soft weight factore\". Så inte popularitet får för stort fokus utan ger en mer balanserad filtrering av filmer. En scorer för likeheter i gener sedan mjuk rakning efter rakning. \n",
    "\n",
    "**Ranking** Här rankar vi filmerna efter betyg, kanske ett medel värde på rankingen här. Se om vi kan använda oss av tagarna i tags för att ranka filmerna här också. Frågan är bara lämpligt sätta att sätta rank. Men det blir väl att gämföra tags och rank mot filmen vi frågot efter rekomandationer från. **Får kolla mer på det**\n",
    "Gallara fram 10 stycken här ifrån. *Kan vara värt att kolla kanditat filmernas gener mot varandra som första sortering här* Tanke är väl mest om det är tillexempel en komedi som också är en skräck film, men den in matade filmen är en barn komedi*\n",
    "\n",
    "tf-idf eller embbeding och kör model mot dom vectorerna för förutse vilken filmer som passar best. \n",
    "\n",
    "**Andra överväganden** titta på villket år film gjorts, välj några nyare och några som är villkne ålder som helts. Kan åkse väg tiden då den senast blev rankad eller taggad. Kan också tittat på vad många som tagat och rankat filmen för att den ska röstast upp, hur mycket uppmärksamhet film drar. Kanske mer jämför kanditaterna mot varandra här mer än mot filmen som frågats att utgå ifrån. Här gallras dom fem fram. **Titta på vad som kan jämnföras mellan filmerna** **Är det värt att träna en modell på user engegment för filmerna här**\n",
    "\n",
    "Engagment kollas mot en KNN model exemplevis och vägs mot hur ny filmen är jämnfört med input filmen och sedan väljs två efter nyhet och 3 efter engament. Får tänka hur bias är här för engement, för kommer var många filmer med mycket engament och några med få men knske inte bäst rekomandation. Behövs något att väg mot detta. **Ska tid väga, hur nyligen det varit aktivetet?**\n",
    "\n",
    "**Tänk på** Hur fördelning ser ut bland filmerna mellan olika frågetställningar. Tillexempel om data setet jag valt ut har en jämn representering av varje film. Så kanske det blir svårt att titta på vad många som tagat filmen eller rankat. *Tänk* på bias! \n",
    "\n",
    "**Mata ut** Hänger på hur avancerat jag vill göra det. "
   ]
  },
  {
   "cell_type": "code",
   "execution_count": 44,
   "metadata": {},
   "outputs": [],
   "source": [
    "# Koden för EDA. Gör några funktioner som visar vad jag behöver för att undersöka data settet. \n",
    "# Några funktioner eller bara varibaler som vi kan kalla på i EDA och skriva lite om vad för slutatsat och val vi tar. \n",
    "# Bra början på en raport och komentarer till olika val vi gjort. \n",
    "\n",
    "import pandas as pd \n",
    "import matplotlib.pyplot as plt\n",
    "import seaborn as sns \n",
    "import numpy as np\n"
   ]
  },
  {
   "cell_type": "code",
   "execution_count": 45,
   "metadata": {},
   "outputs": [],
   "source": [
    "rating_data = pd.read_csv(\"../../Laboration_2_Film_Recommender/Data/ratings.csv\")\n",
    "movies_data = pd.read_csv(\"../../Laboration_2_Film_Recommender/Data/movies.csv\")\n",
    "tags_data = pd.read_csv(\"../../Laboration_2_Film_Recommender/Data/tags.csv\")"
   ]
  },
  {
   "cell_type": "markdown",
   "metadata": {
    "vscode": {
     "languageId": "plaintext"
    }
   },
   "source": [
    "## EDA \n",
    "\n"
   ]
  },
  {
   "cell_type": "code",
   "execution_count": 46,
   "metadata": {},
   "outputs": [
    {
     "data": {
      "text/html": [
       "<div>\n",
       "<style scoped>\n",
       "    .dataframe tbody tr th:only-of-type {\n",
       "        vertical-align: middle;\n",
       "    }\n",
       "\n",
       "    .dataframe tbody tr th {\n",
       "        vertical-align: top;\n",
       "    }\n",
       "\n",
       "    .dataframe thead th {\n",
       "        text-align: right;\n",
       "    }\n",
       "</style>\n",
       "<table border=\"1\" class=\"dataframe\">\n",
       "  <thead>\n",
       "    <tr style=\"text-align: right;\">\n",
       "      <th></th>\n",
       "      <th>movieId</th>\n",
       "      <th>title</th>\n",
       "      <th>genres</th>\n",
       "    </tr>\n",
       "  </thead>\n",
       "  <tbody>\n",
       "    <tr>\n",
       "      <th>0</th>\n",
       "      <td>1</td>\n",
       "      <td>Toy Story (1995)</td>\n",
       "      <td>Adventure|Animation|Children|Comedy|Fantasy</td>\n",
       "    </tr>\n",
       "    <tr>\n",
       "      <th>1</th>\n",
       "      <td>2</td>\n",
       "      <td>Jumanji (1995)</td>\n",
       "      <td>Adventure|Children|Fantasy</td>\n",
       "    </tr>\n",
       "    <tr>\n",
       "      <th>2</th>\n",
       "      <td>3</td>\n",
       "      <td>Grumpier Old Men (1995)</td>\n",
       "      <td>Comedy|Romance</td>\n",
       "    </tr>\n",
       "    <tr>\n",
       "      <th>3</th>\n",
       "      <td>4</td>\n",
       "      <td>Waiting to Exhale (1995)</td>\n",
       "      <td>Comedy|Drama|Romance</td>\n",
       "    </tr>\n",
       "    <tr>\n",
       "      <th>4</th>\n",
       "      <td>5</td>\n",
       "      <td>Father of the Bride Part II (1995)</td>\n",
       "      <td>Comedy</td>\n",
       "    </tr>\n",
       "  </tbody>\n",
       "</table>\n",
       "</div>"
      ],
      "text/plain": [
       "   movieId                               title  \\\n",
       "0        1                    Toy Story (1995)   \n",
       "1        2                      Jumanji (1995)   \n",
       "2        3             Grumpier Old Men (1995)   \n",
       "3        4            Waiting to Exhale (1995)   \n",
       "4        5  Father of the Bride Part II (1995)   \n",
       "\n",
       "                                        genres  \n",
       "0  Adventure|Animation|Children|Comedy|Fantasy  \n",
       "1                   Adventure|Children|Fantasy  \n",
       "2                               Comedy|Romance  \n",
       "3                         Comedy|Drama|Romance  \n",
       "4                                       Comedy  "
      ]
     },
     "execution_count": 46,
     "metadata": {},
     "output_type": "execute_result"
    }
   ],
   "source": [
    "movies_data.head()"
   ]
  },
  {
   "cell_type": "code",
   "execution_count": 47,
   "metadata": {},
   "outputs": [
    {
     "data": {
      "text/plain": [
       "0     Adventure|Animation|Children|Comedy|Fantasy\n",
       "1                      Adventure|Children|Fantasy\n",
       "2                                  Comedy|Romance\n",
       "3                            Comedy|Drama|Romance\n",
       "4                                          Comedy\n",
       "5                           Action|Crime|Thriller\n",
       "6                                  Comedy|Romance\n",
       "7                              Adventure|Children\n",
       "8                                          Action\n",
       "9                       Action|Adventure|Thriller\n",
       "10                           Comedy|Drama|Romance\n",
       "11                                  Comedy|Horror\n",
       "12                   Adventure|Animation|Children\n",
       "13                                          Drama\n",
       "14                       Action|Adventure|Romance\n",
       "Name: genres, dtype: object"
      ]
     },
     "execution_count": 47,
     "metadata": {},
     "output_type": "execute_result"
    }
   ],
   "source": [
    "movies_data[\"genres\"].iloc[:15]"
   ]
  },
  {
   "cell_type": "code",
   "execution_count": 48,
   "metadata": {},
   "outputs": [
    {
     "name": "stdout",
     "output_type": "stream",
     "text": [
      "<class 'pandas.core.frame.DataFrame'>\n",
      "RangeIndex: 86537 entries, 0 to 86536\n",
      "Data columns (total 3 columns):\n",
      " #   Column   Non-Null Count  Dtype \n",
      "---  ------   --------------  ----- \n",
      " 0   movieId  86537 non-null  int64 \n",
      " 1   title    86537 non-null  object\n",
      " 2   genres   86537 non-null  object\n",
      "dtypes: int64(1), object(2)\n",
      "memory usage: 2.0+ MB\n"
     ]
    }
   ],
   "source": [
    "movies_data.info()"
   ]
  },
  {
   "cell_type": "code",
   "execution_count": 49,
   "metadata": {},
   "outputs": [
    {
     "data": {
      "text/html": [
       "<div>\n",
       "<style scoped>\n",
       "    .dataframe tbody tr th:only-of-type {\n",
       "        vertical-align: middle;\n",
       "    }\n",
       "\n",
       "    .dataframe tbody tr th {\n",
       "        vertical-align: top;\n",
       "    }\n",
       "\n",
       "    .dataframe thead th {\n",
       "        text-align: right;\n",
       "    }\n",
       "</style>\n",
       "<table border=\"1\" class=\"dataframe\">\n",
       "  <thead>\n",
       "    <tr style=\"text-align: right;\">\n",
       "      <th></th>\n",
       "      <th>userId</th>\n",
       "      <th>movieId</th>\n",
       "      <th>rating</th>\n",
       "      <th>timestamp</th>\n",
       "    </tr>\n",
       "  </thead>\n",
       "  <tbody>\n",
       "    <tr>\n",
       "      <th>0</th>\n",
       "      <td>1</td>\n",
       "      <td>1</td>\n",
       "      <td>4.0</td>\n",
       "      <td>1225734739</td>\n",
       "    </tr>\n",
       "    <tr>\n",
       "      <th>1</th>\n",
       "      <td>1</td>\n",
       "      <td>110</td>\n",
       "      <td>4.0</td>\n",
       "      <td>1225865086</td>\n",
       "    </tr>\n",
       "    <tr>\n",
       "      <th>2</th>\n",
       "      <td>1</td>\n",
       "      <td>158</td>\n",
       "      <td>4.0</td>\n",
       "      <td>1225733503</td>\n",
       "    </tr>\n",
       "    <tr>\n",
       "      <th>3</th>\n",
       "      <td>1</td>\n",
       "      <td>260</td>\n",
       "      <td>4.5</td>\n",
       "      <td>1225735204</td>\n",
       "    </tr>\n",
       "    <tr>\n",
       "      <th>4</th>\n",
       "      <td>1</td>\n",
       "      <td>356</td>\n",
       "      <td>5.0</td>\n",
       "      <td>1225735119</td>\n",
       "    </tr>\n",
       "  </tbody>\n",
       "</table>\n",
       "</div>"
      ],
      "text/plain": [
       "   userId  movieId  rating   timestamp\n",
       "0       1        1     4.0  1225734739\n",
       "1       1      110     4.0  1225865086\n",
       "2       1      158     4.0  1225733503\n",
       "3       1      260     4.5  1225735204\n",
       "4       1      356     5.0  1225735119"
      ]
     },
     "execution_count": 49,
     "metadata": {},
     "output_type": "execute_result"
    }
   ],
   "source": [
    "rating_data.head()"
   ]
  },
  {
   "cell_type": "code",
   "execution_count": 50,
   "metadata": {},
   "outputs": [
    {
     "name": "stdout",
     "output_type": "stream",
     "text": [
      "<class 'pandas.core.frame.DataFrame'>\n",
      "RangeIndex: 33832162 entries, 0 to 33832161\n",
      "Data columns (total 4 columns):\n",
      " #   Column     Dtype  \n",
      "---  ------     -----  \n",
      " 0   userId     int64  \n",
      " 1   movieId    int64  \n",
      " 2   rating     float64\n",
      " 3   timestamp  int64  \n",
      "dtypes: float64(1), int64(3)\n",
      "memory usage: 1.0 GB\n"
     ]
    }
   ],
   "source": [
    "rating_data.info()"
   ]
  },
  {
   "cell_type": "code",
   "execution_count": 51,
   "metadata": {},
   "outputs": [
    {
     "data": {
      "text/html": [
       "<div>\n",
       "<style scoped>\n",
       "    .dataframe tbody tr th:only-of-type {\n",
       "        vertical-align: middle;\n",
       "    }\n",
       "\n",
       "    .dataframe tbody tr th {\n",
       "        vertical-align: top;\n",
       "    }\n",
       "\n",
       "    .dataframe thead th {\n",
       "        text-align: right;\n",
       "    }\n",
       "</style>\n",
       "<table border=\"1\" class=\"dataframe\">\n",
       "  <thead>\n",
       "    <tr style=\"text-align: right;\">\n",
       "      <th></th>\n",
       "      <th>userId</th>\n",
       "      <th>movieId</th>\n",
       "      <th>tag</th>\n",
       "      <th>timestamp</th>\n",
       "    </tr>\n",
       "  </thead>\n",
       "  <tbody>\n",
       "    <tr>\n",
       "      <th>0</th>\n",
       "      <td>10</td>\n",
       "      <td>260</td>\n",
       "      <td>good vs evil</td>\n",
       "      <td>1430666558</td>\n",
       "    </tr>\n",
       "    <tr>\n",
       "      <th>1</th>\n",
       "      <td>10</td>\n",
       "      <td>260</td>\n",
       "      <td>Harrison Ford</td>\n",
       "      <td>1430666505</td>\n",
       "    </tr>\n",
       "    <tr>\n",
       "      <th>2</th>\n",
       "      <td>10</td>\n",
       "      <td>260</td>\n",
       "      <td>sci-fi</td>\n",
       "      <td>1430666538</td>\n",
       "    </tr>\n",
       "    <tr>\n",
       "      <th>3</th>\n",
       "      <td>14</td>\n",
       "      <td>1221</td>\n",
       "      <td>Al Pacino</td>\n",
       "      <td>1311600756</td>\n",
       "    </tr>\n",
       "    <tr>\n",
       "      <th>4</th>\n",
       "      <td>14</td>\n",
       "      <td>1221</td>\n",
       "      <td>mafia</td>\n",
       "      <td>1311600746</td>\n",
       "    </tr>\n",
       "    <tr>\n",
       "      <th>5</th>\n",
       "      <td>14</td>\n",
       "      <td>58559</td>\n",
       "      <td>Atmospheric</td>\n",
       "      <td>1311530439</td>\n",
       "    </tr>\n",
       "    <tr>\n",
       "      <th>6</th>\n",
       "      <td>14</td>\n",
       "      <td>58559</td>\n",
       "      <td>Batman</td>\n",
       "      <td>1311530391</td>\n",
       "    </tr>\n",
       "    <tr>\n",
       "      <th>7</th>\n",
       "      <td>14</td>\n",
       "      <td>58559</td>\n",
       "      <td>comic book</td>\n",
       "      <td>1311530398</td>\n",
       "    </tr>\n",
       "    <tr>\n",
       "      <th>8</th>\n",
       "      <td>14</td>\n",
       "      <td>58559</td>\n",
       "      <td>dark</td>\n",
       "      <td>1311530428</td>\n",
       "    </tr>\n",
       "    <tr>\n",
       "      <th>9</th>\n",
       "      <td>14</td>\n",
       "      <td>58559</td>\n",
       "      <td>Heath Ledger</td>\n",
       "      <td>1311530404</td>\n",
       "    </tr>\n",
       "    <tr>\n",
       "      <th>10</th>\n",
       "      <td>14</td>\n",
       "      <td>58559</td>\n",
       "      <td>imdb top 250</td>\n",
       "      <td>1311530451</td>\n",
       "    </tr>\n",
       "    <tr>\n",
       "      <th>11</th>\n",
       "      <td>14</td>\n",
       "      <td>58559</td>\n",
       "      <td>Michael Caine</td>\n",
       "      <td>1311530407</td>\n",
       "    </tr>\n",
       "    <tr>\n",
       "      <th>12</th>\n",
       "      <td>14</td>\n",
       "      <td>58559</td>\n",
       "      <td>Morgan Freeman</td>\n",
       "      <td>1311530400</td>\n",
       "    </tr>\n",
       "    <tr>\n",
       "      <th>13</th>\n",
       "      <td>14</td>\n",
       "      <td>58559</td>\n",
       "      <td>Oscar (Best Supporting Actor)</td>\n",
       "      <td>1311530432</td>\n",
       "    </tr>\n",
       "    <tr>\n",
       "      <th>14</th>\n",
       "      <td>14</td>\n",
       "      <td>58559</td>\n",
       "      <td>psychology</td>\n",
       "      <td>1311530417</td>\n",
       "    </tr>\n",
       "  </tbody>\n",
       "</table>\n",
       "</div>"
      ],
      "text/plain": [
       "    userId  movieId                            tag   timestamp\n",
       "0       10      260                   good vs evil  1430666558\n",
       "1       10      260                  Harrison Ford  1430666505\n",
       "2       10      260                         sci-fi  1430666538\n",
       "3       14     1221                      Al Pacino  1311600756\n",
       "4       14     1221                          mafia  1311600746\n",
       "5       14    58559                    Atmospheric  1311530439\n",
       "6       14    58559                         Batman  1311530391\n",
       "7       14    58559                     comic book  1311530398\n",
       "8       14    58559                           dark  1311530428\n",
       "9       14    58559                   Heath Ledger  1311530404\n",
       "10      14    58559                   imdb top 250  1311530451\n",
       "11      14    58559                  Michael Caine  1311530407\n",
       "12      14    58559                 Morgan Freeman  1311530400\n",
       "13      14    58559  Oscar (Best Supporting Actor)  1311530432\n",
       "14      14    58559                     psychology  1311530417"
      ]
     },
     "execution_count": 51,
     "metadata": {},
     "output_type": "execute_result"
    }
   ],
   "source": [
    "tags_data.head(15)"
   ]
  },
  {
   "cell_type": "code",
   "execution_count": 52,
   "metadata": {},
   "outputs": [
    {
     "name": "stdout",
     "output_type": "stream",
     "text": [
      "<class 'pandas.core.frame.DataFrame'>\n",
      "RangeIndex: 2328315 entries, 0 to 2328314\n",
      "Data columns (total 4 columns):\n",
      " #   Column     Dtype \n",
      "---  ------     ----- \n",
      " 0   userId     int64 \n",
      " 1   movieId    int64 \n",
      " 2   tag        object\n",
      " 3   timestamp  int64 \n",
      "dtypes: int64(3), object(1)\n",
      "memory usage: 71.1+ MB\n"
     ]
    }
   ],
   "source": [
    "tags_data.info()"
   ]
  },
  {
   "cell_type": "code",
   "execution_count": 53,
   "metadata": {},
   "outputs": [
    {
     "data": {
      "image/png": "[encoded data removed]",
      "text/plain": [
       "<Figure size 640x480 with 1 Axes>"
      ]
     },
     "metadata": {},
     "output_type": "display_data"
    }
   ],
   "source": [
    "rating_data[\"rating\"].value_counts().sort_index().plot(kind='bar')\n",
    "plt.xlabel(\"Ratings 0.5 - 5.0\")\n",
    "plt.ylabel(\"Count in milions\")\n",
    "plt.title(\"Distribution of ratings\")\n",
    "plt.show();"
   ]
  },
  {
   "cell_type": "code",
   "execution_count": 54,
   "metadata": {},
   "outputs": [
    {
     "data": {
      "text/plain": [
       "330975"
      ]
     },
     "execution_count": 54,
     "metadata": {},
     "output_type": "execute_result"
    }
   ],
   "source": [
    "len(rating_data[\"userId\"].unique())"
   ]
  },
  {
   "cell_type": "code",
   "execution_count": 56,
   "metadata": {},
   "outputs": [
    {
     "data": {
      "text/plain": [
       "25280"
      ]
     },
     "execution_count": 56,
     "metadata": {},
     "output_type": "execute_result"
    }
   ],
   "source": [
    "len(tags_data[\"userId\"].unique())"
   ]
  }
 ],
 "metadata": {
  "kernelspec": {
   "display_name": ".venv",
   "language": "python",
   "name": "python3"
  },
  "language_info": {
   "codemirror_mode": {
    "name": "ipython",
    "version": 3
   },
   "file_extension": ".py",
   "mimetype": "text/x-python",
   "name": "python",
   "nbconvert_exporter": "python",
   "pygments_lexer": "ipython3",
   "version": "3.13.1"
  }
 },
 "nbformat": 4,
 "nbformat_minor": 2
}
