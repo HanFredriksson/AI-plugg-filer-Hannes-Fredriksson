{
 "cells": [
  {
   "cell_type": "markdown",
   "metadata": {},
   "source": [
    "# Kod skelett, struktur, val av features och EDA"
   ]
  },
  {
   "cell_type": "markdown",
   "metadata": {},
   "source": [
    "## Kod skelett\n",
    "\n",
    "**Lite korta tanker**\n",
    "\n",
    "En .py med bara hur data settet ska hanteras och struktureras. En data wrangler som bara plockar fram det vi är interserade av och begränsar data till en hanterbar storlek.\n",
    "\n",
    "En .py där vi kör modellen och tränar den.\n",
    "\n",
    "En .py där vi intergrarerar med modellen och plockar fram informationen från en färdig körd modell. "
   ]
  },
  {
   "cell_type": "markdown",
   "metadata": {},
   "source": [
    "## Struktur och val av features\n",
    "\n",
    "### Outline\n",
    "\n",
    "**Övergripande** Tanken är att bygga en data bas med alla info om varje filma som en punkt att gemföra emot den in mattade filmen. Så varje film blir en profil med det som behövs för att kunna hitta likheter för filmen som matats in i dom tre filtrerings stegen. Allt ska var automatiskt och bara spotta ut ett svar i slutet.  \n",
    "\n",
    "**Data Wrangler** - Tänker att vi gör ett medelvärde på ranking för varje film, mer än att hålla kol på alla röstningar och skalan. Den bör var i någon form av skalering eller normalisering, för att ge ett mer objektivt värde. Lägga till en column med medlet. \n",
    "\n",
    "Sedan bör gener kolumnen göras om till ett set. För att gör filtrering enklare i den kolumnen mot input filmen.  Standardized rating direct i datasetet så det är färdigt att kör, tänk på bara om jag behöver ratings senare i modellen.\n",
    "\n",
    "*Komponenter*\n",
    "- Ladda data - Kan behövas flera sätt att ladda olika data set till modellen. \n",
    "- Lägga ihop set med varandra med den datan som behövs. Som tags, tids data, ranking data, movieid, namn och bag of words \n",
    "- Förädla - Sandardisera eller nomarlisera. Två metoder för detta. Kommer behövas flera kolumner med olika behandlade värden. \n",
    "- Bag of words för geners för att förenkla för modellen att hitta i första gallring, läggg till det som en column för gener istället.\n",
    "- Tf-idf vector för tags and geners. Behöver en kolumn med både gener och tags i den.    \n",
    "- Beräkning/Agrregering av tids data för att ge ett möjligt värde för hur nyligen den var engagerad.\n",
    "    * Medel på tiden som det varit engegemang i filmen\n",
    "    * Senast det var någon post\n",
    "    * Dom senaste 6 månderna eller året\n",
    "    * Spannet från första till sista post\n",
    "    * Engagmnet är ett värde på när senaste postades något och vart medlet ligger långt från släpp datum. \n",
    "\n",
    "- Beräkning/Aggregering av ranking data för att ge ett standardizerat värde på ranking\n",
    "    * Lägga till alla typer av ranking värde 0.5 till 5.0 och antelet för varje ranking.\n",
    "    * En stadrizerad värde för medlet på av alla raningar. \n",
    "\n",
    "**Mata in** - Beroende på tid. Hur avancerat detta ska vara. Om den bara ska plocka från en lista till ett inteface. Kanske bara kanappar in i consolen. Börja med modellerna och data settet. Så får vi se vad tid finns till detta. \n",
    "\n",
    "**Kanditat genrator** Frågan om en film matas in. Det plockas fram 20 **Kan det var vär att skicka 30-80 filmer som kanditater, kanske behövs testing för det** filmer från en kanditats generator. Den ska var enkel och väldigt generell. Den plockar bara på gener. Är bara som ett första steg att hitta filmer som kan vara intressanta. Ranking datan kommer vara standardizerad. **Kan det vara värt att göra en KMeans klustering kring tio filmer sedan välja en från varje kluster så vi får 20 stycken. Tanken här är att utvidga bredden på filmerna som rekomanderas. För vill gå bort från att låta ranking var det viktiga utan bara väga in. \n",
    "\n",
    "**Ranking** Här tar ska kandidaterna bli 10 stycken. Detta gör vi genom att kolla på tags och gener genom en tf-idf vector. Och tar dom med mest likhets ranking. Tf-idf eller embbeding och kör model mot dom vectorerna för förutse vilken filmer som passar best. SVD är en model vi kan använda här\n",
    "\n",
    "**Andra överväganden** Logistic Regression or Decision Trees bygga på classfierings model som lägger fram förslag för 5 stycken med rätt engagemang. Där vi använder input filem som profila att köra emot och ha som klassifirad data. \n",
    "\n",
    "Feature\tDescription\n",
    "- days_since_release - Days from movie release to mean timestamp\n",
    "- days_since_last_rating - How recently the movie was engaged with\n",
    "- engagement_density - Ratings per year since release (activity rate)\n",
    "- recent_tag_count - Tags added in last 6/12 months\n",
    "- mean_rating_time - Average time when ratings happened\n",
    "- std_rating_time\t- Spread/consistency of rating timestamps\n",
    "\n",
    "Target:\n",
    "- Labels: High, medium, low\n",
    "- funder kring targets här, vad ska gränsvärdena vara?.\n",
    "\n",
    "Model:\n",
    "- Logistic Regression\n",
    "- Decision Tree / Random Forest\n",
    "- SVM\n",
    "Kanske Får köra en gridsearch på dem och se vilken som passar bäst. \n",
    "\n",
    "**Tänk på** Hur fördelning ser ut bland filmerna mellan olika frågetställningar. Tillexempel om data setet jag valt ut har en jämn representering av varje film. Så kanske det blir svårt att titta på vad många som tagat filmen eller rankat. *Tänk* på bias! \n",
    "\n",
    "**Mata ut** Hänger på hur avancerat jag vill göra det. Hur får vi detta funka utan tunga data sets och bara kör mot modeller. Hur tänker vi kring deploy. Kanske bästa straten är en .ipynb fil med svar från modellen.  \n",
    "\n",
    "**REDME** Plita på readme när jag gjort något i koden och se till att det fylls i vad modellen gör. "
   ]
  },
  {
   "cell_type": "code",
   "execution_count": 1,
   "metadata": {},
   "outputs": [],
   "source": [
    "# Koden för EDA. Gör några funktioner som visar vad jag behöver för att undersöka data settet. \n",
    "# Några funktioner eller bara varibaler som vi kan kalla på i EDA och skriva lite om vad för slutatsat och val vi tar. \n",
    "# Bra början på en raport och komentarer till olika val vi gjort. \n",
    "\n",
    "import pandas as pd \n",
    "import matplotlib.pyplot as plt\n",
    "import seaborn as sns \n",
    "import numpy as np\n"
   ]
  },
  {
   "cell_type": "code",
   "execution_count": 2,
   "metadata": {},
   "outputs": [
    {
     "name": "stdout",
     "output_type": "stream",
     "text": [
      "f:\\AI-24-programering\\Python-programing-Hannes-Fredriksson\\Maskininlärning\\Labb\\Laboration_2_Film_Recommender\\EDA_Anteckningar_Test\n"
     ]
    }
   ],
   "source": [
    "import os\n",
    "print(os.getcwd())"
   ]
  },
  {
   "cell_type": "code",
   "execution_count": 3,
   "metadata": {},
   "outputs": [],
   "source": [
    "rating_data = pd.read_csv(\"../Data/ratings.csv\")\n",
    "movies_data = pd.read_csv(\"../Data/movies.csv\")\n",
    "tags_data = pd.read_csv(\"../Data/tags.csv\")"
   ]
  },
  {
   "cell_type": "markdown",
   "metadata": {
    "vscode": {
     "languageId": "plaintext"
    }
   },
   "source": [
    "## EDA \n",
    "\n"
   ]
  },
  {
   "cell_type": "code",
   "execution_count": 4,
   "metadata": {},
   "outputs": [
    {
     "data": {
      "text/html": [
       "<div>\n",
       "<style scoped>\n",
       "    .dataframe tbody tr th:only-of-type {\n",
       "        vertical-align: middle;\n",
       "    }\n",
       "\n",
       "    .dataframe tbody tr th {\n",
       "        vertical-align: top;\n",
       "    }\n",
       "\n",
       "    .dataframe thead th {\n",
       "        text-align: right;\n",
       "    }\n",
       "</style>\n",
       "<table border=\"1\" class=\"dataframe\">\n",
       "  <thead>\n",
       "    <tr style=\"text-align: right;\">\n",
       "      <th></th>\n",
       "      <th>movieId</th>\n",
       "      <th>title</th>\n",
       "      <th>genres</th>\n",
       "    </tr>\n",
       "  </thead>\n",
       "  <tbody>\n",
       "    <tr>\n",
       "      <th>0</th>\n",
       "      <td>1</td>\n",
       "      <td>Toy Story (1995)</td>\n",
       "      <td>Adventure|Animation|Children|Comedy|Fantasy</td>\n",
       "    </tr>\n",
       "    <tr>\n",
       "      <th>1</th>\n",
       "      <td>2</td>\n",
       "      <td>Jumanji (1995)</td>\n",
       "      <td>Adventure|Children|Fantasy</td>\n",
       "    </tr>\n",
       "    <tr>\n",
       "      <th>2</th>\n",
       "      <td>3</td>\n",
       "      <td>Grumpier Old Men (1995)</td>\n",
       "      <td>Comedy|Romance</td>\n",
       "    </tr>\n",
       "    <tr>\n",
       "      <th>3</th>\n",
       "      <td>4</td>\n",
       "      <td>Waiting to Exhale (1995)</td>\n",
       "      <td>Comedy|Drama|Romance</td>\n",
       "    </tr>\n",
       "    <tr>\n",
       "      <th>4</th>\n",
       "      <td>5</td>\n",
       "      <td>Father of the Bride Part II (1995)</td>\n",
       "      <td>Comedy</td>\n",
       "    </tr>\n",
       "  </tbody>\n",
       "</table>\n",
       "</div>"
      ],
      "text/plain": [
       "   movieId                               title  \\\n",
       "0        1                    Toy Story (1995)   \n",
       "1        2                      Jumanji (1995)   \n",
       "2        3             Grumpier Old Men (1995)   \n",
       "3        4            Waiting to Exhale (1995)   \n",
       "4        5  Father of the Bride Part II (1995)   \n",
       "\n",
       "                                        genres  \n",
       "0  Adventure|Animation|Children|Comedy|Fantasy  \n",
       "1                   Adventure|Children|Fantasy  \n",
       "2                               Comedy|Romance  \n",
       "3                         Comedy|Drama|Romance  \n",
       "4                                       Comedy  "
      ]
     },
     "execution_count": 4,
     "metadata": {},
     "output_type": "execute_result"
    }
   ],
   "source": [
    "movies_data.head()"
   ]
  },
  {
   "cell_type": "code",
   "execution_count": 5,
   "metadata": {},
   "outputs": [
    {
     "data": {
      "text/plain": [
       "0     Adventure|Animation|Children|Comedy|Fantasy\n",
       "1                      Adventure|Children|Fantasy\n",
       "2                                  Comedy|Romance\n",
       "3                            Comedy|Drama|Romance\n",
       "4                                          Comedy\n",
       "5                           Action|Crime|Thriller\n",
       "6                                  Comedy|Romance\n",
       "7                              Adventure|Children\n",
       "8                                          Action\n",
       "9                       Action|Adventure|Thriller\n",
       "10                           Comedy|Drama|Romance\n",
       "11                                  Comedy|Horror\n",
       "12                   Adventure|Animation|Children\n",
       "13                                          Drama\n",
       "14                       Action|Adventure|Romance\n",
       "Name: genres, dtype: object"
      ]
     },
     "execution_count": 5,
     "metadata": {},
     "output_type": "execute_result"
    }
   ],
   "source": [
    "movies_data[\"genres\"].iloc[:15]"
   ]
  },
  {
   "cell_type": "code",
   "execution_count": 6,
   "metadata": {},
   "outputs": [
    {
     "name": "stdout",
     "output_type": "stream",
     "text": [
      "<class 'pandas.core.frame.DataFrame'>\n",
      "RangeIndex: 86537 entries, 0 to 86536\n",
      "Data columns (total 3 columns):\n",
      " #   Column   Non-Null Count  Dtype \n",
      "---  ------   --------------  ----- \n",
      " 0   movieId  86537 non-null  int64 \n",
      " 1   title    86537 non-null  object\n",
      " 2   genres   86537 non-null  object\n",
      "dtypes: int64(1), object(2)\n",
      "memory usage: 2.0+ MB\n"
     ]
    }
   ],
   "source": [
    "movies_data.info()"
   ]
  },
  {
   "cell_type": "code",
   "execution_count": 7,
   "metadata": {},
   "outputs": [
    {
     "data": {
      "text/html": [
       "<div>\n",
       "<style scoped>\n",
       "    .dataframe tbody tr th:only-of-type {\n",
       "        vertical-align: middle;\n",
       "    }\n",
       "\n",
       "    .dataframe tbody tr th {\n",
       "        vertical-align: top;\n",
       "    }\n",
       "\n",
       "    .dataframe thead th {\n",
       "        text-align: right;\n",
       "    }\n",
       "</style>\n",
       "<table border=\"1\" class=\"dataframe\">\n",
       "  <thead>\n",
       "    <tr style=\"text-align: right;\">\n",
       "      <th></th>\n",
       "      <th>userId</th>\n",
       "      <th>movieId</th>\n",
       "      <th>rating</th>\n",
       "      <th>timestamp</th>\n",
       "    </tr>\n",
       "  </thead>\n",
       "  <tbody>\n",
       "    <tr>\n",
       "      <th>0</th>\n",
       "      <td>1</td>\n",
       "      <td>1</td>\n",
       "      <td>4.0</td>\n",
       "      <td>1225734739</td>\n",
       "    </tr>\n",
       "    <tr>\n",
       "      <th>1</th>\n",
       "      <td>1</td>\n",
       "      <td>110</td>\n",
       "      <td>4.0</td>\n",
       "      <td>1225865086</td>\n",
       "    </tr>\n",
       "    <tr>\n",
       "      <th>2</th>\n",
       "      <td>1</td>\n",
       "      <td>158</td>\n",
       "      <td>4.0</td>\n",
       "      <td>1225733503</td>\n",
       "    </tr>\n",
       "    <tr>\n",
       "      <th>3</th>\n",
       "      <td>1</td>\n",
       "      <td>260</td>\n",
       "      <td>4.5</td>\n",
       "      <td>1225735204</td>\n",
       "    </tr>\n",
       "    <tr>\n",
       "      <th>4</th>\n",
       "      <td>1</td>\n",
       "      <td>356</td>\n",
       "      <td>5.0</td>\n",
       "      <td>1225735119</td>\n",
       "    </tr>\n",
       "  </tbody>\n",
       "</table>\n",
       "</div>"
      ],
      "text/plain": [
       "   userId  movieId  rating   timestamp\n",
       "0       1        1     4.0  1225734739\n",
       "1       1      110     4.0  1225865086\n",
       "2       1      158     4.0  1225733503\n",
       "3       1      260     4.5  1225735204\n",
       "4       1      356     5.0  1225735119"
      ]
     },
     "execution_count": 7,
     "metadata": {},
     "output_type": "execute_result"
    }
   ],
   "source": [
    "rating_data.head()"
   ]
  },
  {
   "cell_type": "code",
   "execution_count": 8,
   "metadata": {},
   "outputs": [
    {
     "name": "stdout",
     "output_type": "stream",
     "text": [
      "<class 'pandas.core.frame.DataFrame'>\n",
      "RangeIndex: 33832162 entries, 0 to 33832161\n",
      "Data columns (total 4 columns):\n",
      " #   Column     Dtype  \n",
      "---  ------     -----  \n",
      " 0   userId     int64  \n",
      " 1   movieId    int64  \n",
      " 2   rating     float64\n",
      " 3   timestamp  int64  \n",
      "dtypes: float64(1), int64(3)\n",
      "memory usage: 1.0 GB\n"
     ]
    }
   ],
   "source": [
    "rating_data.info()"
   ]
  },
  {
   "cell_type": "code",
   "execution_count": 9,
   "metadata": {},
   "outputs": [
    {
     "data": {
      "text/html": [
       "<div>\n",
       "<style scoped>\n",
       "    .dataframe tbody tr th:only-of-type {\n",
       "        vertical-align: middle;\n",
       "    }\n",
       "\n",
       "    .dataframe tbody tr th {\n",
       "        vertical-align: top;\n",
       "    }\n",
       "\n",
       "    .dataframe thead th {\n",
       "        text-align: right;\n",
       "    }\n",
       "</style>\n",
       "<table border=\"1\" class=\"dataframe\">\n",
       "  <thead>\n",
       "    <tr style=\"text-align: right;\">\n",
       "      <th></th>\n",
       "      <th>userId</th>\n",
       "      <th>movieId</th>\n",
       "      <th>tag</th>\n",
       "      <th>timestamp</th>\n",
       "    </tr>\n",
       "  </thead>\n",
       "  <tbody>\n",
       "    <tr>\n",
       "      <th>0</th>\n",
       "      <td>10</td>\n",
       "      <td>260</td>\n",
       "      <td>good vs evil</td>\n",
       "      <td>1430666558</td>\n",
       "    </tr>\n",
       "    <tr>\n",
       "      <th>1</th>\n",
       "      <td>10</td>\n",
       "      <td>260</td>\n",
       "      <td>Harrison Ford</td>\n",
       "      <td>1430666505</td>\n",
       "    </tr>\n",
       "    <tr>\n",
       "      <th>2</th>\n",
       "      <td>10</td>\n",
       "      <td>260</td>\n",
       "      <td>sci-fi</td>\n",
       "      <td>1430666538</td>\n",
       "    </tr>\n",
       "    <tr>\n",
       "      <th>3</th>\n",
       "      <td>14</td>\n",
       "      <td>1221</td>\n",
       "      <td>Al Pacino</td>\n",
       "      <td>1311600756</td>\n",
       "    </tr>\n",
       "    <tr>\n",
       "      <th>4</th>\n",
       "      <td>14</td>\n",
       "      <td>1221</td>\n",
       "      <td>mafia</td>\n",
       "      <td>1311600746</td>\n",
       "    </tr>\n",
       "    <tr>\n",
       "      <th>5</th>\n",
       "      <td>14</td>\n",
       "      <td>58559</td>\n",
       "      <td>Atmospheric</td>\n",
       "      <td>1311530439</td>\n",
       "    </tr>\n",
       "    <tr>\n",
       "      <th>6</th>\n",
       "      <td>14</td>\n",
       "      <td>58559</td>\n",
       "      <td>Batman</td>\n",
       "      <td>1311530391</td>\n",
       "    </tr>\n",
       "    <tr>\n",
       "      <th>7</th>\n",
       "      <td>14</td>\n",
       "      <td>58559</td>\n",
       "      <td>comic book</td>\n",
       "      <td>1311530398</td>\n",
       "    </tr>\n",
       "    <tr>\n",
       "      <th>8</th>\n",
       "      <td>14</td>\n",
       "      <td>58559</td>\n",
       "      <td>dark</td>\n",
       "      <td>1311530428</td>\n",
       "    </tr>\n",
       "    <tr>\n",
       "      <th>9</th>\n",
       "      <td>14</td>\n",
       "      <td>58559</td>\n",
       "      <td>Heath Ledger</td>\n",
       "      <td>1311530404</td>\n",
       "    </tr>\n",
       "    <tr>\n",
       "      <th>10</th>\n",
       "      <td>14</td>\n",
       "      <td>58559</td>\n",
       "      <td>imdb top 250</td>\n",
       "      <td>1311530451</td>\n",
       "    </tr>\n",
       "    <tr>\n",
       "      <th>11</th>\n",
       "      <td>14</td>\n",
       "      <td>58559</td>\n",
       "      <td>Michael Caine</td>\n",
       "      <td>1311530407</td>\n",
       "    </tr>\n",
       "    <tr>\n",
       "      <th>12</th>\n",
       "      <td>14</td>\n",
       "      <td>58559</td>\n",
       "      <td>Morgan Freeman</td>\n",
       "      <td>1311530400</td>\n",
       "    </tr>\n",
       "    <tr>\n",
       "      <th>13</th>\n",
       "      <td>14</td>\n",
       "      <td>58559</td>\n",
       "      <td>Oscar (Best Supporting Actor)</td>\n",
       "      <td>1311530432</td>\n",
       "    </tr>\n",
       "    <tr>\n",
       "      <th>14</th>\n",
       "      <td>14</td>\n",
       "      <td>58559</td>\n",
       "      <td>psychology</td>\n",
       "      <td>1311530417</td>\n",
       "    </tr>\n",
       "  </tbody>\n",
       "</table>\n",
       "</div>"
      ],
      "text/plain": [
       "    userId  movieId                            tag   timestamp\n",
       "0       10      260                   good vs evil  1430666558\n",
       "1       10      260                  Harrison Ford  1430666505\n",
       "2       10      260                         sci-fi  1430666538\n",
       "3       14     1221                      Al Pacino  1311600756\n",
       "4       14     1221                          mafia  1311600746\n",
       "5       14    58559                    Atmospheric  1311530439\n",
       "6       14    58559                         Batman  1311530391\n",
       "7       14    58559                     comic book  1311530398\n",
       "8       14    58559                           dark  1311530428\n",
       "9       14    58559                   Heath Ledger  1311530404\n",
       "10      14    58559                   imdb top 250  1311530451\n",
       "11      14    58559                  Michael Caine  1311530407\n",
       "12      14    58559                 Morgan Freeman  1311530400\n",
       "13      14    58559  Oscar (Best Supporting Actor)  1311530432\n",
       "14      14    58559                     psychology  1311530417"
      ]
     },
     "execution_count": 9,
     "metadata": {},
     "output_type": "execute_result"
    }
   ],
   "source": [
    "tags_data.head(15)"
   ]
  },
  {
   "cell_type": "code",
   "execution_count": 10,
   "metadata": {},
   "outputs": [
    {
     "name": "stdout",
     "output_type": "stream",
     "text": [
      "<class 'pandas.core.frame.DataFrame'>\n",
      "RangeIndex: 2328315 entries, 0 to 2328314\n",
      "Data columns (total 4 columns):\n",
      " #   Column     Dtype \n",
      "---  ------     ----- \n",
      " 0   userId     int64 \n",
      " 1   movieId    int64 \n",
      " 2   tag        object\n",
      " 3   timestamp  int64 \n",
      "dtypes: int64(3), object(1)\n",
      "memory usage: 71.1+ MB\n"
     ]
    }
   ],
   "source": [
    "tags_data.info()"
   ]
  },
  {
   "cell_type": "code",
   "execution_count": 11,
   "metadata": {},
   "outputs": [
    {
     "data": {
      "image/png": "[encoded data removed]",
      "text/plain": [
       "<Figure size 640x480 with 1 Axes>"
      ]
     },
     "metadata": {},
     "output_type": "display_data"
    }
   ],
   "source": [
    "rating_data[\"rating\"].value_counts().sort_index().plot(kind='bar')\n",
    "plt.xlabel(\"Ratings 0.5 - 5.0\")\n",
    "plt.ylabel(\"Count in milions\")\n",
    "plt.title(\"Distribution of ratings\")\n",
    "plt.show();"
   ]
  },
  {
   "cell_type": "code",
   "execution_count": 12,
   "metadata": {},
   "outputs": [
    {
     "data": {
      "text/plain": [
       "330975"
      ]
     },
     "execution_count": 12,
     "metadata": {},
     "output_type": "execute_result"
    }
   ],
   "source": [
    "len(rating_data[\"userId\"].unique())"
   ]
  },
  {
   "cell_type": "code",
   "execution_count": 13,
   "metadata": {},
   "outputs": [
    {
     "data": {
      "text/plain": [
       "25280"
      ]
     },
     "execution_count": 13,
     "metadata": {},
     "output_type": "execute_result"
    }
   ],
   "source": [
    "len(tags_data[\"userId\"].unique())"
   ]
  },
  {
   "cell_type": "code",
   "execution_count": 14,
   "metadata": {},
   "outputs": [
    {
     "data": {
      "text/plain": [
       "movieId\n",
       "318       122296\n",
       "356       113581\n",
       "296       108756\n",
       "2571      107056\n",
       "593       101802\n",
       "           ...  \n",
       "261715         1\n",
       "257463         1\n",
       "256693         1\n",
       "161766         1\n",
       "269782         1\n",
       "Name: count, Length: 83239, dtype: int64"
      ]
     },
     "execution_count": 14,
     "metadata": {},
     "output_type": "execute_result"
    }
   ],
   "source": [
    "rating_list = rating_data[\"movieId\"].value_counts()\n",
    "\n",
    "bottom_ratings = rating_list[(rating_list.values <= 500) & (rating_list.values >= 0)]\n",
    "rating_list"
   ]
  },
  {
   "cell_type": "code",
   "execution_count": 15,
   "metadata": {},
   "outputs": [
    {
     "data": {
      "text/plain": [
       "movieId\n",
       "128975    500\n",
       "4325      500\n",
       "8796      500\n",
       "324       500\n",
       "6249      500\n",
       "         ... \n",
       "261715      1\n",
       "257463      1\n",
       "256693      1\n",
       "161766      1\n",
       "269782      1\n",
       "Name: count, Length: 76932, dtype: int64"
      ]
     },
     "execution_count": 15,
     "metadata": {},
     "output_type": "execute_result"
    }
   ],
   "source": [
    "bottom_ratings"
   ]
  },
  {
   "cell_type": "code",
   "execution_count": 16,
   "metadata": {},
   "outputs": [
    {
     "data": {
      "text/html": [
       "<div>\n",
       "<style scoped>\n",
       "    .dataframe tbody tr th:only-of-type {\n",
       "        vertical-align: middle;\n",
       "    }\n",
       "\n",
       "    .dataframe tbody tr th {\n",
       "        vertical-align: top;\n",
       "    }\n",
       "\n",
       "    .dataframe thead th {\n",
       "        text-align: right;\n",
       "    }\n",
       "</style>\n",
       "<table border=\"1\" class=\"dataframe\">\n",
       "  <thead>\n",
       "    <tr style=\"text-align: right;\">\n",
       "      <th></th>\n",
       "      <th>movieId</th>\n",
       "      <th>title</th>\n",
       "      <th>genres</th>\n",
       "    </tr>\n",
       "  </thead>\n",
       "  <tbody>\n",
       "    <tr>\n",
       "      <th>27479</th>\n",
       "      <td>128975</td>\n",
       "      <td>Hot Tub Time Machine 2 (2015)</td>\n",
       "      <td>Comedy|Sci-Fi</td>\n",
       "    </tr>\n",
       "  </tbody>\n",
       "</table>\n",
       "</div>"
      ],
      "text/plain": [
       "       movieId                          title         genres\n",
       "27479   128975  Hot Tub Time Machine 2 (2015)  Comedy|Sci-Fi"
      ]
     },
     "execution_count": 16,
     "metadata": {},
     "output_type": "execute_result"
    }
   ],
   "source": [
    "movies_data.loc[movies_data[\"movieId\"] == 128975]"
   ]
  },
  {
   "cell_type": "code",
   "execution_count": 17,
   "metadata": {},
   "outputs": [
    {
     "data": {
      "text/plain": [
       "21"
      ]
     },
     "execution_count": 17,
     "metadata": {},
     "output_type": "execute_result"
    }
   ],
   "source": [
    "distribution_dict = {}\n",
    "prev_r = 0 \n",
    "for r in range(100, 2001, 100):\n",
    "    label = f\"{prev_r}-{r}\"\n",
    "    count = len(rating_list[(rating_list.values > prev_r) & (rating_list.values <= r)])\n",
    "    distribution_dict[label] = count\n",
    "    prev_r = r\n",
    "\n",
    "label = \"2000+\"\n",
    "count = len(rating_list[rating_list.values > 2000])\n",
    "distribution_dict[label] = count\n",
    "\n",
    "\n",
    "len(distribution_dict.keys())"
   ]
  },
  {
   "cell_type": "code",
   "execution_count": 18,
   "metadata": {},
   "outputs": [
    {
     "data": {
      "image/png": "[encoded data removed]",
      "text/plain": [
       "<Figure size 1200x600 with 1 Axes>"
      ]
     },
     "metadata": {},
     "output_type": "display_data"
    }
   ],
   "source": [
    "plt.figure(figsize=(12, 6))\n",
    "plt.bar(distribution_dict.keys(), distribution_dict.values())\n",
    "plt.yscale(\"log\")\n",
    "plt.xlabel(\"Number of Ratings per Movie\")\n",
    "plt.ylabel(\"Number of Movies\")\n",
    "plt.title(\"Distribution of Number of Ratings per Movie\")\n",
    "plt.xticks(rotation=90)\n",
    "plt.grid(axis=\"y\", linestyle=\"--\", alpha=0.7)\n",
    "plt.tight_layout()\n",
    "plt.show()"
   ]
  },
  {
   "cell_type": "code",
   "execution_count": 19,
   "metadata": {},
   "outputs": [
    {
     "name": "stdout",
     "output_type": "stream",
     "text": [
      "<class 'pandas.core.frame.DataFrame'>\n",
      "RangeIndex: 86537 entries, 0 to 86536\n",
      "Data columns (total 3 columns):\n",
      " #   Column   Non-Null Count  Dtype \n",
      "---  ------   --------------  ----- \n",
      " 0   movieId  86537 non-null  int64 \n",
      " 1   title    86537 non-null  object\n",
      " 2   genres   86537 non-null  object\n",
      "dtypes: int64(1), object(2)\n",
      "memory usage: 2.0+ MB\n"
     ]
    }
   ],
   "source": [
    "movies_data.info()"
   ]
  }
 ],
 "metadata": {
  "kernelspec": {
   "display_name": ".venv",
   "language": "python",
   "name": "python3"
  },
  "language_info": {
   "codemirror_mode": {
    "name": "ipython",
    "version": 3
   },
   "file_extension": ".py",
   "mimetype": "text/x-python",
   "name": "python",
   "nbconvert_exporter": "python",
   "pygments_lexer": "ipython3",
   "version": "3.13.1"
  }
 },
 "nbformat": 4,
 "nbformat_minor": 2
}
