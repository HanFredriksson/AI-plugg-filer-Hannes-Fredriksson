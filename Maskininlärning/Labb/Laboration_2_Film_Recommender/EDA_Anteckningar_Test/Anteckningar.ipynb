{
 "cells": [
  {
   "cell_type": "markdown",
   "metadata": {},
   "source": [
    "### Anteckningar till labben 2 - Rekommenderingssystem"
   ]
  },
  {
   "cell_type": "markdown",
   "metadata": {},
   "source": [
    "Vi går mer mot content filtering. Det är det som dom flesta företag går mot för att det går att använda datan mer effektivt i kommisierlt syfte, att sälja skrot med anadra ord. \n",
    "\n",
    "\n",
    "\n"
   ]
  },
  {
   "cell_type": "markdown",
   "metadata": {},
   "source": [
    "### Outline\n",
    "\n",
    "Tänker att vi skriver en py med model som jag vill köra och hur dens ska köras, och en py som hanterar datan och producerar datan i en form som jag önskar. \n",
    "\n",
    "### Model.py\n",
    "\n",
    "Se till att sortera bort och raffinera data så mycket det går. Måste gör att urval här. För mängden är så stor. Smart är att cacha data i minnet, så att datan inte laddar flera gånger.\n",
    "\n",
    "### Model.py\n",
    "\n",
    "Skrive in här vad modellen ska göra och tränas eller villka paramtrar vi behöver frö att köra det på bästa sätt."
   ]
  },
  {
   "cell_type": "markdown",
   "metadata": {},
   "source": [
    "## Termer\n",
    "\n",
    "Items = entites a system recomande. Like an app, video or a product.\n",
    "\n",
    "Quety = Information that the system uses to make a recomandation. \n",
    "\n",
    "Embedding = A mapping form a discrete set to a vector space called the embedding space. "
   ]
  },
  {
   "cell_type": "markdown",
   "metadata": {},
   "source": [
    "## Struktur för bygga systemet\n",
    "\n",
    "### Candidate generation - Kanditat Generering\n",
    "\n",
    "Genrerar en minder del av hela data basen av innehåll att rekomenadera. Detta är en första snabb sortering vad som kan vara intressant. Detta kan ske med flera olika modellar som snabbt hittar kandidater att rekomendera. Så här använder man få featues för att snabba på sökandet. är en första gallring bara. \n",
    "\n",
    "### Scoring - Rankning\n",
    "\n",
    "Nu kn mer eakts och feature tunga modeller köras för att ranka rekomendationerna. Här minskar man urvalet till kanske tio stycken. \n",
    "\n",
    "### Re-rankning - Andra övervägandet\n",
    "\n",
    "Här använder vi yttligare features. Som att använderan specefikt inte gillar, vilken tid/högtid det är på året. Här kan man också se till att göra rekomandationer nya och fräsha. \n",
    "\n"
   ]
  },
  {
   "cell_type": "markdown",
   "metadata": {},
   "source": [
    "### Embeding space\n",
    "\n",
    "Är en vector rymd som görs upp av kluster av likanade innehåll. Som en filmer av samma gener eller samma men olika märken av en produkt. Typiskt är att det är en liten dimension på denna vectorn. Få features. Det är distansen mellan varje punkt som avjör om dom hör ihop eller inte. Kalls likhets mätning (Similarity measures). Beräkning görs genom Cosine, dot product eller Euclidiska avståndet.\n",
    "\n",
    "**Cosine** - Är cos av vinkeln mellan två vectorer.\n",
    "\n",
    "**Dot-Product** - Mäter likheten mellan två punker. Högre värde, högre likhet.  \n",
    "\n",
    "**Euklidiska avståndet** - Är det kortataste avståndet mellan punkten för förfrågan och det innehållets punkt som är närmast. Är det som rekomenderas. \n",
    "\n",
    "Viktigt att tänka på är att dot product och Cosine är känsliga för hur stor normen är för vektorena i rymden. Ju störra normen är ju mer significant är vectorn och chansen för att den blir rekomanderad är större. Detta kan vara så att modelar kan explodera om normen är frö stor. Det är här normalizering kommer en, framför allt L2 norm i fallaet med dot product och cosine. Gör att riktningen blir viktigare än längden, magnituden. Om inte detta görs kan det bli enkelt så att ouliers blir rekomenderade.  \n",
    "\n",
    "\n"
   ]
  },
  {
   "cell_type": "markdown",
   "metadata": {},
   "source": [
    "## Content-Based Filtering\n",
    "\n",
    "### Egenskaper och mekanink\n",
    "\n",
    "Bygger på innehållet som ska rekomanderas egenskaper. Man bygger en profil kring innehållet och vilka egenskaper som tillhör det som ska rekomanderas. Här finns inte problemet med att vi behöver veta användarens preferenser eller vad dom tycker. Bygger bara på innehållets egenskaper. Kan vara mer korrekt i sin rekomandation för att vi för att det är egenskperna hos innehållet som är det viktiga. \n",
    "\n",
    "Kort kan man säga att Contetnt-based filtering jämför förfrågan (Queries) mot innehållet. Har du gillat något så kommer den rekomandera likanande saker baserat på det du gillat. "
   ]
  },
  {
   "cell_type": "markdown",
   "metadata": {},
   "source": [
    "## Collaborative Filtering \n",
    "\n",
    "### Egenskaper och mekanink\n",
    "\n",
    "Bygger på användarens preferenser. Bygger mycket på att användaren \"tränar\" rekommendations algoritmen för vad som kan vara relevant att rekommendera. Algoritmen vat inget från start, så en ny användare är helt blank till algoritmen. Det krävs att användaren ger sin ösikt om vad algoritmen är placerad på, om det är en service eller produkt. Man beöhver ge den data att väga alternativen emot. Som rating, reviews. Kallas en \"kall starts problem\" \n",
    "\n",
    "Är inte säkert en collaborative filtering metod ger bra rekomandationer. För användare med liknande smak kanske inte gillar samma sak alltid. \n",
    "\n",
    "Kort kan man säga Collaborative filtering använder likehten mellan innehållet mot vad för innehåll som användaren gillar. Exempel att om två användare liknar varandra kan man rekomandera samma sak till ena utan att den användaren har vissat intresset i det innehållet. Rekomandationen baseras på vad för egnsaker frågan har och vad för egenskaper innehållet har.   "
   ]
  }
 ],
 "metadata": {
  "language_info": {
   "name": "python"
  }
 },
 "nbformat": 4,
 "nbformat_minor": 2
}
