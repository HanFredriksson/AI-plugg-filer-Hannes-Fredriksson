{
 "cells": [
  {
   "cell_type": "markdown",
   "metadata": {},
   "source": [
    "### Anteckningar till labben 2 - Rekommenderingssystem"
   ]
  },
  {
   "cell_type": "markdown",
   "metadata": {},
   "source": [
    "Vi går mer mot content filtering. Det är det som dom flesta företag går mot för att det går att använda datan mer effektivt i kommisierlt syfte, att sälja skrot med anadra ord. \n",
    "\n",
    "\n",
    "\n"
   ]
  },
  {
   "cell_type": "markdown",
   "metadata": {},
   "source": [
    "### Outline\n",
    "\n",
    "Tänker att vi skriver en py med model som jag vill köra och hur dens ska köras, och en py som hanterar datan och producerar datan i en form som jag önskar. \n",
    "\n",
    "### Model.py\n",
    "\n",
    "Se till att sortera bort och raffinera data så mycket det går. Måste gör att urval här. För mängden är så stor. Smart är att cacha data i minnet, så att datan inte laddar flera gånger.\n",
    "\n",
    "### Model.py\n",
    "\n",
    "Skrive in här vad modellen ska göra och tränas eller villka paramtrar vi behöver frö att köra det på bästa sätt."
   ]
  }
 ],
 "metadata": {
  "language_info": {
   "name": "python"
  }
 },
 "nbformat": 4,
 "nbformat_minor": 2
}
