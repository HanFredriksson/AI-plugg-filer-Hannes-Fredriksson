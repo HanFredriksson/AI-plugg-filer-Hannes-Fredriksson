{
 "cells": [
  {
   "cell_type": "code",
   "execution_count": 1,
   "metadata": {},
   "outputs": [],
   "source": [
    "from Cardio_data_wrangler import Cardio_data\n",
    "from ModelTester import ModelTester\n",
    "import pandas as pd"
   ]
  },
  {
   "cell_type": "code",
   "execution_count": 2,
   "metadata": {},
   "outputs": [],
   "source": [
    "cardio_data = pd.read_csv(\"../Laboration_1_Medical_Prediction/Data/cardio_train.csv\", delimiter=\";\")\n",
    "cardio_data.drop(\"id\", axis=1, inplace=True)\n",
    "bmi_values = [54, 18]\n",
    "ap_hi_ap_lo = {\"ap_hi\": [160, 190], \"ap_lo\": [100, 140]}\n",
    "scoring_metrics = [\"f1\", \"precision\", \"recall\"]\n",
    "path_save_results = \"../Laboration_1_Medical_Prediction/Data/model_results.csv\"\n",
    "encode_columns = [[\"ap_hi\", \"ap_lo\", \"height\", \"weight\", \"BMI\"],]\n",
    "param_grids = {\n",
    "    \"SVM_Stdz\": {\n",
    "        \"model__C\": [0.1, 1, 10],  \n",
    "        \"model__kernel\": [\"rbf\", \"poly\"],\n",
    "        \"model__gamma\": [\"scale\", \"auto\"], \n",
    "        \"model__degree\": [3] \n",
    "    },\n",
    "    \"SVM_Norm\": {\n",
    "        \"model__C\": [0.1, 1, 10],  \n",
    "        \"model__kernel\": [\"rbf\", \"poly\"],\n",
    "        \"model__gamma\": [\"scale\", \"auto\"],\n",
    "        \"model__degree\": [3]  \n",
    "    },\n",
    "    \"Logistic Regression_Stdz\": {\n",
    "        \"model__C\": [0.1, 1, 10],  \n",
    "        \"model__solver\": [\"saga\"],\n",
    "        \"model__max_iter\" : [200, 500, 1000],  \n",
    "        \"model__penalty\": [\"elasticnet\"],\n",
    "        \"model__l1_ratio\": [0.1, 0.5, 0.9] \n",
    "    },\n",
    "    \"Logistic Regression_Norm\": {\n",
    "        \"model__C\": [0.1, 1, 10],  \n",
    "        \"model__solver\": [\"saga\"],\n",
    "        \"model__max_iter\" : [200, 500, 1000],\n",
    "        \"model__penalty\": [\"elasticnet\"],\n",
    "        \"model__l1_ratio\": [0.1, 0.5, 0.9]\n",
    "    },\n",
    "    \"Decision Tree_Stdz\": {\n",
    "        \"model__criterion\": [\"gini\", \"entropy\"],\n",
    "        \"model__max_depth\": [5, 10, None],  \n",
    "        \"model__max_features\": [\"sqrt\"],\n",
    "        \"model__min_samples_split\": [2, 5, 10] \n",
    "    },\n",
    "    \"Decision Tree_Norm\": {\n",
    "        \"model__criterion\": [\"gini\", \"entropy\"],\n",
    "        \"model__max_depth\": [5, 10, None],  \n",
    "        \"model__max_features\": [\"sqrt\"],\n",
    "        \"model__min_samples_split\": [2, 5, 10]\n",
    "    },\n",
    "    \"Random Forest_Stdz\": {\n",
    "        \"model__n_estimators\": [100, 200],  \n",
    "        \"model__max_depth\": [10, 20, None],  \n",
    "        \"model__max_features\": [\"sqrt\"],\n",
    "        \"model__bootstrap\": [True, False] \n",
    "    },\n",
    "    \"Random Forest_Norm\": {\n",
    "        \"model__n_estimators\": [100, 200],  \n",
    "        \"model__max_depth\": [10, 20, None],  \n",
    "        \"model__max_features\": [\"sqrt\"],\n",
    "        \"model__bootstrap\": [True, False]\n",
    "    }\n",
    "}"
   ]
  },
  {
   "cell_type": "code",
   "execution_count": 3,
   "metadata": {},
   "outputs": [],
   "source": [
    "cardio_data_class = Cardio_data(cardio_data, bmi_values, ap_hi_ap_lo)\n",
    "cardio_data_class.data\n",
    "model_data_cardio = cardio_data_class.encode_df()\n",
    "testing_models = ModelTester(model_data_cardio, param_grids, path_save_results, scoring_metrics)"
   ]
  },
  {
   "cell_type": "code",
   "execution_count": 4,
   "metadata": {},
   "outputs": [
    {
     "name": "stdout",
     "output_type": "stream",
     "text": [
      "Time taken: 33m 15s for model SVM_Stdz\n",
      "Time taken: 27m 38s for model SVM_Norm\n",
      "Time taken: 0m 43s for model Logistic Regression_Stdz\n",
      "Time taken: 0m 37s for model Logistic Regression_Norm\n",
      "Time taken: 0m 3s for model Decision Tree_Stdz\n",
      "Time taken: 0m 3s for model Decision Tree_Norm\n",
      "Time taken: 2m 13s for model Random Forest_Stdz\n",
      "Time taken: 2m 16s for model Random Forest_Norm\n"
     ]
    },
    {
     "ename": "ValueError",
     "evalue": "The truth value of a DataFrame is ambiguous. Use a.empty, a.bool(), a.item(), a.any() or a.all().",
     "output_type": "error",
     "traceback": [
      "\u001b[1;31m---------------------------------------------------------------------------\u001b[0m",
      "\u001b[1;31mValueError\u001b[0m                                Traceback (most recent call last)",
      "\u001b[1;32m~\\AppData\\Local\\Temp\\ipykernel_2668\\705230091.py\u001b[0m in \u001b[0;36m?\u001b[1;34m()\u001b[0m\n\u001b[1;32m----> 1\u001b[1;33m \u001b[0mtesting_models\u001b[0m\u001b[1;33m.\u001b[0m\u001b[0mget_model_hyperparams_scores\u001b[0m\u001b[1;33m(\u001b[0m\u001b[1;33m)\u001b[0m\u001b[1;33m\u001b[0m\u001b[1;33m\u001b[0m\u001b[0m\n\u001b[0m",
      "\u001b[1;32mf:\\AI-24-programering\\Python-programing-Hannes-Fredriksson\\Maskininlärning\\Labb\\Laboration_1_Medical_Prediction\\ModelTester.py\u001b[0m in \u001b[0;36m?\u001b[1;34m(self)\u001b[0m\n\u001b[0;32m    209\u001b[0m                 \u001b[0mprint\u001b[0m\u001b[1;33m(\u001b[0m\u001b[1;33mf\"\u001b[0m\u001b[1;33mTime taken: \u001b[0m\u001b[1;33m{\u001b[0m\u001b[0mminutes\u001b[0m\u001b[1;33m}\u001b[0m\u001b[1;33mm \u001b[0m\u001b[1;33m{\u001b[0m\u001b[0mseconds\u001b[0m\u001b[1;33m}\u001b[0m\u001b[1;33ms for model \u001b[0m\u001b[1;33m{\u001b[0m\u001b[0mname\u001b[0m\u001b[1;33m}\u001b[0m\u001b[1;33m\"\u001b[0m\u001b[1;33m)\u001b[0m\u001b[1;33m\u001b[0m\u001b[1;33m\u001b[0m\u001b[0m\n\u001b[0;32m    210\u001b[0m \u001b[1;33m\u001b[0m\u001b[0m\n\u001b[0;32m    211\u001b[0m             \u001b[1;32mif\u001b[0m \u001b[0mgrid_results\u001b[0m\u001b[1;33m:\u001b[0m\u001b[1;33m\u001b[0m\u001b[1;33m\u001b[0m\u001b[0m\n\u001b[0;32m    212\u001b[0m                 \u001b[0mgrid_results_df\u001b[0m \u001b[1;33m=\u001b[0m \u001b[0mpd\u001b[0m\u001b[1;33m.\u001b[0m\u001b[0mDataFrame\u001b[0m\u001b[1;33m(\u001b[0m\u001b[0mgrid_results\u001b[0m\u001b[1;33m)\u001b[0m\u001b[1;33m\u001b[0m\u001b[1;33m\u001b[0m\u001b[0m\n\u001b[1;32m--> 213\u001b[1;33m                 \u001b[0mself\u001b[0m\u001b[1;33m.\u001b[0m\u001b[0mresult_handler\u001b[0m\u001b[1;33m(\u001b[0m\u001b[0mgrid_results_df\u001b[0m\u001b[1;33m)\u001b[0m\u001b[1;33m\u001b[0m\u001b[1;33m\u001b[0m\u001b[0m\n\u001b[0m",
      "\u001b[1;32mf:\\AI-24-programering\\Python-programing-Hannes-Fredriksson\\Maskininlärning\\Labb\\Laboration_1_Medical_Prediction\\ModelTester.py\u001b[0m in \u001b[0;36m?\u001b[1;34m(self, results, save_to_file, load_file)\u001b[0m\n\u001b[0;32m    148\u001b[0m             \u001b[0mself\u001b[0m\u001b[1;33m.\u001b[0m\u001b[0mhyperparams_result_df\u001b[0m \u001b[1;33m=\u001b[0m \u001b[0mpd\u001b[0m\u001b[1;33m.\u001b[0m\u001b[0mread_csv\u001b[0m\u001b[1;33m(\u001b[0m\u001b[0mself\u001b[0m\u001b[1;33m.\u001b[0m\u001b[0mpath\u001b[0m\u001b[1;33m)\u001b[0m\u001b[1;33m\u001b[0m\u001b[1;33m\u001b[0m\u001b[0m\n\u001b[0;32m    149\u001b[0m             \u001b[0mself\u001b[0m\u001b[1;33m.\u001b[0m\u001b[0mhyperparams_result_df\u001b[0m\u001b[1;33m[\u001b[0m\u001b[1;34m\"Hyperparams\"\u001b[0m\u001b[1;33m]\u001b[0m \u001b[1;33m=\u001b[0m \u001b[0mself\u001b[0m\u001b[1;33m.\u001b[0m\u001b[0mhyperparams_result_df\u001b[0m\u001b[1;33m[\u001b[0m\u001b[1;34m\"Hyperparams\"\u001b[0m\u001b[1;33m]\u001b[0m\u001b[1;33m.\u001b[0m\u001b[0mapply\u001b[0m\u001b[1;33m(\u001b[0m\u001b[0mjson\u001b[0m\u001b[1;33m.\u001b[0m\u001b[0mloads\u001b[0m\u001b[1;33m)\u001b[0m\u001b[1;33m\u001b[0m\u001b[1;33m\u001b[0m\u001b[0m\n\u001b[0;32m    150\u001b[0m             \u001b[0mprint\u001b[0m\u001b[1;33m(\u001b[0m\u001b[1;34m\"Loaded results from file.\"\u001b[0m\u001b[1;33m)\u001b[0m\u001b[1;33m\u001b[0m\u001b[1;33m\u001b[0m\u001b[0m\n\u001b[0;32m    151\u001b[0m \u001b[1;33m\u001b[0m\u001b[0m\n\u001b[1;32m--> 152\u001b[1;33m         \u001b[1;32mif\u001b[0m \u001b[0mresults\u001b[0m  \u001b[1;33m!=\u001b[0m \u001b[1;32mNone\u001b[0m\u001b[1;33m:\u001b[0m\u001b[1;33m\u001b[0m\u001b[1;33m\u001b[0m\u001b[0m\n\u001b[0m\u001b[0;32m    153\u001b[0m             \u001b[0mself\u001b[0m\u001b[1;33m.\u001b[0m\u001b[0mhyperparams_result_df\u001b[0m \u001b[1;33m=\u001b[0m \u001b[0mpd\u001b[0m\u001b[1;33m.\u001b[0m\u001b[0mconcat\u001b[0m\u001b[1;33m(\u001b[0m\u001b[1;33m[\u001b[0m\u001b[0mself\u001b[0m\u001b[1;33m.\u001b[0m\u001b[0mhyperparams_result_df\u001b[0m\u001b[1;33m,\u001b[0m \u001b[0mresults\u001b[0m\u001b[1;33m]\u001b[0m\u001b[1;33m,\u001b[0m \u001b[0mignore_index\u001b[0m\u001b[1;33m=\u001b[0m\u001b[1;32mTrue\u001b[0m\u001b[1;33m)\u001b[0m\u001b[1;33m\u001b[0m\u001b[1;33m\u001b[0m\u001b[0m\n\u001b[0;32m    154\u001b[0m             \u001b[0mself\u001b[0m\u001b[1;33m.\u001b[0m\u001b[0mhyperparams_result_df\u001b[0m\u001b[1;33m.\u001b[0m\u001b[0msort_values\u001b[0m\u001b[1;33m(\u001b[0m\u001b[0mby\u001b[0m\u001b[1;33m=\u001b[0m\u001b[1;33m[\u001b[0m\u001b[0msorting_keys\u001b[0m\u001b[1;33m[\u001b[0m\u001b[0mself\u001b[0m\u001b[1;33m.\u001b[0m\u001b[0mscoring_metrics\u001b[0m\u001b[1;33m[\u001b[0m\u001b[1;36m0\u001b[0m\u001b[1;33m]\u001b[0m\u001b[1;33m]\u001b[0m\u001b[1;33m]\u001b[0m\u001b[1;33m,\u001b[0m \u001b[0mascending\u001b[0m\u001b[1;33m=\u001b[0m\u001b[1;32mFalse\u001b[0m\u001b[1;33m,\u001b[0m \u001b[0minplace\u001b[0m\u001b[1;33m=\u001b[0m\u001b[1;32mTrue\u001b[0m\u001b[1;33m)\u001b[0m\u001b[1;33m\u001b[0m\u001b[1;33m\u001b[0m\u001b[0m\n\u001b[0;32m    155\u001b[0m             \u001b[0mself\u001b[0m\u001b[1;33m.\u001b[0m\u001b[0mhyperparams_result_df\u001b[0m\u001b[1;33m.\u001b[0m\u001b[0mreset_index\u001b[0m\u001b[1;33m(\u001b[0m\u001b[0mdrop\u001b[0m\u001b[1;33m=\u001b[0m \u001b[1;32mTrue\u001b[0m\u001b[1;33m,\u001b[0m \u001b[0minplace\u001b[0m\u001b[1;33m=\u001b[0m\u001b[1;32mTrue\u001b[0m\u001b[1;33m)\u001b[0m\u001b[1;33m\u001b[0m\u001b[1;33m\u001b[0m\u001b[0m\n",
      "\u001b[1;32mf:\\AI-24-programering\\Python-programing-Hannes-Fredriksson\\.venv\\Lib\\site-packages\\pandas\\core\\generic.py\u001b[0m in \u001b[0;36m?\u001b[1;34m(self)\u001b[0m\n\u001b[0;32m   1575\u001b[0m     \u001b[1;33m@\u001b[0m\u001b[0mfinal\u001b[0m\u001b[1;33m\u001b[0m\u001b[1;33m\u001b[0m\u001b[0m\n\u001b[0;32m   1576\u001b[0m     \u001b[1;32mdef\u001b[0m \u001b[0m__nonzero__\u001b[0m\u001b[1;33m(\u001b[0m\u001b[0mself\u001b[0m\u001b[1;33m)\u001b[0m \u001b[1;33m->\u001b[0m \u001b[0mNoReturn\u001b[0m\u001b[1;33m:\u001b[0m\u001b[1;33m\u001b[0m\u001b[1;33m\u001b[0m\u001b[0m\n\u001b[1;32m-> 1577\u001b[1;33m         raise ValueError(\n\u001b[0m\u001b[0;32m   1578\u001b[0m             \u001b[1;33mf\"\u001b[0m\u001b[1;33mThe truth value of a \u001b[0m\u001b[1;33m{\u001b[0m\u001b[0mtype\u001b[0m\u001b[1;33m(\u001b[0m\u001b[0mself\u001b[0m\u001b[1;33m)\u001b[0m\u001b[1;33m.\u001b[0m\u001b[0m__name__\u001b[0m\u001b[1;33m}\u001b[0m\u001b[1;33m is ambiguous. \u001b[0m\u001b[1;33m\"\u001b[0m\u001b[1;33m\u001b[0m\u001b[1;33m\u001b[0m\u001b[0m\n\u001b[0;32m   1579\u001b[0m             \u001b[1;34m\"Use a.empty, a.bool(), a.item(), a.any() or a.all().\"\u001b[0m\u001b[1;33m\u001b[0m\u001b[1;33m\u001b[0m\u001b[0m\n\u001b[0;32m   1580\u001b[0m         \u001b[1;33m)\u001b[0m\u001b[1;33m\u001b[0m\u001b[1;33m\u001b[0m\u001b[0m\n",
      "\u001b[1;31mValueError\u001b[0m: The truth value of a DataFrame is ambiguous. Use a.empty, a.bool(), a.item(), a.any() or a.all()."
     ]
    }
   ],
   "source": [
    "testing_models.get_model_hyperparams_scores()"
   ]
  },
  {
   "cell_type": "code",
   "execution_count": null,
   "metadata": {},
   "outputs": [
    {
     "name": "stdout",
     "output_type": "stream",
     "text": [
      "Results saved to file.\n",
      "Results added to class hyper parameters data frame\n"
     ]
    }
   ],
   "source": [
    "testing_models.result_handler(save_to_file=True)"
   ]
  },
  {
   "cell_type": "code",
   "execution_count": null,
   "metadata": {},
   "outputs": [
    {
     "name": "stdout",
     "output_type": "stream",
     "text": [
      "Results added to class hyper parameters data frame\n",
      "All models has run. Good time to save results to file.\n"
     ]
    }
   ],
   "source": [
    "testing_models.hyperparam_voter(1)"
   ]
  },
  {
   "cell_type": "code",
   "execution_count": null,
   "metadata": {},
   "outputs": [
    {
     "name": "stdout",
     "output_type": "stream",
     "text": [
      "The best model is: Decision Tree\n",
      " Scored by: f1\n",
      "Results:               precision    recall  f1-score   support\n",
      "\n",
      "           0       0.67      0.71      0.69     10553\n",
      "           1       0.69      0.65      0.67     10389\n",
      "\n",
      "    accuracy                           0.68     20942\n",
      "   macro avg       0.68      0.68      0.68     20942\n",
      "weighted avg       0.68      0.68      0.68     20942\n",
      "\n"
     ]
    },
    {
     "data": {
      "image/png": "[encoded data removed]",
      "text/plain": [
       "<Figure size 640x480 with 2 Axes>"
      ]
     },
     "metadata": {},
     "output_type": "display_data"
    }
   ],
   "source": [
    "testing_models.run_best_model(0)"
   ]
  }
 ],
 "metadata": {
  "kernelspec": {
   "display_name": ".venv",
   "language": "python",
   "name": "python3"
  },
  "language_info": {
   "codemirror_mode": {
    "name": "ipython",
    "version": 3
   },
   "file_extension": ".py",
   "mimetype": "text/x-python",
   "name": "python",
   "nbconvert_exporter": "python",
   "pygments_lexer": "ipython3",
   "version": "3.13.1"
  }
 },
 "nbformat": 4,
 "nbformat_minor": 2
}
