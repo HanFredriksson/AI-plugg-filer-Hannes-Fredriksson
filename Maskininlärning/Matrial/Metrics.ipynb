{
 "cells": [
  {
   "cell_type": "markdown",
   "metadata": {
    "vscode": {
     "languageId": "plaintext"
    }
   },
   "source": [
    "# Diffrent metrics and how to interpret them"
   ]
  },
  {
   "cell_type": "markdown",
   "metadata": {},
   "source": [
    "## MAE - Mean Absolute Error\n",
    "\n",
    "$MAE = \\frac{1}{n} \\sum^{n}_{i=1} |y_i -\\hat{y_i}|$\n",
    "\n",
    "\n",
    "Där:\n",
    "- $n$ är antalet datapunkter\n",
    "- $y_i$ det faktiska värdet\n",
    "- $\\hat{y_i}$ uppskattede värdet\n",
    "\n",
    "**Mean Absolute Error** mäter den genomsnittliga storleken av fel i en uppsättning förutsägelser, utan att ta hänsyn till deras riktning. Det är medelvärdet av de absoluta skillnaderna mellan förutsagda värden och faktiska värden.\n",
    "\n",
    "\n",
    "**Varför använda MAE?**\n",
    "\n",
    "**Tolkbarhet:** MAE ger en tydlig och okomplicerad tolkning av det genomsnittliga felet. Om MAE är 5, i genomsnitt, är modellens förutsägelser 5 enheter från de faktiska värdena.\n",
    "\n",
    " **Robusthet:** MAE är mindre känslig för extremvärden jämfört med MSE och RMSE eftersom den inte kvadrerar feltermerna.\n",
    "\n",
    "\n",
    "\n",
    "**När ska man använda MAE?**\n",
    "\n",
    "MAE är att föredra när du vill ha en direkt förståelse av det genomsnittliga felet utan att överdriva effekten av stora fel. Det är särskilt användbart när datasetet har extremvärden eller när kostnaden för fel är linjär.\n"
   ]
  },
  {
   "cell_type": "markdown",
   "metadata": {},
   "source": [
    "## MSE - Mean Squared Error\n",
    "\n",
    "$MSE = \\frac{1}{n} \\sum^{n}_{i=1} (y_i -\\hat{y_i})^2$\n",
    "\n",
    "Där:\n",
    "- $n$ är antalet datapunkter\n",
    "- $y_i$ det faktiska värdet\n",
    "- $\\hat{y_i}$ uppskattede värdet\n",
    "\n",
    "\n",
    "**Mean Squared Error**är medelvärdet av skillnaderna i kvadrat mellan de förutsagda och faktiska värdena.\n",
    "\n",
    "Varför använda MSE?\n",
    "\n",
    " **Felförstärkning:** Genom att kvadrera felen ger MSE större tyngd åt större fel, vilket gör det till ett bra mått när stora fel är särskilt oönskade.\n",
    " \n",
    " **Matematiska egenskaper:** MSE är differentierbar och används ofta som en förlustfunktion i optimeringsalgoritmer som Gradient Descent eftersom dess derivata är enkel att beräkna. När ska man använda MSE?\n",
    "\n",
    "**När ska man använda MAE?**\n",
    "\n",
    "MSE används ofta när stora fel är mer problematiska än små, och när man vill att måttet ska straffa stora avvikelser hårdare. Det används också ofta under modellträning, eftersom det är beräkningsmässigt bekvämt.\n"
   ]
  },
  {
   "cell_type": "markdown",
   "metadata": {},
   "source": [
    "## RMSE - Root Mean Squared Error \n",
    "\n",
    "$RMSE = \\sqrt{\\frac{1}{n} \\sum^{n}_{i=1} (y_i -\\hat{y_i})^2}$\n",
    "\n",
    "Där:\n",
    "- $n$ är antalet datapunkter\n",
    "- $y_i$ det faktiska värdet\n",
    "- $\\hat{y_i}$ uppskattede värdet\n",
    "\n",
    "**Root Mean Squared Error** är kvadratroten av MSE. Det återför metriken till den ursprungliga skalan av datan, vilket gör det lättare att tolka än MSE.\n",
    "\n",
    "**Varför använda RMSE?**\n",
    "\n",
    "**Tolkbarhet i skala:** RMSE, till skillnad från MSE, är i samma skala som originaldata, vilket gör det mer tolkbart.\n",
    "\n",
    "**Känslig för stora fel:** Precis som MSE straffar RMSE också stora fel, men eftersom det är på den ursprungliga skalan kan det ge ett mer intuitivt mått på felets storlek.\n",
    "\n",
    "**När ska man använda RMSE?**\n",
    "\n",
    "RMSE är att föredra när du vill ha ett mått som straffar stora fel men ändå behöver att resultaten ska vara i samma enhet som originaldata. Det används ofta i sammanhang där fördelningen av felstorlekar spelar roll och där det är avgörande att vara i samma skala som data."
   ]
  }
 ],
 "metadata": {
  "language_info": {
   "name": "python"
  }
 },
 "nbformat": 4,
 "nbformat_minor": 2
}
