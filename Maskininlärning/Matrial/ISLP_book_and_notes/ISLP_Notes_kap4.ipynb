{
 "cells": [
  {
   "cell_type": "markdown",
   "metadata": {},
   "source": [
    "# Classification\n",
    "\n",
    "When the respons variable is qualitative we need an approache to classify the respons. "
   ]
  },
  {
   "cell_type": "markdown",
   "metadata": {},
   "source": [
    "## Logistic Regression\n",
    "\n",
    "This model finds the probalility of the respons Y belongs to a particular category. The model gives an value between 0 and 1. To do this we use logistic function.\n",
    "\n",
    "$p(X) = \\frac{e^{\\beta_0 + \\beta_1X}}{1+ e^{\\beta_0+\\beta_1X}}$\n",
    "\n",
    "How we fit this model is with an method called *maximum likelihood*. The math for this is called *likelihood function* \n",
    "\n",
    "$L(\\beta_0, \\beta_1) = \\prod_{i:y_i=1} p(x) \\prod_{i':y_i'=0} (1-p(x_{i'})) $\n",
    "\n",
    "The z-statistic plays the same role as the t-statistic in the linear regression output. So a large (absolute) value of the z-statistic indicates evidence against the null hypothesis $H_0 : \\beta_1 = 0$.\n",
    "The result we get from a fitted model is a percentage that our question is true. For example if we want to see if somebody will default on there loan, and we run data set from a bank. We can answer that in percentage.\n",
    "\n",
    "read from 4.3.4"
   ]
  }
 ],
 "metadata": {
  "language_info": {
   "name": "python"
  }
 },
 "nbformat": 4,
 "nbformat_minor": 2
}
