{
 "cells": [
  {
   "cell_type": "markdown",
   "metadata": {},
   "source": [
    "# Intro SQL"
   ]
  },
  {
   "cell_type": "markdown",
   "metadata": {
    "vscode": {
     "languageId": "plaintext"
    }
   },
   "source": [
    "Det är ett programspråk som pratar med databaser genom \"Queries\". Databaserna kallas för RDBMS, relationsdatabaser. Sedan har vi olika hanterare för att prata med databasen. Dom her små skillandera mellan varandra. Förutom Orecal, som är helt annorlunda. \n",
    "\n",
    "Det är genom queries som man hämta, hanterar, ändra och jämför data på databashanteraren. Syntax stuktureras: SELECT kolumnnamn, FROM tabellnamn. För att hämta hela tabellen skicka man * i SELECT. Det går att passera in villkor i FROM för att får ut den typer av data man letar efter. Tänk att det är likt hur man hittar behandlar data i pandas. Villkoren som or, in, between, like. Med in kan du lägga till en lista av vilka villor du har, som en grupp länder eller namn. Between klara av att göra uppräkningar, som alphabetiska, numeriska eller tid. Like kan matcha textfält mote specifika mönster. Som Börja det på \"B\" \n",
    "\n",
    "Det går också sortera med \"order by\". Går passer \"desc\" och \"asc\" som fallande eller stigande ordning. \n",
    "\n",
    "Aliases går det att sätta ett alias på kolummner eller tabeller. \n",
    "\n",
    "Union all kan man slå ihop två eller flera queries till ett enda. Förutsatt att kolummnerna matchar. Här bli alias väldigt användbart. För att man kan ändra namn på kolumner som inte matchar till att matcha. \n",
    "\n",
    "Case with can man köra villkor som lägger till klassifikationer i tabellerna. \n",
    "\n"
   ]
  }
 ],
 "metadata": {
  "language_info": {
   "name": "python"
  }
 },
 "nbformat": 4,
 "nbformat_minor": 2
}
