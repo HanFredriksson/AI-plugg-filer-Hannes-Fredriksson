{
 "cells": [
  {
   "cell_type": "markdown",
   "id": "c80231be",
   "metadata": {},
   "source": [
    "\n",
    "### Airflow"
   ]
  },
  {
   "cell_type": "markdown",
   "id": "749e829e",
   "metadata": {},
   "source": [
    "Dags är datapipelines som visar relationen mellan uppgifter (tasks) och hur dom intergrerar. Ett användbart system för att bygga dom här diagramen av relationer är Airflow. "
   ]
  },
  {
   "cell_type": "markdown",
   "id": "18becb56",
   "metadata": {},
   "source": [
    "Cron Guru är en bra sida för att hitta cron schemaläggning för schedule för DAGs\n"
   ]
  },
  {
   "cell_type": "markdown",
   "id": "bf3c4374",
   "metadata": {},
   "source": [
    "Kolla upp mer vad DAGs på youtbe är och skriva ner mer anteckningar. \n",
    "Även mer om AirFlow\n"
   ]
  }
 ],
 "metadata": {
  "language_info": {
   "name": "python"
  }
 },
 "nbformat": 4,
 "nbformat_minor": 5
}
