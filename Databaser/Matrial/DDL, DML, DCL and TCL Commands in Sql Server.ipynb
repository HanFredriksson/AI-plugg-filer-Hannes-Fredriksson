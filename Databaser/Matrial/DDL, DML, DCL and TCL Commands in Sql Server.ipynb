{
 "cells": [
  {
   "cell_type": "markdown",
   "id": "7addcc22",
   "metadata": {},
   "source": [
    "DML\n",
    "\n",
    "DML is abbreviation of Data Manipulation Language. It is used to retrieve, store, modify, delete, insert and update data in database.\n",
    "\n",
    "* SELECT – Retrieves data from a table\n",
    "* INSERT -  Inserts data into a table\n",
    "* UPDATE – Updates existing data into a table\n",
    "* DELETE – Deletes all records from a table"
   ]
  },
  {
   "cell_type": "markdown",
   "id": "b769698f",
   "metadata": {},
   "source": [
    "DDL\n",
    "\n",
    "DDL is abbreviation of Data Definition Language. It is used to create and modify the structure of database objects in database.\n",
    "\n",
    "* CREATE – Creates objects in the database\n",
    "* ALTER – Alters objects of the database\n",
    "* DROP – Deletes objects of the database\n",
    "* TRUNCATE – Deletes all records from a table and resets table  to initial value."
   ]
  },
  {
   "cell_type": "markdown",
   "id": "2ac0008d",
   "metadata": {},
   "source": [
    "DCL\n",
    "\n",
    "DCL is abbreviation of Data Control Language. It is used to create roles, permissions, and referential integrity as well it is used to control access to database by securing it.\n",
    "\n",
    "* GRANT – Gives user's access privileges to database\n",
    "* REVOKE – Withdraws user's access privileges to database given with the GRANT command"
   ]
  },
  {
   "cell_type": "markdown",
   "id": "f0b3dfa4",
   "metadata": {},
   "source": [
    "TCL\n",
    "\n",
    "TCL is abbreviation of Transactional Control Language. It is used to manage different transactions occurring within a database.\n",
    "\n",
    "* COMMIT – Saves work done in transactions\n",
    "* ROLLBACK – Restores database to original state since the last COMMIT command in transactions\n",
    "* SAVE TRANSACTION – Sets a savepoint within a transaction"
   ]
  }
 ],
 "metadata": {
  "language_info": {
   "name": "python"
  }
 },
 "nbformat": 4,
 "nbformat_minor": 5
}
