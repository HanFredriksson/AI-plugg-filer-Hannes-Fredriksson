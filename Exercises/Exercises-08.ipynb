{
 "cells": [
  {
   "cell_type": "markdown",
   "metadata": {},
   "source": [
    "### Svar till uppgifter i Exercises 08 File handling"
   ]
  },
  {
   "cell_type": "markdown",
   "metadata": {},
   "source": [
    "***Uppgift 1 Dice rolls***"
   ]
  },
  {
   "cell_type": "code",
   "execution_count": 242,
   "metadata": {},
   "outputs": [],
   "source": [
    "#A\n",
    "import random as rnd\n",
    "\n",
    "with open(\"Dice-rolls.txt\", \"w\") as dice_rolls_write:\n",
    "    dice_rolls = (str(([rnd.randint(1, 6) for rolls in range(20)])))\n",
    "    dice_rolls = dice_rolls.strip()\n",
    "    dice_rolls = dice_rolls.replace(\",\", \"\")\n",
    "    dice_rolls_write.write(f\"20 st rullade tarningar\\n{dice_rolls}\") \n",
    "\n"
   ]
  },
  {
   "cell_type": "code",
   "execution_count": 243,
   "metadata": {},
   "outputs": [],
   "source": [
    "#B\n",
    "single_line = \"\"\n",
    "with open(\"Dice-rolls.txt\", \"r\") as dice_rolls_read, open(\"Dice-rolls.txt\", \"a\") as dice_rolls_append:\n",
    "    \n",
    "    for i, line in enumerate(dice_rolls_read):\n",
    "        if i == 1:\n",
    "            single_line += line\n",
    "    \n",
    "    single_line = single_line.strip(\"[]\")              \n",
    "    clean_dice_rolls = single_line.split()\n",
    "    clean_dice_rolls.sort()\n",
    "    clean_dice = \" \".join(clean_dice_rolls)\n",
    "    \n",
    "    dice_rolls_append.write(f\"\\nSorterade tarningar:\\n[{clean_dice}]\")"
   ]
  },
  {
   "cell_type": "code",
   "execution_count": 251,
   "metadata": {},
   "outputs": [],
   "source": [
    "#C\n",
    "single_line = \"\"\n",
    "with open(\"Dice-rolls.txt\", \"r\") as dice_rolls_read, open(\"Dice-rolls.txt\", \"a\") as dice_rolls_append:\n",
    "    \n",
    "    for i, line in enumerate(dice_rolls_read):\n",
    "        if i == 3:\n",
    "            single_line += line\n",
    "    line = line.strip(\"[]\")\n",
    "    find_fours = line.split()\n",
    "    count = [nr for nr in find_fours if nr == \"4\"]\n",
    "    dice_rolls_append.write(f\"\\nAntalet fyror:\\n[{len(count)}]\")"
   ]
  },
  {
   "cell_type": "markdown",
   "metadata": {},
   "source": [
    "***Uppgift 2 - Test Rresult***"
   ]
  },
  {
   "cell_type": "code",
   "execution_count": 257,
   "metadata": {},
   "outputs": [
    {
     "name": "stdout",
     "output_type": "stream",
     "text": [
      "Adam Gustafsson 25\n",
      "Emil Johansson 23\n",
      "Sven Erik Karlsson 13\n",
      "Ove Karlsten 41\n",
      "Emma Boden 32\n",
      "Ida HÃ¥kansson 23\n",
      "Ella Ester 41\n",
      "Hanna Karlsson 23 \n",
      "Johan Johansson 42\n",
      "Sven Erik Lundin 39\n",
      "BjÃ¶rn BjÃ¶rnsson 39\n",
      "Karl Karlsson 32\n",
      "Bose Bosseson 32\n",
      "HÃ¥kan HÃ¥kanson 24\n",
      "Jonas Jonasson 31\n",
      "Erik Eriksson 31\n",
      "Gore Bord 55\n",
      "Jakob Kallander 65\n",
      "Fredrika Ulven 10\n"
     ]
    }
   ],
   "source": [
    "path = \"Data/test_result.txt\"\n",
    "\n",
    "with open(path, \"r\") as test_result_read:\n",
    "    print(test_result_read.read())"
   ]
  },
  {
   "cell_type": "code",
   "execution_count": 333,
   "metadata": {},
   "outputs": [
    {
     "name": "stdout",
     "output_type": "stream",
     "text": [
      "Jakob Kallander A\n",
      "Gore Bord B\n",
      "Ove Karlsten C\n",
      "Johan Johansson C\n",
      "Ella Ester C\n",
      "Emma Boden D\n",
      "Sven Erik Lundin D\n",
      "Bose Bosseson D\n",
      "Jonas Jonasson D\n",
      "Erik Eriksson D\n",
      "Karl Karlsson D\n",
      "BjÃ¶rn BjÃ¶rnsson D\n",
      "HÃ¥kan HÃ¥kanson E\n",
      "Adam Gustafsson E\n",
      "Hanna Karlsson E\n",
      "Emil Johansson E\n",
      "Ida HÃ¥kansson E\n",
      "Gore Bord F\n",
      "Emma Boden F\n",
      "Ove Karlsten F\n",
      "Fredrika Ulven F\n",
      "Sven Erik Lundin F\n",
      "Bose Bosseson F\n",
      "Jonas Jonasson F\n",
      "Erik Eriksson F\n",
      "Sven Erik Karlsson F\n",
      "Karl Karlsson F\n",
      "Johan Johansson F\n",
      "BjÃ¶rn BjÃ¶rnsson F\n",
      "Jakob Kallander F\n",
      "Ella Ester F\n"
     ]
    }
   ],
   "source": [
    "with open(path, \"r\") as test_result_read, open(path, \"a\") as test_result_append:\n",
    "    result_list = [student.strip(\" \\n\") for student in test_result_read]\n",
    "    grade_list = result_list\n",
    "    result_list.sort()\n",
    "    result_list = \"\\n\".join(result_list)\n",
    "    test_result_append.write(f\"\\nSorterad lista\\n{result_list}\\n\")\n",
    "    #print(result_list)\n",
    "    \n",
    "    graded_list =[]\n",
    "    for result in grade_list:\n",
    "        integer_result = int(result[-3:])\n",
    "        \n",
    "        if integer_result <= 70 and integer_result >=60:\n",
    "            grade = (result.replace(result[-3:].strip(), \"A\"))\n",
    "            graded_list.append(grade)\n",
    "        \n",
    "        if integer_result <=59 and integer_result >=50:\n",
    "            grade = (result.replace(result[-3:].strip(), \"B\"))\n",
    "            graded_list.append(grade)\n",
    "        \n",
    "        if integer_result <= 49 and integer_result >= 40:\n",
    "            grade = (result.replace(result[-3:].strip(), \"C\"))\n",
    "            graded_list.append(grade)\n",
    "       \n",
    "        if integer_result <= 39 and integer_result >= 30:\n",
    "            grade = (result.replace(result[-3:].strip(), \"D\"))\n",
    "            graded_list.append(grade)\n",
    "        \n",
    "        if integer_result <= 29 and integer_result >= 20:\n",
    "            grade = (result.replace(result[-3:].strip(), \"E\"))\n",
    "            graded_list.append(grade)\n",
    "        else:\n",
    "            grade = (result.replace(result[-3:].strip(), \"F\"))\n",
    "            graded_list.append(grade)\n",
    "            \n",
    "    graded_list = sorted(graded_list, key = lambda x:x[::-1])\n",
    "    graded_list = \"\\n\".join(graded_list)\n",
    "    test_result_append.write(f\"Resultat lista sorterad efter betyg\\n{graded_list}\")\n",
    "    print(graded_list)\n",
    "        "
   ]
  },
  {
   "cell_type": "markdown",
   "metadata": {},
   "source": [
    "***Uppgift 3 - Natinal Test***"
   ]
  },
  {
   "cell_type": "code",
   "execution_count": 46,
   "metadata": {},
   "outputs": [
    {
     "data": {
      "image/png": "[encoded data removed]",
      "text/plain": [
       "<Figure size 640x480 with 2 Axes>"
      ]
     },
     "metadata": {},
     "output_type": "display_data"
    }
   ],
   "source": [
    "import matplotlib.pyplot as plt\n",
    "\n",
    "path_1 = (\"Data/NPvt19Ma2A.txt\")\n",
    "path_2 = (\"Data/NPvt19Ma2C.txt\")\n",
    "\n",
    "with open(path_1, \"r\") as NPvt19Ma2A_read, open(path_2, \"r\") as NPvt19Ma2C_read:\n",
    "\n",
    "    grades_Ma2A = [grade.strip(\"%\\n\") for grade in NPvt19Ma2A_read]\n",
    "    grades_Ma2A_score = [float(score.split()[1]) for score in grades_Ma2A]\n",
    "\n",
    "\n",
    "    grades_Ma2C = [grade.strip(\"% \\n\") for grade in NPvt19Ma2C_read]\n",
    "\n",
    "    grades_Ma2C_score = [float(score.split()[1]) for score in grades_Ma2C]\n",
    "\n",
    "plt.subplot(1, 2, 1)\n",
    "plt.pie(grades_Ma2A_score)\n",
    "\n",
    "plt.subplot(1, 2, 2)\n",
    "plt.pie(grades_Ma2C_score)\n",
    "plt.show()\n"
   ]
  },
  {
   "cell_type": "markdown",
   "metadata": {},
   "source": [
    "***Uppgift 4 Dice Roll Experment***"
   ]
  },
  {
   "cell_type": "code",
   "execution_count": 82,
   "metadata": {},
   "outputs": [
    {
     "name": "stdout",
     "output_type": "stream",
     "text": [
      "17\n"
     ]
    }
   ],
   "source": [
    "import random as rnd\n",
    "times_roll = [10, 100, 1000, 10000, 100000]\n",
    "ones = len([ones for ones in [rnd.randint(1, 6) for rolls in range(n)] if ones == 1])\n",
    "twos = len([twos for twos in [rnd.randint(1, 6) for rolls in range(n)] if twos == 2])\n",
    "threes = len([threes for threes in [rnd.randint(1, 6) for rolls in range(n)] if threes == 3])\n",
    "fours = len([fours for fours in [rnd.randint(1, 6) for rolls in range(n)] if fours == 4])\n",
    "fives = len([fives for fives in [rnd.randint(1, 6) for rolls in range(n)] if fives == 5])\n",
    "sixes = len([sixes for sixes in [rnd.randint(1, 6) for rolls in range(n)] if sixes == 6])\n",
    "dice_count = [ones, twos, threes, fours, fives, sixes]\n",
    "\n",
    "for rolls in times_roll:\n",
    "    for roll in range(rolls):\n",
    "        dice = rnd.randint(1, 6)\n",
    "        if dice == 1:\n",
    "\n",
    "print(ones)"
   ]
  },
  {
   "cell_type": "code",
   "execution_count": 103,
   "metadata": {},
   "outputs": [],
   "source": [
    "import random as rnd\n",
    "\n",
    "file = open(\"Data/Dice-experment.txt\", \"w\")\n",
    "with open(\"Data/Dice-experment.txt\", \"a\") as dice_exp:\n",
    "    times_roll = [10, 100, 1000, 10000, 100000]\n",
    "    dice_string = [\"Ones\", \"Twos\", \"Thress\", \"Fours\", \"Fives\", \"Sixes\"]\n",
    "    dice_count = [0, 0, 0, 0, 0, 0]\n",
    "\n",
    "    for rolls in times_roll:\n",
    "        for roll in range(rolls):\n",
    "            dice = rnd.randint(1, 6)\n",
    "            dice_count[dice - 1] += 1\n",
    "        dice_exp.write(f\"Antal rullningar: {rolls}\\n\")\n",
    "        \n",
    "        for i in range(6):\n",
    "            dice_exp.write(f\"Antalet {dice_string[i]}: {dice_count[i]}. Probabilty: {dice_count[i]/rolls :.2f}\\n\")\n",
    "        dice_exp.write(\"\\n\")\n",
    "        dice_count = [0, 0, 0, 0, 0, 0]\n",
    "\n",
    "        "
   ]
  }
 ],
 "metadata": {
  "kernelspec": {
   "display_name": ".venv",
   "language": "python",
   "name": "python3"
  },
  "language_info": {
   "codemirror_mode": {
    "name": "ipython",
    "version": 3
   },
   "file_extension": ".py",
   "mimetype": "text/x-python",
   "name": "python",
   "nbconvert_exporter": "python",
   "pygments_lexer": "ipython3",
   "version": "3.12.5"
  }
 },
 "nbformat": 4,
 "nbformat_minor": 2
}
