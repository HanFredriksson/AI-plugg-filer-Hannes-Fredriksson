{
 "cells": [
  {
   "cell_type": "markdown",
   "metadata": {},
   "source": [
    "### Svar till uppgifter i Exercises 08 File handling"
   ]
  },
  {
   "cell_type": "markdown",
   "metadata": {},
   "source": [
    "***Uppgift 1 Dice rolls***"
   ]
  },
  {
   "cell_type": "code",
   "execution_count": 242,
   "metadata": {},
   "outputs": [],
   "source": [
    "#A\n",
    "import random as rnd\n",
    "\n",
    "with open(\"Dice-rolls.txt\", \"w\") as dice_rolls_write:\n",
    "    dice_rolls = (str(([rnd.randint(1, 6) for rolls in range(20)])))\n",
    "    dice_rolls = dice_rolls.strip()\n",
    "    dice_rolls = dice_rolls.replace(\",\", \"\")\n",
    "    dice_rolls_write.write(f\"20 st rullade tarningar\\n{dice_rolls}\") \n",
    "\n"
   ]
  },
  {
   "cell_type": "code",
   "execution_count": 243,
   "metadata": {},
   "outputs": [],
   "source": [
    "#B\n",
    "single_line = \"\"\n",
    "with open(\"Dice-rolls.txt\", \"r\") as dice_rolls_read, open(\"Dice-rolls.txt\", \"a\") as dice_rolls_append:\n",
    "    \n",
    "    for i, line in enumerate(dice_rolls_read):\n",
    "        if i == 1:\n",
    "            single_line += line\n",
    "    \n",
    "    single_line = single_line.strip(\"[]\")              \n",
    "    clean_dice_rolls = single_line.split()\n",
    "    clean_dice_rolls.sort()\n",
    "    clean_dice = \" \".join(clean_dice_rolls)\n",
    "    \n",
    "    dice_rolls_append.write(f\"\\nSorterade tarningar:\\n[{clean_dice}]\")"
   ]
  },
  {
   "cell_type": "code",
   "execution_count": 251,
   "metadata": {},
   "outputs": [],
   "source": [
    "#C\n",
    "single_line = \"\"\n",
    "with open(\"Dice-rolls.txt\", \"r\") as dice_rolls_read, open(\"Dice-rolls.txt\", \"a\") as dice_rolls_append:\n",
    "    \n",
    "    for i, line in enumerate(dice_rolls_read):\n",
    "        if i == 3:\n",
    "            single_line += line\n",
    "    line = line.strip(\"[]\")\n",
    "    find_fours = line.split()\n",
    "    count = [nr for nr in find_fours if nr == \"4\"]\n",
    "    dice_rolls_append.write(f\"\\nAntalet fyror:\\n[{len(count)}]\")"
   ]
  }
 ],
 "metadata": {
  "kernelspec": {
   "display_name": ".venv",
   "language": "python",
   "name": "python3"
  },
  "language_info": {
   "codemirror_mode": {
    "name": "ipython",
    "version": 3
   },
   "file_extension": ".py",
   "mimetype": "text/x-python",
   "name": "python",
   "nbconvert_exporter": "python",
   "pygments_lexer": "ipython3",
   "version": "3.12.5"
  }
 },
 "nbformat": 4,
 "nbformat_minor": 2
}
