{
 "cells": [
  {
   "cell_type": "markdown",
   "metadata": {},
   "source": [
    "### Svar till uppgifter i Exercises 08 File handling"
   ]
  },
  {
   "cell_type": "markdown",
   "metadata": {},
   "source": [
    "***Uppgift 1 Dice rolls***"
   ]
  },
  {
   "cell_type": "code",
   "execution_count": 138,
   "metadata": {},
   "outputs": [
    {
     "name": "stdout",
     "output_type": "stream",
     "text": [
      "[]\n",
      "\n"
     ]
    }
   ],
   "source": [
    "import random as rnd\n",
    "\n",
    "with open(\"Dice-rolls.txt\", \"w\") as dice_rolls_write:\n",
    "    rolls = [rnd.randint(1, 6) for rolls in range(20)]\n",
    "\n",
    "    dice_rolls_write.write(f\"20 st rullade tarningar\\n {str(([rnd.randint(1, 6) for rolls in range(20)]))}\"\n",
    "    )\n",
    "\n",
    "clean_dice_rolls = []\n",
    "with open(\"Dice-rolls.txt\", \"r\") as dice_rolls_read, open(\"Dice-rolls.txt\", \"a\") as dice_rolls_append:\n",
    "    \n",
    "    for i, line in enumerate(dice_rolls_read):\n",
    "        if i == 1:\n",
    "            print(line.strip())\n",
    "            #for clean in line:\n",
    "                #clean_line = clean.strip(\"\\' []\\n\")\n",
    "               # clean_dice_rolls += clean.split(\",\")\n",
    "\n",
    "        else:\n",
    "            break    \n",
    "    print(clean_dice_rolls)\n",
    "    clean_dice_rolls.sort()\n",
    "    clean_dice = \" ,\".join(clean_dice_rolls)\n",
    "    \n",
    "    print(clean_dice)\n",
    "    dice_rolls_append.write(f\"\\nSorterade tarningar:\\n {clean_dice}\")\n",
    "    \n",
    "\n",
    "\n"
   ]
  }
 ],
 "metadata": {
  "kernelspec": {
   "display_name": ".venv",
   "language": "python",
   "name": "python3"
  },
  "language_info": {
   "codemirror_mode": {
    "name": "ipython",
    "version": 3
   },
   "file_extension": ".py",
   "mimetype": "text/x-python",
   "name": "python",
   "nbconvert_exporter": "python",
   "pygments_lexer": "ipython3",
   "version": "3.12.5"
  }
 },
 "nbformat": 4,
 "nbformat_minor": 2
}
