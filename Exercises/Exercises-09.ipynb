{
 "cells": [
  {
   "cell_type": "markdown",
   "metadata": {},
   "source": [
    "### Svar på uppgifter i Exercises 09 "
   ]
  },
  {
   "cell_type": "markdown",
   "metadata": {},
   "source": [
    "***Uppgift 1 - Curriculum***"
   ]
  },
  {
   "cell_type": "code",
   "execution_count": 1,
   "metadata": {},
   "outputs": [
    {
     "name": "stdout",
     "output_type": "stream",
     "text": [
      "400\n"
     ]
    }
   ],
   "source": [
    "curriculum = {\"Programering\":40, \"Intro till AI \": 5, \"Databehandling\": 25, \"Linjär algebra\": 20, \"Statistika metoder\": 30, \"Masikninläring\": 45, \"Databaser\":25, \"Dataengineering och agila metode\": 45, \"LIA 1\": 40, \"Djup maskininlärning\": 40, \"Lia 2\": 70, \"Exammensarbete\": 15}\n",
    "\n",
    "print(sum(curriculum.values()))"
   ]
  },
  {
   "cell_type": "markdown",
   "metadata": {},
   "source": [
    "***Uppgift 2 - Dice simulation***"
   ]
  },
  {
   "cell_type": "code",
   "execution_count": 42,
   "metadata": {},
   "outputs": [
    {
     "name": "stdout",
     "output_type": "stream",
     "text": [
      "1: 166726\n",
      "2: 166632\n",
      "3: 166665\n",
      "4: 166757\n",
      "5: 166548\n",
      "6: 166672\n"
     ]
    }
   ],
   "source": [
    "import random as rnd\n",
    "dice_count = {}\n",
    "for roll in range(1000000):\n",
    "    dice = rnd.randint(1, 6)\n",
    "    value = dice_count.get(dice) \n",
    "    if value == None:\n",
    "        value = 0\n",
    "    dice_count.update({dice: value + 1})\n",
    "    value = 0\n",
    "dice_count = dict(sorted(dice_count.items()))\n",
    "for x, y in dice_count.items():\n",
    "    print(f\"{x}: {y}\")"
   ]
  },
  {
   "cell_type": "markdown",
   "metadata": {},
   "source": [
    "***Uppgift 3 - Pokemon list***"
   ]
  },
  {
   "cell_type": "code",
   "execution_count": 68,
   "metadata": {},
   "outputs": [
    {
     "name": "stdout",
     "output_type": "stream",
     "text": [
      "SpÃ¶ke/Gift, 94\n",
      "Elektrisk, 25\n"
     ]
    }
   ],
   "source": [
    "pokedex = {}\n",
    "\n",
    "with open(\"Data/pokemon_list.txt\", \"r\") as pokemon_read:\n",
    "    for i in range(150):\n",
    "        pokemon = pokemon_read.readline()\n",
    "        pokemon = pokemon.strip()\n",
    "        pokemon = pokemon.split(\" \")\n",
    "        pokedex.update({pokemon[1] : f\"{pokemon[2]}, {pokemon[0]}\"})\n",
    "\n",
    "print(pokedex[\"Gengar\"])\n",
    "print(pokedex[\"Pikachu\"])\n",
    "\n",
    "\n"
   ]
  },
  {
   "cell_type": "markdown",
   "metadata": {},
   "source": [
    "***Uppgift 4 - Morse code***"
   ]
  },
  {
   "cell_type": "code",
   "execution_count": 94,
   "metadata": {},
   "outputs": [
    {
     "name": "stdout",
     "output_type": "stream",
     "text": [
      " ... --- ...\n",
      " .-- --- -.- . -- --- --- -.\n"
     ]
    }
   ],
   "source": [
    "def mores_coder(word):\n",
    "    morse_key = {}\n",
    "\n",
    "    with open(\"Data/morse.txt\", \"r\") as morse_read:\n",
    "        for i in range(150):\n",
    "            morse_code = morse_read.readline()\n",
    "            morse_code = morse_code.strip()\n",
    "            morse_code = morse_code.split(\":\")\n",
    "            morse_key.update({morse_code[0]:morse_code[-1]})\n",
    "\n",
    "    code = \"\"\n",
    "    for i in word:\n",
    "        code += morse_key[i]\n",
    "\n",
    "    return code\n",
    "\n",
    "print(mores_coder(\"SOS\"))\n",
    "print(mores_coder(\"POKEMOON\"))"
   ]
  }
 ],
 "metadata": {
  "kernelspec": {
   "display_name": ".venv",
   "language": "python",
   "name": "python3"
  },
  "language_info": {
   "codemirror_mode": {
    "name": "ipython",
    "version": 3
   },
   "file_extension": ".py",
   "mimetype": "text/x-python",
   "name": "python",
   "nbconvert_exporter": "python",
   "pygments_lexer": "ipython3",
   "version": "3.12.5"
  }
 },
 "nbformat": 4,
 "nbformat_minor": 2
}
