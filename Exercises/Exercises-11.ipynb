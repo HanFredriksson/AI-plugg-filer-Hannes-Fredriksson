{
 "cells": [
  {
   "cell_type": "markdown",
   "metadata": {},
   "source": [
    "### Svar på uppgifter i Exercises 11- OOP introductory exercises\n"
   ]
  },
  {
   "cell_type": "markdown",
   "metadata": {},
   "source": [
    "***Uppgift 1 - Unit Converstion***"
   ]
  },
  {
   "cell_type": "code",
   "execution_count": 69,
   "metadata": {},
   "outputs": [
    {
     "name": "stdout",
     "output_type": "stream",
     "text": [
      "Värdet du vill convertera 250\n",
      "20.32 centimeters, 13.715330691862237 meters, 113.37868480725623 kilo\n"
     ]
    }
   ],
   "source": [
    "class Metric:\n",
    "    def __init__ (self, value):\n",
    "        self.value = value\n",
    "\n",
    "    @property\n",
    "    def value(self):\n",
    "        return self._value\n",
    "    \n",
    "    @value.setter\n",
    "    def value(self, new_value):\n",
    "        if not isinstance(new_value, (int, float)):\n",
    "            raise TypeError(f\"Måste vara en siffra\")\n",
    "        \n",
    "        if new_value < 0:\n",
    "            raise ValueError(f\"Det måste vara en postiv siffra\")\n",
    "        \n",
    "        self._value =new_value\n",
    "\n",
    "    def inch_to_cm(self):\n",
    "        return f\"{self._value * 2.54} centimeters\"\n",
    "    \n",
    "    def foot_to_meters(self):\n",
    "        return f\"{self._value/3.281} meters\"\n",
    "\n",
    "    def pound_to_kg(self):\n",
    "        return f\"{self._value /  2.205} kilo\"\n",
    "    \n",
    "    def __repr__(self):\n",
    "        return f\"Värdet du vill convertera {self._value}\"\n",
    "\n",
    "i = Metric(8)\n",
    "f = Metric(45)\n",
    "p = Metric(250)\n",
    "print(p)\n",
    "print(f\"{i.inch_to_cm()}, {f.foot_to_meters()}, {p.pound_to_kg()}\")"
   ]
  },
  {
   "cell_type": "code",
   "execution_count": null,
   "metadata": {},
   "outputs": [],
   "source": []
  }
 ],
 "metadata": {
  "kernelspec": {
   "display_name": ".venv",
   "language": "python",
   "name": "python3"
  },
  "language_info": {
   "codemirror_mode": {
    "name": "ipython",
    "version": 3
   },
   "file_extension": ".py",
   "mimetype": "text/x-python",
   "name": "python",
   "nbconvert_exporter": "python",
   "pygments_lexer": "ipython3",
   "version": "3.12.5"
  }
 },
 "nbformat": 4,
 "nbformat_minor": 2
}
