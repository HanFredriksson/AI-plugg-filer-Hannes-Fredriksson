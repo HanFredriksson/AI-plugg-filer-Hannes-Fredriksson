{
 "cells": [
  {
   "cell_type": "markdown",
   "metadata": {},
   "source": [
    "### Svar på uppgifter i Exercises 11- OOP introductory exercises\n"
   ]
  },
  {
   "cell_type": "markdown",
   "metadata": {},
   "source": [
    "***Uppgift 1 - Unit Converstion***"
   ]
  },
  {
   "cell_type": "code",
   "execution_count": 46,
   "metadata": {},
   "outputs": [
    {
     "name": "stdout",
     "output_type": "stream",
     "text": [
      "Värdet du vill convertera 250\n",
      "20.32 centimeters, 13.715330691862237 meters, 113.37868480725623 kilo\n"
     ]
    }
   ],
   "source": [
    "class Metric:\n",
    "    def __init__ (self, value):\n",
    "        self.value = value\n",
    "\n",
    "    @property\n",
    "    def value(self):\n",
    "        return self._value\n",
    "    \n",
    "    @value.setter\n",
    "    def value(self, new_value):\n",
    "        if not isinstance(new_value, (int, float)):\n",
    "            raise TypeError(f\"Måste vara en siffra\")\n",
    "        \n",
    "        if new_value < 0:\n",
    "            raise ValueError(f\"Det måste vara en postiv siffra\")\n",
    "        \n",
    "        self._value =new_value\n",
    "\n",
    "    def inch_to_cm(self):\n",
    "        return f\"{self._value * 2.54} centimeters\"\n",
    "    \n",
    "    def foot_to_meters(self):\n",
    "        return f\"{self._value/3.281} meters\"\n",
    "\n",
    "    def pound_to_kg(self):\n",
    "        return f\"{self._value /  2.205} kilo\"\n",
    "    \n",
    "    def __repr__(self):\n",
    "        return f\"Värdet du vill convertera {self._value}\"\n",
    "\n",
    "i = Metric(8)\n",
    "f = Metric(45)\n",
    "p = Metric(250)\n",
    "print(p)\n",
    "print(f\"{i.inch_to_cm()}, {f.foot_to_meters()}, {p.pound_to_kg()}\")"
   ]
  },
  {
   "cell_type": "markdown",
   "metadata": {},
   "source": [
    "***Uppgift 2 - Person***"
   ]
  },
  {
   "cell_type": "code",
   "execution_count": 47,
   "metadata": {},
   "outputs": [
    {
     "name": "stdout",
     "output_type": "stream",
     "text": [
      "Person: Per Ålder: 35 Email: per@dork.com\n"
     ]
    },
    {
     "data": {
      "text/plain": [
       "'Hej, jag heter Per. Är 35 år gammal. Min email adress är: per@dork.com'"
      ]
     },
     "execution_count": 47,
     "metadata": {},
     "output_type": "execute_result"
    }
   ],
   "source": [
    "class Persson:\n",
    "    def __init__(self, name, age, email):\n",
    "        self.name = name\n",
    "        self.age = age\n",
    "        self.email = email\n",
    "\n",
    "    @property\n",
    "    def name (self):\n",
    "        return self._name\n",
    "    \n",
    "    @property\n",
    "    def age (self):\n",
    "        return self._age\n",
    "    \n",
    "    @property    \n",
    "    def email (self):\n",
    "        return self._email\n",
    "    \n",
    "    @name.setter\n",
    "    def name (self, new_name):\n",
    "        if not isinstance(new_name, (str)):\n",
    "            raise TypeError(\"Namn måste använda bokstäver\")\n",
    "        self._name = new_name\n",
    "\n",
    "    @age.setter\n",
    "    def age (self, new_age):\n",
    "        if not isinstance(new_age, (int)) or new_age < 0 or new_age> 125:\n",
    "            raise ValueError(\"Åldern måste vara en siffra mellan 0 - 125!\")\n",
    "        self._age = new_age\n",
    "\n",
    "    @email.setter\n",
    "    def email(self, new_email):\n",
    "        if \"@\" not in new_email:\n",
    "            raise ValueError(\"Finns inget '@' i eamil adressen\")\n",
    "        self._email = new_email\n",
    "\n",
    "    def __repr__(self):\n",
    "        return f\"Person: {self._name} Ålder: {self._age} Email: {self._email}\"\n",
    "    \n",
    "    def say_hello(self):\n",
    "        return f\"Hej, jag heter {self._name}. Är {self._age} år gammal. Min email adress är: {self._email}\"\n",
    "    \n",
    "p = Persson(\"Per\", 35, \"per@dork.com\")\n",
    "\n",
    "print(p)\n",
    "\n",
    "p.say_hello()\n",
    "\n",
    "\n",
    "\n",
    "\n"
   ]
  },
  {
   "cell_type": "markdown",
   "metadata": {},
   "source": [
    "***Uppgift 3 - Student and teacher***"
   ]
  },
  {
   "cell_type": "code",
   "execution_count": 48,
   "metadata": {},
   "outputs": [
    {
     "name": "stdout",
     "output_type": "stream",
     "text": [
      "Yo, I am a student, my name is Filipa, I am 21 years old, my email address is filipa@skola.se.\n"
     ]
    },
    {
     "data": {
      "text/plain": [
       "'Study....Study....Study...More study'"
      ]
     },
     "execution_count": 48,
     "metadata": {},
     "output_type": "execute_result"
    }
   ],
   "source": [
    "class Student(Persson):\n",
    "    def __init__(self, name, age, email):\n",
    "        super().__init__(name, age, email)\n",
    "\n",
    "    def study(self):\n",
    "        return \"Study....Study....Study...More study\"\n",
    "    \n",
    "    def say_hello(self):\n",
    "        return f\"Yo, I am a student, my name is {self._name}, I am {self._age} years old, my email address is {self._email}.\"\n",
    "\n",
    "class Teacher(Persson):\n",
    "    def __init__(self, name, age, email):\n",
    "        super().__init__(name, age, email)\n",
    "\n",
    "    def teaching(self):\n",
    "        return \"teach...teach...teach...more teaching\"\n",
    "    \n",
    "s = Student(\"Filipa\", 21, \"filipa@skola.se\")\n",
    "t = Teacher(\"Lisa\", 45, \"lisa@skola.se\")\n",
    "\n",
    "\n",
    "\n",
    "print(s.say_hello())\n",
    "\n",
    "s.study()"
   ]
  },
  {
   "cell_type": "markdown",
   "metadata": {},
   "source": [
    "***Uppgift 4 - Simple Travian***"
   ]
  },
  {
   "cell_type": "code",
   "execution_count": 49,
   "metadata": {},
   "outputs": [
    {
     "name": "stdout",
     "output_type": "stream",
     "text": [
      "Stock: Crop Stock: 800/800\n",
      "Iron Stock: 0/800\n",
      "Clay Stock: 0/800\n",
      "Lumber Stock: 500/800\n",
      "Production rate: 4 per hour\n",
      "4 per hour\n",
      "4 per hour\n",
      "4 per hour\n",
      "\n"
     ]
    }
   ],
   "source": [
    "class Field:\n",
    "    def __init__(self, name, capacity=800, production_rate=4):\n",
    "        self.name = name\n",
    "        self.capacity = capacity\n",
    "        self.production_rate = production_rate\n",
    "        self.current_stock = 0\n",
    "\n",
    "    def __add__ (self, value):\n",
    "        if not isinstance(value, (int, float)):\n",
    "            raise ValueError(\"Måste vara en siffra.\")\n",
    "        \n",
    "        new_stock = self.current_stock + value\n",
    "\n",
    "        if new_stock > self.capacity:\n",
    "            self.current_stock = self.capacity\n",
    "\n",
    "        else:\n",
    "            self.current_stock = new_stock\n",
    "\n",
    "        return self\n",
    "    \n",
    "    def __sub__(self, value):\n",
    "        if not isinstance(value, (int, float)):\n",
    "            raise ValueError(\"Måste vara en siffra.\")\n",
    "        \n",
    "        new_stock = self.current_stock - value\n",
    "\n",
    "        if new_stock < 0:\n",
    "            self.current_stock = 0\n",
    "\n",
    "        else:\n",
    "            self.current_stock = new_stock\n",
    "\n",
    "        return self\n",
    "    \n",
    "    def __repr__(self):\n",
    "        return f\"{self.name} Stock: {self.current_stock}/{self.capacity}\"\n",
    "    \n",
    "class Village():\n",
    "    def __init__(self):\n",
    "\n",
    "        self.crop_field = Field(\"Crop\")\n",
    "        self.iron_field = Field(\"Iron\")\n",
    "        self.clay_field = Field(\"Clay\")\n",
    "        self.lumber_field = Field(\"Lumber\")\n",
    "\n",
    "    def __repr__(self):\n",
    "        \n",
    "        stock = (f\"Stock: {self.crop_field}\\n{self.iron_field}\\n{self.clay_field}\\n{self.lumber_field}\\n\")\n",
    "\n",
    "        production = (f\"Production rate: {self.crop_field.production_rate} per hour\\n{self.iron_field.production_rate} per hour\\n{self.clay_field.production_rate} per hour\\n{self.lumber_field.production_rate} per hour\\n\")\n",
    "\n",
    "        return stock + production\n",
    "\n",
    "\n",
    "vill = Village()\n",
    "vill.lumber_field += 500   # Adding resources to lumber\n",
    "vill.clay_field -= 25      # Subtracting resources from clay\n",
    "vill.crop_field += 900     # Attempting to add more than max capacity (should cap at 800)\n",
    "\n",
    "print(vill)\n",
    "\n",
    "\n"
   ]
  }
 ],
 "metadata": {
  "kernelspec": {
   "display_name": ".venv",
   "language": "python",
   "name": "python3"
  },
  "language_info": {
   "codemirror_mode": {
    "name": "ipython",
    "version": 3
   },
   "file_extension": ".py",
   "mimetype": "text/x-python",
   "name": "python",
   "nbconvert_exporter": "python",
   "pygments_lexer": "ipython3",
   "version": "3.12.5"
  }
 },
 "nbformat": 4,
 "nbformat_minor": 2
}
