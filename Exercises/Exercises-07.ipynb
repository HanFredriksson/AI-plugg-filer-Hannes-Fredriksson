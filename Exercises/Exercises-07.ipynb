{
 "cells": [
  {
   "cell_type": "markdown",
   "metadata": {},
   "source": [
    "### Svar på uppgifter till Exercises 07 "
   ]
  },
  {
   "cell_type": "markdown",
   "metadata": {},
   "source": [
    "***Uppgift 1 Find Errors***"
   ]
  },
  {
   "cell_type": "code",
   "execution_count": 13,
   "metadata": {},
   "outputs": [
    {
     "name": "stdout",
     "output_type": "stream",
     "text": [
      "För punkten 0.5, 0.5 är distansen från origo 0.707\n"
     ]
    }
   ],
   "source": [
    "#Dålig kod \n",
    "\n",
    "#impor numpy as np\n",
    "\n",
    "#def distance(x,y)\n",
    "#    reurn np.sqrt(x+y)\n",
    "\n",
    "#print(distance([0.5, 0.5]))\n",
    "\n",
    "import numpy as np\n",
    "\n",
    "def distance(x, y):\n",
    "    return np.sqrt(np.square(x) + np.square(y))\n",
    "\n",
    "print(f\"För punkten 0.5, 0.5 är distansen från origo {distance(0.5, 0.5):.3f}\")\n"
   ]
  },
  {
   "cell_type": "markdown",
   "metadata": {},
   "source": [
    "***Uppgift 2 Find Errors***"
   ]
  },
  {
   "cell_type": "code",
   "execution_count": 14,
   "metadata": {},
   "outputs": [
    {
     "name": "stdout",
     "output_type": "stream",
     "text": [
      "231 is four-digit\n",
      "3124 is four-digit\n",
      "-4124 is four-digit\n",
      "-1000 is four-digit\n",
      "-999 is four-digit\n",
      "1001 is four-digit\n",
      "10000 is not four-digit\n",
      "-10000 is four-digit\n",
      "999 is four-digit\n"
     ]
    }
   ],
   "source": [
    "def is_fourdigit(number):\n",
    "    if number//1000 < 10:\n",
    "        return True\n",
    "    else:\n",
    "        return False\n",
    "\n",
    "# test program\n",
    "test_numbers = [231, 3124, -4124, -1000,-999, 1001, 10000, -10000, 999]\n",
    "\n",
    "for number in test_numbers:\n",
    "    if is_fourdigit(number):\n",
    "        print(f\"{number} is four-digit\")\n",
    "    else:\n",
    "        print(f\"{number} is not four-digit\")\n",
    "\n"
   ]
  },
  {
   "cell_type": "markdown",
   "metadata": {},
   "source": [
    "***Uppgifter 03 Tram***"
   ]
  },
  {
   "cell_type": "code",
   "execution_count": 19,
   "metadata": {},
   "outputs": [
    {
     "name": "stdout",
     "output_type": "stream",
     "text": [
      "Är det värt att köpa en månadsbiljett\n",
      "-------------------------------------\n",
      "\n",
      "Du betalar: 1296kr i enkelbiljetter\n",
      "En månadsbiljett kostar: 900kr\n",
      "Köp en månadsbiljett!\n"
     ]
    }
   ],
   "source": [
    "\n",
    "def wich_ticket(rides, single_ticket, monthly_ticket):\n",
    "        \n",
    "    cost = rides * single_ticket\n",
    "    \n",
    "    if cost > monthly_ticket:\n",
    "        print(f\"Du betalar: {cost}kr i enkelbiljetter\\nEn månadsbiljett kostar: {monthly_ticket}kr\\nKöp en månadsbiljett!\")\n",
    "    elif cost < monthly_ticket:\n",
    "        print(f\"Du betalar: {cost}kr i enkelbiljetter\\nEn månadsbiljett kostar: {monthly_ticket}kr\\nGår fint att åka på enkelbiljett!\")\n",
    "\n",
    "while True:\n",
    "    print(\"Är det värt att köpa en månadsbiljett\")\n",
    "    print(\"-------------------------------------\\n\")\n",
    "    \n",
    "    try:\n",
    "        rides = int(input(\"Hur många resor gör du på en månad?: \"))\n",
    "        single_ticket = int(input(\"Hur mycket kostar en biljett?: \"))\n",
    "        monthly_ticket = int(input(\"Hur mycket kostar en månadbiljett?: \"))\n",
    "    except ValueError:\n",
    "        print(\"Du måste skriva in en siffra!\")\n",
    "    except rides <= 0:\n",
    "        print(\"Måste skriva in ett postivt numer!\")\n",
    "    break\n",
    "\n",
    "(wich_ticket(rides, single_ticket, monthly_ticket))\n",
    "\n"
   ]
  }
 ],
 "metadata": {
  "kernelspec": {
   "display_name": ".venv",
   "language": "python",
   "name": "python3"
  },
  "language_info": {
   "codemirror_mode": {
    "name": "ipython",
    "version": 3
   },
   "file_extension": ".py",
   "mimetype": "text/x-python",
   "name": "python",
   "nbconvert_exporter": "python",
   "pygments_lexer": "ipython3",
   "version": "3.12.5"
  }
 },
 "nbformat": 4,
 "nbformat_minor": 2
}
