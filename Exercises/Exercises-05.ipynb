{
 "cells": [
  {
   "cell_type": "markdown",
   "metadata": {},
   "source": [
    "### Svar på uppgifter från Exercises 05 - Strings"
   ]
  },
  {
   "cell_type": "markdown",
   "metadata": {},
   "source": [
    "***Uppgirft 1 - Counting letters***"
   ]
  },
  {
   "cell_type": "code",
   "execution_count": 2,
   "metadata": {},
   "outputs": [
    {
     "name": "stdout",
     "output_type": "stream",
     "text": [
      "12\n"
     ]
    }
   ],
   "source": [
    "#A\n",
    "words = input(\"Skriv ett ord så räknar vi ut antalet bokstäver och vilka som är små repektive stora: \")\n",
    "print(f\"Antelet bokstäver: {len(words)}\")\n",
    "\n",
    "#B\n",
    "print(f\"Antelet stora bokstäver: \", sum(1 for l in words if l.isupper()))\n",
    "print(f\"Antelet små bokstäver: \", sum(1 for l in words if l.islower()))\n"
   ]
  }
 ],
 "metadata": {
  "kernelspec": {
   "display_name": ".venv",
   "language": "python",
   "name": "python3"
  },
  "language_info": {
   "codemirror_mode": {
    "name": "ipython",
    "version": 3
   },
   "file_extension": ".py",
   "mimetype": "text/x-python",
   "name": "python",
   "nbconvert_exporter": "python",
   "pygments_lexer": "ipython3",
   "version": "3.12.5"
  }
 },
 "nbformat": 4,
 "nbformat_minor": 2
}
