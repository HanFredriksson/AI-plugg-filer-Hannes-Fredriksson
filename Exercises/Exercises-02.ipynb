{
 "cells": [
  {
   "cell_type": "markdown",
   "metadata": {},
   "source": [
    "***Svar för uppgifter från \"Exercises-02\"***"
   ]
  },
  {
   "cell_type": "markdown",
   "metadata": {},
   "source": [
    "Uppgift #1"
   ]
  },
  {
   "cell_type": "code",
   "execution_count": 2,
   "metadata": {},
   "outputs": [
    {
     "name": "stdout",
     "output_type": "stream",
     "text": [
      "-10 -9 -8 -7 -6 -5 -4 -3 -2 -1 0 1 2 3 4 5 6 7 8 9 10 "
     ]
    }
   ],
   "source": [
    "count = -10\n",
    "while count < 11:\n",
    "    print(count, end=\" \")\n",
    "    count += 1\n",
    "    "
   ]
  },
  {
   "cell_type": "markdown",
   "metadata": {},
   "source": [
    "Uppgift #2"
   ]
  },
  {
   "cell_type": "code",
   "execution_count": 25,
   "metadata": {},
   "outputs": [
    {
     "name": "stdout",
     "output_type": "stream",
     "text": [
      "The sum of 1 to 100 is: 5050\n",
      "The sum of 1 to 100 is: 2500\n"
     ]
    }
   ],
   "source": [
    "sum_a = 0\n",
    "number_a= 1       \n",
    "\n",
    "while number_a < 101:\n",
    "    sum_a += number_a\n",
    "    number_a += 1\n",
    "\n",
    "print(f\"The sum of 1 to 100 is: {sum_a}\")\n",
    "\n",
    "sum_b = 0\n",
    "number_b= 1      \n",
    "\n",
    "while number_b < 101:\n",
    "    sum_b += number_b\n",
    "    number_b += 2\n",
    "\n",
    "print(f\"The sum of 1 to 100 is: {sum_b}\") "
   ]
  },
  {
   "cell_type": "markdown",
   "metadata": {},
   "source": [
    "Uppgift #3"
   ]
  },
  {
   "cell_type": "code",
   "execution_count": null,
   "metadata": {},
   "outputs": [],
   "source": [
    "#A\n",
    "\n",
    "import random as rnd \n",
    "\n",
    "random_number = rnd.randint(1,101)\n",
    "guess = int(input(\"Guess the number between 1 to 100: \"))\n",
    "while guess != random_number:\n",
    "    if guess < random_number:\n",
    "        print(f\"{guess} is lower then secret number\")\n",
    "        \n",
    "    if guess > random_number:\n",
    "        print(f\"{guess} is higher then secret number\")\n",
    "        \n",
    "    \n",
    "    guess = int(input(\"Guess again : \")) \n",
    "\n",
    "print(f\"Guessed correctlly! {random_number} is the secret number\")\n",
    "\n"
   ]
  },
  {
   "cell_type": "code",
   "execution_count": 129,
   "metadata": {},
   "outputs": [
    {
     "name": "stdout",
     "output_type": "stream",
     "text": [
      "The alogritem took 6 too guess the correct number\n"
     ]
    }
   ],
   "source": [
    "#B\n",
    "\n",
    "import random as rnd \n",
    "\n",
    "random_number = rnd.randint(1,101)\n",
    "low = 1\n",
    "high = 100\n",
    "guess = 50\n",
    "times_guessed = 0\n",
    "while guess != random_number:\n",
    "    if guess > random_number:\n",
    "        high = guess\n",
    "        times_guessed += 1\n",
    "    if guess < random_number:\n",
    "        low = guess +1\n",
    "        times_guessed += 1\n",
    "\n",
    "    guess = (high + low)//2\n",
    "\n",
    "                \n",
    "    \n",
    "print(f\"The alogritem took {times_guessed} too guess the correct number\")\n",
    "\n"
   ]
  },
  {
   "cell_type": "markdown",
   "metadata": {},
   "source": [
    "Uppgift #4  "
   ]
  },
  {
   "cell_type": "code",
   "execution_count": 134,
   "metadata": {},
   "outputs": [
    {
     "name": "stdout",
     "output_type": "stream",
     "text": [
      "Yes! 100 Rätt svar för 10 * 10\n",
      "Yes! 20 Rätt svar för 10 * 2\n",
      "Ditt svar är fel! 2 * 6 är 12\n",
      "Ditt svar är fel! 5 * 2 är 10\n",
      "Ha det fint!\n"
     ]
    }
   ],
   "source": [
    "import random as rnd\n",
    "import os\n",
    "x = 0\n",
    "y = 0\n",
    "product = 0\n",
    "answer = 0\n",
    "diffculty = 0\n",
    "easy = 10\n",
    "normal = 20\n",
    "hard = 30\n",
    "\n",
    "print(\"Detta är ett multiplikations spel\")\n",
    "print (\"----------------------------------\")\n",
    "\n",
    "while True:\n",
    "    \n",
    "    diffculty = int(input(\"Välj svårhets grad\\n 1:Enkelt\\n 2:Svårare\\n 3:Svårast\\n Skriv in en siffra för svårhets graden:\"))\n",
    "\n",
    "    if diffculty > 4:\n",
    "        os.system(\"cls\")\n",
    "        print(\"Måste välj ett numer mellan 1 - 3!\\n\")\n",
    "    elif diffculty == 1:\n",
    "        diffculty = easy\n",
    "        break\n",
    "    elif diffculty == 2:\n",
    "        diffculty = normal\n",
    "        break\n",
    "    elif diffculty == 3:\n",
    "        diffculty = hard\n",
    "        break\n",
    "\n",
    "while True:\n",
    "\n",
    "    x = rnd.randint(1, diffculty)\n",
    "    y =  rnd.randint(1, diffculty)\n",
    "    product = x * y\n",
    "    os.system(\"cls\")\n",
    "    answer = int(input(f\"Vad är {x} * {y}? \"))\n",
    "    if answer == product:\n",
    "        print(f\"Yes! {answer} Rätt svar för {x} * {y}\")\n",
    "    \n",
    "    else:\n",
    "        print(f\"Ditt svar är fel! {x} * {y} är {product}\")\n",
    "    \n",
    "    answer = input(\"Vill du spela igen? \\\"y\\\" för ja, \\\"n\\\" för nej: \")\n",
    "\n",
    "    if answer == \"n\":\n",
    "        print(\"Ha det fint!\")\n",
    "        break\n",
    "    "
   ]
  },
  {
   "cell_type": "markdown",
   "metadata": {},
   "source": [
    "Uppgift #5"
   ]
  },
  {
   "cell_type": "code",
   "execution_count": null,
   "metadata": {},
   "outputs": [],
   "source": [
    "def term(n):\n",
    "    return 1/2**n\n",
    "\n",
    "x = 0\n",
    "y = 0\n",
    "i = 1 \n",
    "\n",
    "while i > 0.1: \n",
    "    prev = x\n",
    "    x = term(x)\n",
    "    i = \n",
    "\n",
    "\n"
   ]
  }
 ],
 "metadata": {
  "kernelspec": {
   "display_name": "Python 3",
   "language": "python",
   "name": "python3"
  },
  "language_info": {
   "codemirror_mode": {
    "name": "ipython",
    "version": 3
   },
   "file_extension": ".py",
   "mimetype": "text/x-python",
   "name": "python",
   "nbconvert_exporter": "python",
   "pygments_lexer": "ipython3",
   "version": "3.12.5"
  }
 },
 "nbformat": 4,
 "nbformat_minor": 2
}
