{
 "cells": [
  {
   "cell_type": "markdown",
   "metadata": {},
   "source": [
    "***Svar för uppgifter från \"Exercises-02\"***"
   ]
  },
  {
   "cell_type": "markdown",
   "metadata": {},
   "source": [
    "Uppgift #1"
   ]
  },
  {
   "cell_type": "code",
   "execution_count": 2,
   "metadata": {},
   "outputs": [
    {
     "name": "stdout",
     "output_type": "stream",
     "text": [
      "-10 -9 -8 -7 -6 -5 -4 -3 -2 -1 0 1 2 3 4 5 6 7 8 9 10 "
     ]
    }
   ],
   "source": [
    "count = -10\n",
    "while count < 11:\n",
    "    print(count, end=\" \")\n",
    "    count += 1\n",
    "    "
   ]
  },
  {
   "cell_type": "markdown",
   "metadata": {},
   "source": [
    "Uppgift #2"
   ]
  },
  {
   "cell_type": "code",
   "execution_count": 25,
   "metadata": {},
   "outputs": [
    {
     "name": "stdout",
     "output_type": "stream",
     "text": [
      "The sum of 1 to 100 is: 5050\n",
      "The sum of 1 to 100 is: 2500\n"
     ]
    }
   ],
   "source": [
    "sum_a = 0\n",
    "number_a= 1       \n",
    "\n",
    "while number_a < 101:\n",
    "    sum_a += number_a\n",
    "    number_a += 1\n",
    "\n",
    "print(f\"The sum of 1 to 100 is: {sum_a}\")\n",
    "\n",
    "sum_b = 0\n",
    "number_b= 1      \n",
    "\n",
    "while number_b < 101:\n",
    "    sum_b += number_b\n",
    "    number_b += 2\n",
    "\n",
    "print(f\"The sum of 1 to 100 is: {sum_b}\") "
   ]
  },
  {
   "cell_type": "markdown",
   "metadata": {},
   "source": [
    "Uppgift #3"
   ]
  },
  {
   "cell_type": "code",
   "execution_count": null,
   "metadata": {},
   "outputs": [],
   "source": [
    "import random as rnd \n",
    "\n",
    "random_number = rnd.randint(1,101)\n",
    "guess = int(input(\"Guess the number between 1 to 100: \"))\n",
    "while guess != random_number:\n",
    "    if guess < random_number:\n",
    "        print(f\"{guess} is lower then secret number\")\n",
    "        \n",
    "    if guess > random_number:\n",
    "        print(f\"{guess} is higher then secret number\")\n",
    "        \n",
    "    \n",
    "    guess = int(input(\"Guess again : \")) \n",
    "\n",
    "print(f\"Guessed correctlly! {random_number} is the secret number\")\n",
    "\n"
   ]
  },
  {
   "cell_type": "markdown",
   "metadata": {},
   "source": [
    "Uppgift #4  "
   ]
  },
  {
   "cell_type": "code",
   "execution_count": null,
   "metadata": {},
   "outputs": [],
   "source": []
  }
 ],
 "metadata": {
  "kernelspec": {
   "display_name": "Python 3",
   "language": "python",
   "name": "python3"
  },
  "language_info": {
   "codemirror_mode": {
    "name": "ipython",
    "version": 3
   },
   "file_extension": ".py",
   "mimetype": "text/x-python",
   "name": "python",
   "nbconvert_exporter": "python",
   "pygments_lexer": "ipython3",
   "version": "3.12.5"
  }
 },
 "nbformat": 4,
 "nbformat_minor": 2
}
