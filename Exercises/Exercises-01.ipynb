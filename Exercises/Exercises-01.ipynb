{
 "cells": [
  {
   "cell_type": "markdown",
   "metadata": {},
   "source": [
    "***Svar på övningar i \"Exercises-01\"***"
   ]
  },
  {
   "cell_type": "markdown",
   "metadata": {},
   "source": [
    "Uppgift #1"
   ]
  },
  {
   "cell_type": "code",
   "execution_count": 12,
   "metadata": {},
   "outputs": [
    {
     "name": "stdout",
     "output_type": "stream",
     "text": [
      "This is a check if the number you put in is negative, positive or zero\n",
      "The 8 is positive!\n"
     ]
    }
   ],
   "source": [
    "print(\"This is a check if the number you put in is negative, positive or zero\")\n",
    "number = int(input(\"Wright a positive, zero or negativ number: \"))\n",
    "\n",
    "if number < 0:\n",
    "    print(f\"The {number} is negativ!\")\n",
    "\n",
    "elif number > 0:\n",
    "    print(f\"The {number} is positive!\")\n",
    "\n",
    "else:\n",
    "    print(f\"The {number} is zero!\")"
   ]
  },
  {
   "cell_type": "markdown",
   "metadata": {},
   "source": [
    "Uppgift #2"
   ]
  },
  {
   "cell_type": "code",
   "execution_count": 13,
   "metadata": {},
   "outputs": [
    {
     "name": "stdout",
     "output_type": "stream",
     "text": [
      "Wich is the smallest number\n",
      "4 is smaller then 9\n"
     ]
    }
   ],
   "source": [
    "print(\"Wich is the smallest number\")\n",
    "number1 = int(input(\"Give me a number: \"))\n",
    "number2 = int(input(\"Give me a number: \"))\n",
    "\n",
    "if number1 < number2:\n",
    "    print(f\"{number1} is smaller then {number2}\")\n",
    "\n",
    "else:\n",
    "    print(f\"{number2} is smaller then {number1}\")\n"
   ]
  },
  {
   "cell_type": "markdown",
   "metadata": {},
   "source": [
    "Uppgift #3"
   ]
  },
  {
   "cell_type": "code",
   "execution_count": 16,
   "metadata": {},
   "outputs": [
    {
     "name": "stdout",
     "output_type": "stream",
     "text": [
      "This is a check if you have a right angle triangel and a valid triangel\n",
      "The triangle do not have right angel, no angel is 90 degrees\n"
     ]
    }
   ],
   "source": [
    "print(\"This is a check if you have a right angle triangel and a valid triangel\")\n",
    "angle1 = int(input(\"First angle: \"))\n",
    "angle2 = int(input(\"Second angle: \"))\n",
    "angle3 = int(input(\"Third angle: \"))\n",
    "\n",
    "if angle1 + angle2 + angle3 != 180:\n",
    "    print(\"This is not a triangel! All the angels do not add up to 180 degrees\")\n",
    "\n",
    "elif angle1 == 90 or angle2 == 90 or angle3 == 90:\n",
    "    print(\"This is a right angel triangel, it has one angle that is 90 degrees\")\n",
    "\n",
    "else:\n",
    "    print(\"The triangle do not have right angel, no angel is 90 degrees\")\n"
   ]
  },
  {
   "cell_type": "markdown",
   "metadata": {},
   "source": [
    "Uppgift #4"
   ]
  },
  {
   "cell_type": "code",
   "execution_count": 22,
   "metadata": {},
   "outputs": [
    {
     "name": "stdout",
     "output_type": "stream",
     "text": [
      "How many pills should you take!\n",
      "You should take 1/2 - 1 pill\n"
     ]
    }
   ],
   "source": [
    "print(\"How many pills should you take!\")\n",
    "age = int(input(\"What is your age? \"))\n",
    "weight = int(input(\"What is your weight?\"))\n",
    "\n",
    "if weight > 40:\n",
    "    print(\"You should take 1-2 pills\")\n",
    "\n",
    "elif weight in range(26, 41):\n",
    "    print(\"You should take 1/2 - 1 pill\")\n",
    "\n",
    "elif weight in range(15, 26):\n",
    "    print(\"You should take 1/2 pill\")\n",
    "\n",
    "else:\n",
    "    print(\"You should not take any pil\")\n",
    "\n"
   ]
  },
  {
   "cell_type": "markdown",
   "metadata": {},
   "source": [
    "Uppgift #5"
   ]
  },
  {
   "cell_type": "code",
   "execution_count": 29,
   "metadata": {},
   "outputs": [
    {
     "name": "stdout",
     "output_type": "stream",
     "text": [
      "Check number is even or odd, divisible by 5, divisible by 5 and odd\n",
      "The number 12 is even\n"
     ]
    }
   ],
   "source": [
    "print(\"Check number is even or odd, divisible by 5, divisible by 5 and odd\")\n",
    "\n",
    "number = int(input(\"Write a number: \"))\n",
    "\n",
    "if number % 2 == 0:\n",
    "    if number % 5 == 0:\n",
    "        print(f\"The number {number} is even and divisible by 5\")\n",
    "    else:\n",
    "        print(f\"The number {number} is even\")\n",
    "\n",
    "else:\n",
    "    if number % 5 == 0:\n",
    "        print(f\"The number {number} is odd and divsible b 5\")\n",
    "    else:           \n",
    "        print(f\"The number {number} is odd\")\n",
    "\n",
    "       \n",
    "\n",
    "    "
   ]
  },
  {
   "cell_type": "markdown",
   "metadata": {},
   "source": [
    "Uppgift #6"
   ]
  },
  {
   "cell_type": "code",
   "execution_count": 33,
   "metadata": {},
   "outputs": [
    {
     "name": "stdout",
     "output_type": "stream",
     "text": [
      "The maximum allowed luggage size for boarding an airplane is\n",
      "You are NOT allowed to bring your bag on the plan.\n"
     ]
    }
   ],
   "source": [
    "print(\"The maximum allowed luggage size for boarding an airplane is\")\n",
    "weight = int(input(\"How much dose your bag weigh? \"))\n",
    "length = int(input(\"What is th lenght of your bag?\"))\n",
    "width = int(input(\"What is th width of your bag?\"))\n",
    "height = int(input(\"What is th height of your bag?\"))\n",
    "\n",
    "if length < 56 and width < 41 and height < 24 and weight < 9:\n",
    "    print(\"You are allowed to bring your bag on the plan.\")\n",
    "\n",
    "else:\n",
    "    print(\"You are NOT allowed to bring your bag on the plan.\")"
   ]
  }
 ],
 "metadata": {
  "kernelspec": {
   "display_name": "Python 3",
   "language": "python",
   "name": "python3"
  },
  "language_info": {
   "codemirror_mode": {
    "name": "ipython",
    "version": 3
   },
   "file_extension": ".py",
   "mimetype": "text/x-python",
   "name": "python",
   "nbconvert_exporter": "python",
   "pygments_lexer": "ipython3",
   "version": "3.12.5"
  }
 },
 "nbformat": 4,
 "nbformat_minor": 2
}
