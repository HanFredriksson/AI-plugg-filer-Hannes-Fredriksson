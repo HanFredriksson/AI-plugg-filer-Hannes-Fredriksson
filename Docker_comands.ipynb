{
 "cells": [
  {
   "cell_type": "markdown",
   "id": "b3710b22",
   "metadata": {},
   "source": [
    "### Docker commands"
   ]
  }
 ],
 "metadata": {
  "language_info": {
   "name": "python"
  }
 },
 "nbformat": 4,
 "nbformat_minor": 5
}
